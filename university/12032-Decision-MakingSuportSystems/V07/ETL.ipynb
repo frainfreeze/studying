{
 "cells": [
  {
   "cell_type": "markdown",
   "metadata": {},
   "source": [
    "<img src=\"vua.png\">"
   ]
  },
  {
   "cell_type": "markdown",
   "metadata": {},
   "source": [
    "### Učitavanje podataka iz datoteke i prikaz prva tri zapisa za svaku kategoriju irisa"
   ]
  },
  {
   "cell_type": "code",
   "execution_count": 4,
   "metadata": {},
   "outputs": [
    {
     "data": {
      "text/html": [
       "<div>\n",
       "<style scoped>\n",
       "    .dataframe tbody tr th:only-of-type {\n",
       "        vertical-align: middle;\n",
       "    }\n",
       "\n",
       "    .dataframe tbody tr th {\n",
       "        vertical-align: top;\n",
       "    }\n",
       "\n",
       "    .dataframe thead th {\n",
       "        text-align: right;\n",
       "    }\n",
       "</style>\n",
       "<table border=\"1\" class=\"dataframe\">\n",
       "  <thead>\n",
       "    <tr style=\"text-align: right;\">\n",
       "      <th></th>\n",
       "      <th>sepallength</th>\n",
       "      <th>sepalwidth</th>\n",
       "      <th>petallength</th>\n",
       "      <th>petalwidth</th>\n",
       "      <th>iris</th>\n",
       "    </tr>\n",
       "  </thead>\n",
       "  <tbody>\n",
       "    <tr>\n",
       "      <th>0</th>\n",
       "      <td>5.1</td>\n",
       "      <td>3.5</td>\n",
       "      <td>1.4</td>\n",
       "      <td>0.2</td>\n",
       "      <td>Iris-setosa</td>\n",
       "    </tr>\n",
       "    <tr>\n",
       "      <th>1</th>\n",
       "      <td>4.9</td>\n",
       "      <td>3.0</td>\n",
       "      <td>1.4</td>\n",
       "      <td>0.2</td>\n",
       "      <td>Iris-setosa</td>\n",
       "    </tr>\n",
       "    <tr>\n",
       "      <th>2</th>\n",
       "      <td>4.7</td>\n",
       "      <td>3.2</td>\n",
       "      <td>1.3</td>\n",
       "      <td>0.2</td>\n",
       "      <td>Iris-setosa</td>\n",
       "    </tr>\n",
       "    <tr>\n",
       "      <th>50</th>\n",
       "      <td>7.0</td>\n",
       "      <td>3.2</td>\n",
       "      <td>4.7</td>\n",
       "      <td>1.4</td>\n",
       "      <td>Iris-versicolor</td>\n",
       "    </tr>\n",
       "    <tr>\n",
       "      <th>51</th>\n",
       "      <td>6.4</td>\n",
       "      <td>3.2</td>\n",
       "      <td>4.5</td>\n",
       "      <td>1.5</td>\n",
       "      <td>Iris-versicolor</td>\n",
       "    </tr>\n",
       "    <tr>\n",
       "      <th>52</th>\n",
       "      <td>6.9</td>\n",
       "      <td>3.1</td>\n",
       "      <td>4.9</td>\n",
       "      <td>1.5</td>\n",
       "      <td>Iris-versicolor</td>\n",
       "    </tr>\n",
       "    <tr>\n",
       "      <th>100</th>\n",
       "      <td>6.3</td>\n",
       "      <td>3.3</td>\n",
       "      <td>6.0</td>\n",
       "      <td>2.5</td>\n",
       "      <td>Iris-virginica</td>\n",
       "    </tr>\n",
       "    <tr>\n",
       "      <th>101</th>\n",
       "      <td>5.8</td>\n",
       "      <td>2.7</td>\n",
       "      <td>5.1</td>\n",
       "      <td>1.9</td>\n",
       "      <td>Iris-virginica</td>\n",
       "    </tr>\n",
       "    <tr>\n",
       "      <th>102</th>\n",
       "      <td>7.1</td>\n",
       "      <td>3.0</td>\n",
       "      <td>5.9</td>\n",
       "      <td>2.1</td>\n",
       "      <td>Iris-virginica</td>\n",
       "    </tr>\n",
       "  </tbody>\n",
       "</table>\n",
       "</div>"
      ],
      "text/plain": [
       "     sepallength  sepalwidth  petallength  petalwidth             iris\n",
       "0            5.1         3.5          1.4         0.2      Iris-setosa\n",
       "1            4.9         3.0          1.4         0.2      Iris-setosa\n",
       "2            4.7         3.2          1.3         0.2      Iris-setosa\n",
       "50           7.0         3.2          4.7         1.4  Iris-versicolor\n",
       "51           6.4         3.2          4.5         1.5  Iris-versicolor\n",
       "52           6.9         3.1          4.9         1.5  Iris-versicolor\n",
       "100          6.3         3.3          6.0         2.5   Iris-virginica\n",
       "101          5.8         2.7          5.1         1.9   Iris-virginica\n",
       "102          7.1         3.0          5.9         2.1   Iris-virginica"
      ]
     },
     "execution_count": 4,
     "metadata": {},
     "output_type": "execute_result"
    }
   ],
   "source": [
    "import numpy as np\n",
    "import pandas as pd\n",
    "from pandas import DataFrame\n",
    "import matplotlib as plt\n",
    "\n",
    "path='iris.csv'\n",
    "df = pd.read_csv(path, sep=';')\n",
    "\n",
    "df.groupby('iris').head(3)"
   ]
  },
  {
   "cell_type": "markdown",
   "metadata": {},
   "source": [
    "Pogledaj prethodnu vježbu i prikaži dokumente u koji se nalaze u mapi vježbe."
   ]
  },
  {
   "cell_type": "code",
   "execution_count": 2,
   "metadata": {},
   "outputs": [
    {
     "name": "stdout",
     "output_type": "stream",
     "text": [
      "ETL.ipynb  iris.csv  vua.png\r\n"
     ]
    }
   ],
   "source": [
    "!ls"
   ]
  },
  {
   "cell_type": "markdown",
   "metadata": {},
   "source": [
    "Pogledaj prethodnu vježbu i prikaži prve retke iz dokumenta iris.csv."
   ]
  },
  {
   "cell_type": "code",
   "execution_count": 3,
   "metadata": {},
   "outputs": [
    {
     "name": "stdout",
     "output_type": "stream",
     "text": [
      "sepallength;sepalwidth;petallength;petalwidth;iris\r\n",
      "5.1;3.5;1.4;0.2;Iris-setosa\r\n",
      "4.9;3;1.4;0.2;Iris-setosa\r\n",
      "4.7;3.2;1.3;0.2;Iris-setosa\r\n",
      "4.6;3.1;1.5;0.2;Iris-setosa\r\n",
      "5;3.6;1.4;0.2;Iris-setosa\r\n",
      "5.4;3.9;1.7;0.4;Iris-setosa\r\n",
      "4.6;3.4;1.4;0.3;Iris-setosa\r\n",
      "5;3.4;1.5;0.2;Iris-setosa\r\n",
      "4.4;2.9;1.4;0.2;Iris-setosa\r\n"
     ]
    }
   ],
   "source": [
    "!head iris.csv"
   ]
  },
  {
   "cell_type": "markdown",
   "metadata": {},
   "source": [
    "### Deskriptivna statistika\n",
    "Napravi osnovnu deskriptivnu analizu (describe)."
   ]
  },
  {
   "cell_type": "code",
   "execution_count": null,
   "metadata": {},
   "outputs": [],
   "source": []
  },
  {
   "cell_type": "markdown",
   "metadata": {},
   "source": [
    "Korištenjem *groupby* napravi prikaz srednje vrijednosti po vrstama irisa."
   ]
  },
  {
   "cell_type": "code",
   "execution_count": null,
   "metadata": {},
   "outputs": [],
   "source": []
  },
  {
   "cell_type": "markdown",
   "metadata": {},
   "source": [
    "Prikaži usporedbu medijan vrijednosti za sve nezavisne varijable."
   ]
  },
  {
   "cell_type": "code",
   "execution_count": null,
   "metadata": {},
   "outputs": [],
   "source": []
  },
  {
   "cell_type": "markdown",
   "metadata": {},
   "source": [
    "### Min max transformacija\n",
    "Napravi normalizaciju nezavisnih varijabli."
   ]
  },
  {
   "cell_type": "code",
   "execution_count": null,
   "metadata": {},
   "outputs": [],
   "source": [
    "df['sepw_min_max'] = (df['sepalwidth']-df.sepalwidth.min())/(df.sepalwidth.max()-df.sepalwidth.min())\n",
    "\n",
    "\n",
    "\n",
    "\n",
    "\n",
    "df.groupby('iris').head(3)"
   ]
  },
  {
   "cell_type": "markdown",
   "metadata": {},
   "source": [
    "### Z transformacija\n",
    "Napravi Z transformaciju nezavisnih varijabli."
   ]
  },
  {
   "cell_type": "code",
   "execution_count": null,
   "metadata": {},
   "outputs": [],
   "source": [
    "df['sepw_z'] =\n",
    "df['sepl_z'] =\n",
    "df['petw_z'] =\n",
    "df['petl_z'] ="
   ]
  },
  {
   "cell_type": "markdown",
   "metadata": {},
   "source": [
    "### N najvećih i najmanjih vrijednosti \n",
    "Prikaži 5 najvećih i pet najmanjih vrijednosti po Z-skaliranim vrijednostima"
   ]
  },
  {
   "cell_type": "code",
   "execution_count": null,
   "metadata": {},
   "outputs": [],
   "source": [
    "#demo\n",
    "print(df.nlargest(5, 'sepalwidth'))\n",
    "print(df.nsmallest(5, 'sepalwidth'))"
   ]
  },
  {
   "cell_type": "markdown",
   "metadata": {},
   "source": [
    "### Provjera missing vrijednosti\n",
    "Prikažimo redke s nedostajućim vrijednostima."
   ]
  },
  {
   "cell_type": "code",
   "execution_count": null,
   "metadata": {},
   "outputs": [],
   "source": [
    "df[df.isna().any(axis=1)]"
   ]
  },
  {
   "cell_type": "markdown",
   "metadata": {},
   "source": [
    "Izbacimo redke s nedostajućim vrijednostima."
   ]
  },
  {
   "cell_type": "code",
   "execution_count": null,
   "metadata": {},
   "outputs": [],
   "source": [
    "df=df.dropna()\n",
    "df[df.isna().any(axis=1)]"
   ]
  },
  {
   "cell_type": "markdown",
   "metadata": {},
   "source": [
    "### Kreiranje razreda temeljem min max transformacije\n",
    "Trenutno su nam vrijednosti kontinuirane. Napravimo razrede"
   ]
  },
  {
   "cell_type": "code",
   "execution_count": null,
   "metadata": {},
   "outputs": [],
   "source": [
    "min_max_bin = pd.qcut(df.sepw_min_max,5)\n",
    "df = df.assign(Razredi_sepw=min_max_bin)\n",
    "\n",
    "\n",
    "\n",
    "\n",
    "\n",
    "\n",
    "df.groupby('iris').head(3)"
   ]
  },
  {
   "cell_type": "markdown",
   "metadata": {},
   "source": [
    "Prikaži sve vrijednosti razreda za sve četiri nezavisne varijable."
   ]
  },
  {
   "cell_type": "code",
   "execution_count": null,
   "metadata": {},
   "outputs": [],
   "source": []
  },
  {
   "cell_type": "markdown",
   "metadata": {},
   "source": [
    "###  Promjena vrijednosti prema višestruktim kriterijem unutar frame-a\n",
    "Napravi nove \"Dummy\" varijable koje će prikazati da li je vrijednost varijable iznad prosjeka i manja od trećeg kvartila."
   ]
  },
  {
   "cell_type": "code",
   "execution_count": null,
   "metadata": {},
   "outputs": [],
   "source": [
    "df['Dummy_sepw'] = 0\n",
    "\n",
    "df.loc[(df['sepalwidth'] > df['sepalwidth'].mean()) & (df['sepalwidth'] < df['sepalwidth'].quantile(q=0.75)) ,'Dummy_sepw'] = 1\n",
    "df.groupby('iris').head(3)"
   ]
  },
  {
   "cell_type": "markdown",
   "metadata": {},
   "source": [
    "### Selekcija  sa upisom rezultata u novi frame\n",
    "Napravimo novi dataframe s podacima nastalim uporabom kriterija na posojećem dataframeu. Napravi selekciju za podatke između prvog i trećeg kvartila. Ispiši broj redaka u svakom od novih dataframeova (metoda shape)."
   ]
  },
  {
   "cell_type": "code",
   "execution_count": null,
   "metadata": {},
   "outputs": [],
   "source": [
    "demo = df[(df.sepalwidth > 3) &  (df.sepalwidth< 4)]\n",
    "\n",
    "newdf_sepw =\n"
   ]
  },
  {
   "cell_type": "markdown",
   "metadata": {},
   "source": [
    "### Brisanje retka unutar data frame-a\n",
    "Sada iz novih dataframeove obriši retke u kojima je vrijednost jednaka drugom kvartilu.  Ispiši broj redaka u svakom od novih dataframeova (metoda shape) i pogledaj da li je broj manji nego prije"
   ]
  },
  {
   "cell_type": "code",
   "execution_count": null,
   "metadata": {},
   "outputs": [],
   "source": [
    "demo = demo.drop(demo[demo.sepalwidth == 3.5].index)\n",
    "\n",
    "newdf_sepw ="
   ]
  },
  {
   "cell_type": "markdown",
   "metadata": {},
   "source": [
    "### Prebacivanje kolone iz frame-a u listu\n",
    "Napravimo četiri nove liste s vrijednostima iz prethodna četiri dataframea."
   ]
  },
  {
   "cell_type": "code",
   "execution_count": null,
   "metadata": {},
   "outputs": [],
   "source": [
    "demo['sepalwidth']"
   ]
  },
  {
   "cell_type": "code",
   "execution_count": null,
   "metadata": {},
   "outputs": [],
   "source": [
    "Lista_demo=list()\n",
    "Lista_demo = demo['sepalwidth']"
   ]
  },
  {
   "cell_type": "markdown",
   "metadata": {},
   "source": [
    "### Zadaća"
   ]
  },
  {
   "cell_type": "code",
   "execution_count": null,
   "metadata": {},
   "outputs": [],
   "source": [
    "%matplotlib inline"
   ]
  },
  {
   "cell_type": "code",
   "execution_count": null,
   "metadata": {},
   "outputs": [],
   "source": [
    "import matplotlib.pyplot as p\n",
    "df.plot.hist(title='Histogram')"
   ]
  },
  {
   "cell_type": "markdown",
   "metadata": {},
   "source": [
    "Napravi prikaz u kojem se prikazuje usporedba srednjih vrijednosti po tipovima irisa."
   ]
  },
  {
   "cell_type": "code",
   "execution_count": null,
   "metadata": {},
   "outputs": [],
   "source": []
  },
  {
   "cell_type": "markdown",
   "metadata": {},
   "source": [
    "Mapravi prikaz u kojem se prikazuje distribucija vrijednosti \"sepallength\" po tipovima irisa."
   ]
  },
  {
   "cell_type": "code",
   "execution_count": null,
   "metadata": {},
   "outputs": [],
   "source": []
  }
 ],
 "metadata": {
  "kernelspec": {
   "display_name": "Python 3",
   "language": "python",
   "name": "python3"
  },
  "language_info": {
   "codemirror_mode": {
    "name": "ipython",
    "version": 3
   },
   "file_extension": ".py",
   "mimetype": "text/x-python",
   "name": "python",
   "nbconvert_exporter": "python",
   "pygments_lexer": "ipython3",
   "version": "3.7.3"
  }
 },
 "nbformat": 4,
 "nbformat_minor": 2
}
