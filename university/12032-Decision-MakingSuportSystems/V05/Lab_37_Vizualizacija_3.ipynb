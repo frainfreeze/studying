{
 "cells": [
  {
   "cell_type": "markdown",
   "metadata": {},
   "source": [
    "<img src=\"Slike/vua.png\">"
   ]
  },
  {
   "cell_type": "markdown",
   "metadata": {},
   "source": [
    "# Vizualizacija - nastavak\n",
    "Na internetu se može pronaći nevjerojatno mnogo raznovrsnih podataka. Sposobnost\n",
    "analize ovih podataka omogućuje otkrivanje uzoraka i veza koje nitko drugi nije\n",
    "pronašao. Pristupit ćemo i vizualizirati podatke pohranjene u dva uobičajena\n",
    "formata, CSV i JSON. Korištenjem modula *CSV* obradit ćemo vremenske podatke\n",
    "pohranjene u formatu CSV i analizirati visoke i niske temperature tijekom\n",
    "određenog razdoblja na dvije različite lokacije. Zatim ćemo koristiti modul\n",
    "*matplotlib* za generiranje grafikona na temelju preuzetih podataka za prikaz\n",
    "varijacija temperature u dva različita okruženja: Sitka, Aljaska i Dolina Smrti,\n",
    "Kalifornija.\n",
    "\n",
    "Jednostavan način pohranjivanja podataka u tekstualnu datoteku jest zapisivanje\n",
    "podataka kao niza vrijednosti odvojenih zarezima. Na primjer, ovdje je jedan red\n",
    "podataka o vremenu u formatu CSV:\n",
    "```python\n",
    "2014-1-5,61,44,26,18,7,-1,56,30,9,30.34,30.27,30.15,,,,10,4,,0.00,0,,195\n",
    "```\n",
    "Ovo su podatci o vremenu za 5. siječnja 2014. u Sitki, Aljaska. Uključuju\n",
    "najviše i najniže dnevne temperature, kao i brojna druga mjerenja od tog dana.\n",
    "CSV nizovi su za ljude nezgodni za čitanje, ali programi ih lako obrađuju i iz\n",
    "njih izvlače vrijednosti, što ubrzava proces analize podataka. Započet ćemo s\n",
    "malim skupom podataka o vremenu u Sitki, Aljaska. Datoteke se nalaze u mapi\n",
    "*Podaci*. Standardni modul *CSV* analizira retke u CSV datoteci i omogućuje brzo\n",
    "izdvajanje vrijednosti koje nas zanimaju. Počnimo ispitivanjem prvog retka\n",
    "datoteke, koji sadrži niz naziva stupaca u setu podataka."
   ]
  },
  {
   "cell_type": "code",
   "execution_count": null,
   "metadata": {},
   "outputs": [],
   "source": [
    "import csv\n",
    "datoteka = 'Podaci/sitka_weather_07-2014.csv'\n",
    "with open(datoteka) as f:\n",
    "    citaj = csv.reader(f)\n",
    "    zaglavlje = next(citaj)\n",
    "    print(zaglavlje)"
   ]
  },
  {
   "cell_type": "markdown",
   "metadata": {},
   "source": [
    "Nakon učitavanja modula *CSV*, pohranimo naziv datoteke s kojom radimo. Zatim\n",
    "otvorimo datoteku i pohranimo datotečni objekt u varijablu *f*. Zatim pozivamo\n",
    "funkciju *csv.reader()* i proslijedimo joj objekt koji predstavlja datoteku te u\n",
    "varijablu *čitaj* spremimo datoteku. Modul *CSV* sadrži funkciju *next()*, koja\n",
    "vraća sljedeći redak u datoteci. Korištenjem funkcije *next()* u varijablu\n",
    "*zaglavlje* pohranjujemo listu sa sadržajem prvog retka. Funkcija *reader()*\n",
    "obrađuje prvu liniju vrijednosti odvojenih zarezom u datoteci i pohranjuje svaku\n",
    "kao stavku u listu. Primjerice 'AKDT' predstavlja dnevno ljetno vrijeme Aljaske.\n",
    "Položaj nam govori da će prva vrijednost u svakom retku biti datum. *Max\n",
    "TemperatureF* govori nam da je druga vrijednost u svakom retku maksimalna\n",
    "temperatura za taj datum. Da bismo lakše razumjeli podatke zaglavlja, ispišimo\n",
    "svaki posebno, s pripadajućim pozicijama."
   ]
  },
  {
   "cell_type": "code",
   "execution_count": null,
   "metadata": {},
   "outputs": [],
   "source": [
    "import csv\n",
    "datoteka = 'Podaci/sitka_weather_07-2014.csv'\n",
    "with open(datoteka) as f:\n",
    "    citaj = csv.reader(f)\n",
    "    zaglavlje = next(citaj)\n",
    "    for index, naziv_stupoca in enumerate(zaglavlje):\n",
    "        print(index, naziv_stupoca)"
   ]
  },
  {
   "cell_type": "markdown",
   "metadata": {},
   "source": [
    "Koristimo funkciju *enumerate()* na listi kako bismo dobili indeks svakog zapisa\n",
    "zajedno s vrijednostima. Ovdje vidimo da su datumi i vrijednosti najviše\n",
    "temperature pohranjeni u stupcima 0 i 1. Izdvojimo samo te stupce za daljnju\n",
    "analizu."
   ]
  },
  {
   "cell_type": "code",
   "execution_count": null,
   "metadata": {},
   "outputs": [],
   "source": [
    "import csv\n",
    "datoteka = 'Podaci/sitka_weather_07-2014.csv'\n",
    "with open(datoteka) as f:\n",
    "    citaj = csv.reader(f)\n",
    "    zaglavlje = next(citaj)\n",
    "    visoka_t = []\n",
    "    for redci in citaj:\n",
    "        visoka_t.append(redci[1])\n",
    "    print(visoka_t)"
   ]
  },
  {
   "cell_type": "markdown",
   "metadata": {},
   "source": [
    "Dodali smo praznu listu *visoka_t*. Zatim dodajemo petlju koja pregledava retke\n",
    "u datoteci. Objekt *citaj* nastavlja od mjesta gdje je stao u CSV datoteci i\n",
    "automatski vraća svaku liniju koja slijedi nakon trenutnog položaja. Budući da\n",
    "smo već pročitali redak zaglavlja, petlja će započeti u drugom retku, gdje\n",
    "počinju stvarni podatci. U svakom prolazu kroz petlju, podatke s pozicije indexa\n",
    "1 (drugog stupca) dodajemo u listu *visoka_t*. Da bismo vizualizirali podatke o\n",
    "temperaturi, prvo ćemo izraditi jednostavan prikaz najviših dnevnih temperatura\n",
    "uz pomoć modula *matplotlib*."
   ]
  },
  {
   "cell_type": "code",
   "execution_count": null,
   "metadata": {},
   "outputs": [],
   "source": [
    "import csv\n",
    "from matplotlib import pyplot as plt\n",
    "%matplotlib inline\n",
    "\n",
    "datoteka = 'Podaci/sitka_weather_07-2014.csv'\n",
    "with open(datoteka) as f:\n",
    "    citaj = csv.reader(f)\n",
    "    zaglavlje = next(citaj)\n",
    "    visoka_t = []\n",
    "    for redci in citaj:\n",
    "        visoka_t.append(redci[1])\n",
    "        \n",
    "fig = plt.figure(dpi=128, figsize=(10, 6))\n",
    "plt.plot(visoka_t, c='red')\n",
    "plt.title(\"Najviše dnevne temerature, 07/2014\", fontsize=24)\n",
    "plt.xlabel('', fontsize=16)\n",
    "plt.ylabel(\"Temperature (F)\", fontsize=16)\n",
    "plt.tick_params(axis='both', which='major', labelsize=16)\n",
    "plt.show()"
   ]
  },
  {
   "cell_type": "markdown",
   "metadata": {},
   "source": [
    "Prosljeđujemo listu najviših temperatura u funkciju *plot()* i parametar *c =\n",
    "'red'* za crtanje crvenom bojom. Zatim navodimo nekoliko drugih detalja\n",
    "oblikovanja, kao što su veličina fonta i oznaka. Budući da još nismo dodali\n",
    "datume, nećemo označavati x-os, ali *plt.xlabel()* modificira veličinu fonta\n",
    "kako bi zadane oznake bile čitljivije. Dodajmo datume u svoj grafikon kako bismo\n",
    "ga učinili korisnijim. Prvi datum iz datoteke s podatcima o vremenu nalazi se u\n",
    "drugom redu datoteke:\n",
    "```python\n",
    "2014-1-5,61,44,26,18,7,-1,56,30,9,30.34,30.27,30.15,,,,10,4,,0.00,0,,195\n",
    "```\n",
    "Podatci se čitaju kao niz znakova (tekst), pa moramo pretvoriti niz '2014-7-1' u\n",
    "objekt koji predstavlja datum. Možemo konstruirati objekt koji predstavlja 1.\n",
    "srpnja 2014., koristeći metodu *strptime()* iz modula *datetime*. Pogledajmo\n",
    "prvo primjer da bismo vidjeli kako radi *datetime()*."
   ]
  },
  {
   "cell_type": "code",
   "execution_count": null,
   "metadata": {},
   "outputs": [],
   "source": [
    "from datetime import datetime\n",
    "datum = datetime.strptime('2014-7-1', '%Y-%m-%d')\n",
    "print(datum)"
   ]
  },
  {
   "cell_type": "markdown",
   "metadata": {},
   "source": [
    "Prvo smo učitali razred *datetime* iz modula *datetime*. Zatim varijabli *datum*\n",
    "dodjeljujemo izlaz metode *strptime()* kojoj smo proslijedili niz znakova\n",
    "(tekst) „2014-7-1“ kao prvi argument. Drugi argument označava na koji način je\n",
    "zapisan datum. U ovom primjeru „% Y-„ označava da se od početka prvog argumenta\n",
    "do znaka **-** (minus) nalazi godina, zatim „% m-„ da se do drugog znaka **-**\n",
    "nalazi mjesec i, naposljetku, „% d“ da se do kraja nalazi dan u mjesecu. Metoda\n",
    "*strptime()* može prihvatiti različite argumente kako bi odredila kako\n",
    "interpretirati datum. Za više informacija pogledajte opis u službenoj\n",
    "dokumentaciji:\n",
    "<https://docs.python.org/3/library/datetime.html?highlight=strptime#datetime.datetime.strptime>\n",
    "\n",
    "Sad kad smo vidjeli kako možemo raditi s datumima, preuzmimo ih iz datoteke da\n",
    "ih možemo proslijediti funkciji *plot()* te da ona na x osi ispisuje datume."
   ]
  },
  {
   "cell_type": "code",
   "execution_count": null,
   "metadata": {},
   "outputs": [],
   "source": [
    "import csv\n",
    "from datetime import datetime\n",
    "from matplotlib import pyplot as plt\n",
    "%matplotlib inline\n",
    "\n",
    "datoteka = 'Podaci/sitka_weather_07-2014.csv'\n",
    "with open(datoteka) as f:\n",
    "    citaj = csv.reader(f)\n",
    "    zaglavlje = next(citaj)\n",
    "    datum, visoka_t = [], []\n",
    "    for redci in citaj:\n",
    "        datum.append(datetime.strptime(redci[0], \"%Y-%m-%d\"))\n",
    "        visoka_t.append(redci[1])\n",
    "    \n",
    "fig = plt.figure(dpi=128, figsize=(10, 6))\n",
    "plt.plot(datum, visoka_t, c='red')\n",
    "plt.title(\"Najviše dnevne temerature, 07/2014\", fontsize=24)\n",
    "plt.xlabel('', fontsize=16)\n",
    "fig.autofmt_xdate()\n",
    "plt.ylabel(\"Temperature (F)\", fontsize=16)\n",
    "plt.tick_params(axis='both', which='major', labelsize=16)\n",
    "plt.show()"
   ]
  },
  {
   "cell_type": "markdown",
   "metadata": {},
   "source": [
    "Sada smo prvo izradili dvije prazne liste za pohranu datuma i najviših\n",
    "temperatura iz datoteke. Zatim pretvaramo podatke koji sadrže informacije o\n",
    "datumu u objekt *datetime*. Nadalje, pregledavamo sve zapise i dodajemo elemente\n",
    "u pripremljene liste koje ćemo proslijediti funkciji *plot()*. Dodatno pozivamo\n",
    "metodu *fig.autofmt_xdate()* na osi x da se natpisi ne preklapaju. Prikažimo\n",
    "podatke za cijelu godinu."
   ]
  },
  {
   "cell_type": "code",
   "execution_count": null,
   "metadata": {},
   "outputs": [],
   "source": [
    "import csv\n",
    "from datetime import datetime\n",
    "from matplotlib import pyplot as plt\n",
    "%matplotlib inline\n",
    "\n",
    "datoteka = 'Podaci/sitka_weather_2014.csv'\n",
    "with open(datoteka) as f:\n",
    "    citaj = csv.reader(f)\n",
    "    zaglavlje = next(citaj)\n",
    "    datum, visoka_t = [], []\n",
    "    for redci in citaj:\n",
    "        datum.append(datetime.strptime(redci[0], \"%Y-%m-%d\"))\n",
    "        visoka_t.append(redci[1])\n",
    "    \n",
    "fig = plt.figure(dpi=128, figsize=(10, 6))\n",
    "plt.plot(datum, visoka_t, c='red')\n",
    "plt.title(\"Najviše dnevne temerature, 2014\", fontsize=24)\n",
    "plt.xlabel('', fontsize=16)\n",
    "fig.autofmt_xdate()\n",
    "plt.ylabel(\"Temperature (F)\", fontsize=16)\n",
    "plt.tick_params(axis='both', which='major', labelsize=8)\n",
    "plt.show()"
   ]
  },
  {
   "cell_type": "markdown",
   "metadata": {},
   "source": [
    "Promijenili smo samo naziv datoteke u sitka_weather_2014.csv i naslov grafa.\n",
    "Učinimo ga još korisnijim uključivanjem najnižih temperatura."
   ]
  },
  {
   "cell_type": "code",
   "execution_count": null,
   "metadata": {},
   "outputs": [],
   "source": [
    "import csv\n",
    "from datetime import datetime\n",
    "from matplotlib import pyplot as plt\n",
    "%matplotlib inline\n",
    "\n",
    "datoteka = 'Podaci/sitka_weather_2014.csv'\n",
    "with open(datoteka) as f:\n",
    "    citaj = csv.reader(f)\n",
    "    zaglavlje = next(citaj)\n",
    "    datum, visoka_t, niska_t = [], [], []\n",
    "    for redci in citaj:\n",
    "        datum.append(datetime.strptime(redci[0], \"%Y-%m-%d\"))\n",
    "        visoka_t.append(int(redci[1]))\n",
    "        niska_t.append(int(redci[3]))\n",
    "    \n",
    "fig = plt.figure(dpi=128, figsize=(10, 6))\n",
    "plt.plot(datum, visoka_t, c='red')\n",
    "plt.plot(datum, niska_t, c='blue')\n",
    "plt.title(\"Najviše i najniže dnevne temerature, 2014\", fontsize=24)\n",
    "plt.xlabel('', fontsize=16)\n",
    "fig.autofmt_xdate()\n",
    "plt.ylabel(\"Temperature (F)\", fontsize=16)\n",
    "plt.tick_params(axis='both', which='major', labelsize=8)\n",
    "plt.show()"
   ]
  },
  {
   "cell_type": "markdown",
   "metadata": {},
   "source": [
    "Ponovno dodajemo još jednu listu za najniže temperature, a zatim izdvajamo i\n",
    "pohranjujemo i najnižu temperaturu za svaki datum (redci[3]). Potom dodajemo još\n",
    "jednu funkciju *plot()* kojoj prosljeđujemo datum i najniže temperature i\n",
    "definiramo da se ispisuju plavom bojom. Na kraju smo još promijenili i naslov.\n",
    "Nakon što smo dodali dvije serije podataka, sada možemo ispitati raspon\n",
    "temperatura za svaki dan. Dodajmo ispunu koja će prikazati razlike između\n",
    "najviše i najniže temperature. Upotrijebit ćemo metodu *fill_between()* koja\n",
    "uzima liste *x* i *y*, te popunjava prostor između njih."
   ]
  },
  {
   "cell_type": "code",
   "execution_count": null,
   "metadata": {},
   "outputs": [],
   "source": [
    "import csv\n",
    "from datetime import datetime\n",
    "from matplotlib import pyplot as plt\n",
    "%matplotlib inline\n",
    "\n",
    "datoteka = 'Podaci/sitka_weather_2014.csv'\n",
    "with open(datoteka) as f:\n",
    "    citaj = csv.reader(f)\n",
    "    zaglavlje = next(citaj)\n",
    "    datum, visoka_t, niska_t = [], [], []\n",
    "    for redci in citaj:\n",
    "        datum.append(datetime.strptime(redci[0], \"%Y-%m-%d\"))\n",
    "        visoka_t.append(int(redci[1]))\n",
    "        niska_t.append(int(redci[3]))\n",
    "    \n",
    "fig = plt.figure(dpi=128, figsize=(10, 6))\n",
    "plt.plot(datum, visoka_t, c='red', alpha=0.5)\n",
    "plt.plot(datum, niska_t, c='blue', alpha=0.5)\n",
    "plt.fill_between(datum, visoka_t, niska_t, facecolor='blue', alpha=0.1)\n",
    "plt.title(\"Najviše i najniže dnevne temerature, 2014\", fontsize=24)\n",
    "plt.xlabel('', fontsize=16)\n",
    "fig.autofmt_xdate()\n",
    "plt.ylabel(\"Temperature (F)\", fontsize=16)\n",
    "plt.tick_params(axis='both', which='major', labelsize=8)\n",
    "plt.show()"
   ]
  },
  {
   "cell_type": "markdown",
   "metadata": {},
   "source": [
    "Argument *alfa* u funkciji *plot()* definira prozirnost boje. Vrijednost\n",
    "*alfa=0* je potpuno prozirna, *alfa=1* (unaprijed definirana vrijednost) je\n",
    "potpuno neprozirna. Postavljanjem argumenta *alfa* na 0.5, crvena i plava linija\n",
    "postaju svjetlije odnosno prozirne. Zatim pozivamo *fill_between()* i\n",
    "prosljeđujemo listu s datumima za os x i dvije liste s vrijednostima najnižih i\n",
    "najviših temperatura. Argument *facecolor* određuje boju ispunjavanja, a\n",
    "argument *alfa*, ponovno, prozirnost."
   ]
  },
  {
   "cell_type": "markdown",
   "metadata": {},
   "source": [
    "<br><div class=\"alert alert-info\"><b>Vježba</b></div></br>"
   ]
  },
  {
   "cell_type": "markdown",
   "metadata": {},
   "source": [
    "Napravite dva prikaza podataka za najviše temperature iz datoteka *sitka_weather_2014.csv* i *death_valley_2014.csv*.  \n",
    "Primijetite da je os *y* različita.  \n",
    "Pokušajte to promijeniti tako da koriste iste vrijednosti na osi *y*, da ih možete vizualno usporediti."
   ]
  },
  {
   "cell_type": "code",
   "execution_count": null,
   "metadata": {},
   "outputs": [],
   "source": []
  },
  {
   "cell_type": "markdown",
   "metadata": {},
   "source": [
    "Prikažite podatke iz obje datoteke različitim bojama na jednom grafu."
   ]
  },
  {
   "cell_type": "code",
   "execution_count": null,
   "metadata": {},
   "outputs": [],
   "source": []
  },
  {
   "cell_type": "markdown",
   "metadata": {},
   "source": [
    "<br><div class=\"alert alert-info\"><b>Kraj</b></div></br>"
   ]
  }
 ],
 "metadata": {
  "kernelspec": {
   "display_name": "Python 3",
   "language": "python",
   "name": "python3"
  },
  "language_info": {
   "codemirror_mode": {
    "name": "ipython",
    "version": 3
   },
   "file_extension": ".py",
   "mimetype": "text/x-python",
   "name": "python",
   "nbconvert_exporter": "python",
   "pygments_lexer": "ipython3",
   "version": "3.7.3"
  }
 },
 "nbformat": 4,
 "nbformat_minor": 2
}
