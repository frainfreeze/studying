{
 "cells": [
  {
   "cell_type": "markdown",
   "metadata": {},
   "source": [
    "<img src=\"Slike/vua.png\">"
   ]
  },
  {
   "cell_type": "markdown",
   "metadata": {},
   "source": [
    "# Funkcije - nastavak\n",
    "\n",
    "Funkcije možemo koristiti sa svim strukturama koje smo do sada upoznali.\n",
    "Primjerice, možemo koristiti petlju **while** da pozivamo funkciju koja vraća\n",
    "formatirani tekst s imenom i prezimenom."
   ]
  },
  {
   "cell_type": "code",
   "execution_count": null,
   "metadata": {},
   "outputs": [],
   "source": [
    "def vrati_formatirano_ime (ime, prezime):\n",
    "    '''Vraća formatirano ime i prezime'''\n",
    "    puno_ime = ime + ' ' + prezime\n",
    "    return (puno_ime.title())\n",
    "# Petlja\n",
    "while True:\n",
    "    print('\\nUnesi ime i prezime')\n",
    "    ime = input('Ime: ')\n",
    "    prezime = input('Prezime: ')\n",
    "    tekst = vrati_formatirano_ime (ime, prezime)\n",
    "    print('\\nPozdrav, ' + tekst+ '!')"
   ]
  },
  {
   "cell_type": "markdown",
   "metadata": {},
   "source": [
    "Sve radi, ali nismo napravili opciju za izlaz iz programa pa sad moramo otići u\n",
    "izbornik **Kernel** i izabrati opciju **Interrupt** da bismo prekinuli\n",
    "izvršavanje programa. Ako ovaj program pokrenete na svom računalu direktno u\n",
    "*Python*u, možete koristiti kombinaciju tipaka **CTRL + c**. Proširimo svoj\n",
    "program tako da omogućimo izlaz."
   ]
  },
  {
   "cell_type": "code",
   "execution_count": null,
   "metadata": {},
   "outputs": [],
   "source": [
    "def vrati_formatirano_ime (ime, prezime):\n",
    "    '''Vraća formatirano ime i prezime'''\n",
    "    puno_ime = ime + ' ' + prezime\n",
    "    return (puno_ime.title())\n",
    "# Petlja\n",
    "while True:\n",
    "    print('\\nUnesi ime i prezime')\n",
    "    print('(upiši \"i\" ako želiš izaći iz programa)')\n",
    "    ime = input('Ime: ')\n",
    "    if ime == 'i':\n",
    "        print ('Izlaz')\n",
    "        break\n",
    "    prezime = input('Prezime: ')\n",
    "    if prezime == 'i':\n",
    "        print ('Izlaz')\n",
    "        break\n",
    "    tekst = vrati_formatirano_ime (ime, prezime)\n",
    "    print('\\nPozdrav, ' + tekst+ '!')"
   ]
  },
  {
   "cell_type": "markdown",
   "metadata": {},
   "source": [
    "Dodali smo poruku korisniku što treba upisati za izlaz i napravili provjere da\n",
    "se petlja prekine ako to i učini."
   ]
  },
  {
   "cell_type": "markdown",
   "metadata": {},
   "source": [
    "<br><div class=\"alert alert-info\"><b>Vježba</b></div></br>"
   ]
  },
  {
   "cell_type": "markdown",
   "metadata": {},
   "source": [
    "Kopirajte program iz prethodne vježbe za muzički album.  \n",
    "Napišite petlju **while** koja od korisnika traži da unese argumente potrebne za\n",
    "funkciju.  \n",
    "Nakon što unese argumente, pozovite funkciju i rječnik ispišite na zaslon.  \n",
    "Osigurajte da korisnik ima opciju izlaska iz programa."
   ]
  },
  {
   "cell_type": "code",
   "execution_count": null,
   "metadata": {},
   "outputs": [],
   "source": []
  },
  {
   "cell_type": "markdown",
   "metadata": {},
   "source": [
    "<br><div class=\"alert alert-info\"><b>Kraj</b></div></br>"
   ]
  },
  {
   "cell_type": "markdown",
   "metadata": {},
   "source": [
    "Do sada smo kao argumente funkcijama slali pojedinačne varijable. *Python*\n",
    "podržava i slanje drugih struktura pa možemo poslati, primjerice, listu ili\n",
    "rječnik. Kada proslijedimo listu, *Python* ima direktan pristup svim elementima\n",
    "liste. Pogledajmo kako nam funkcije mogu pomoći da efikasnije radimo s listama.\n",
    "Recimo da u listi imamo popis imena i želimo ispisati poruku svakom od njih."
   ]
  },
  {
   "cell_type": "code",
   "execution_count": null,
   "metadata": {},
   "outputs": [],
   "source": [
    "def pozdravi_korisnika (imena):\n",
    "    '''Ispiši pozdravnu poruku'''\n",
    "    for ime in imena:\n",
    "        print('Pozdrav, ' + ime.title() + '!')\n",
    "korisnici = ['hrvoje', 'ivana', 'matija']\n",
    "pozdravi_korisnika (korisnici)"
   ]
  },
  {
   "cell_type": "markdown",
   "metadata": {},
   "source": [
    "Napravili smo funkciju koja očekuje listu imena koju spremamo u varijablu\n",
    "*imena*. Funkcija pregledava sva imena i ispisuje poruku. Zatim smo napravili\n",
    "listu te je proslijedili funkciji. Često trebamo modificirati listu unutar\n",
    "funkcije. Svaka promjena koju napravimo na listi unutar funkcije ostaje trajno\n",
    "zapisana i kad iz funkcije izađemo. Primjerice, trebamo program koji u listi\n",
    "čuva sve narudžbe korisnika. Kada se isporuči pojedina narudžba, trebamo je\n",
    "prebaciti u drugu listu. Sljedeći primjer prikazuje rješenje bez uporabe\n",
    "funkcija."
   ]
  },
  {
   "cell_type": "code",
   "execution_count": null,
   "metadata": {},
   "outputs": [],
   "source": [
    "# Inicijalne liste\n",
    "neispunjene_narudjbe = ['hamburger', 'rebarca', 'salata', 'tuna']\n",
    "ispunjene_narudjbe = []\n",
    "# Simulacija isporuka i prebacivanje u drugu listu\n",
    "while neispunjene_narudjbe:\n",
    "    trenutno_isporuka = neispunjene_narudjbe.pop()\n",
    "    print('Isporučujem: ' + trenutno_isporuka)\n",
    "    ispunjene_narudjbe.append(trenutno_isporuka)\n",
    "# Ispisujem sve isporuke\n",
    "print('\\nIsporučeno je:')\n",
    "for isporuka in ispunjene_narudjbe:\n",
    "    print(isporuka)"
   ]
  },
  {
   "cell_type": "markdown",
   "metadata": {},
   "source": [
    "Program počinje s listom narudžbi koje čekaju i praznom listom za isporučene\n",
    "narudžbe. Sve dok postoje elementi u *neispunjene_narudjbe* ponavljamo petlju\n",
    "koja ispisuje poruku da se nešto isporučuje i prebacuje se u listu\n",
    "*ispunjene_narudjbe*. Nakon što se prva lista isprazni, program izlazi iz petlje\n",
    "i nastavlja s ispisivanjem elemenata liste *ispunjene_narudjbe*. Ovaj program\n",
    "možemo napisati i tako da dodamo dvije funkcije. Prva će obavljati posao\n",
    "isporuka, a druga ispis isporučenih narudžbi."
   ]
  },
  {
   "cell_type": "code",
   "execution_count": null,
   "metadata": {},
   "outputs": [],
   "source": [
    "def isporuci (neispunjene_narudjbe, ispunjene_narudjbe):\n",
    "    '''Funkcija simulira isporuke narudžbi'''\n",
    "    while neispunjene_narudjbe:\n",
    "        trenutno_isporuka = neispunjene_narudjbe.pop()\n",
    "        print('Isporučujem: ' + trenutno_isporuka)\n",
    "        ispunjene_narudjbe.append(trenutno_isporuka)\n",
    "def ispisi (ispunjene_narudjbe):\n",
    "    '''Funkcija ispisuje elemente iz liste isporuka'''\n",
    "    print('\\nIsporučeno je:')\n",
    "    for isporuka in ispunjene_narudjbe:\n",
    "        print(isporuka)\n",
    "# Inicijalne liste\n",
    "neispunjene_narudjbe = ['hamburger', 'rebarca', 'salata', 'tuna']\n",
    "ispunjene_narudjbe = []\n",
    "# pozivamo funkcije\n",
    "isporuci (neispunjene_narudjbe, ispunjene_narudjbe)\n",
    "ispisi (ispunjene_narudjbe)"
   ]
  },
  {
   "cell_type": "markdown",
   "metadata": {},
   "source": [
    "Program ima isti izlaz kao i prethodni, ali ga je jednostavnije pratiti. Prvo\n",
    "imamo definicije funkcija, pa inicijalizaciju varijabli i naposljetku samo\n",
    "program koji se sastoji od poziva funkcijama. Kada ga analiziramo, program prvo\n",
    "poziva funkciju *isporuci* pa zatim *ispisi*. Ako nam rezultat nije ispravan,\n",
    "ispravljamo samo funkciju koja radi problem. Ovdje možete uočiti i koncept u\n",
    "kojem jedna funkcija ima samo jednu svrhu. Mogli smo sve staviti u jednu\n",
    "funkciju i samo je pozvati iz glavnog programa, ali onda ne bismo olakšali\n",
    "održavanje. Kada pišete neku funkciju i shvatite da u njoj radite previše\n",
    "obrada, razmotrite opciju da je napravite u više dijelova. Funkcije možete\n",
    "pozivati i iz funkcija, što može biti korisno kada neki kompleksni zadatak\n",
    "želimo pretvoriti u više manjih."
   ]
  },
  {
   "cell_type": "markdown",
   "metadata": {},
   "source": [
    "U nekim slučajevima, kada prosljeđujemo listu funkciji ne želimo da ona može\n",
    "promijeniti izvorni sadržaj, već da može koristiti vrijednosti njenih elemenata.\n",
    "Primjerice, u prethodnom primjeru želimo zadržati sadržaj liste\n",
    "*neispunjene_narudjbe*. To možemo napraviti tako da funkciji pošaljemo kopiju\n",
    "liste. Prisjetite se, kopiju liste možemo dobiti tako što uz ime liste dodamo\n",
    "uglate zagrade u kojima se nalazi dvotočka **[:]**. Naravno, ako uz dvotočku\n",
    "imamo i neke brojčane vrijednosti, možemo proslijediti samo dio liste."
   ]
  },
  {
   "cell_type": "code",
   "execution_count": null,
   "metadata": {},
   "outputs": [],
   "source": [
    "def isporuci (neispunjene_narudjbe, ispunjene_narudjbe):\n",
    "    '''Funkcija simulira isporuke narudžbi'''\n",
    "    while neispunjene_narudjbe:\n",
    "        trenutno_isporuka = neispunjene_narudjbe.pop()\n",
    "        print('Isporučujem: ' + trenutno_isporuka)\n",
    "        ispunjene_narudjbe.append(trenutno_isporuka)\n",
    "def ispisi (ispunjene_narudjbe):\n",
    "    '''Funkcija ispisuje elemente iz liste isporuka'''\n",
    "    print('\\nIsporučeno je:')\n",
    "    for isporuka in ispunjene_narudjbe:\n",
    "        print(isporuka)\n",
    "# Inicijalne liste\n",
    "neispunjene_narudjbe = ['hamburger', 'rebarca', 'salata', 'tuna']\n",
    "ispunjene_narudjbe = []\n",
    "# pozivamo funkcije\n",
    "isporuci (neispunjene_narudjbe[:], ispunjene_narudjbe)"
   ]
  },
  {
   "cell_type": "markdown",
   "metadata": {},
   "source": [
    "Iako možemo funkcijama slati kopije lista, to treba izbjegavati, osim u\n",
    "situacijama kada je bitno da ih funkcija ne mijenja. Kada radimo kopiju, program\n",
    "mora koristiti više memorije i potrošiti neko vrijeme da napravi kopiju,\n",
    "pogotovo ako su liste jako velike."
   ]
  },
  {
   "cell_type": "markdown",
   "metadata": {},
   "source": [
    "<br><div class=\"alert alert-info\"><b>Vježba</b></div></br>"
   ]
  },
  {
   "cell_type": "markdown",
   "metadata": {},
   "source": [
    "Napravite listu s imenima.  \n",
    "Proslijedite listu funkciji *prikazi_imena* koja će ispisati svako ime.  \n",
    "Pozovi funkciju.\n"
   ]
  },
  {
   "cell_type": "code",
   "execution_count": null,
   "metadata": {},
   "outputs": [],
   "source": []
  },
  {
   "cell_type": "markdown",
   "metadata": {},
   "source": [
    "Kopirajte prethodni kod i dodajte u njega novu funkciju *pozdravi_korisnika* koja će promijeniti sadržaj svakog elementa i umjesto imena zapisati „Pozdrav, *ime*!“.  \n",
    "Pozovite funkcije različitim redoslijedom i provjerite rezultate."
   ]
  },
  {
   "cell_type": "code",
   "execution_count": null,
   "metadata": {},
   "outputs": [],
   "source": []
  },
  {
   "cell_type": "markdown",
   "metadata": {},
   "source": [
    "Kopirajte prethodni kod i promijenite funkciju *pozdravi_korisnika* tako da vraća listu pozivatelju.  \n",
    "Pozovite funkciju *pozdravi_korisnika* slanjem kopije liste s imenima, a rezultat spremite u novu varijablu.  \n",
    "Pozovite funkciju *prikazi_imena* s originalnom listom i s listom koja je rezultat funkcije *pozdravi_korisnika*.\n"
   ]
  },
  {
   "cell_type": "code",
   "execution_count": null,
   "metadata": {},
   "outputs": [],
   "source": []
  },
  {
   "cell_type": "markdown",
   "metadata": {},
   "source": [
    "<br><div class=\"alert alert-info\"><b>Kraj</b></div></br>"
   ]
  }
 ],
 "metadata": {
  "kernelspec": {
   "display_name": "Python 3",
   "language": "python",
   "name": "python3"
  },
  "language_info": {
   "codemirror_mode": {
    "name": "ipython",
    "version": 3
   },
   "file_extension": ".py",
   "mimetype": "text/x-python",
   "name": "python",
   "nbconvert_exporter": "python",
   "pygments_lexer": "ipython3",
   "version": "3.7.3"
  }
 },
 "nbformat": 4,
 "nbformat_minor": 2
}
