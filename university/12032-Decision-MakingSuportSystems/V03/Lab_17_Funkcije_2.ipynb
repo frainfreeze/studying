{
 "cells": [
  {
   "cell_type": "markdown",
   "metadata": {},
   "source": [
    "<img src=\"Slike/vua.png\">"
   ]
  },
  {
   "cell_type": "markdown",
   "metadata": {},
   "source": [
    "# Funkcije - nastavak\n",
    "\n",
    "**Izbjegavanje grešaka s argumentima**  \n",
    "Kada počnete koristiti funkcije, nemojte se iznenaditi ako napravite grešku s\n",
    "neusklađenim argumentima. Greške se događaju kada unesete manje ili više\n",
    "argumenata, nego što funkcija očekuje. Pogledajmo što će se dogoditi ako\n",
    "pokušamo pozvati funkciju *opis_zivotinje* bez argumenata:"
   ]
  },
  {
   "cell_type": "code",
   "execution_count": null,
   "metadata": {},
   "outputs": [],
   "source": [
    "def opis_zivotinje(vrsta, ime):\n",
    "    '''Prikazuje informacije o kućnim ljubimcima'''\n",
    "    print ('\\nImam kućnog ljubimca imena ' + ime.title() + ', koji je ' + vrsta + '.')\n",
    "opis_zivotinje()\n"
   ]
  },
  {
   "cell_type": "markdown",
   "metadata": {},
   "source": [
    "Python prepoznaje da neke informacije nedostaju u pozivu funkcije, a poruka nam\n",
    "objašnjava gdje je problem: **opis_zivotinje() missing 2 required positional\n",
    "arguments: 'vrsta' and 'ime'**. Nedostaju dva argumenta: *vrsta* i *ime*."
   ]
  },
  {
   "cell_type": "markdown",
   "metadata": {},
   "source": [
    "<br><div class=\"alert alert-info\"><b>Vježba</b></div></br>"
   ]
  },
  {
   "cell_type": "markdown",
   "metadata": {},
   "source": [
    "Napišite funkciju imena *opis_grada* koja prihvaća kao argumente ime grada i\n",
    "broj stanovnika.  \n",
    "Kada pozovete funkciju, ona treba ispisati jednostavnu rečenicu, kao što je\n",
    "„Zagreb ima 100000 stanovnika.“  \n",
    "Unaprijed definirajte neku vrijednost za broj stanovnika ako nije proslijeđena\n",
    "kod poziva funkcije.  \n",
    "Pozovite funkciju više puta, tako da nekad proslijedite broj stanovnika, a nekad\n",
    "ne.  \n",
    "Pokušajte pozvati funkciju tako da proslijedite više od dva argumenta."
   ]
  },
  {
   "cell_type": "code",
   "execution_count": null,
   "metadata": {},
   "outputs": [],
   "source": []
  },
  {
   "cell_type": "markdown",
   "metadata": {},
   "source": [
    "<br><div class=\"alert alert-info\"><b>Kraj</b></div></br>"
   ]
  },
  {
   "cell_type": "markdown",
   "metadata": {},
   "source": [
    "Funkcija ne mora uvijek prikazati svoj izlaz izravno. Umjesto toga, može\n",
    "obraditi neke podatke, a zatim vratiti vrijednost ili skup vrijednosti\n",
    "pozivatelju funkcije. To nam omogućuje da dijelove koda spremimo u funkcije i\n",
    "olakšamo popravljanje i mijenjanje programa. Pogledajmo funkciju koja prihvaća\n",
    "ime i prezime i vraća formatirani tekst."
   ]
  },
  {
   "cell_type": "code",
   "execution_count": null,
   "metadata": {},
   "outputs": [],
   "source": [
    "def vrati_formatirano_ime(ime, prezime):\n",
    "    \"\"\"Vraća formatirano ime i prezime.\"\"\"\n",
    "    puno_ime = ime + ' ' + prezime\n",
    "    return puno_ime.title()\n",
    "muzicar = vrati_formatirano_ime('jimi', 'hendrix')\n",
    "print(muzicar)"
   ]
  },
  {
   "cell_type": "markdown",
   "metadata": {},
   "source": [
    "Funkcija *vrati_formatirano_ime()* uzima kao parametre ime i prezime, pa ih,\n",
    "povezane u jedan tekst, dodjeljuje varijabli *puno_ime*. Funkcija na kraju vraća\n",
    "vrijednost varijable *puno_ime* pozivatelju. Kada pozivamo funkcije koje vraćaju\n",
    "vrijednost, moramo tu vrijednost dodijeliti nekoj varijabli. U ovom slučaju,\n",
    "vraćena vrijednost pohranjena je u varijabli *muzicar*. Izlaz prikazuje\n",
    "oblikovano ime i prezime. Ovo može izgledati kao puno posla da biste dobili\n",
    "oblikovano ime, kada bismo mogli samo napisati: print (ime + ' ' + prezime).\n",
    "Ali, kada je program veći i ima pohranjena imena i prezimena zasebno, ovakva\n",
    "funkcija može olakšati pristup kad god želimo prikazati puno ime."
   ]
  },
  {
   "cell_type": "markdown",
   "metadata": {},
   "source": [
    "Nekad želimo pojedine argumente definirati kao opcionalne, tako da kod\n",
    "korištenja funkcije možemo, ali ne moramo, proslijediti neke od argumenata.\n",
    "Možete koristiti unaprijed definirane vrijednosti kako biste odredili da\n",
    "argumenti budu opcionalni. Primjerice, želimo proširiti funkciju\n",
    "*vrati_formatirano_ime* tako da dodamo opciju za srednje ime."
   ]
  },
  {
   "cell_type": "code",
   "execution_count": null,
   "metadata": {},
   "outputs": [],
   "source": [
    "def vrati_formatirano_ime(ime, srednje_ime, prezime):\n",
    "    \"\"\"Vraća formatirano ime i prezime.\"\"\"\n",
    "    puno_ime = ime + ' ' + srednje_ime + ' ' + prezime\n",
    "    return puno_ime.title()\n",
    "muzicar = vrati_formatirano_ime('john', 'lee', 'hooker')\n",
    "print(muzicar)"
   ]
  },
  {
   "cell_type": "markdown",
   "metadata": {},
   "source": [
    "Funkcija radi ispravno kada proslijedimo sva tri parametra, ali srednje ime nije\n",
    "uvijek dostupno. Prisjetimo se, funkcija će vratiti grešku ako proslijedimo\n",
    "manje od tri argumenta. Da bi *srednje_ime* bilo opcionalno, argumentu možemo\n",
    "dati praznu zadanu vrijednost koja će se koristiti kada korisnik ne proslijedi\n",
    "svoju vrijednost. Da ne bismo morali upisivati nazive argumenata, moramo ga\n",
    "postaviti na kraj popisa i dati mu prazan tekst kao unaprijed definiranu\n",
    "vrijednost."
   ]
  },
  {
   "cell_type": "code",
   "execution_count": null,
   "metadata": {},
   "outputs": [],
   "source": [
    "def vrati_formatirano_ime(ime, prezime, srednje_ime=''):\n",
    "    \"\"\"Vraća formatirano ime i prezime.\"\"\"\n",
    "    if srednje_ime:\n",
    "        puno_ime = ime + ' ' + srednje_ime + ' ' + prezime\n",
    "    else:\n",
    "        puno_ime = ime + ' ' + prezime\n",
    "    return puno_ime.title()\n",
    "muzicar = vrati_formatirano_ime('john', 'hooker', 'lee')\n",
    "print(muzicar)\n",
    "muzicar = vrati_formatirano_ime('jimi', 'hendrix')\n",
    "print(muzicar)"
   ]
  },
  {
   "cell_type": "markdown",
   "metadata": {},
   "source": [
    "Morali smo dodati provjeru da bismo mogli ispravno napraviti ispis. Bez provjere\n",
    "bismo imali jedan razmak viška."
   ]
  },
  {
   "cell_type": "code",
   "execution_count": null,
   "metadata": {},
   "outputs": [],
   "source": [
    "def vrati_formatirano_ime(ime, prezime, srednje_ime=''):\n",
    "    \"\"\"Vraća formatirano ime i prezime.\"\"\"\n",
    "    puno_ime = ime + ' ' + srednje_ime + ' ' + prezime\n",
    "    return puno_ime.title()\n",
    "muzicar = vrati_formatirano_ime('john', 'hooker', 'lee')\n",
    "print(muzicar)\n",
    "muzicar = vrati_formatirano_ime('jimi', 'hendrix')\n",
    "print(muzicar)"
   ]
  },
  {
   "cell_type": "markdown",
   "metadata": {},
   "source": [
    "Funkcije mogu vratiti bilo koji tip podataka podržanih u Pythonu, pa i one\n",
    "kompleksnije, kao što su rječnici ili liste. Primjerice, možemo napraviti\n",
    "funkciju koja prihvaća ime i prezime i vraća rječnik s povezanim vrijednostima."
   ]
  },
  {
   "cell_type": "code",
   "execution_count": null,
   "metadata": {},
   "outputs": [],
   "source": [
    "def napravi_osobu(ime, prezime):\n",
    "    \"\"\"Vraća rječnik s osobom.\"\"\"\n",
    "    osoba = {'ime': ime, 'prezime': prezime}\n",
    "    return osoba\n",
    "muzicar = napravi_osobu('jimi', 'hendrix')\n",
    "print(muzicar)"
   ]
  },
  {
   "cell_type": "markdown",
   "metadata": {},
   "source": [
    "Funkcija *napravi_osobu()* preuzima ime i prezime i formira rječnik s tim\n",
    "vrijednostima. Vrijednost varijable *ime* dodjeljuje se pod ključem ime' a\n",
    "prezime pod ključem 'prezime'. Rječnik koji predstavlja osobu vraća se\n",
    "pozivatelju funkcije. Funkciju možemo jednostavno proširiti tako da prihvaća i\n",
    "dodatne vrijednosti, kao što su 'srednje ime', 'dob', 'zanimanje' ili bilo koju\n",
    "drugu informaciju koju želimo pohraniti. Primjerice, možemo dodati dob."
   ]
  },
  {
   "cell_type": "code",
   "execution_count": null,
   "metadata": {},
   "outputs": [],
   "source": [
    "def napravi_osobu(ime, prezime, dob=''):\n",
    "    \"\"\"Vraća rječnik s osobom.\"\"\"\n",
    "    osoba = {'ime': ime, 'prezime': prezime}\n",
    "    if dob:\n",
    "        osoba['dob'] = dob\n",
    "    return osoba\n",
    "muzicar = napravi_osobu('jimi', 'hendrix', 27)\n",
    "print(muzicar)\n",
    "muzicar = napravi_osobu('jimi', 'hendrix')\n",
    "print(muzicar)"
   ]
  },
  {
   "cell_type": "markdown",
   "metadata": {},
   "source": [
    "<br><div class=\"alert alert-info\"><b>Vježba</b></div></br>"
   ]
  },
  {
   "cell_type": "markdown",
   "metadata": {},
   "source": [
    "Napišite funkciju nazvanu *napravi_album()* koja kreira rječnik koji opisuje glazbeni album.  \n",
    "Funkcija bi trebala primati ime_autora i naslov_albuma te vratiti rječnik koji\n",
    "sadrži ove informacije.  \n",
    "Koristeći funkciju napravite tri rječnika koji predstavljaju različite albume.  \n",
    "Ispišite svaku povratnu vrijednost kako biste pokazali da rječnici ispravno\n",
    "pohranjuju informacije o albumu.  \n",
    "Dodajte opcionalni parametar u *napravi_album()* koji omogućuje pohranjivanje\n",
    "broja pjesama na albumu.  \n",
    "Ako pozivatelj funkcije proslijedi i broj pjesama, dodajte tu vrijednost u\n",
    "rječnik albuma.  \n",
    "Napravite još nekoliko poziva funkciji, gdje neki imaju broj pjesama, a neki ne."
   ]
  },
  {
   "cell_type": "code",
   "execution_count": null,
   "metadata": {},
   "outputs": [],
   "source": []
  },
  {
   "cell_type": "markdown",
   "metadata": {},
   "source": [
    "<br><div class=\"alert alert-info\"><b>Kraj</b></div></br>"
   ]
  }
 ],
 "metadata": {
  "kernelspec": {
   "display_name": "Python 3",
   "language": "python",
   "name": "python3"
  },
  "language_info": {
   "codemirror_mode": {
    "name": "ipython",
    "version": 3
   },
   "file_extension": ".py",
   "mimetype": "text/x-python",
   "name": "python",
   "nbconvert_exporter": "python",
   "pygments_lexer": "ipython3",
   "version": "3.7.3"
  }
 },
 "nbformat": 4,
 "nbformat_minor": 2
}
