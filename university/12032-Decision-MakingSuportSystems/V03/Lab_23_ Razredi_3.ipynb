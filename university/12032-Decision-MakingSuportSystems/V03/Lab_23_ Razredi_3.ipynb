{
 "cells": [
  {
   "cell_type": "markdown",
   "metadata": {},
   "source": [
    "<img src=\"Slike/vua.png\">"
   ]
  },
  {
   "cell_type": "markdown",
   "metadata": {},
   "source": [
    "# Razredi - nastavak"
   ]
  },
  {
   "cell_type": "markdown",
   "metadata": {},
   "source": [
    "<br><div class=\"alert alert-info\"><b>Vježba</b></div>"
   ]
  },
  {
   "cell_type": "markdown",
   "metadata": {},
   "source": [
    "Kopirajte razred *Restoran* iz Lab_21.  \n",
    "Dodajte atribut pod nazivom *broj_posluženih* sa zadanom vrijednošću 0.  \n",
    "Stvorite instancu *restoran* razreda *Restoran*. Ispišite broj korisnika koje je\n",
    "restoran poslužio.  \n",
    "Zatim promijenite tu vrijednost i ponovno napravite ispis.  \n",
    "Dodajte metodu pod nazivom *postavi_broj_posluženih()* koja omogućuje\n",
    "dodjeljivanje broja posluženih.  \n",
    "Pozovite ovu metodu s novim brojem i ponovno ispišite vrijednost.  \n",
    "Dodajte metodu *povećaj_broj_posluženih()* koja omogućuje povećanje broja\n",
    "klijenata koji su posluženi.  \n",
    "Pozovite ovu metodu s brojem koji bi mogao predstavljati koliko je korisnika\n",
    "bilo posluženo u sat vremena.  "
   ]
  },
  {
   "cell_type": "code",
   "execution_count": null,
   "metadata": {},
   "outputs": [],
   "source": []
  },
  {
   "cell_type": "markdown",
   "metadata": {},
   "source": [
    "Kopirajte razred *Korisnik* iz Lab_21.  \n",
    "Korisniku dodajte atribut pod nazivom *poukasaji_pristupa*.  \n",
    "Napišite metodu koja se zove *povecaj_poukasaji_pristupa()* koji povećava\n",
    "vrijednost *poukasaji_pristupa* za 1.  \n",
    "Napišite drugu metodu pod nazivom *ponisti_poukasaji_pristupa()* koja vraća\n",
    "vrijednost *poukasaji_pristupa* na 0.  \n",
    "Napravite instancu razreda *Korisnik* i pozovite *povecaj_poukasaji_pristupa()*\n",
    "nekoliko puta.  \n",
    "Ispišite vrijednost *poukasaji_pristupa* da biste bili sigurni da je ispravno\n",
    "povećana.  \n",
    "Zatim pozovite *ponisti_poukasaji_pristupa()* i ponovno ispišite\n",
    "*poukasaji_pristupa* kako biste bili sigurni da je vrijednost poništena na 0.  "
   ]
  },
  {
   "cell_type": "code",
   "execution_count": null,
   "metadata": {},
   "outputs": [],
   "source": []
  },
  {
   "cell_type": "markdown",
   "metadata": {},
   "source": [
    "<br><div class=\"alert alert-info\"><b>Kraj</b></div></br>"
   ]
  }
 ],
 "metadata": {
  "kernelspec": {
   "display_name": "Python 3",
   "language": "python",
   "name": "python3"
  },
  "language_info": {
   "codemirror_mode": {
    "name": "ipython",
    "version": 3
   },
   "file_extension": ".py",
   "mimetype": "text/x-python",
   "name": "python",
   "nbconvert_exporter": "python",
   "pygments_lexer": "ipython3",
   "version": "3.7.3"
  }
 },
 "nbformat": 4,
 "nbformat_minor": 2
}
