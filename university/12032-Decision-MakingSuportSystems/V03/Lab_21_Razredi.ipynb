{
 "cells": [
  {
   "cell_type": "markdown",
   "metadata": {},
   "source": [
    "<img src=\"Slike/vua.png\">"
   ]
  },
  {
   "cell_type": "markdown",
   "metadata": {},
   "source": [
    "# Razredi\n",
    "Objektno orijentirano programiranje jedna je od široke lepeze programskih\n",
    "paradigmi koje se danas koriste, kao što su proceduralna paradigma, funkcijska\n",
    "paradigma i sl. U objektno orijentiranom pristupu kreiramo **razrede** koji\n",
    "predstavljaju stvari ili situacije iz stvarnog svijeta i na osnovu njih stvaramo\n",
    "**objekte**. Kada kreiramo **razred**, definiramo osnovne postavke ponašanja\n",
    "**objekata** koji su dio tog razreda. Naime, razred je samo nacrt na temelju\n",
    "kojeg možemo izgraditi neograničen broj objekata. Objekti se još nazivaju i\n",
    "primjerci ili instance razreda. Glavna motivacija u objektno orijentiranoj\n",
    "paradigmi jest povezivanje atributa i metoda ili akcija koje se mogu izvoditi\n",
    "nad tim skupom atributa. Na primjer, ljudi imaju atribute ili osobine kao što je\n",
    "boja očiju, ten kože, visina, masa, a akcije koje čovjek može raditi su\n",
    "slušanje, pjevanje, trčanje, treptanje, disanje itd. Kada kreiramo pojedini\n",
    "**objekt** na temelju nekog **razreda,** njemu se automatski dodjeljuju\n",
    "obilježja i ponašanja. Napravimo svoj prvi **razred,** koji će predstavljati \n",
    "psa - ne nekog pojedinog, već bilo kojeg. Što znamo o psima? Osnovni podatci neka\n",
    "budu ime i starost. Jednako tako znamo da većina njih zna sjesti i leći. Ove\n",
    "dvije informacije (ime, i godine), kao i dvije stvari koje mogu napraviti\n",
    "(sjesti, leći) koristit ćemo u svom **razredu** *Pas* jer su česte kod svih\n",
    "pasa. **Razred** će uputiti *Python* kako da napravi **objekt** koji predstavlja\n",
    "psa. Nakon što definiramo **razred**, koristit ćemo ga da napravimo zasebne\n",
    "**instance** koje će predstavljati pojedinog psa. Za kreiranje **razreda**\n",
    "koristimo izraz **class**. Svaka **instanca** kreirana od **razreda** *Pas*\n",
    "pospremit će *ime* i *godine_starosti* i dati im mogućnost *sjedni()* i\n",
    "*lezi()*."
   ]
  },
  {
   "cell_type": "code",
   "execution_count": null,
   "metadata": {},
   "outputs": [],
   "source": [
    "class Pas():\n",
    "    '''Razred za modeliranje psa'''\n",
    "    def __init__(self, ime, godine_starosti):\n",
    "        '''Inicijalizacija imena i godina starosti'''\n",
    "        self.ime = ime\n",
    "        self.godine_starosti = godine_starosti\n",
    "        \n",
    "    def sjedni(self):\n",
    "        '''Simulacija sjedanja'''\n",
    "        print(self.ime.title() + ' sjedi.')\n",
    "        \n",
    "    def lezi(self):\n",
    "        '''Simulacija ležanja'''\n",
    "        print(self.ime.title() + ' leži.')"
   ]
  },
  {
   "cell_type": "markdown",
   "metadata": {},
   "source": [
    "Izgleda komplicirano, pa ćemo pojasniti korake. U prvoj liniji koda definiramo\n",
    "razred *Pas*. Koristimo veliko početno slovo da lakše razlikujemo razrede od\n",
    "ostalih struktura. Zagrade iza naziva razreda su prazne jer razred ne nasljeđuje\n",
    "osobine od drugih razreda. U drugoj liniji je opis razreda. Funkcije u razredu\n",
    "zovu se **metode**. Sve što smo naučili o funkcijama vrijedi i za metode i\n",
    "jedina razlika za sada je u nazivu.\n",
    "\n",
    "**\\__init_\\_** je posebna **metoda** koju *Python interpreter* automatski\n",
    "izvršava u trenutku stvaranja nove **instance** temeljene na **razredu**. Naziv\n",
    "počinje i završava s dvije podvlake da ga ne bismo pomiješali s metodama koje\n",
    "kreiramo u razredu. Ta metoda naziva se konstruktorska metoda, a ime joj potječe\n",
    "upravo od trenutka poziva te metode – u tijeku konstruiranja ili stvaranja\n",
    "objekta. Definirali smo metodu **\\__init_\\_** tako da ima tri parametra: *self*,\n",
    "*ime* i *godine_starosti*. Parametar *self* mora biti naveden na prvom mjestu i\n",
    "mora biti u svim metodama u razredu. Razlog tome je što će taj parametar biti\n",
    "referenca na objekt nad kojim se ta metoda poziva. Specifično je za Python da\n",
    "eksplicitno pokazuje u metodama tu referencu, dok većina objektno orijentiranih\n",
    "jezika tu referencu skriva od programera. Kada kreiramo objekt, ne šaljemo\n",
    "argument za vrijednost *self*, već ga *Python interpreter* automatski\n",
    "prosljeđuje i omogućuje da pristupamo pojedinim instancama objekta. Da bismo\n",
    "kreirali objekt razreda *Pas,* moramo proslijediti *ime* i *godine_starosti*.\n",
    "Dvije varijable kojima dodjeljujemo vrijednosti argumenata objektu imaju prefiks\n",
    "*self* što znači da će dodijeljena vrijednost biti samo na toj instanci objekta.\n",
    "Još jedna od specifičnosti Python programskog jezika, ali i većine skriptnih\n",
    "jezika, jest dinamičko stvaranje atributa razreda. Bez prethodne definicije,\n",
    "navođenjem iza znaka točke, možemo navesti ime atributa te će ga, ako ono nije\n",
    "prethodno korišteno ili stvoreno, interpreter dinamički stvoriti u objektu.\n",
    "\n",
    "**self.ime = ime** dodjeljuje vrijednost varijabli *ime* objektu koji smo\n",
    "proslijedili kod poziva metode. Isto vrijedi i za *godine_starosti*. U razredu\n",
    "*Pas* definirali smo i dvije dodatne metode *sjedni()* i *lezi()*. Kako ove\n",
    "metode ne trebaju ulazne vrijednosti, jedini parametar je *self*. Instance koje\n",
    "kasnije kreiramo imat će mogućnost izvršavati ove metode. Sada one samo ispisuju\n",
    "poruku, ali, da su dio neke videoigre, mogle bi animiranom psu dati sposobnost\n",
    "da sjedne i legne, a ovakav bi program mogao i kontrolirati psa-robota. Prije\n",
    "nego nastavimo, spremimo ovaj razred u dokument u trajnu memoriju pa ćemo ga\n",
    "pozivati s **import**. Napravite kopiju prethodnog prozora s kodom, te na *tabu*\n",
    "s vježbama kreirajte novi tekstualni dokument u koji ćete zalijepiti kod i\n",
    "nazvati ga pas.py. Kada snimite datoteku, možete zatvoriti taj *tab* u\n",
    "pregledniku."
   ]
  },
  {
   "cell_type": "markdown",
   "metadata": {},
   "source": [
    "Napravimo instancu psa. Prvo moramo učitati modul u kojem imamo definiran\n",
    "razred."
   ]
  },
  {
   "cell_type": "code",
   "execution_count": null,
   "metadata": {},
   "outputs": [],
   "source": [
    "# Učitavamo razred Pas iz modula\n",
    "from pas import Pas\n",
    "# Radimo novi objekt razreda Pas u varijabli moj_pas\n",
    "moj_pas = Pas('Rex', 7)\n",
    "# Ispisujemo ime i godine instance objekta\n",
    "print('Ime mog psa je ' + moj_pas.ime.title() + '.')\n",
    "print('Moj pas je u ' + str(moj_pas.godine_starosti) + '. godini života.')"
   ]
  },
  {
   "cell_type": "markdown",
   "metadata": {},
   "source": [
    "Nakon što smo učitali razred, prvo kreiramo objekt razreda *Pas* imena *Rex* i\n",
    "starosti *7* godina. Kada *Python* pročita tu liniju koda, pokreće metodu\n",
    "**\\__init__()** u razredu *Pas* i prosljeđuje mu vrijednosti atributa. Metoda\n",
    "**\\__init__()** vraća instancu objekta koju smo dodijelili varijabli *moj_pas*.\n",
    "\n",
    "Obratite pozornost na to da *Pas* (veliko prvo slovo) predstavlja naziv razreda,\n",
    "a *moj_pas* (malo prvo slovo) predstavlja referencu na objekt razreda *Pas*. Da\n",
    "bismo došli do vrijednosti nekog atributa instance, koristimo notaciju s točkom\n",
    "(.). Prvo pišemo naziv instance (*moj_pas*) pa dodamo točku i nakon toga naziv\n",
    "atributa koji želimo pročitati (*ime*)."
   ]
  },
  {
   "cell_type": "markdown",
   "metadata": {},
   "source": [
    "Nakon što smo kreirali instancu razreda *Pas*, možemo korištenjem notacije s\n",
    "točkom pozvati ostale metode definirane u razredu."
   ]
  },
  {
   "cell_type": "code",
   "execution_count": null,
   "metadata": {},
   "outputs": [],
   "source": [
    "# Učitavamo razred Pas iz modula\n",
    "from pas import Pas\n",
    "# Radimo novi objekt razreda Pas u varijabli moj_pas\n",
    "moj_pas = Pas('Rex', 7)\n",
    "# Ispisujemo ime i godine instance objekta\n",
    "moj_pas.lezi()\n",
    "moj_pas.sjedni()"
   ]
  },
  {
   "cell_type": "markdown",
   "metadata": {},
   "source": [
    "Prvo pišemo naziv instance (*moj_pas*), dodajemo točku, pa naziv metode\n",
    "(*lezi()*). Ako su imena metoda deskriptivna, kao u primjeru, možemo ih lako\n",
    "koristiti, iako ih prvi put vidimo."
   ]
  },
  {
   "cell_type": "markdown",
   "metadata": {},
   "source": [
    "Možemo kreirati proizvoljan broj instanci. Dodajmo još jednu instancu:"
   ]
  },
  {
   "cell_type": "code",
   "execution_count": null,
   "metadata": {},
   "outputs": [],
   "source": [
    "# Učitavamo razred Pas iz modula\n",
    "from pas import Pas\n",
    "# Radimo novi objekt razreda Pas u varijabli moj_pas\n",
    "moj_pas = Pas('Rex', 7)\n",
    "tvoj_pas = Pas('Hund', 3)\n",
    "# Ispisujemo ime i godine instance objekta\n",
    "moj_pas.lezi()\n",
    "tvoj_pas.sjedni()"
   ]
  },
  {
   "cell_type": "markdown",
   "metadata": {},
   "source": [
    "Kreirali smo dvije instance razreda *Pas* i svaka za sebe može koristiti metode\n",
    "definirane u razredu. Ako i koristimo isto ime i iste godine, to će biti zasebne\n",
    "instance razreda *Pas*. Jedino što svakoj instanci trebamo dati je unikatno ime\n",
    "varijable kojoj je dodjeljujemo ili joj dodijeliti unikatnu poziciju u listi ili\n",
    "rječniku.\n",
    "<img src=\"Slike/12_9.png\" alt=\"Drawing\" style=\"width: 600px;\">"
   ]
  },
  {
   "cell_type": "markdown",
   "metadata": {},
   "source": [
    "<br><div class=\"alert alert-info\"><b>Vježba</b></div></br>"
   ]
  },
  {
   "cell_type": "raw",
   "metadata": {},
   "source": [
    "Napravite razred imena *Restoran*.  \n",
    "Metoda \\__init_\\_ treba pospremiti dva atributa *ime_restorana* i *tip_prehrane*.  \n",
    "Napravite metodu *opis* koja ispisuje vrijednosti ove dvije informacije.  \n",
    "Napravite metodu *open* koja ispisuje poruku da je restoran otvoren.  \n",
    "Napravite instancu objekta i pozovite metode."
   ]
  },
  {
   "cell_type": "code",
   "execution_count": null,
   "metadata": {},
   "outputs": [],
   "source": []
  },
  {
   "cell_type": "markdown",
   "metadata": {},
   "source": [
    "Kopirajte prethodni zadatak i napravite tri instance.  \n",
    "Pozovite metodu *opis*\n",
    "svake instance.\n"
   ]
  },
  {
   "cell_type": "code",
   "execution_count": null,
   "metadata": {},
   "outputs": [],
   "source": []
  },
  {
   "cell_type": "markdown",
   "metadata": {},
   "source": [
    "Napravite razred imena *Korisnik*.  \n",
    "Svaka instanca treba imati *ime*, *prezime*, *godine* i *spol*.  \n",
    "Napravite metodu *opis* koja ispisuje podatke o korisniku.  \n",
    "Napravite metodu *pozdrav* koja ispisuje personaliziranu pozdravnu poruku.  \n",
    "Kreirajte 5 instanci razreda *Korisnik* i pozovite obje metode."
   ]
  },
  {
   "cell_type": "code",
   "execution_count": null,
   "metadata": {},
   "outputs": [],
   "source": []
  },
  {
   "cell_type": "markdown",
   "metadata": {},
   "source": [
    "<br><div class=\"alert alert-info\"><b>Kraj</b></div></br>"
   ]
  }
 ],
 "metadata": {
  "kernelspec": {
   "display_name": "Python 3",
   "language": "python",
   "name": "python3"
  },
  "language_info": {
   "codemirror_mode": {
    "name": "ipython",
    "version": 3
   },
   "file_extension": ".py",
   "mimetype": "text/x-python",
   "name": "python",
   "nbconvert_exporter": "python",
   "pygments_lexer": "ipython3",
   "version": "3.7.3"
  }
 },
 "nbformat": 4,
 "nbformat_minor": 2
}
