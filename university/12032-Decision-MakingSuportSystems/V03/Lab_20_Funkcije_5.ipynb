{
 "cells": [
  {
   "cell_type": "markdown",
   "metadata": {},
   "source": [
    "<img src=\"Slike/vua.png\">"
   ]
  },
  {
   "cell_type": "markdown",
   "metadata": {},
   "source": [
    "Jedna od prednosti funkcija je odvajanje dijelova koda od glavnog programa.\n",
    "Korištenjem deskriptivnih imena za funkcije praćenje glavnog programa je puno\n",
    "jednostavnije. Uz definiranje funkcija možemo napraviti i korak dalje i spremiti\n",
    "svoje funkcije u zaseban dokument. *Python* takve dokumente smatra modulima i\n",
    "možemo ih tijekom izvođenja programa učitavati i imati na raspolaganju sve\n",
    "funkcije definirane u modulu. Korištenjem naredbe **import** *Pythonu*dajemo do\n",
    "znanja da treba učitati funkcije iz datoteke i omogućiti njihovo izvođenje u\n",
    "glavnom programu. Spremanje funkcija u izdvojenim datotekama omogućuje da se\n",
    "lakše krećete kroz glavni program (manji broj linija koda), te da funkcije koje\n",
    "ste napravili koristite u više različitih programa. Jednako tako, funkcije\n",
    "možete razmjenjivati s drugim programerima, a da ne šaljete cijeli program.\n",
    "Znanje o tome kako učitati svoje funkcije u program pomaže da učitavamo i\n",
    "biblioteke funkcija drugih programera. *Python* je danas jedan od\n",
    "najkorištenijih programskih jezika i to može zahvaliti velikom broju besplatno\n",
    "dostupnih biblioteka koje omogućavaju da koristimo gotove funkcije. Postoji više\n",
    "načina kako možemo učitati **module** i sad ćemo ih pojasniti."
   ]
  },
  {
   "cell_type": "markdown",
   "metadata": {},
   "source": [
    "Da bismo mogli učitati funkcije, prvo moramo napraviti modul i spremiti ga na\n",
    "disk s ekstenzijom *.py*. Za prvu funkciju iskoristimo primjer sa sendvičima."
   ]
  },
  {
   "cell_type": "code",
   "execution_count": null,
   "metadata": {},
   "outputs": [],
   "source": [
    "def napravi_sendvic_1 (velicina, *sastojci):\n",
    "    '''Ispisuje sastojke sendviča'''\n",
    "    print ('\\nPripremam ' + velicina +' sendvič sljedećeg sadržaja:')\n",
    "    for element in sastojci:\n",
    "        print('-' + element)"
   ]
  },
  {
   "cell_type": "markdown",
   "metadata": {},
   "source": [
    "Kako radimo u *Jupyter Notebooku* moramo kroz njega napraviti taj dokument.\n",
    "Prije nego ga napravimo, provjerimo radi li funkcija kako se očekuje."
   ]
  },
  {
   "cell_type": "code",
   "execution_count": null,
   "metadata": {},
   "outputs": [],
   "source": [
    "def napravi_sendvic_1 (velicina, *sastojci):\n",
    "    '''Ispisuje sastojke sendviča'''\n",
    "    print ('\\nPripremam ' + velicina +' sendvič s sljedećim sadržajem:')\n",
    "    for element in sastojci:\n",
    "        print('-' + element)\n",
    "    \n",
    "napravi_sendvic_1('veliki', 'šunka', 'sir')"
   ]
  },
  {
   "cell_type": "markdown",
   "metadata": {},
   "source": [
    "Da bismo u *Jupyter Notebooku* napravili novu datoteku, u svojoj mapi moramo se\n",
    "vratiti na *tab* s popisom vježbi u web-pregledniku i u mapi s današnjim datumom\n",
    "izabrati **New** (gore desno), te iz padajućeg izbornika kliknuti na **New\n",
    "File**. To će otvoriti novi *tab* u pregledniku u koji možemo zalijepiti kod\n",
    "koji kopiramo iz prve ćelije gdje smo imali samo funkciju, bez njenog pozivanja.\n",
    "Nakon što zalijepimo tekst, trebamo promijeniti naziv datoteke iz\n",
    "**untitled.txt** u, primjerice, **sendvic.py**. Kada smo to napravili, u\n",
    "izborniku **File** izaberemo **Save** da snimimo promjene i zatvaramo taj\n",
    "prozor, u koji se uvijek možemo vratiti jer je sad dostupan u mapi s vježbama.  \n",
    "**Napomena**: Kada budete programirali na svom računalu, ova procedura je\n",
    "nepotrebna jer ćete iz odabranog uređivača za rad u Pythonu jednostavno snimiti\n",
    "datoteku. Ovo je malo kompleksnije jer ta datoteka nije kod nas na računalu, već na\n",
    "poslužitelju. Pogledajmo sad kako možemo to iskoristiti u svojem programu:"
   ]
  },
  {
   "cell_type": "code",
   "execution_count": null,
   "metadata": {},
   "outputs": [],
   "source": [
    "import sendvic\n",
    "\n",
    "sendvic.napravi_sendvic_1('veliki', 'šunka', 'sir', 'masline')"
   ]
  },
  {
   "cell_type": "markdown",
   "metadata": {},
   "source": [
    "Naredbom **import** tražili smo od *Python*a da učita našu datoteku\n",
    "**sendvic.py** u kojoj se nalazi funkcija **napravi_sendvic**. Kad smo pozvali\n",
    "funkciju, prvo smo napisali naziv modula **sendvic** pa iza njega naziv funkcije\n",
    "s pripadajućim argumentima. Između naziva **modula** i **funkcije** stavljamo\n",
    "tučku (**.**) da bi *Python* znao da je to funkcija iz tog modula. Sad glavni\n",
    "program izgleda još jednostavnije. Imamo pozive za učitavanje modula i poziv\n",
    "funkciji. Ako promijenimo funkciju u modulu na disku i ponovno pokrenemo\n",
    "program, dobit ćemo rezultat koji odražava izmjene. Kada koristimo naredbu\n",
    "**import** i iza nje navedemo samo naziv modula, *Python* će učitati sve\n",
    "funkcije koje se u njemu nalaze. Otvorimo modul i dodajmo još jednu funkciju.\n",
    "Vratimo se na *tab* u kojem je popis vježbi i kliknemo na **sendvic.py** što će\n",
    "otvoriti novi *tab* sa sadržajem modula. Iz donjeg prozora kopirajmo kod i\n",
    "zalijepimo ga preko postojećeg, u datoteku modula. Kada smo to napravili, u\n",
    "izborniku **File** izaberimo **Save** da snimimo promjene i možemo zatvoriti taj\n",
    "prozor."
   ]
  },
  {
   "cell_type": "code",
   "execution_count": null,
   "metadata": {},
   "outputs": [],
   "source": [
    "def napravi_sendvic_1 (*sastojci):\n",
    "    '''Ispisuje sastojke sendviča'''\n",
    "    print ('\\nPripremam sendvič s sljedećim sadržajem:')\n",
    "    for element in sastojci:\n",
    "        print('-' + element)\n",
    "           \n",
    "def napravi_sendvic_2 (velicina, *sastojci):\n",
    "    '''Ispisuje sastojke sendviča'''\n",
    "    print ('\\nPripremam ' + velicina +' sendvič s sljedećim sadržajem:')\n",
    "    for element in sastojci:\n",
    "        print('-' + element)"
   ]
  },
  {
   "cell_type": "markdown",
   "metadata": {},
   "source": [
    "Sada u modulu imamo dvije funkcije. Pogledajmo kako možemo iz nekog modula\n",
    "uvesti (import) samo pojedine funkcije. Za učitavanje pojedinih dijelova modula\n",
    "koristimo konstrukciju **from ime_modula import ime_funkcije**. Naravno, možemo\n",
    "uvesti i više funkcija tako da ih navodimo odvojeno zarezima. Pokušajmo uvesti\n",
    "samo jednu funkciju."
   ]
  },
  {
   "cell_type": "code",
   "execution_count": null,
   "metadata": {},
   "outputs": [],
   "source": [
    "from sendvic import napravi_sendvic_1\n",
    "\n",
    "napravi_sendvic_1('veliki', 'šunka', 'sir', 'masline')"
   ]
  },
  {
   "cell_type": "markdown",
   "metadata": {},
   "source": [
    "Ako učitavamo samo pojedine funkcije, kod pozivanja ne koristimo naziv modula\n",
    "već samo naziv funkcije. Ako pokušamo pozvati drugu funkciju, dobit ćemo poruku\n",
    "o grešci."
   ]
  },
  {
   "cell_type": "code",
   "execution_count": null,
   "metadata": {},
   "outputs": [],
   "source": [
    "from sendvic import napravi_sendvic_2\n",
    "\n",
    "napravi_sendvic_1('veliki', 'šunka', 'sir', 'masline')"
   ]
  },
  {
   "cell_type": "markdown",
   "metadata": {},
   "source": [
    "Ako pak uvezemo i drugu funklciju sve će raditi."
   ]
  },
  {
   "cell_type": "code",
   "execution_count": null,
   "metadata": {},
   "outputs": [],
   "source": [
    "from sendvic import napravi_sendvic_1, napravi_sendvic_2\n",
    "\n",
    "napravi_sendvic_2('veliki', 'šunka', 'sir', 'masline')"
   ]
  },
  {
   "cell_type": "markdown",
   "metadata": {},
   "source": [
    "Ako funkcija ili cijeli modul imaju dugačko ime i želimo koristiti skraćeno ime,\n",
    "možemo funkciji ili cijelom modulu dati „nadimak\" korištenjem izraza **as**. Ako\n",
    "je riječ o cijelom modulu, koristimo konstrukciju **import ime_modula as\n",
    "nadimak**. Primjer za cijeli modul:"
   ]
  },
  {
   "cell_type": "code",
   "execution_count": null,
   "metadata": {},
   "outputs": [],
   "source": [
    "import sendvic as sv\n",
    "\n",
    "sv.napravi_sendvic_2('veliki', 'šunka', 'sir', 'masline')"
   ]
  },
  {
   "cell_type": "markdown",
   "metadata": {},
   "source": [
    "Kod funkcija, koristimo konstrukciju **from ime_modula import ime_funkcije as\n",
    "nadimak**. Primjer za funkciju:"
   ]
  },
  {
   "cell_type": "code",
   "execution_count": null,
   "metadata": {},
   "outputs": [],
   "source": [
    "from sendvic import napravi_sendvic_1 as ns\n",
    "\n",
    "ns('veliki', 'šunka', 'sir', 'masline')"
   ]
  },
  {
   "cell_type": "markdown",
   "metadata": {},
   "source": [
    "Ako pak želimo uvesti sve funkcije iz pojedinog modula, a da ne trebamo\n",
    "koristiti naziv modula, kod pozivanja funkcija možemo koristiti konstrukciju\n",
    "**from ime_modula import \\***. Asterisk zamjenjuje sve funkcije koje se nalaze u\n",
    "modulu. Iako ovaj način omogućuje da koristimo funkcije bez naziva modula, nije\n",
    "ga preporučljivo koristiti jer postoji mogućnost da u više modula imamo funkcije\n",
    "koje imaju jednako ime ili čak da se podudaraju s našim funkcijama. U tom\n",
    "slučaju „pobijedit\" će ona funkcija koju je *Python* zadnju učitao. Danas se\n",
    "najčešće koristi učitavanje cijelih modula i korištenje imena modula prije\n",
    "naziva funkcije ili učitavanje samo jedne pojedine funkcije."
   ]
  },
  {
   "cell_type": "markdown",
   "metadata": {},
   "source": [
    "Prije nego završimo s funkcijama, evo još par naputaka vezanih za izgled.\n",
    "\n",
    "-   Funkcije trebaju imati deskriptivna imena da se iz imena zna što rade.\n",
    "\n",
    "-   Svaka funkcija treba imati opis koji detaljnije pojašnjava što radi.\n",
    "\n",
    "-   Ako funkcija prima veliki broj argumenata, kod definiranja i kod pozivanja\n",
    "    nakon svakog parametra pređite u novi redak.\n",
    "\n",
    "-   Kada pišete module, razdvojite funkcije s dva prazna retka da bude lakše\n",
    "    analizirati kod.\n",
    "\n",
    "-   U glavnom programu (kao i u modulima ako koriste druge module) naredbe\n",
    "    **import** trebaju doći na početak programa.\n",
    "    \n",
    "-   Jedini izuzetak je ako na početku programa imate komentar koji opisuje cijeli\n",
    "    program/modul.\n"
   ]
  },
  {
   "cell_type": "markdown",
   "metadata": {},
   "source": [
    "<br><div class=\"alert alert-info\"><b>Vježba</b></div></br>"
   ]
  },
  {
   "cell_type": "markdown",
   "metadata": {},
   "source": [
    "Iskoristite posljednji zadatak s prethodne vježbe i funkciju spremite kao modul na disk.  \n",
    "Prilagodite glavni program da koristi novi modul."
   ]
  },
  {
   "cell_type": "code",
   "execution_count": null,
   "metadata": {},
   "outputs": [],
   "source": []
  },
  {
   "cell_type": "markdown",
   "metadata": {},
   "source": [
    "Kopirajte prethodni kod tako da iskoristite sljedeće oblike kod uvoza:\n",
    "-   import *ime_modula*\n",
    "-   from *ime_modula* import *ime_funkcije*\n",
    "-   from *ime_modula* import *ime_funkcije* as *nadimak*\n",
    "-   import *ime_modula* as *nadimak*\n",
    "-   from *ime_modula* import \\*\n",
    "\n"
   ]
  },
  {
   "cell_type": "code",
   "execution_count": null,
   "metadata": {},
   "outputs": [],
   "source": []
  },
  {
   "cell_type": "code",
   "execution_count": null,
   "metadata": {},
   "outputs": [],
   "source": []
  },
  {
   "cell_type": "code",
   "execution_count": null,
   "metadata": {},
   "outputs": [],
   "source": []
  },
  {
   "cell_type": "code",
   "execution_count": null,
   "metadata": {},
   "outputs": [],
   "source": []
  },
  {
   "cell_type": "code",
   "execution_count": null,
   "metadata": {},
   "outputs": [],
   "source": []
  },
  {
   "cell_type": "markdown",
   "metadata": {},
   "source": [
    "Pregledajte zadnji zadatak i ustanovite jesu li zadovoljene sve preporuke za izgled."
   ]
  },
  {
   "cell_type": "markdown",
   "metadata": {},
   "source": [
    "<br><div class=\"alert alert-info\"><b>Kraj</b></div></br>"
   ]
  }
 ],
 "metadata": {
  "kernelspec": {
   "display_name": "Python 3",
   "language": "python",
   "name": "python3"
  },
  "language_info": {
   "codemirror_mode": {
    "name": "ipython",
    "version": 3
   },
   "file_extension": ".py",
   "mimetype": "text/x-python",
   "name": "python",
   "nbconvert_exporter": "python",
   "pygments_lexer": "ipython3",
   "version": "3.7.3"
  }
 },
 "nbformat": 4,
 "nbformat_minor": 2
}
