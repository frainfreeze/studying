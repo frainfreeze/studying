{
 "cells": [
  {
   "cell_type": "markdown",
   "metadata": {},
   "source": [
    "<img src=\"vua.png\">"
   ]
  },
  {
   "cell_type": "markdown",
   "metadata": {},
   "source": [
    "# Analiza relevantnosti atributa (WoE + IV)"
   ]
  },
  {
   "cell_type": "markdown",
   "metadata": {},
   "source": [
    "Analiza relevantnosti atributa temeljni je postupak prilikom provođenja analiza za potrebe kreiranja\n",
    "prediktivnh modela. Općenito, uzorci mogu imati:\n",
    "- <b>dva</b> modeliteta ciljne varijable\n",
    "- <b>više</b> modeliteta ciljne varijable\n",
    "\n",
    "Kod uzoraka s <b>dva</b> modaliteta ciljne varijable, za procjenu prediktivne snage svakog atributa iz uzorka na ciljnu varijablu se preporučuje izračunavanje mjera <b>Weight of Evidence</b> i <b>Information Value</b>.\n",
    "\n",
    "## Weight of Evidence (WoE)\n",
    "Weight of Evidence je mjera kojom prikazujemo povezanost pojedine kategorije unutar jedne varijable s ciljnom varijablom. Računa se formulom:\n",
    "\n",
    "$$WoE = \\ln\\frac{Distribucija\\space Dobrih}{Distribucija\\space Loših}$$"
   ]
  },
  {
   "cell_type": "markdown",
   "metadata": {},
   "source": [
    "<div class=\"alert alert-danger\">\n",
    "<b>V A Ž N O  !</b><br>\n",
    "<br>\n",
    "WoE možemo koristiti samo na <b>kategoričkim varijablama</b>.<br>Prije računanja WoE za kontinuirane varijable potrebno ih je diskretizirati.\n",
    "</div>"
   ]
  },
  {
   "cell_type": "markdown",
   "metadata": {},
   "source": [
    "## Information Value (IV)\n",
    "Information value je mjera relevantnosti atributa (varijable). Služi za odabir atributa koje ćemo uključiti u izradu prediktivnog modela i njihovo rangiranje po važnosti (prediktivnoj snazi). Računamo je formulom:\n",
    "\n",
    "$$IV = \\sum (Distribucija\\space Dobrih - Distribucija\\space Loših)*WoE$$\n",
    "\n",
    "za sve <b>kategoričke</b> vrijednosti svake varijable.\n",
    "\n",
    "Izračunate vrijednosti za sve varijable sortiramo silazno prema *IV* te na kraju u prediktivni model uključujemo samo najbolje.<br>\n",
    "<br>\n",
    "U sljedećoj tablici možete vidjeti usporedbu *IV* vrijednosti s prediktivnošću\n",
    "varijable."
   ]
  },
  {
   "cell_type": "markdown",
   "metadata": {},
   "source": [
    "IV|Prediktivnost varijable\n",
    "------------|----------------\n",
    "< 0.02|Varijabla nije korisna\n",
    "0.02-0.1|Slaba prediktivnost\n",
    "0.1-0.3|Srednja prediktivnost\n",
    "0.3-0.5|Jaka prediktivnost\n",
    "> 0.5|Super prediktivnost"
   ]
  },
  {
   "cell_type": "markdown",
   "metadata": {},
   "source": [
    "## Primjer izračunavanja WoE i IV\n",
    "\n",
    "U sljedećem primjeru je izračunavanje mjere relevantnosti atributa IV podijeljeno u 6 koraka:\n",
    "- Učitavanje podataka iz CSV (Comma Separated Values) datoteke\n",
    "- Definicija ciljne varijable\n",
    "- Pretvaranje odabrane kontinuirane varijable u kategoričku\n",
    "- Računanje WoE i IV za svaku kategoriju odabrane varijable\n",
    "- Računanje IV za cijelu varijablu\n",
    "- Grafički prikaz i interpretacija rezultata\n",
    "\n",
    "Koristit ćemo set podataka koji sadrži 150 redaka u kojem svaki redak predstavlja podatke o jednom cvijetu. Svaki cvijet pripada jednoj od tri kategorije:\n",
    "\n",
    "<img src=\"iris3.png\">\n",
    "\n",
    "Za svaki cvijet imamo na raspolaganju četiri varijable (features):\n",
    "- sepal length\n",
    "- sepal width\n",
    "- petal length\n",
    "- petal width\n",
    "\n",
    "Cilj vježbe je odgovoriti na sljedeće pitanje:\n",
    "- Na temelju koje od četiri varijable možemo najlakše prepoznati cvijet **Iris-setosa**?\n",
    "\n",
    "Drugim riječima: tražimo varijablu koja je najrelevantnija za prepoznavanje cvijeta **Iris-setosa**.\n",
    "\n",
    "\n",
    "### Učitavanje podataka iz CSV (Comma Separated Values) datoteke\n",
    "\n",
    "Učitajmo podatke iz datoteke \"iris.csv\" i pogledajmo prva tri retka za svaku od vrsta cvjetova."
   ]
  },
  {
   "cell_type": "code",
   "execution_count": 1,
   "metadata": {},
   "outputs": [
    {
     "data": {
      "text/html": [
       "<div>\n",
       "<style scoped>\n",
       "    .dataframe tbody tr th:only-of-type {\n",
       "        vertical-align: middle;\n",
       "    }\n",
       "\n",
       "    .dataframe tbody tr th {\n",
       "        vertical-align: top;\n",
       "    }\n",
       "\n",
       "    .dataframe thead th {\n",
       "        text-align: right;\n",
       "    }\n",
       "</style>\n",
       "<table border=\"1\" class=\"dataframe\">\n",
       "  <thead>\n",
       "    <tr style=\"text-align: right;\">\n",
       "      <th></th>\n",
       "      <th>sepallength</th>\n",
       "      <th>sepalwidth</th>\n",
       "      <th>petallength</th>\n",
       "      <th>petalwidth</th>\n",
       "      <th>iris</th>\n",
       "    </tr>\n",
       "  </thead>\n",
       "  <tbody>\n",
       "    <tr>\n",
       "      <th>0</th>\n",
       "      <td>5.1</td>\n",
       "      <td>3.5</td>\n",
       "      <td>1.4</td>\n",
       "      <td>0.2</td>\n",
       "      <td>Iris-setosa</td>\n",
       "    </tr>\n",
       "    <tr>\n",
       "      <th>1</th>\n",
       "      <td>4.9</td>\n",
       "      <td>3.0</td>\n",
       "      <td>1.4</td>\n",
       "      <td>0.2</td>\n",
       "      <td>Iris-setosa</td>\n",
       "    </tr>\n",
       "    <tr>\n",
       "      <th>2</th>\n",
       "      <td>4.7</td>\n",
       "      <td>3.2</td>\n",
       "      <td>1.3</td>\n",
       "      <td>0.2</td>\n",
       "      <td>Iris-setosa</td>\n",
       "    </tr>\n",
       "    <tr>\n",
       "      <th>50</th>\n",
       "      <td>7.0</td>\n",
       "      <td>3.2</td>\n",
       "      <td>4.7</td>\n",
       "      <td>1.4</td>\n",
       "      <td>Iris-versicolor</td>\n",
       "    </tr>\n",
       "    <tr>\n",
       "      <th>51</th>\n",
       "      <td>6.4</td>\n",
       "      <td>3.2</td>\n",
       "      <td>4.5</td>\n",
       "      <td>1.5</td>\n",
       "      <td>Iris-versicolor</td>\n",
       "    </tr>\n",
       "    <tr>\n",
       "      <th>52</th>\n",
       "      <td>6.9</td>\n",
       "      <td>3.1</td>\n",
       "      <td>4.9</td>\n",
       "      <td>1.5</td>\n",
       "      <td>Iris-versicolor</td>\n",
       "    </tr>\n",
       "    <tr>\n",
       "      <th>100</th>\n",
       "      <td>6.3</td>\n",
       "      <td>3.3</td>\n",
       "      <td>6.0</td>\n",
       "      <td>2.5</td>\n",
       "      <td>Iris-virginica</td>\n",
       "    </tr>\n",
       "    <tr>\n",
       "      <th>101</th>\n",
       "      <td>5.8</td>\n",
       "      <td>2.7</td>\n",
       "      <td>5.1</td>\n",
       "      <td>1.9</td>\n",
       "      <td>Iris-virginica</td>\n",
       "    </tr>\n",
       "    <tr>\n",
       "      <th>102</th>\n",
       "      <td>7.1</td>\n",
       "      <td>3.0</td>\n",
       "      <td>5.9</td>\n",
       "      <td>2.1</td>\n",
       "      <td>Iris-virginica</td>\n",
       "    </tr>\n",
       "  </tbody>\n",
       "</table>\n",
       "</div>"
      ],
      "text/plain": [
       "     sepallength  sepalwidth  petallength  petalwidth             iris\n",
       "0            5.1         3.5          1.4         0.2      Iris-setosa\n",
       "1            4.9         3.0          1.4         0.2      Iris-setosa\n",
       "2            4.7         3.2          1.3         0.2      Iris-setosa\n",
       "50           7.0         3.2          4.7         1.4  Iris-versicolor\n",
       "51           6.4         3.2          4.5         1.5  Iris-versicolor\n",
       "52           6.9         3.1          4.9         1.5  Iris-versicolor\n",
       "100          6.3         3.3          6.0         2.5   Iris-virginica\n",
       "101          5.8         2.7          5.1         1.9   Iris-virginica\n",
       "102          7.1         3.0          5.9         2.1   Iris-virginica"
      ]
     },
     "execution_count": 1,
     "metadata": {},
     "output_type": "execute_result"
    }
   ],
   "source": [
    "import numpy as np\n",
    "import pandas as pd\n",
    "from pandas import DataFrame\n",
    "import matplotlib as plt\n",
    "\n",
    "path='iris.csv'\n",
    "# ako želite analizirati neku drugu datoteku, promijenite naziv datoteke (unutar navodnika) u gornjem retku\n",
    "\n",
    "df = pd.read_csv(path, sep=';')\n",
    "df.groupby('iris').head(3)"
   ]
  },
  {
   "cell_type": "markdown",
   "metadata": {},
   "source": [
    "### Definicija ciljne varijable\n",
    "Budući da želimo prepoznati vrstu **Iris-setosa** kreirat ćemo ciljnu varijablu koja ima vrijednost \"DA\" u svakom retku koji se odnosi na **Iris-setosa** i vrijednost \"NE\" u svim ostalim retcima."
   ]
  },
  {
   "cell_type": "code",
   "execution_count": 2,
   "metadata": {},
   "outputs": [
    {
     "data": {
      "text/html": [
       "<div>\n",
       "<style scoped>\n",
       "    .dataframe tbody tr th:only-of-type {\n",
       "        vertical-align: middle;\n",
       "    }\n",
       "\n",
       "    .dataframe tbody tr th {\n",
       "        vertical-align: top;\n",
       "    }\n",
       "\n",
       "    .dataframe thead th {\n",
       "        text-align: right;\n",
       "    }\n",
       "</style>\n",
       "<table border=\"1\" class=\"dataframe\">\n",
       "  <thead>\n",
       "    <tr style=\"text-align: right;\">\n",
       "      <th></th>\n",
       "      <th>sepallength</th>\n",
       "      <th>sepalwidth</th>\n",
       "      <th>petallength</th>\n",
       "      <th>petalwidth</th>\n",
       "      <th>iris</th>\n",
       "      <th>ciljna</th>\n",
       "    </tr>\n",
       "  </thead>\n",
       "  <tbody>\n",
       "    <tr>\n",
       "      <th>0</th>\n",
       "      <td>5.1</td>\n",
       "      <td>3.5</td>\n",
       "      <td>1.4</td>\n",
       "      <td>0.2</td>\n",
       "      <td>Iris-setosa</td>\n",
       "      <td>DA</td>\n",
       "    </tr>\n",
       "    <tr>\n",
       "      <th>1</th>\n",
       "      <td>4.9</td>\n",
       "      <td>3.0</td>\n",
       "      <td>1.4</td>\n",
       "      <td>0.2</td>\n",
       "      <td>Iris-setosa</td>\n",
       "      <td>DA</td>\n",
       "    </tr>\n",
       "    <tr>\n",
       "      <th>2</th>\n",
       "      <td>4.7</td>\n",
       "      <td>3.2</td>\n",
       "      <td>1.3</td>\n",
       "      <td>0.2</td>\n",
       "      <td>Iris-setosa</td>\n",
       "      <td>DA</td>\n",
       "    </tr>\n",
       "    <tr>\n",
       "      <th>50</th>\n",
       "      <td>7.0</td>\n",
       "      <td>3.2</td>\n",
       "      <td>4.7</td>\n",
       "      <td>1.4</td>\n",
       "      <td>Iris-versicolor</td>\n",
       "      <td>NE</td>\n",
       "    </tr>\n",
       "    <tr>\n",
       "      <th>51</th>\n",
       "      <td>6.4</td>\n",
       "      <td>3.2</td>\n",
       "      <td>4.5</td>\n",
       "      <td>1.5</td>\n",
       "      <td>Iris-versicolor</td>\n",
       "      <td>NE</td>\n",
       "    </tr>\n",
       "    <tr>\n",
       "      <th>52</th>\n",
       "      <td>6.9</td>\n",
       "      <td>3.1</td>\n",
       "      <td>4.9</td>\n",
       "      <td>1.5</td>\n",
       "      <td>Iris-versicolor</td>\n",
       "      <td>NE</td>\n",
       "    </tr>\n",
       "    <tr>\n",
       "      <th>100</th>\n",
       "      <td>6.3</td>\n",
       "      <td>3.3</td>\n",
       "      <td>6.0</td>\n",
       "      <td>2.5</td>\n",
       "      <td>Iris-virginica</td>\n",
       "      <td>NE</td>\n",
       "    </tr>\n",
       "    <tr>\n",
       "      <th>101</th>\n",
       "      <td>5.8</td>\n",
       "      <td>2.7</td>\n",
       "      <td>5.1</td>\n",
       "      <td>1.9</td>\n",
       "      <td>Iris-virginica</td>\n",
       "      <td>NE</td>\n",
       "    </tr>\n",
       "    <tr>\n",
       "      <th>102</th>\n",
       "      <td>7.1</td>\n",
       "      <td>3.0</td>\n",
       "      <td>5.9</td>\n",
       "      <td>2.1</td>\n",
       "      <td>Iris-virginica</td>\n",
       "      <td>NE</td>\n",
       "    </tr>\n",
       "  </tbody>\n",
       "</table>\n",
       "</div>"
      ],
      "text/plain": [
       "     sepallength  sepalwidth  petallength  petalwidth             iris ciljna\n",
       "0            5.1         3.5          1.4         0.2      Iris-setosa     DA\n",
       "1            4.9         3.0          1.4         0.2      Iris-setosa     DA\n",
       "2            4.7         3.2          1.3         0.2      Iris-setosa     DA\n",
       "50           7.0         3.2          4.7         1.4  Iris-versicolor     NE\n",
       "51           6.4         3.2          4.5         1.5  Iris-versicolor     NE\n",
       "52           6.9         3.1          4.9         1.5  Iris-versicolor     NE\n",
       "100          6.3         3.3          6.0         2.5   Iris-virginica     NE\n",
       "101          5.8         2.7          5.1         1.9   Iris-virginica     NE\n",
       "102          7.1         3.0          5.9         2.1   Iris-virginica     NE"
      ]
     },
     "execution_count": 2,
     "metadata": {},
     "output_type": "execute_result"
    }
   ],
   "source": [
    "df['ciljna'] = 'NE'\n",
    "df.loc[df.iris=='Iris-setosa', 'ciljna'] = \"DA\"\n",
    "# Ako želite neku drugu ciljnu varijablu, zamijenite naziv 'Iris-setosa' u retku iznad \n",
    "df.groupby('iris').head(3)"
   ]
  },
  {
   "cell_type": "code",
   "execution_count": null,
   "metadata": {},
   "outputs": [],
   "source": []
  },
  {
   "cell_type": "markdown",
   "metadata": {},
   "source": [
    "### Pretvaranje odabrane kontinuirane varijable u kategoričku\n",
    "Izračunat ćemo naprije relevantnost varijable **sepalwidth**. Budući da je varijabla kontinuirana (može poprimiti bilo koju vrijednost u rasponu između minimalne i maksimalne širine lista) podijelit ćemo je, za primjer, na 3 kategorije."
   ]
  },
  {
   "cell_type": "code",
   "execution_count": 3,
   "metadata": {},
   "outputs": [
    {
     "data": {
      "text/html": [
       "<div>\n",
       "<style scoped>\n",
       "    .dataframe tbody tr th:only-of-type {\n",
       "        vertical-align: middle;\n",
       "    }\n",
       "\n",
       "    .dataframe tbody tr th {\n",
       "        vertical-align: top;\n",
       "    }\n",
       "\n",
       "    .dataframe thead th {\n",
       "        text-align: right;\n",
       "    }\n",
       "</style>\n",
       "<table border=\"1\" class=\"dataframe\">\n",
       "  <thead>\n",
       "    <tr style=\"text-align: right;\">\n",
       "      <th></th>\n",
       "      <th>sepallength</th>\n",
       "      <th>sepalwidth</th>\n",
       "      <th>petallength</th>\n",
       "      <th>petalwidth</th>\n",
       "      <th>iris</th>\n",
       "      <th>ciljna</th>\n",
       "      <th>kategorija</th>\n",
       "    </tr>\n",
       "  </thead>\n",
       "  <tbody>\n",
       "    <tr>\n",
       "      <th>0</th>\n",
       "      <td>5.1</td>\n",
       "      <td>3.5</td>\n",
       "      <td>1.4</td>\n",
       "      <td>0.2</td>\n",
       "      <td>Iris-setosa</td>\n",
       "      <td>DA</td>\n",
       "      <td>(3.2, 4.4]</td>\n",
       "    </tr>\n",
       "    <tr>\n",
       "      <th>1</th>\n",
       "      <td>4.9</td>\n",
       "      <td>3.0</td>\n",
       "      <td>1.4</td>\n",
       "      <td>0.2</td>\n",
       "      <td>Iris-setosa</td>\n",
       "      <td>DA</td>\n",
       "      <td>(2.9, 3.2]</td>\n",
       "    </tr>\n",
       "    <tr>\n",
       "      <th>2</th>\n",
       "      <td>4.7</td>\n",
       "      <td>3.2</td>\n",
       "      <td>1.3</td>\n",
       "      <td>0.2</td>\n",
       "      <td>Iris-setosa</td>\n",
       "      <td>DA</td>\n",
       "      <td>(2.9, 3.2]</td>\n",
       "    </tr>\n",
       "    <tr>\n",
       "      <th>50</th>\n",
       "      <td>7.0</td>\n",
       "      <td>3.2</td>\n",
       "      <td>4.7</td>\n",
       "      <td>1.4</td>\n",
       "      <td>Iris-versicolor</td>\n",
       "      <td>NE</td>\n",
       "      <td>(2.9, 3.2]</td>\n",
       "    </tr>\n",
       "    <tr>\n",
       "      <th>51</th>\n",
       "      <td>6.4</td>\n",
       "      <td>3.2</td>\n",
       "      <td>4.5</td>\n",
       "      <td>1.5</td>\n",
       "      <td>Iris-versicolor</td>\n",
       "      <td>NE</td>\n",
       "      <td>(2.9, 3.2]</td>\n",
       "    </tr>\n",
       "    <tr>\n",
       "      <th>52</th>\n",
       "      <td>6.9</td>\n",
       "      <td>3.1</td>\n",
       "      <td>4.9</td>\n",
       "      <td>1.5</td>\n",
       "      <td>Iris-versicolor</td>\n",
       "      <td>NE</td>\n",
       "      <td>(2.9, 3.2]</td>\n",
       "    </tr>\n",
       "    <tr>\n",
       "      <th>100</th>\n",
       "      <td>6.3</td>\n",
       "      <td>3.3</td>\n",
       "      <td>6.0</td>\n",
       "      <td>2.5</td>\n",
       "      <td>Iris-virginica</td>\n",
       "      <td>NE</td>\n",
       "      <td>(3.2, 4.4]</td>\n",
       "    </tr>\n",
       "    <tr>\n",
       "      <th>101</th>\n",
       "      <td>5.8</td>\n",
       "      <td>2.7</td>\n",
       "      <td>5.1</td>\n",
       "      <td>1.9</td>\n",
       "      <td>Iris-virginica</td>\n",
       "      <td>NE</td>\n",
       "      <td>(1.999, 2.9]</td>\n",
       "    </tr>\n",
       "    <tr>\n",
       "      <th>102</th>\n",
       "      <td>7.1</td>\n",
       "      <td>3.0</td>\n",
       "      <td>5.9</td>\n",
       "      <td>2.1</td>\n",
       "      <td>Iris-virginica</td>\n",
       "      <td>NE</td>\n",
       "      <td>(2.9, 3.2]</td>\n",
       "    </tr>\n",
       "  </tbody>\n",
       "</table>\n",
       "</div>"
      ],
      "text/plain": [
       "     sepallength  sepalwidth  petallength  petalwidth             iris ciljna  \\\n",
       "0            5.1         3.5          1.4         0.2      Iris-setosa     DA   \n",
       "1            4.9         3.0          1.4         0.2      Iris-setosa     DA   \n",
       "2            4.7         3.2          1.3         0.2      Iris-setosa     DA   \n",
       "50           7.0         3.2          4.7         1.4  Iris-versicolor     NE   \n",
       "51           6.4         3.2          4.5         1.5  Iris-versicolor     NE   \n",
       "52           6.9         3.1          4.9         1.5  Iris-versicolor     NE   \n",
       "100          6.3         3.3          6.0         2.5   Iris-virginica     NE   \n",
       "101          5.8         2.7          5.1         1.9   Iris-virginica     NE   \n",
       "102          7.1         3.0          5.9         2.1   Iris-virginica     NE   \n",
       "\n",
       "       kategorija  \n",
       "0      (3.2, 4.4]  \n",
       "1      (2.9, 3.2]  \n",
       "2      (2.9, 3.2]  \n",
       "50     (2.9, 3.2]  \n",
       "51     (2.9, 3.2]  \n",
       "52     (2.9, 3.2]  \n",
       "100    (3.2, 4.4]  \n",
       "101  (1.999, 2.9]  \n",
       "102    (2.9, 3.2]  "
      ]
     },
     "execution_count": 3,
     "metadata": {},
     "output_type": "execute_result"
    }
   ],
   "source": [
    "df['kategorija'] = pd.qcut(df.sepalwidth,3)\n",
    "df.groupby('iris').head(3)"
   ]
  },
  {
   "cell_type": "markdown",
   "metadata": {},
   "source": [
    "### Računanje WoE i IV za svaku kategoriju odabrane varijable\n",
    "\n",
    "Prvo definiramo dvije nove varijable *a* i *b* koje će čuvati serije podataka s vrjednostima varijable *katedorija* i *ciljna*. Mogli smo koristiti i pune nazive ali ovako će nam biti jednostavnije."
   ]
  },
  {
   "cell_type": "code",
   "execution_count": 4,
   "metadata": {},
   "outputs": [
    {
     "name": "stdout",
     "output_type": "stream",
     "text": [
      "0    (3.2, 4.4]\n",
      "1    (2.9, 3.2]\n",
      "2    (2.9, 3.2]\n",
      "3    (2.9, 3.2]\n",
      "4    (3.2, 4.4]\n",
      "Name: kategorija, dtype: category\n",
      "Categories (3, interval[float64]): [(1.999, 2.9] < (2.9, 3.2] < (3.2, 4.4]]\n",
      "0    DA\n",
      "1    DA\n",
      "2    DA\n",
      "3    DA\n",
      "4    DA\n",
      "Name: ciljna, dtype: object\n"
     ]
    }
   ],
   "source": [
    "a = df.kategorija\n",
    "b = df.ciljna\n",
    "print(a.head())\n",
    "print(b.head())"
   ]
  },
  {
   "cell_type": "markdown",
   "metadata": {},
   "source": [
    "Zatim korištenjem metode *crosstab* radimo pivot tablicu od ove dvioje varijable."
   ]
  },
  {
   "cell_type": "code",
   "execution_count": 5,
   "metadata": {},
   "outputs": [
    {
     "data": {
      "text/html": [
       "<div>\n",
       "<style scoped>\n",
       "    .dataframe tbody tr th:only-of-type {\n",
       "        vertical-align: middle;\n",
       "    }\n",
       "\n",
       "    .dataframe tbody tr th {\n",
       "        vertical-align: top;\n",
       "    }\n",
       "\n",
       "    .dataframe thead th {\n",
       "        text-align: right;\n",
       "    }\n",
       "</style>\n",
       "<table border=\"1\" class=\"dataframe\">\n",
       "  <thead>\n",
       "    <tr style=\"text-align: right;\">\n",
       "      <th>ciljna</th>\n",
       "      <th>DA</th>\n",
       "      <th>NE</th>\n",
       "    </tr>\n",
       "    <tr>\n",
       "      <th>kategorija</th>\n",
       "      <th></th>\n",
       "      <th></th>\n",
       "    </tr>\n",
       "  </thead>\n",
       "  <tbody>\n",
       "    <tr>\n",
       "      <th>(1.999, 2.9]</th>\n",
       "      <td>2</td>\n",
       "      <td>55</td>\n",
       "    </tr>\n",
       "    <tr>\n",
       "      <th>(2.9, 3.2]</th>\n",
       "      <td>16</td>\n",
       "      <td>35</td>\n",
       "    </tr>\n",
       "    <tr>\n",
       "      <th>(3.2, 4.4]</th>\n",
       "      <td>32</td>\n",
       "      <td>10</td>\n",
       "    </tr>\n",
       "  </tbody>\n",
       "</table>\n",
       "</div>"
      ],
      "text/plain": [
       "ciljna        DA  NE\n",
       "kategorija          \n",
       "(1.999, 2.9]   2  55\n",
       "(2.9, 3.2]    16  35\n",
       "(3.2, 4.4]    32  10"
      ]
     },
     "execution_count": 5,
     "metadata": {},
     "output_type": "execute_result"
    }
   ],
   "source": [
    "IV=pd.crosstab(a,b)\n",
    "IV"
   ]
  },
  {
   "cell_type": "markdown",
   "metadata": {},
   "source": [
    "Sada kad smo dobili broj pojavljivanja po kategorijama trebaju nam omjeri, odnosno za pojedinu kategoriju broj vrijednosti koje su bile primjerice u stupcu *DA* podjelimo s ukupnim brojem svih vrijednosti u tom stupcu."
   ]
  },
  {
   "cell_type": "code",
   "execution_count": 6,
   "metadata": {},
   "outputs": [
    {
     "data": {
      "text/html": [
       "<div>\n",
       "<style scoped>\n",
       "    .dataframe tbody tr th:only-of-type {\n",
       "        vertical-align: middle;\n",
       "    }\n",
       "\n",
       "    .dataframe tbody tr th {\n",
       "        vertical-align: top;\n",
       "    }\n",
       "\n",
       "    .dataframe thead th {\n",
       "        text-align: right;\n",
       "    }\n",
       "</style>\n",
       "<table border=\"1\" class=\"dataframe\">\n",
       "  <thead>\n",
       "    <tr style=\"text-align: right;\">\n",
       "      <th>ciljna</th>\n",
       "      <th>DA</th>\n",
       "      <th>NE</th>\n",
       "    </tr>\n",
       "    <tr>\n",
       "      <th>kategorija</th>\n",
       "      <th></th>\n",
       "      <th></th>\n",
       "    </tr>\n",
       "  </thead>\n",
       "  <tbody>\n",
       "    <tr>\n",
       "      <th>(1.999, 2.9]</th>\n",
       "      <td>0.04</td>\n",
       "      <td>0.55</td>\n",
       "    </tr>\n",
       "    <tr>\n",
       "      <th>(2.9, 3.2]</th>\n",
       "      <td>0.32</td>\n",
       "      <td>0.35</td>\n",
       "    </tr>\n",
       "    <tr>\n",
       "      <th>(3.2, 4.4]</th>\n",
       "      <td>0.64</td>\n",
       "      <td>0.10</td>\n",
       "    </tr>\n",
       "  </tbody>\n",
       "</table>\n",
       "</div>"
      ],
      "text/plain": [
       "ciljna          DA    NE\n",
       "kategorija              \n",
       "(1.999, 2.9]  0.04  0.55\n",
       "(2.9, 3.2]    0.32  0.35\n",
       "(3.2, 4.4]    0.64  0.10"
      ]
     },
     "execution_count": 6,
     "metadata": {},
     "output_type": "execute_result"
    }
   ],
   "source": [
    "IV['DA']=IV['DA']/IV['DA'].sum()\n",
    "IV['NE']=IV['NE']/IV['NE'].sum()\n",
    "IV"
   ]
  },
  {
   "cell_type": "markdown",
   "metadata": {},
   "source": [
    "Isti rezultat smo mogli dobiti i korištenjem *lambda* funkcije i na rezultat metode *crosstab* odmah primjeniti formulu."
   ]
  },
  {
   "cell_type": "code",
   "execution_count": 7,
   "metadata": {},
   "outputs": [
    {
     "data": {
      "text/html": [
       "<div>\n",
       "<style scoped>\n",
       "    .dataframe tbody tr th:only-of-type {\n",
       "        vertical-align: middle;\n",
       "    }\n",
       "\n",
       "    .dataframe tbody tr th {\n",
       "        vertical-align: top;\n",
       "    }\n",
       "\n",
       "    .dataframe thead th {\n",
       "        text-align: right;\n",
       "    }\n",
       "</style>\n",
       "<table border=\"1\" class=\"dataframe\">\n",
       "  <thead>\n",
       "    <tr style=\"text-align: right;\">\n",
       "      <th>ciljna</th>\n",
       "      <th>DA</th>\n",
       "      <th>NE</th>\n",
       "    </tr>\n",
       "    <tr>\n",
       "      <th>kategorija</th>\n",
       "      <th></th>\n",
       "      <th></th>\n",
       "    </tr>\n",
       "  </thead>\n",
       "  <tbody>\n",
       "    <tr>\n",
       "      <th>(1.999, 2.9]</th>\n",
       "      <td>0.04</td>\n",
       "      <td>0.55</td>\n",
       "    </tr>\n",
       "    <tr>\n",
       "      <th>(2.9, 3.2]</th>\n",
       "      <td>0.32</td>\n",
       "      <td>0.35</td>\n",
       "    </tr>\n",
       "    <tr>\n",
       "      <th>(3.2, 4.4]</th>\n",
       "      <td>0.64</td>\n",
       "      <td>0.10</td>\n",
       "    </tr>\n",
       "  </tbody>\n",
       "</table>\n",
       "</div>"
      ],
      "text/plain": [
       "ciljna          DA    NE\n",
       "kategorija              \n",
       "(1.999, 2.9]  0.04  0.55\n",
       "(2.9, 3.2]    0.32  0.35\n",
       "(3.2, 4.4]    0.64  0.10"
      ]
     },
     "execution_count": 7,
     "metadata": {},
     "output_type": "execute_result"
    }
   ],
   "source": [
    "IV=pd.crosstab(a,b).apply(lambda c: c/c.sum(), axis=0)\n",
    "IV"
   ]
  },
  {
   "cell_type": "markdown",
   "metadata": {},
   "source": [
    "Sada kada imamo omjere po vrijednostima koristimo gornju formulu za izračun WoE (Weight of Evidence) za pojedinu kategoriju."
   ]
  },
  {
   "cell_type": "code",
   "execution_count": 8,
   "metadata": {},
   "outputs": [
    {
     "data": {
      "text/html": [
       "<div>\n",
       "<style scoped>\n",
       "    .dataframe tbody tr th:only-of-type {\n",
       "        vertical-align: middle;\n",
       "    }\n",
       "\n",
       "    .dataframe tbody tr th {\n",
       "        vertical-align: top;\n",
       "    }\n",
       "\n",
       "    .dataframe thead th {\n",
       "        text-align: right;\n",
       "    }\n",
       "</style>\n",
       "<table border=\"1\" class=\"dataframe\">\n",
       "  <thead>\n",
       "    <tr style=\"text-align: right;\">\n",
       "      <th>ciljna</th>\n",
       "      <th>DA</th>\n",
       "      <th>NE</th>\n",
       "      <th>WoE</th>\n",
       "    </tr>\n",
       "    <tr>\n",
       "      <th>kategorija</th>\n",
       "      <th></th>\n",
       "      <th></th>\n",
       "      <th></th>\n",
       "    </tr>\n",
       "  </thead>\n",
       "  <tbody>\n",
       "    <tr>\n",
       "      <th>(1.999, 2.9]</th>\n",
       "      <td>0.04</td>\n",
       "      <td>0.55</td>\n",
       "      <td>-2.621039</td>\n",
       "    </tr>\n",
       "    <tr>\n",
       "      <th>(2.9, 3.2]</th>\n",
       "      <td>0.32</td>\n",
       "      <td>0.35</td>\n",
       "      <td>-0.089612</td>\n",
       "    </tr>\n",
       "    <tr>\n",
       "      <th>(3.2, 4.4]</th>\n",
       "      <td>0.64</td>\n",
       "      <td>0.10</td>\n",
       "      <td>1.856298</td>\n",
       "    </tr>\n",
       "  </tbody>\n",
       "</table>\n",
       "</div>"
      ],
      "text/plain": [
       "ciljna          DA    NE       WoE\n",
       "kategorija                        \n",
       "(1.999, 2.9]  0.04  0.55 -2.621039\n",
       "(2.9, 3.2]    0.32  0.35 -0.089612\n",
       "(3.2, 4.4]    0.64  0.10  1.856298"
      ]
     },
     "execution_count": 8,
     "metadata": {},
     "output_type": "execute_result"
    }
   ],
   "source": [
    "IV['WoE'] = np.log(IV['DA']/IV['NE'])\n",
    "IV"
   ]
  },
  {
   "cell_type": "markdown",
   "metadata": {},
   "source": [
    "Te jednako tako računamo IV (Information Value) po kategorijama. Ta vrijednost po kategorijama nam ne znači ništa već je trebamo sumirati da bi dobili važnost varijable."
   ]
  },
  {
   "cell_type": "code",
   "execution_count": 9,
   "metadata": {},
   "outputs": [
    {
     "data": {
      "text/html": [
       "<div>\n",
       "<style scoped>\n",
       "    .dataframe tbody tr th:only-of-type {\n",
       "        vertical-align: middle;\n",
       "    }\n",
       "\n",
       "    .dataframe tbody tr th {\n",
       "        vertical-align: top;\n",
       "    }\n",
       "\n",
       "    .dataframe thead th {\n",
       "        text-align: right;\n",
       "    }\n",
       "</style>\n",
       "<table border=\"1\" class=\"dataframe\">\n",
       "  <thead>\n",
       "    <tr style=\"text-align: right;\">\n",
       "      <th>ciljna</th>\n",
       "      <th>DA</th>\n",
       "      <th>NE</th>\n",
       "      <th>WoE</th>\n",
       "      <th>IV</th>\n",
       "    </tr>\n",
       "    <tr>\n",
       "      <th>kategorija</th>\n",
       "      <th></th>\n",
       "      <th></th>\n",
       "      <th></th>\n",
       "      <th></th>\n",
       "    </tr>\n",
       "  </thead>\n",
       "  <tbody>\n",
       "    <tr>\n",
       "      <th>(1.999, 2.9]</th>\n",
       "      <td>0.04</td>\n",
       "      <td>0.55</td>\n",
       "      <td>-2.621039</td>\n",
       "      <td>1.336730</td>\n",
       "    </tr>\n",
       "    <tr>\n",
       "      <th>(2.9, 3.2]</th>\n",
       "      <td>0.32</td>\n",
       "      <td>0.35</td>\n",
       "      <td>-0.089612</td>\n",
       "      <td>0.002688</td>\n",
       "    </tr>\n",
       "    <tr>\n",
       "      <th>(3.2, 4.4]</th>\n",
       "      <td>0.64</td>\n",
       "      <td>0.10</td>\n",
       "      <td>1.856298</td>\n",
       "      <td>1.002401</td>\n",
       "    </tr>\n",
       "  </tbody>\n",
       "</table>\n",
       "</div>"
      ],
      "text/plain": [
       "ciljna          DA    NE       WoE        IV\n",
       "kategorija                                  \n",
       "(1.999, 2.9]  0.04  0.55 -2.621039  1.336730\n",
       "(2.9, 3.2]    0.32  0.35 -0.089612  0.002688\n",
       "(3.2, 4.4]    0.64  0.10  1.856298  1.002401"
      ]
     },
     "execution_count": 9,
     "metadata": {},
     "output_type": "execute_result"
    }
   ],
   "source": [
    "IV['IV'] = (IV['DA']-IV['NE'])* np.log(IV['DA']/IV['NE'])\n",
    "IV\n"
   ]
  },
  {
   "cell_type": "markdown",
   "metadata": {},
   "source": [
    "Možemo i pospremiti prethodnu tablicu u datoteku."
   ]
  },
  {
   "cell_type": "code",
   "execution_count": 10,
   "metadata": {},
   "outputs": [
    {
     "data": {
      "text/html": [
       "<div>\n",
       "<style scoped>\n",
       "    .dataframe tbody tr th:only-of-type {\n",
       "        vertical-align: middle;\n",
       "    }\n",
       "\n",
       "    .dataframe tbody tr th {\n",
       "        vertical-align: top;\n",
       "    }\n",
       "\n",
       "    .dataframe thead th {\n",
       "        text-align: right;\n",
       "    }\n",
       "</style>\n",
       "<table border=\"1\" class=\"dataframe\">\n",
       "  <thead>\n",
       "    <tr style=\"text-align: right;\">\n",
       "      <th>ciljna</th>\n",
       "      <th>DA</th>\n",
       "      <th>NE</th>\n",
       "      <th>WoE</th>\n",
       "      <th>IV</th>\n",
       "    </tr>\n",
       "    <tr>\n",
       "      <th>kategorija</th>\n",
       "      <th></th>\n",
       "      <th></th>\n",
       "      <th></th>\n",
       "      <th></th>\n",
       "    </tr>\n",
       "  </thead>\n",
       "  <tbody>\n",
       "    <tr>\n",
       "      <th>(1.999, 2.9]</th>\n",
       "      <td>0.04</td>\n",
       "      <td>0.55</td>\n",
       "      <td>-2.621039</td>\n",
       "      <td>1.336730</td>\n",
       "    </tr>\n",
       "    <tr>\n",
       "      <th>(2.9, 3.2]</th>\n",
       "      <td>0.32</td>\n",
       "      <td>0.35</td>\n",
       "      <td>-0.089612</td>\n",
       "      <td>0.002688</td>\n",
       "    </tr>\n",
       "    <tr>\n",
       "      <th>(3.2, 4.4]</th>\n",
       "      <td>0.64</td>\n",
       "      <td>0.10</td>\n",
       "      <td>1.856298</td>\n",
       "      <td>1.002401</td>\n",
       "    </tr>\n",
       "  </tbody>\n",
       "</table>\n",
       "</div>"
      ],
      "text/plain": [
       "ciljna          DA    NE       WoE        IV\n",
       "kategorija                                  \n",
       "(1.999, 2.9]  0.04  0.55 -2.621039  1.336730\n",
       "(2.9, 3.2]    0.32  0.35 -0.089612  0.002688\n",
       "(3.2, 4.4]    0.64  0.10  1.856298  1.002401"
      ]
     },
     "execution_count": 10,
     "metadata": {},
     "output_type": "execute_result"
    }
   ],
   "source": [
    "IV.to_csv('Test.csv')\n",
    "IV"
   ]
  },
  {
   "cell_type": "markdown",
   "metadata": {},
   "source": [
    "### Računanje IV za cijelu varijablu\n",
    "Izračunajmo ukupnu vrijednost IV za promatranu varijablu zbrajanjem vrijednosti IV za sve kategorije"
   ]
  },
  {
   "cell_type": "code",
   "execution_count": 11,
   "metadata": {},
   "outputs": [
    {
     "data": {
      "text/plain": [
       "2.3418190798555445"
      ]
     },
     "execution_count": 11,
     "metadata": {},
     "output_type": "execute_result"
    }
   ],
   "source": [
    "IV['IV'].sum()"
   ]
  },
  {
   "cell_type": "markdown",
   "metadata": {},
   "source": [
    "### Grafički prikaz i interpretacija rezultata\n",
    "Vrijednosti WoE manje od nule pokazuju vjerojatniju pripadnost kategoriji \"NE\" ciljne varijable, a vrijednosti veće od nule pokazuju vjerojatniju pripadnost kategoriji \"DA\". Uočite da pripadnost ili nepripadnost pojedinoj kategoriji ciljne varijable ovisi o kategoriji ciljne varijable (DA ili NE) koju smo stavili u brojnik odnosno nazivnik formule za izračunavanje WoE."
   ]
  },
  {
   "cell_type": "code",
   "execution_count": 12,
   "metadata": {},
   "outputs": [
    {
     "data": {
      "image/png": "[encoded data removed]",
      "text/plain": [
       "<Figure size 432x288 with 1 Axes>"
      ]
     },
     "metadata": {
      "needs_background": "light"
     },
     "output_type": "display_data"
    }
   ],
   "source": [
    "%matplotlib inline\n",
    "\n",
    "import matplotlib.pyplot as p\n",
    "IV[['WoE']].plot(kind='bar')\n",
    "p.show()"
   ]
  },
  {
   "cell_type": "code",
   "execution_count": null,
   "metadata": {},
   "outputs": [],
   "source": []
  },
  {
   "cell_type": "markdown",
   "metadata": {},
   "source": [
    "Na primjeru varijable **sepalwidth** možemo zaključiti da listovi širine od 2-2,9 ne spadaju u kategoriju Iris-setosa, listovi širine 2,9-3,2 imaju neodređenu pripadnost, dok očekivanu pripadnost ovom tipu irisa imaju listovi širine 3,2-4,4."
   ]
  },
  {
   "cell_type": "markdown",
   "metadata": {},
   "source": [
    "<br>\n",
    "<div class=\"alert alert-info\">\n",
    "<b>Zadatak 1</b>\n",
    "</div>\n",
    "\n",
    "### Upute\n",
    "1. Napravite funkciju koja vam za poslani DataFrame, vraća Information Value.\n",
    "2. U pozivu funkcije osim DataFramea morate omogućiti upis imena stupaca za ulazne varijable (features) i ciljnu varijablu (target). Ako imena stupaca nisu navedena u pozivu funkcije onda treba izračunati IV za sve varijable u DataFrameu.\n",
    "3. Funkcija mora vratiti DataFrame s popisom ulaznih varijabli, silazno sortiranih po vrijednosti IV.\n",
    "4. Povežite te vrijednosti s tablicom prediktivnosti i dodajte stupac s tekstualnim opisom prediktivnosti varijable.\n",
    "\n",
    "> Napomena: Izračunajte IV <b>samo za kategoričke varijable</b> (vrstu varijable možete otkriti metodom *dtype*).\n",
    "\n",
    "Naziv stupca | Opis\n",
    "------|------\n",
    "dob|Starost korisnika\n",
    "nkid|Broj djece\n",
    "dep|Broj drugih uzdržavanih osoba\n",
    "phon|Ima kućni telefon 1=da, 0=ne\n",
    "sinc|Dohodak supružnika\n",
    "aes|Radni status (V = državni službenik, W = domaćica, M = vojnik, P = privatni sektor, B = javni sektor, R = umirovljenik, E = samozaposlen, T = student, U = nezaposlen, N = ostalo, Z  = bez odgovora)\n",
    "dainc|Prihodi\n",
    "res|Stambeni status (O = vlasnik, F = podstanar, P = sa roditeljima, N = drugo, Z = bez odgovora)\n",
    "dhval|Vrijednost nekretnine (Ako je 0 nema nekretninu)\n",
    "dmort|Vrijednost hipoteke (Ako je 0 nema nekretninu)\n",
    "doutm|Rashodi na hipoteku ili iznajmljivanje\n",
    "doutl|Rashodi na kredite\n",
    "douthp|Rashodi na otplatu\n",
    "doutcc|Rashodi na kreditnim karticama\n",
    "Bad|**Ciljna varijabla**: indikator dobar/loš (1 = Loš, 0 = Dobar)"
   ]
  },
  {
   "cell_type": "code",
   "execution_count": 13,
   "metadata": {},
   "outputs": [],
   "source": [
    "# U nastavku upišite kôd funkcije\n",
    "# Komentirajte pojedine korake uz kôd ili korištenjem \"Markdown\" ćelija)\n",
    "\n",
    "import pandas as pd\n",
    "\n"
   ]
  },
  {
   "cell_type": "code",
   "execution_count": 14,
   "metadata": {},
   "outputs": [
    {
     "data": {
      "text/html": [
       "<div>\n",
       "<style scoped>\n",
       "    .dataframe tbody tr th:only-of-type {\n",
       "        vertical-align: middle;\n",
       "    }\n",
       "\n",
       "    .dataframe tbody tr th {\n",
       "        vertical-align: top;\n",
       "    }\n",
       "\n",
       "    .dataframe thead th {\n",
       "        text-align: right;\n",
       "    }\n",
       "</style>\n",
       "<table border=\"1\" class=\"dataframe\">\n",
       "  <thead>\n",
       "    <tr style=\"text-align: right;\">\n",
       "      <th></th>\n",
       "      <th>DOB</th>\n",
       "      <th>NKID</th>\n",
       "      <th>DEP</th>\n",
       "      <th>PHON</th>\n",
       "      <th>SINC</th>\n",
       "      <th>AES</th>\n",
       "      <th>DAINC</th>\n",
       "      <th>RES</th>\n",
       "      <th>DHVAL</th>\n",
       "      <th>DMORT</th>\n",
       "      <th>DOUTM</th>\n",
       "      <th>DOUTL</th>\n",
       "      <th>DOUTHP</th>\n",
       "      <th>DOUTCC</th>\n",
       "      <th>BAD</th>\n",
       "    </tr>\n",
       "  </thead>\n",
       "  <tbody>\n",
       "    <tr>\n",
       "      <th>0</th>\n",
       "      <td>19</td>\n",
       "      <td>4</td>\n",
       "      <td>0</td>\n",
       "      <td>1</td>\n",
       "      <td>0</td>\n",
       "      <td>R</td>\n",
       "      <td>0</td>\n",
       "      <td>O</td>\n",
       "      <td>14464</td>\n",
       "      <td>4</td>\n",
       "      <td>0</td>\n",
       "      <td>0</td>\n",
       "      <td>0</td>\n",
       "      <td>0</td>\n",
       "      <td>0</td>\n",
       "    </tr>\n",
       "    <tr>\n",
       "      <th>1</th>\n",
       "      <td>41</td>\n",
       "      <td>2</td>\n",
       "      <td>0</td>\n",
       "      <td>1</td>\n",
       "      <td>0</td>\n",
       "      <td>P</td>\n",
       "      <td>36000</td>\n",
       "      <td>O</td>\n",
       "      <td>0</td>\n",
       "      <td>0</td>\n",
       "      <td>280</td>\n",
       "      <td>664</td>\n",
       "      <td>0</td>\n",
       "      <td>80</td>\n",
       "      <td>0</td>\n",
       "    </tr>\n",
       "    <tr>\n",
       "      <th>2</th>\n",
       "      <td>66</td>\n",
       "      <td>0</td>\n",
       "      <td>0</td>\n",
       "      <td>1</td>\n",
       "      <td>0</td>\n",
       "      <td>N</td>\n",
       "      <td>30000</td>\n",
       "      <td>N</td>\n",
       "      <td>0</td>\n",
       "      <td>0</td>\n",
       "      <td>0</td>\n",
       "      <td>0</td>\n",
       "      <td>0</td>\n",
       "      <td>0</td>\n",
       "      <td>0</td>\n",
       "    </tr>\n",
       "    <tr>\n",
       "      <th>3</th>\n",
       "      <td>51</td>\n",
       "      <td>2</td>\n",
       "      <td>0</td>\n",
       "      <td>1</td>\n",
       "      <td>0</td>\n",
       "      <td>P</td>\n",
       "      <td>464</td>\n",
       "      <td>O</td>\n",
       "      <td>24928</td>\n",
       "      <td>8464</td>\n",
       "      <td>584</td>\n",
       "      <td>320</td>\n",
       "      <td>0</td>\n",
       "      <td>60</td>\n",
       "      <td>0</td>\n",
       "    </tr>\n",
       "    <tr>\n",
       "      <th>4</th>\n",
       "      <td>65</td>\n",
       "      <td>0</td>\n",
       "      <td>0</td>\n",
       "      <td>1</td>\n",
       "      <td>0</td>\n",
       "      <td>P</td>\n",
       "      <td>15000</td>\n",
       "      <td>P</td>\n",
       "      <td>0</td>\n",
       "      <td>0</td>\n",
       "      <td>0</td>\n",
       "      <td>0</td>\n",
       "      <td>0</td>\n",
       "      <td>0</td>\n",
       "      <td>0</td>\n",
       "    </tr>\n",
       "  </tbody>\n",
       "</table>\n",
       "</div>"
      ],
      "text/plain": [
       "   DOB  NKID  DEP  PHON  SINC AES  DAINC RES  DHVAL  DMORT  DOUTM  DOUTL  \\\n",
       "0   19     4    0     1     0   R      0   O  14464      4      0      0   \n",
       "1   41     2    0     1     0   P  36000   O      0      0    280    664   \n",
       "2   66     0    0     1     0   N  30000   N      0      0      0      0   \n",
       "3   51     2    0     1     0   P    464   O  24928   8464    584    320   \n",
       "4   65     0    0     1     0   P  15000   P      0      0      0      0   \n",
       "\n",
       "   DOUTHP  DOUTCC  BAD  \n",
       "0       0       0    0  \n",
       "1       0      80    0  \n",
       "2       0       0    0  \n",
       "3       0      60    0  \n",
       "4       0       0    0  "
      ]
     },
     "execution_count": 14,
     "metadata": {},
     "output_type": "execute_result"
    }
   ],
   "source": [
    "# Ovdje napišite kôd koji poziva funkciju,\n",
    "# ispisuje rezultat za kategoričke varijable sortirane po IV\n",
    "\n",
    "df = pd.read_csv('CS.csv', sep=';')\n",
    "df.head()\n"
   ]
  },
  {
   "cell_type": "markdown",
   "metadata": {},
   "source": [
    "Rezultat bi trebao izgledati ovako:\n",
    "\n",
    "Nezavisna varijabla|IV|Prediktivnost\n",
    "------|-----|---\n",
    "AES|0.1764|Srednja prediktivnost\n",
    "RES|0.0589|Srednja prediktivnost\n",
    "NKID|0.0188|Slaba prediktivnost\n",
    "PHON|0.0091|Varijabla nije korisna\n",
    "DEP|0.0039|Varijabla nije korisna"
   ]
  },
  {
   "cell_type": "markdown",
   "metadata": {},
   "source": [
    "Snimite DataFrame s izračunatim relevantnostima atributa u datoteku pod nazivom \"WoE_IV.csv\""
   ]
  },
  {
   "cell_type": "code",
   "execution_count": 15,
   "metadata": {},
   "outputs": [],
   "source": [
    "# Ovdje napišite kod za snimanje datoteke\n"
   ]
  },
  {
   "cell_type": "markdown",
   "metadata": {},
   "source": [
    "U nastavku grafički prikažite WoE **za sve varijable** (prema predlošku u stupcu NKID u sljedećem primjeru):\n",
    "\n",
    "Nezavisna varijabla|IV|Prediktivnost\n",
    "------|-----|---|---\n",
    "AES|0.1764|Srednja prediktivnost|\n",
    "RES|0.0589|Srednja prediktivnost|\n",
    "NKID|0.0188|Slaba prediktivnost|<img src=\"sample.png\",width=200, height=100>\n",
    "PHON|0.0091|Varijabla nije korisna|\n",
    "DEP|0.0039|Varijabla nije korisna|"
   ]
  },
  {
   "cell_type": "code",
   "execution_count": 16,
   "metadata": {},
   "outputs": [],
   "source": [
    "# ovdje napišite kod koji grafički prikazuje WoE za sve varijable\n"
   ]
  },
  {
   "cell_type": "markdown",
   "metadata": {},
   "source": [
    "<br>\n",
    "<div class=\"alert alert-info\">\n",
    "<b>Kraj prvog zadatka</b>\n",
    "</div>"
   ]
  },
  {
   "cell_type": "markdown",
   "metadata": {},
   "source": [
    "<br>\n",
    "<div class=\"alert alert-info\">\n",
    "<b>Zadatak 2</b>\n",
    "</div>\n",
    "\n",
    "### Upute\n",
    "1. Proširite prethodni zadatak tako da za kontinuirane varijable napravite diskretizaciju te vratite rezultatate i za njih."
   ]
  },
  {
   "cell_type": "code",
   "execution_count": null,
   "metadata": {},
   "outputs": [],
   "source": []
  },
  {
   "cell_type": "markdown",
   "metadata": {},
   "source": [
    "<br>\n",
    "<div class=\"alert alert-info\">\n",
    "<b>Kraj drugog zadatka</b>\n",
    "</div>"
   ]
  }
 ],
 "metadata": {
  "anaconda-cloud": {},
  "kernelspec": {
   "display_name": "Python 3",
   "language": "python",
   "name": "python3"
  },
  "language_info": {
   "codemirror_mode": {
    "name": "ipython",
    "version": 3
   },
   "file_extension": ".py",
   "mimetype": "text/x-python",
   "name": "python",
   "nbconvert_exporter": "python",
   "pygments_lexer": "ipython3",
   "version": "3.7.3"
  }
 },
 "nbformat": 4,
 "nbformat_minor": 1
}
