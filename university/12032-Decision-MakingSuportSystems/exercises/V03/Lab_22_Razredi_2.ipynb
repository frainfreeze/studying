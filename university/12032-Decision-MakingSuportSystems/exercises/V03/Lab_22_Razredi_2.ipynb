{
 "cells": [
  {
   "cell_type": "markdown",
   "metadata": {},
   "source": [
    "<img src=\"Slike/vua.png\">"
   ]
  },
  {
   "cell_type": "markdown",
   "metadata": {},
   "source": [
    "# Razredi - nastavak\n",
    "Razrede možemo koristiti za opisivanje mnogih situacija u stvarnom svijetu.\n",
    "Nakon što napravite razred, većinu vremena provodite koristeći instance razreda.\n",
    "Jedna od prvih stvari koju želimo napraviti je promjena atributa povezanih s\n",
    "pojedinom instancom. Atribute instanci možemo mijenjati izravno ili metodom koja\n",
    "ažurira atribute. Metoda koja ažurira ili mijenja atribute naziva se **seter**,\n",
    "a metoda koja dohvaća atribute razreda naziva se **geter**. Napravimo razred\n",
    "koji opisuje automobil. Taj će razred čuvati podatke o automobilu i imat će\n",
    "metodu za objedinjavanje svih podataka.\n"
   ]
  },
  {
   "cell_type": "code",
   "execution_count": null,
   "metadata": {},
   "outputs": [],
   "source": [
    "class Auto():\n",
    "    \"\"\"Jednostavan razred automobila.\"\"\"\n",
    "    def __init__(self, marka, model, godina):\n",
    "        \"\"\">Inicijalizacija atributa koji opisuju automobil.\"\"\"\n",
    "        self.marka = marka\n",
    "        self.model = model\n",
    "        self.godina = godina\n",
    "    def podaci(self):\n",
    "        \"\"\"Vraća objedinjenje podatke.\"\"\"\n",
    "        ime = str(self.godina) + ' ' + self.marka + ' ' + self.model\n",
    "        return ime.title()\n",
    "automobil = Auto('audi', 'a4', 2018)\n",
    "print(automobil.podaci())"
   ]
  },
  {
   "cell_type": "markdown",
   "metadata": {},
   "source": [
    "Kad u razredu *Auto* definiramo metodu **\\__init__()**, s prvim parametrom\n",
    "*self* dodajemo parametre *marka*, *model* i *godina*. Metoda **\\__init__()**\n",
    "uzima te parametre i pohranjuje ih u atribute koji će biti povezani s instancama\n",
    "izrađenim iz ovog razreda. Kada napravimo novi automobil, moramo odrediti marku,\n",
    "model i godinu. Zatim definiramo metodu podaci() koja gradi tekst od atributa\n",
    "objekta i opisuje automobil. To će nam pomoći da kod dohvaćanja podataka ne\n",
    "moramo uzimati svaki atribut posebno, nego samo pozivamo metodu. Za rad s\n",
    "vrijednostima atributa u ovoj metodi, koristimo *self.marka*, *self.model* i\n",
    "*self.godina*. Na kraju kreiramo novu instancu razreda *Auto* i pohranjujemo je\n",
    "u varijablu *automobil*. Zatim pozivamo metodu *podaci()* kako bismo pokazali\n",
    "atribute automobila. Učinimo sada razred malo zanimljivijim dodavanjem atributa\n",
    "koji se mijenja tijekom vremena. Dodat ćemo atribut koji pohranjuje ukupnu\n",
    "kilometražu automobila.\n"
   ]
  },
  {
   "cell_type": "markdown",
   "metadata": {},
   "source": [
    "Svaki atribut u razredu treba početnu vrijednost, čak i ako je ta vrijednost 0\n",
    "ili prazan niz. U nekim slučajevima, kao što je pri postavljanju zadane početne\n",
    "vrijednosti, možemo iskoristiti metodu **\\__init__()** jer tada ne trebamo novi\n",
    "parametar za taj atribut. Dodajmo atribut koji se zove *kilometara* koji uvijek\n",
    "počinje s vrijednošću 0. Dodat ćemo i metodu *procitaj_kilometre()* koja pomaže\n",
    "u čitanju brojača kilometara vozila."
   ]
  },
  {
   "cell_type": "code",
   "execution_count": null,
   "metadata": {},
   "outputs": [],
   "source": [
    "class Auto():\n",
    "    \"\"\"Jednostavan razred automobila.\"\"\"\n",
    "    def __init__(self, marka, model, godina):\n",
    "        \"\"\">Inicijalizacija atributa koji opisuju automobil.\"\"\"\n",
    "        self.marka = marka\n",
    "        self.model = model\n",
    "        self.godina = godina\n",
    "        self.kilometara = 0\n",
    "    def podaci(self):\n",
    "        \"\"\"Vraća objedinjenje podatke.\"\"\"\n",
    "        ime = str(self.godina) + ' ' + self.marka + ' ' + self.model\n",
    "        return ime.title()\n",
    "    def procitaj_kilometre(self):\n",
    "        \"\"\"Ispisuje stanje kilometara.\"\"\"\n",
    "        print(\"Automobil ima \" + str(self.kilometara) + \" prijeđenih kilometara.\")\n",
    "\n",
    "automobil = Auto('audi', 'a4', 2018)\n",
    "print(automobil.podaci())\n",
    "automobil.procitaj_kilometre()"
   ]
  },
  {
   "cell_type": "markdown",
   "metadata": {},
   "source": [
    "Ovaj put, kada Python interpreter poziva metodu **\\__init__()** kod kreiranja\n",
    "nove instance, ona pohranjuje vrijednosti marke, modela i godinu kao atribute\n",
    "kao što je to bilo u prethodnom primjeru. Zatim Python stvara novi atribut koji\n",
    "se zove *kilometara* i postavlja na vrijednost 0. Kreirali smo i novu metodu\n",
    "*procitaj_kilometre()* koja čita vrijednost *kilometara* i ispisuje je u poruci.\n",
    "Kako se većina auta ne proda baš s 0 prijeđenih kilometara, moramo vidjeti kako\n",
    "tu vrijednost možemo promijeniti. Vrijednost atributa možete promijeniti na tri\n",
    "načina: možete promijeniti vrijednost izravno kroz instancu, postaviti\n",
    "vrijednost ili je računski promijeniti korištenjem metoda. Pogledajmo svaki od\n",
    "ovih pristupa."
   ]
  },
  {
   "cell_type": "markdown",
   "metadata": {},
   "source": [
    "### Izravno mijenjanje vrijednosti atributa  \n",
    "Najjednostavniji način izmjene vrijednosti atributa je pristup atributu izravno,\n",
    "putem instance. Postavimo novu vrijednost na varijablu *kilometara* na 23:"
   ]
  },
  {
   "cell_type": "code",
   "execution_count": null,
   "metadata": {},
   "outputs": [],
   "source": [
    "class Auto():\n",
    "    \"\"\"Jednostavan razred automobila.\"\"\"\n",
    "    def __init__(self, marka, model, godina):\n",
    "        \"\"\">Inicijalizacija atributa koji opisuju automobil.\"\"\"\n",
    "        self.marka = marka\n",
    "        self.model = model\n",
    "        self.godina = godina\n",
    "        self.kilometara = 0\n",
    "    def podaci(self):\n",
    "        \"\"\"Vraća objedinjenje podatke.\"\"\"\n",
    "        ime = str(self.godina) + ' ' + self.marka + ' ' + self.model\n",
    "        return ime.title()\n",
    "    def procitaj_kilometre(self):\n",
    "        \"\"\"Ispisuje stanje kilometara.\"\"\"\n",
    "        print(\"Automobil ima \" + str(self.kilometara) + \" prijeđenih kilometara.\")\n",
    "automobil = Auto('audi', 'a4', 2018)\n",
    "print(automobil.podaci())\n",
    "# dodjeljivanje vrijednosti direktno\n",
    "automobil.kilometara = 23\n",
    "automobil.procitaj_kilometre()"
   ]
  },
  {
   "cell_type": "markdown",
   "metadata": {},
   "source": [
    "Da bismo pristupili pojedinom atributu instance, koristimo točku. Python\n",
    "interpreter uzima instancu *automobil*, pronađe atribut *kilometara* i postavi\n",
    "vrijednost tog atributa na 23."
   ]
  },
  {
   "cell_type": "markdown",
   "metadata": {},
   "source": [
    "### Izmjena vrijednosti atributa uporabom metode\n",
    "Ponekad je jednostavnije imati metodu koja ažurira vrijednost nekog atributa.\n",
    "Umjesto izravnog pristupa atributu, dodajte novu vrijednost metodi koja interno\n",
    "upravlja ažuriranjem. Primjer koji prikazuje metodu pod nazivom\n",
    "*osvjezi_kilometre()*:"
   ]
  },
  {
   "cell_type": "code",
   "execution_count": null,
   "metadata": {},
   "outputs": [],
   "source": [
    "class Auto():\n",
    "    \"\"\"Jednostavan razred automobila.\"\"\"\n",
    "    def __init__(self, marka, model, godina):\n",
    "        \"\"\">Inicijalizacija atributa koji opisuju automobil.\"\"\"\n",
    "        self.marka = marka\n",
    "        self.model = model\n",
    "        self.godina = godina\n",
    "        self.kilometara = 0\n",
    "    def podaci(self):\n",
    "        \"\"\"Vraća objedinjenje podatke.\"\"\"\n",
    "        ime = str(self.godina) + ' ' + self.marka + ' ' + self.model\n",
    "        return ime.title()\n",
    "    def procitaj_kilometre(self):\n",
    "        \"\"\"Ispisuje stanje kilometara.\"\"\"\n",
    "        print(\"Automobil ima \" + str(self.kilometara) + \" prijeđenih kilometara.\")\n",
    "    def osvjezi_kilometre(self, kilometri):\n",
    "        \"\"\"Postavi kilometara na proslijeđenu vrijednost\"\"\"\n",
    "        self.kilometara = kilometri\n",
    "automobil = Auto('audi', 'a4', 2018)\n",
    "print(automobil.podaci())\n",
    "# dodjeljivanje vrijednosti putem metode\n",
    "automobil.osvjezi_kilometre(23)\n",
    "automobil.procitaj_kilometre()"
   ]
  },
  {
   "cell_type": "markdown",
   "metadata": {},
   "source": [
    "Jedina promjena u razredu *Auto* je dodavanje nove metode *osvjezi_kilometre()*.\n",
    "Metoda uzima vrijednost kilometraže i pohranjuje je u *self.kilometri*. Kada\n",
    "pozovemo metodu *osvjezi_kilometre()* i upišemo 23 kao argument, Python tu\n",
    "vrijednost dodjeljuje argumentu *kilometara*. Proširimo metodu\n",
    "*osvjezi_kilometre()* kako bismo dodali malo logike te provjerili je li nova\n",
    "vrijednost veća od već postojeće."
   ]
  },
  {
   "cell_type": "code",
   "execution_count": null,
   "metadata": {},
   "outputs": [],
   "source": [
    "class Auto():\n",
    "    \"\"\"Jednostavan razred automobila.\"\"\"\n",
    "    def __init__(self, marka, model, godina):\n",
    "        \"\"\">Inicijalizacija atributa koji opisuju automobil.\"\"\"\n",
    "        self.marka = marka\n",
    "        self.model = model\n",
    "        self.godina = godina\n",
    "        self.kilometara = 0\n",
    "    def podaci(self):\n",
    "        \"\"\"Vraća objedinjenje podatke.\"\"\"\n",
    "        ime = str(self.godina) + ' ' + self.marka + ' ' + self.model\n",
    "        return ime.title()\n",
    "    def procitaj_kilometre(self):\n",
    "        \"\"\"Ispisuje stanje kilometara.\"\"\"\n",
    "        print(\"Automobil ima \" + str(self.kilometara) + \" prijeđenih kilometara.\")\n",
    "    def osvjezi_kilometre(self, kilometri):\n",
    "        \"\"\"\n",
    "        Postavi kilometara na proslijeđenu vrijednost\n",
    "        Ne dozvoli vraćanje kilometara\n",
    "        \"\"\"\n",
    "        if kilometri >= self.kilometara:\n",
    "            self.kilometara = kilometri\n",
    "        else:\n",
    "            print('Ne možeš vraćati kilometre na automobilu')\n",
    "automobil = Auto('audi', 'a4', 2018)\n",
    "print(automobil.podaci())\n",
    "# dodjeljivanje vrijednosti putem metode\n",
    "automobil.osvjezi_kilometre(23)\n",
    "automobil.procitaj_kilometre()\n",
    "print('---------------')\n",
    "automobil.osvjezi_kilometre(20)"
   ]
  },
  {
   "cell_type": "markdown",
   "metadata": {},
   "source": [
    "Sada metoda *osvjezi_kilometre()* provjerava je li novi unos veći ili jednak\n",
    "postojećoj vrijednosti, te, ako je uvjet zadovoljen, upisuje novu vrijednost.\n",
    "Ako uvjet nije zadovoljen, prikazuje poruku o grešci."
   ]
  },
  {
   "cell_type": "markdown",
   "metadata": {},
   "source": [
    "### Povećanje vrijednosti atributa kroz metodu\n",
    "Ponekad želimo samo povećati vrijednost atributa za određeni iznos, umjesto da\n",
    "postavljamo potpuno novu vrijednost. Recimo da kupimo rabljeni automobil i\n",
    "želimo dodati 100 kilometara na postojeću vrijednost. Ova metoda će primiti\n",
    "iznos za koji treba povećati kilometražu i zapisati novu vrijednost u instanci."
   ]
  },
  {
   "cell_type": "code",
   "execution_count": null,
   "metadata": {},
   "outputs": [],
   "source": [
    "class Auto():\n",
    "    \"\"\"Jednostavan razred automobila.\"\"\"\n",
    "    def __init__(self, marka, model, godina):\n",
    "        \"\"\">Inicijalizacija atributa koji opisuju automobil.\"\"\"\n",
    "        self.marka = marka\n",
    "        self.model = model\n",
    "        self.godina = godina\n",
    "        self.kilometara = 0\n",
    "    def podaci(self):\n",
    "        \"\"\"Vraća objedinjenje podatke.\"\"\"\n",
    "        ime = str(self.godina) + ' ' + self.marka + ' ' + self.model\n",
    "        return ime.title()\n",
    "    def procitaj_kilometre(self):\n",
    "        \"\"\"Ispisuje stanje kilometara.\"\"\"\n",
    "        print(\"Automobil ima \" + str(self.kilometara) + \" prijeđenih kilometara.\")\n",
    "    def osvjezi_kilometre(self, kilometri):\n",
    "        \"\"\"\n",
    "        Postavi kilometara na proslijeđenu vrijednost\n",
    "        Ne dozvoli vraćanje kilometara\n",
    "        \"\"\"\n",
    "        if kilometri >= self.kilometara:\n",
    "            self.kilometara = kilometri\n",
    "        else:\n",
    "            print('Nemožeš vraćati kilometre na automobilu')\n",
    "    def povecaj_kilometre(self, kilometri):\n",
    "        \"\"\"Dodaj kilometre.\"\"\"\n",
    "        self.kilometara += kilometri\n",
    "automobil = Auto('audi', 'a4', 2018)\n",
    "print(automobil.podaci())\n",
    "# dodjeljivanje vrijednosti putem metode\n",
    "automobil.osvjezi_kilometre(23000)\n",
    "automobil.procitaj_kilometre()\n",
    "print('---------------')\n",
    "automobil.povecaj_kilometre(500)\n",
    "automobil.procitaj_kilometre()"
   ]
  },
  {
   "cell_type": "markdown",
   "metadata": {},
   "source": [
    "Nova metoda *povecaj_kilometre()* prihvaća broj kilometara i dodaje tu\n",
    "vrijednost u *self.kilometara*.  \n",
    "U objektno orijentiranoj paradigmi postoji pojam koji opisuje skrivanje atributa\n",
    "razreda, a naziva se učahurivanje ili enkapsulacija. Naime, svim atributima koji\n",
    "su dinamički stvoreni u razredu, možete pristupiti i izvan razreda koristeći\n",
    "operator točku. Međutim, postoji mogućnost da se atribut sakrije od programera,\n",
    "odnosno, da se ne može direktno pristupati atributima objekta, već isključivo\n",
    "preko getera ili setera. Ako atributu razreda ime počinje s dvije podvlake, \\__,\n",
    "tada će taj atribut biti nevidljiv izvan objekta i isključivo mu se može\n",
    "pristupiti unutar razreda. Takav atribut zove se privatni atribut. Ako ime\n",
    "atributa počinje s jednom podvlakom, tada je taj atribut i dalje nevidljiv izvan\n",
    "razreda, ali moguće ga je naslijediti. Takav atribut naziva se zaštićenim\n",
    "atributom. U nastavku slijedi više o pojmu nasljeđivanja.\n"
   ]
  },
  {
   "cell_type": "markdown",
   "metadata": {},
   "source": [
    "<br><div class=\"alert alert-info\"><b>Vježba</b></div></br>"
   ]
  },
  {
   "cell_type": "markdown",
   "metadata": {},
   "source": [
    "Kopirajte prethodni program i napravite provjeru tako da kod poziva metode\n",
    "*povecaj_kilometre()* ne možemo proslijediti negativnu vrijednost."
   ]
  },
  {
   "cell_type": "code",
   "execution_count": null,
   "metadata": {},
   "outputs": [],
   "source": []
  },
  {
   "cell_type": "markdown",
   "metadata": {},
   "source": [
    "<br><div class=\"alert alert-info\"><b>Kraj</b></div></br>"
   ]
  }
 ],
 "metadata": {
  "kernelspec": {
   "display_name": "Python 3",
   "language": "python",
   "name": "python3"
  },
  "language_info": {
   "codemirror_mode": {
    "name": "ipython",
    "version": 3
   },
   "file_extension": ".py",
   "mimetype": "text/x-python",
   "name": "python",
   "nbconvert_exporter": "python",
   "pygments_lexer": "ipython3",
   "version": "3.7.3"
  }
 },
 "nbformat": 4,
 "nbformat_minor": 2
}
