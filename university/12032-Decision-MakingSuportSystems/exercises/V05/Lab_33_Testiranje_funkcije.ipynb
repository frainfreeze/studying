{
 "cells": [
  {
   "cell_type": "markdown",
   "metadata": {},
   "source": [
    "<img src=\"Slike/vua.png\">"
   ]
  },
  {
   "cell_type": "markdown",
   "metadata": {},
   "source": [
    "# Testiranje funkcija\n",
    "Kada pišemo programe (funkcije, razrede), možemo napisati testove koji će\n",
    "testirati kôd. Testiranje pokazuje radi li kôd onako, kako bi trebao i\n",
    "odgovaraju li odgovori na sve vrste ulaznih parametara predviđenom ponašanju.\n",
    "Testovi pomažu da se osiguramo da će kôd ispravno funkcionirati kada ga počnu\n",
    "koristiti korisnici. Također olakšavaju da provjerimo funkcionalnosti nakon\n",
    "preinaka u programa. Svaki programer radi greške, tako da bi svaki programer\n",
    "trebao i testirati svoj kôd i otkrivati nedostatke, prije nego što korisnici\n",
    "naiđu na njih.\n",
    "\n",
    "Napravimo test na funkciji *ime_prezime()* koja formatira ime i prezime. Da bi\n",
    "kod bio čitljiviji, možemo sljedeći dio pospremiti u datoteku *ime_prezime.py* u\n",
    "mapi *Dan 5* pa ga koristiti kao modul."
   ]
  },
  {
   "cell_type": "code",
   "execution_count": null,
   "metadata": {},
   "outputs": [],
   "source": [
    "def ime_prezime(ime, prezime):\n",
    "    \"\"\"Formatira ime i prezime.\"\"\"\n",
    "    puno_ime = ime + ' ' + prezime\n",
    "    return puno_ime.title()"
   ]
  },
  {
   "cell_type": "markdown",
   "metadata": {},
   "source": [
    "Nakon što smo je spremili, napravimo program koji koristi tu funkciju."
   ]
  },
  {
   "cell_type": "code",
   "execution_count": null,
   "metadata": {},
   "outputs": [],
   "source": [
    "from ime_prezime import ime_prezime\n",
    "\n",
    "print(\"Upiši 'q' za izlaz.\")\n",
    "while True:\n",
    "    ime = input(\"\\nUnesi ime: \")\n",
    "    if ime == 'q':\n",
    "        break\n",
    "    prezime = input(\"Unesi prezime: \")\n",
    "    if prezime == 'q':\n",
    "        break\n",
    "    puno_ime = ime_prezime(ime, prezime)\n",
    "    print(\"\\tPuno ime: \" + puno_ime + '.')"
   ]
  },
  {
   "cell_type": "markdown",
   "metadata": {},
   "source": [
    "Program, očekivano, dobro radi. Prije nego napravimo promjenu na funkciji,\n",
    "pokušajmo napraviti test koji će proći. Za to koristimo modul *unittest*."
   ]
  },
  {
   "cell_type": "code",
   "execution_count": null,
   "metadata": {},
   "outputs": [],
   "source": [
    "import unittest\n",
    "from ime_prezime import ime_prezime\n",
    "class TestImena(unittest.TestCase):\n",
    "    \"\"\"Test za funkciju ime_prezime\"\"\"\n",
    "    def test_ime_prezime(self):\n",
    "        \"\"\"Vraća li ime kao što je 'Hrvoje Horvat' zadovoljavajući rezultat?\"\"\"\n",
    "        puno_ime = ime_prezime('hrvoje', 'horvat')\n",
    "        self.assertEqual(puno_ime, 'Hrvoje Horvat')\n",
    "unittest.main(argv=['first-arg-is-ignored'], exit=False)"
   ]
  },
  {
   "cell_type": "markdown",
   "metadata": {},
   "source": [
    "Prvo učitavamo modul *unittest* i funkciju koju želimo testirati\n",
    "*ime_prezime()*. Nakon toga kreiramo razred TestImena, koji će sadržavati niz\n",
    "testova za funkciju. Razred možemo nazvati kako želimo, ali najbolje je da ime\n",
    "bude povezano s funkcijom koju testiramo i da dodamo tekst Test u naziv. Ovaj\n",
    "razred nasljeđuje elemente iz razreda *unittest.TestCase* pa Python zna kako\n",
    "pokrenuti testove koje pišemo. Razred *TestImena* sadrži jednu metodu koja\n",
    "testira jedan aspekt funkcije *ime_prezime()* i nazvali smo je\n",
    "*test_ime_prezime()*, jer provjeravamo je li formatiranje dobro. Svaka metoda\n",
    "koja započinje s *test\\_* bit će automatski pokrenuta kada pokrenemo testiranje.\n",
    "Unutar ove metode testiranja, pozivamo funkciju koju želimo testirati i\n",
    "pohranimo povratnu vrijednost.\n",
    "\n",
    "U ovom primjeru pozivamo funkciju *ime_prezime()* s argumentima „hrvoje“ i\n",
    "„horvat“ i rezultat pohranjujemo u varijablu *puno_ime*. U sljedećoj liniji\n",
    "koristimo jednu od najznačajnijih metoda iz modula *unittest,* koja se zove\n",
    "*assert*. Metoda provjerava daje li funkcija očekivani izlaz za dane argumente.\n",
    "U ovom slučaju, budući da znamo da bi funkcija *ime_prezime()* trebala vratiti\n",
    "ime i prezime napisano velikim početnim slovima te jednim razmakom između njih,\n",
    "očekivani rezultat je „Hrvoje Horvat“. Kako bismo provjerili je li to tako,\n",
    "koristimo *unittest* metodu *assertEqual()* i prosljeđujemo varijablu *puno_ime*\n",
    "(rezultat koji je funkcija vratila) i tekst „Hrvoje Horvat“. Na kraju pozivamo\n",
    "*unittest.main()* koji pokreće testiranje. Kako ove vježbe radimo u okruženju\n",
    "Jupyter moramo dodati kao argumente *argv=['first-arg-is-ignored'], exit=False*.\n",
    "\n",
    "Sav posao smo napravili da bismo mogli provjeriti funkciju kada budemo radili\n",
    "neke promjene na njoj. Prisjetite se da smo u jednom trenutku odlučili dodati\n",
    "srednje ime u funkciju. Pokušajmo to napraviti. Otvorite datoteku\n",
    "*ime_prezime.py*, izbrišite postojeći sadržaj i zalijepite dolje navedeni. Nakon\n",
    "toga snimite promjene."
   ]
  },
  {
   "cell_type": "code",
   "execution_count": null,
   "metadata": {},
   "outputs": [],
   "source": [
    "def ime_prezime(ime, srednje, prezime):\n",
    "    \"\"\"Formatira ime i prezime.\"\"\"\n",
    "    puno_ime = ime + ' ' + srednje + ' ' + prezime\n",
    "    return puno_ime.title()"
   ]
  },
  {
   "cell_type": "markdown",
   "metadata": {},
   "source": [
    "Pokušajmo ponovno pokrenuti test. Prije pokretanja testa, u izborniku **Kernel**\n",
    "izaberite **Restart** da bi Python ponovno učitao modul."
   ]
  },
  {
   "cell_type": "code",
   "execution_count": null,
   "metadata": {},
   "outputs": [],
   "source": [
    "import unittest\n",
    "from ime_prezime import ime_prezime\n",
    "class TestImena(unittest.TestCase):\n",
    "    \"\"\"Test za funkciju ime_prezime\"\"\"\n",
    "    def test_ime_prezime(self):\n",
    "        \"\"\"Vraća li ime kao što je 'Hrvoje Horvat' zadovoljavajući rezultat?\"\"\"\n",
    "        puno_ime = ime_prezime('hrvoje', 'horvat')\n",
    "        self.assertEqual(puno_ime, 'Hrvoje Horvat')\n",
    "unittest.main(argv=['first-arg-is-ignored'], exit=False)"
   ]
  },
  {
   "cell_type": "markdown",
   "metadata": {},
   "source": [
    "Odgovor je sad nešto veći. U prvom retku imamo samo slovo **E** koje ukazuje da\n",
    "test nije dobro prošao. Nakon toga, imamo i naziv funkcije koja nije prošla, kao\n",
    "i komentar koji smo definirali u njoj. Kada imamo više pojedinačnih testova, ovo\n",
    "može biti jako korisno. Nakon toga vidimo standardni *Traceback* ispis greške i,\n",
    "na kraju, koliko testova je izvršeno i koliko su trajali. Sada kada znamo da se\n",
    "dogodila greška, znamo da moramo prepraviti funkciju i odrediti da srednje ime\n",
    "bude opcionalno. Kopirajmo sljedeći tekst u modul."
   ]
  },
  {
   "cell_type": "code",
   "execution_count": null,
   "metadata": {},
   "outputs": [],
   "source": [
    "def ime_prezime(ime, prezime, srednje=''):\n",
    "    \"\"\"Formatira ime i prezime.\"\"\"\n",
    "    if srednje:\n",
    "        puno_ime = ime + ' ' + srednje + ' ' + prezime\n",
    "    else:\n",
    "        puno_ime = ime + ' ' + prezime\n",
    "    return puno_ime.title()"
   ]
  },
  {
   "cell_type": "markdown",
   "metadata": {},
   "source": [
    "Prije pokretanja testa, u izborniku **Kernel** izaberite **Restart** da bi Python ponovno učitao modul i izvršimo test."
   ]
  },
  {
   "cell_type": "code",
   "execution_count": null,
   "metadata": {},
   "outputs": [],
   "source": [
    "import unittest\n",
    "from ime_prezime import ime_prezime\n",
    "class TestImena(unittest.TestCase):\n",
    "    \"\"\"Test za funkciju ime_prezime\"\"\"\n",
    "    def test_ime_prezime(self):\n",
    "        \"\"\"Vraća li ime kao što je 'Hrvoje Horvat' zadovoljavajući rezultat?\"\"\"\n",
    "        puno_ime = ime_prezime('hrvoje', 'horvat')\n",
    "        self.assertEqual(puno_ime, 'Hrvoje Horvat')\n",
    "unittest.main(argv=['first-arg-is-ignored'], exit=False)"
   ]
  },
  {
   "cell_type": "markdown",
   "metadata": {},
   "source": [
    "Sada još moramo dodati drugi test kako bismo provjerili ponaša li se funkcija\n",
    "dobro kada dobije i srednje ime. Dodajmo novu funkciju\n",
    "*test_ime_srednje_prezime()* i definirajmo slučaj sa srednjim imenom i\n",
    "očekivanim rezultatom."
   ]
  },
  {
   "cell_type": "code",
   "execution_count": null,
   "metadata": {},
   "outputs": [],
   "source": [
    "import unittest\n",
    "from ime_prezime import ime_prezime\n",
    "class TestImena(unittest.TestCase):\n",
    "    \"\"\"Test za funkciju ime_prezime\"\"\"\n",
    "    def test_ime_prezime(self):\n",
    "        \"\"\"Vraća li ime kao što je 'Hrvoje Horvat' zadovoljavajući rezultat?\"\"\"\n",
    "        puno_ime = ime_prezime('hrvoje', 'horvat')\n",
    "        self.assertEqual(puno_ime, 'Hrvoje Horvat')\n",
    "    def test_ime_srednje_prezime(self):\n",
    "        \"\"\"Vraća li ime kao što je 'Hrvoje Marko Horvat' zadovoljavajući rezultat?\"\"\"\n",
    "        puno_ime = ime_prezime('hrvoje', 'horvat', 'marko')\n",
    "        self.assertEqual(puno_ime, 'Hrvoje Marko Horvat')\n",
    "unittest.main(argv=['first-arg-is-ignored'], exit=False)"
   ]
  },
  {
   "cell_type": "markdown",
   "metadata": {},
   "source": [
    "<br><div class=\"alert alert-info\"><b>Vježba</b></div></br>"
   ]
  },
  {
   "cell_type": "markdown",
   "metadata": {},
   "source": [
    "Napišite funkciju koja prihvaća dva parametra: *ime_grada* i *naziv_zemlje*.  \n",
    "Funkcija trebala vratiti jedan niz oblika „Grad, Država“ kao na primjer „Zagreb, Hrvatska“.  \n",
    "Funkciju spremite u modul pod nazivom *funkcija_grad.py*.  \n",
    "Napišite program za testiranje funkcije (zapamtite da morate učitati modul *unittest* i funkciju koju želite testirati).  \n",
    "Napišite metodu *test_grad_drzava()* koja će provjeriti ispravnost funkcije."
   ]
  },
  {
   "cell_type": "code",
   "execution_count": null,
   "metadata": {},
   "outputs": [],
   "source": []
  },
  {
   "cell_type": "markdown",
   "metadata": {},
   "source": [
    "Izmijenite funkciju tako da zahtijeva treći parametar, broj stanovnika. Sada bi trebala vratiti jedan niz oblika „Grad, Država - broj stanovnika xxx“, kao što je „Zagreb, Hrvatska - broj stanovnika 1000000“.  \n",
    "Pokrenite test ponovo i provjerite prolazi li sada (ponovno pokrenite kernel svaki put kada mijenjate funkciju u dokumentu, jer će inače Python uzeti sadržaj iz memorije).  \n",
    "Modificirajte funkciju tako da broj stanovnika bude opcionalan.  \n",
    "Provjerite prolazi li sada test.  \n",
    "Napravite dodatni test koji provjerava i inačicu u kojoj funkciji prosljeđujemo i broj stanovnika."
   ]
  },
  {
   "cell_type": "code",
   "execution_count": null,
   "metadata": {},
   "outputs": [],
   "source": []
  },
  {
   "cell_type": "markdown",
   "metadata": {},
   "source": [
    "<br><div class=\"alert alert-info\"><b>Kraj</b></div></br>"
   ]
  }
 ],
 "metadata": {
  "kernelspec": {
   "display_name": "Python 3",
   "language": "python",
   "name": "python3"
  },
  "language_info": {
   "codemirror_mode": {
    "name": "ipython",
    "version": 3
   },
   "file_extension": ".py",
   "mimetype": "text/x-python",
   "name": "python",
   "nbconvert_exporter": "python",
   "pygments_lexer": "ipython3",
   "version": "3.7.3"
  }
 },
 "nbformat": 4,
 "nbformat_minor": 2
}
