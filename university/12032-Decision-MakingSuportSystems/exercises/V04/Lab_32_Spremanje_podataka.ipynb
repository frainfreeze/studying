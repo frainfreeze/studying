{
 "cells": [
  {
   "cell_type": "markdown",
   "metadata": {},
   "source": [
    "<img src=\"Slike/vua.png\">"
   ]
  },
  {
   "cell_type": "markdown",
   "metadata": {},
   "source": [
    "# Spremanje podataka\n",
    "Mnogi programi traže od korisnika unos određenih podataka ili mu omogućuju da\n",
    "pohrani neke postavke. Bez obzira na svrhu programa, najčešće ćemo pohranjivati\n",
    "podatke koji su strukturirani u listama i rječnicima. Kada program završava,\n",
    "gotovo uvijek želimo pospremiti podatke koji su uneseni da bismo ih kod idućeg\n",
    "pokretanja mogli koristiti. Jedan od danas najpopularnijih načina za pohranu je\n",
    "uporaba formata JSON koji je u Pythonu podržan kroz modul *json*.\n",
    "\n",
    "Modul *json* omogućuje u Python spremanje strukturiranih podataka u datoteke kao\n",
    "i učitavanje istih uz zadržavanje strukture. Također ga možemo koristiti za\n",
    "razmjenu podataka između različitih programa u Pythonu. Format podataka JSON\n",
    "(JavaScript Object Notation) nije specifičan za Python, tako da možemo dijeliti\n",
    "podatke spremljene u tom formatu s programima pisanim u drugim programskim\n",
    "jezicima.\n",
    "\n",
    "Napišimo kratak program koji pohranjuje listu brojeva i drugi program koji te\n",
    "brojeve učitava natrag u memoriju. Prvi program će koristiti funkciju\n",
    "*json.dump()* za pohranu liste brojeva, a drugi će koristiti funkciju\n",
    "*json.load()* za učitavanje. Funkcija *json.dump()* prihvaća dva argumenta:\n",
    "varijablu s podatcima i objekt datoteke u koju vršimo spremanja."
   ]
  },
  {
   "cell_type": "code",
   "execution_count": null,
   "metadata": {},
   "outputs": [],
   "source": [
    "import json\n",
    "\n",
    "brojevi = [2, 3, 5, 7, 11, 13]\n",
    "datoteka = 'brojevi.json'\n",
    "with open(datoteka, 'w') as file_obj:\n",
    "    json.dump(brojevi, file_obj)"
   ]
  },
  {
   "cell_type": "markdown",
   "metadata": {},
   "source": [
    "Najprije smo učitali modul *json* i kreirali listu brojeva s kojima ćemo raditi.\n",
    "Nakon toga smo definirali naziv datoteke u koju ćemo pospremiti listu brojeva.\n",
    "Uobičajeno je koristiti nastavak .json da bismo naznačili da su podatci\n",
    "pohranjeni u formatu JSON. Tada otvaramo datoteku u načinu rada koji dozvoljava\n",
    "pisanje i funkcijom *json.dump()* pohranjujemo listu brojeva datoteku. Ovaj\n",
    "program ništa ne ispisuje, ali možemo otvoriti datoteku brojevi.json i\n",
    "provjeriti postoji li u njoj naša lista. Podatci su pohranjeni u formatu koji\n",
    "izgleda isto kao i u Pythonu.\n",
    "\n",
    "Napišimo program koji će učitati te podatke korištenjem funkcije *json.load()*\n",
    "da bismo vratili listu u memoriju."
   ]
  },
  {
   "cell_type": "code",
   "execution_count": null,
   "metadata": {},
   "outputs": [],
   "source": [
    "import json\n",
    "\n",
    "datoteka = 'brojevi.json'\n",
    "with open(datoteka) as file_obj:\n",
    "    brojevi = json.load(file_obj)\n",
    "print(brojevi)"
   ]
  },
  {
   "cell_type": "markdown",
   "metadata": {},
   "source": [
    "Ponovno prvo učitavamo modul *json* i definiramo naziv datoteke iz koje čitamo\n",
    "podatke. Kod otvaranja datoteke ne moramo prosljeđivati drugi parametar funkciji\n",
    "*open()* jer samo čitamo podatke. Zatim koristimo funkciju *json.load()* i\n",
    "učitavamo podatke pohranjene u brojevi.json i spremamo ih u varijablu *brojevi*.\n",
    "Na kraju samo ispisujemo sadržaj varijable *brojevi*.\n",
    "\n",
    "Napravimo program koji će pisati i čitati iz datoteke imena korisnika koji su se\n",
    "prijavili na neki sustav."
   ]
  },
  {
   "cell_type": "code",
   "execution_count": null,
   "metadata": {},
   "outputs": [],
   "source": [
    "import json\n",
    "\n",
    "datoteka = 'korisnici.json'\n",
    "korisnik = input(\"Upiši svoje korisničko ime: \")\n",
    "try:\n",
    "    with open(datoteka) as f_obj:\n",
    "        korisnici = json.load(f_obj)\n",
    "except FileNotFoundError:\n",
    "    with open(datoteka, 'w') as f_obj:\n",
    "        korisnik_list = []\n",
    "        korisnik_list.append(korisnik)\n",
    "        json.dump(korisnik_list, f_obj)\n",
    "        print(\"Zapamtit ćemo te!\")\n",
    "else:\n",
    "    if korisnik in korisnici:\n",
    "        print(\"Dobrodošao, \" + korisnik + \"!\")\n",
    "    else:\n",
    "        with open(datoteka, 'w') as f_obj:\n",
    "            korisnici.append(korisnik)\n",
    "            json.dump(korisnici, f_obj)\n",
    "            print(\"Zapamtit ćemo te!\")"
   ]
  },
  {
   "cell_type": "markdown",
   "metadata": {},
   "source": [
    "Prvo učitavamo modul *json* i definiramo naziv datoteke. Nakon toga od korisnika\n",
    "tražimo da unese korisničko ime. Kako ne znamo postoji li već datoteka ili ne\n",
    "koristimo blok *try* u koji učitavamo datoteku. Ako datoteka ne postoji,\n",
    "kreiramo novu listu i u nju spremamo uneseno korisničko ime, te sve to pohranimo\n",
    "u novu datoteku. Ako pak datoteka postoji, učitavamo u listu podatke iz datoteke\n",
    "i provjeravamo postoji li već uneseni korisnik . Ako postoji, ispisujemo poruku\n",
    "o dobrodošlici, a ako ne, na postojeću listu dodajemo novog korisnika i sve to\n",
    "zapisujemo u dokument."
   ]
  },
  {
   "cell_type": "markdown",
   "metadata": {},
   "source": [
    "<br><div class=\"alert alert-info\"><b>Vježba</b></div>"
   ]
  },
  {
   "cell_type": "markdown",
   "metadata": {},
   "source": [
    "Napišite program koji traži da korisnik upiše neki broj.  \n",
    "Koristite json.dump() i spremite broj u datoteku.  \n",
    "Napišite poseban program koji čita vrijednost iz datoteke i ispisuje poruku: „Zapisani broj je X.\""
   ]
  },
  {
   "cell_type": "code",
   "execution_count": null,
   "metadata": {},
   "outputs": [],
   "source": [
    "#prvi program\n"
   ]
  },
  {
   "cell_type": "code",
   "execution_count": null,
   "metadata": {},
   "outputs": [],
   "source": [
    "#drugi program"
   ]
  },
  {
   "cell_type": "markdown",
   "metadata": {},
   "source": [
    "Napišite program u kojem od korisnika tražite da upiše korisničko ime i zaporku.  \n",
    "Provjerite postoji li već taj korisnik i, ako postoji, provjerite je li mu zaporka ispravna.  \n",
    "Ako korisnik postoji i zaporka mu je ispravna, ispišite poruku: „Dobro došao, ime_korisnika!\"  \n",
    "Ako korisnik postoji, a zaporka je neispravna ispišite poruku „Zaporka nije dobra, pokušaj ponovo.\"  \n",
    "Ako se korisnik prvi put prijavljuje, zapišite u datoteku novo korisničko ime i zaporku i ispišite poruku „Korisnički račun kreiran.\"  \n",
    "Pokrenite program više puta i iskušajte sve varijante unosa te provjerite da sve radi kako je definirano zadatkom.\n"
   ]
  },
  {
   "cell_type": "code",
   "execution_count": null,
   "metadata": {},
   "outputs": [],
   "source": []
  },
  {
   "cell_type": "markdown",
   "metadata": {},
   "source": [
    "<br><div class=\"alert alert-info\"><b>Kraj</b></div></br>"
   ]
  }
 ],
 "metadata": {
  "kernelspec": {
   "display_name": "Python 3",
   "language": "python",
   "name": "python3"
  },
  "language_info": {
   "codemirror_mode": {
    "name": "ipython",
    "version": 3
   },
   "file_extension": ".py",
   "mimetype": "text/x-python",
   "name": "python",
   "nbconvert_exporter": "python",
   "pygments_lexer": "ipython3",
   "version": "3.7.3"
  }
 },
 "nbformat": 4,
 "nbformat_minor": 2
}
