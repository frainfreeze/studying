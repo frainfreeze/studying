{
 "cells": [
  {
   "cell_type": "markdown",
   "metadata": {},
   "source": [
    "<img src=\"vua.png\">"
   ]
  },
  {
   "cell_type": "markdown",
   "metadata": {},
   "source": [
    "# Stabla odlučivanja\n",
    "\n",
    "## 1. Priprema podataka\n",
    "\n",
    "Stabla odlučivanja su jedan od najjednostavnijih i najintuitivnijih modela strojnog učenja. U ovom notebooku ćemo vas upoznati sa njihovim funkcioniranjem na primjeru podataka s neke fiktivne web stranice za online kupovinu.\n",
    "\n",
    "Naučit ćete korak po korak kako izgleda Python programski kod, i bit će nam drago da vam ovo ujedno bude poticaj za učenje Pythona koji je u današnjem svijetu iznimno koristan.\n",
    "\n",
    "Prvo ćemo učitati podatke. Da biste to napravili, kliknete na sljedeću ćeliju (gdje piše \"**In[   ]**\"), i stisnete *Shift+Enter(Return)*. Pričekajte dok piše \"**In[\\*]**\" i dok ne vidite \"**In[1]**\", tada je izračun gotov. Kao rezultat biste trebali dobiti prvih pet redaka tablice."
   ]
  },
  {
   "cell_type": "code",
   "execution_count": null,
   "metadata": {},
   "outputs": [],
   "source": [
    "import pandas as pd\n",
    "podatci = pd.read_csv(\"algebra.csv\")\n",
    "podatci.head()"
   ]
  },
  {
   "cell_type": "markdown",
   "metadata": {},
   "source": [
    "**Zadatak 1:** Vidimo da ova kratka skripta (odnosno program, ili aplikacija) izlistava prvih pet redaka iz tablice \"algebra.csv\". U donjoj ćeliji pokušajte doraditi skriptu da izlistava prvih deset redaka:"
   ]
  },
  {
   "cell_type": "code",
   "execution_count": null,
   "metadata": {},
   "outputs": [],
   "source": [
    "podatci.head(5)#modificirajte ovu liniju da dobijete 10 redaka"
   ]
  },
  {
   "cell_type": "markdown",
   "metadata": {
    "collapsed": true
   },
   "source": [
    "## 2. Ideja iza klasifikatora\n",
    "\n",
    "Stablo odlučivanja je konceptualno najjednostavniji algoritam strojnog učenja, pa ćemo na njemu pokazati kako funkcionira strojno učenje. \n",
    "\n",
    "Algoritmi za strojno učenje se mogu ugrubo podijeliti na *klasifikacijske* algoritme i algoritme za *clustering*. Stablo odlučivanja je klasifikacijski algoritam.\n",
    "\n",
    "Klasifikacija općenito funkcionira ovako. Jedan stupac iz tablice s podatcima proglasimo **ciljnom** varijablom. U našem slučaju je to *end_result* stupac, ali to može biti bilo koji drugi stupac koji nas zanima (odnosno za kojeg želimo saznati kako ga vrijednosti u ostalim stupcima *predviđaju*)\n",
    "\n",
    "Dignimo prva tri stupca naše tablice (stisnite *Shift+Enter* na sljedećoj ćeliji):"
   ]
  },
  {
   "cell_type": "code",
   "execution_count": null,
   "metadata": {},
   "outputs": [],
   "source": [
    "podatci.head(3)"
   ]
  },
  {
   "cell_type": "markdown",
   "metadata": {},
   "source": [
    "Značenje stupca *end_result* je sljedeći:\n",
    "* Vrijednost 0 znači \"napuštena košarica\"\n",
    "* Vrijednost 1 znači \"nedovršeno plaćanje\"\n",
    "* Vrijednost 2 znači \"kartica odbijena prilikom plaćanja\"\n",
    "* Vrijednost 3 znači \"uspješno plaćanje\"\n",
    "\n",
    "Zamislimo za sada da su imamo samo ova tri retka. Ako nam ciljna varijabla *end_result*, onda znači da mi želimo predvidjeti vrijednost *end_result* temeljem drugih stupaca. Na primjer, ako želimo predvidjeti tko je napustio košaricu, vidimo da vrijedi na ova tri retka \"Ako **gender = m**, onda **end_result = 2**\".\n",
    "\n",
    "**gender = m** se naziva *prediktorom* za ciljnu varijablu **end_result** (odnosno za prepoznavanje kada je **end_result = 2**). Uočimo da je **gender = m** prediktor, dok se samo **gender** naziva *svojstvo* odnosno *feature* \n",
    "\n",
    "Prediktora može biti više, i na ovom primjeru vidimo da ih ima još:\n",
    "\n",
    "* **gender = m**\n",
    "* **age < 28** (iako je ovdje moglo biti i 24, 25, 26,...,32, ali smo odabrali 28 jer je na sredini)\n",
    "* **item_id > 250** (iako opet, može biti bilo koja vrijednost koja ih razdvaja)\n",
    "* Možete li naći jos neki? (hint: cijena)\n",
    "\n",
    "Uočimo također da prediktori mogu biti složeni. Na primjer, dobro funkcionira i prediktor **prev_purchases_in_usd = 0 AND uses_whishlist = 1**. Ovaj prediktor isto upućuje na **end_result = 2**.\n",
    "\n",
    "Učitajmo sljedeći redak tablice:"
   ]
  },
  {
   "cell_type": "code",
   "execution_count": null,
   "metadata": {},
   "outputs": [],
   "source": [
    "podatci.head(4)"
   ]
  },
  {
   "cell_type": "markdown",
   "metadata": {},
   "source": [
    "Sada više nisu dobri prediktori **gender = m**, **age < 28**, **item_id > 0**, kao ni naš složeni prediktor. Prediktor temeljen na cijeni još uvijek radi. Učitajmo još jedan redak tablice:\n"
   ]
  },
  {
   "cell_type": "code",
   "execution_count": null,
   "metadata": {},
   "outputs": [],
   "source": [
    "podatci.head(5)"
   ]
  },
  {
   "cell_type": "markdown",
   "metadata": {},
   "source": [
    "U teoriji bismo mogli ručno konstruirati prediktore tako da hvatamo točne slučajeve. Na primjer, **price < 20 AND price > 95**, ili još \"sigurnije\" bismo uzeli **customer_id = 1001 OR customer_id = 1922 OR customer_id = 1004**. Ovime bismo išli u totalno krivom smjeru. \n",
    "\n",
    "Mi želimo stvoriti alat koji će nam predvidjeti za buduće kupce hoće li odustati ili ne, a metoda pobrojavanja po **customer_id** (znači fokus samo na ovaj stupac bez razmišljanja o drugim featurima) tko je napustio do sada nam u tome sigurno neće pomoći da bismo pridobili klijenta **customer_id = 5555**, ali ni za zadržati klijenta **customer_id = 0003**.\n",
    "\n",
    "\n",
    "## 3. Klasifikacija\n",
    "\n",
    "Mi želimo iz podataka \"naučiti\" kombinaciju svojstava koju dijele klijente koji su odustali od ostalih, i onda temeljem te kombinacije probati vidijeti u čemu nam je problem, ali i predvidjeti hoće li kupac 5555 imati isti problem, i time moći preventivno djelovati na njegovu retenciju. Retencija je u praksi najčešće otklanjanje poteskoća klijentima, jer je glavni razlog odlaska (na koji možemo djelovati), neki problem na našem sustavu. Naravno postoje i drugi razlozi, ali oni su (a) bitno teži za naći, i (b) bitno je teže na njih djelovati.\n",
    "\n",
    "Drugi aspekt ovakve analize je vidjeti gdje ima mjesta za akviziciju. Akvizicija je u jednu ruku jednostavnija, a u jednu kompleksnija.\n",
    "\n",
    "Jednostavnija je u tu ruku da je potrebno naći najbolji prediktor za **end_result = 3**, i analizirati rezultate. Uz malo sreće, među najboljim rezultatima ćemo imati vrijedne spoznaje, npr. **age > 25 AND age < 40 AND gender = f**, čime onda možemo raditi vrlo dobre ciljane kampanje.\n",
    "\n",
    "Kompleksnija pak u tome da se akvizicija može gledati i na način da se radi *cross-selling*, odnosno da, ako smo naučili iz naših podataka da klijenti koji kupe bilo koju knjigu za preko 70 USD najčešće kupe i artikl 258, onda svakom tko stavi u košaricu knjigu u vrijednosti preko 70 USD želimo ponuditi i artikl 258 (možda sa popustom).\n",
    "\n",
    "\n",
    "## 4. Stabla odlučivanja\n",
    "\n",
    "Stabla odlučivanja biraju feature i kombiniraju ih tako da se dobije određeni redoslijed njihove primjene. Glavni trik je u tome da se mjeri koji featurei daju najbolju diskriminaciju, i oni se uzimaju prvi. Dobar primjer je predviđanje tko je (i tko bi) preživio na _Titanicu_ (posuđujemo sliku s Wikipedije)\n",
    "\n",
    "<img src=\"dt.png\">\n",
    "\n",
    "Brojevi ispod elemenata slike označavaju vjerojatnost preživljavanja (decimalni brojevi oblika 0.34), i postotak sveukupnih slučajeva koji se nalaze u toj kategoriji (koji, radi zaokruživanja su u zbroju 101%, ali ovo nije važno sad). Vjerojatnost preživljavanja iznad 0.5 se smatra kategorijom \"survived\", a ispod 0.5 se smatra kategorijom \"died\" (ova tehnika gdje se brojevna skala podijeli na dvije kategorije prije i nakon neke granice se naziva \"thresholding\").\n",
    "\n",
    "Znači, ako je osoba ženskog spola, njena vjerojatnost za preživljavanje je 0.73 (73%). Ako je muškog spola i stariji od 9.5 godina, onda je vjerojatno umro (vjerojatnost za preživljavanje 0.17, odnosno 17%). Najbolju šansu za preživljavanje su imale muške osobe mlađe od 9.5 godina koje imaju manje od 2.5 braće i sestara (0.89, odnosno 89% šanse, premda ih je bilo jako malo, odnosno 2% od sveukupne populacije). Ovih 2% znači da je bilo dosta malo uzoraka s ovim prediktorom (**sex = m AND age < 9.5 AND sibsp < 2.5**), što znači da možda ova klasifikacija nije najpouzdanija, odnosno da je možda preovisna o slučajnostima.\n",
    "\n",
    "Klasifikacija na temelju spola daje 0.73 šanse za preživljavanje, ali ovo ima sposobnost na jednostavan način (uz samo feature **sex**) uhvatiti 36% sveukupnih podataka. U izvjesnom smislu, to je najjači feature i najstabilniji (što prati i zdravorazumsku intuiciju). \n",
    "\n",
    "Ovo je temelj funkcioniranja stabala odlučivanja: stablo odlučivanja pokušava naći redoslijed tako da prvo razgraničava po najjačem featureu, a zatim po sve slabijim. \n",
    "\n",
    "To **ne** znači da je najjači feature onaj koji daje najveće šanse za preživljavanje (odnosno najveću razliku oko *thresholdinga*), jer to nije više bitno, ono što je bitno je li iznad 0.5, pa dobije oznaku \"PREŽIVLJAVA\" ili ispod, pa dobije oznaku \"UMIRE\". \n",
    "\n",
    "Najjači feature je onaj koji najbolje dijeli uzorke, znači u našem slučaju 36% vs 64%. Detalji kako stablo točno računa kojim će redom ići su kompleksni (i upravo zato i koristimo algoritam a ne radimo ovo ručno), ali ovo opisano je intuicija iza toga.\n",
    "\n",
    "Sada smo spremni dignuti stablo odlučivanja nad našim podatcima. Sljedećih nekoliko ćelija treba izvršiti sa Shift+Enter, a ispod njih dajemo objašnjenja."
   ]
  },
  {
   "cell_type": "code",
   "execution_count": null,
   "metadata": {},
   "outputs": [],
   "source": [
    "import pandas as pd\n",
    "from sklearn import tree"
   ]
  },
  {
   "cell_type": "markdown",
   "metadata": {},
   "source": [
    "Kratak komentar:\n",
    "\n",
    "* Prvi redak služi za učitavanje dodatnog modula \"Pandas\" koji služi kao tablica (slično Excelu),\n",
    "* Drugi redak učitava dodatni Python modul (sklearn) za njegov podmodul (tree) za stabla odlučivanja,\n",
    "\n",
    "Sljedeći korak je da učitamo podatke (Shift+Enter na donju ćeliju):"
   ]
  },
  {
   "cell_type": "code",
   "execution_count": null,
   "metadata": {},
   "outputs": [],
   "source": [
    "podatci_2 = pd.read_csv(\"algebra_s.csv\")"
   ]
  },
  {
   "cell_type": "markdown",
   "metadata": {},
   "source": [
    "**Napomena:** ovo nije ista tablica kao gornja, nego je reduciran broj stupaca (retci su isti). Izvršite donju ćeliju da vidite prvih par redaka:"
   ]
  },
  {
   "cell_type": "code",
   "execution_count": null,
   "metadata": {},
   "outputs": [],
   "source": [
    "podatci_2.head()"
   ]
  },
  {
   "cell_type": "markdown",
   "metadata": {},
   "source": [
    "Stupac **customer_id** nam više ne treba, pa ćemo stvoriti tablicu bez njega:"
   ]
  },
  {
   "cell_type": "code",
   "execution_count": null,
   "metadata": {},
   "outputs": [],
   "source": [
    "podatci_3 = podatci_2[[\"age\",\"price\",\"end_result\"]]\n",
    "podatci_3.head()#ovaj redak je da provjerimo jesmo li dobro napravili"
   ]
  },
  {
   "cell_type": "markdown",
   "metadata": {},
   "source": [
    "Sljedeći je korak podijeliti podatke u dvije tablice, jednu koja ima feature, a druga ima **end_result** u sebi (ovo radimo zato što SKlearn tako želi primati podatke):"
   ]
  },
  {
   "cell_type": "code",
   "execution_count": null,
   "metadata": {},
   "outputs": [],
   "source": [
    "svojstva = podatci_3[[\"age\",\"price\"]]\n",
    "svojstva.head()"
   ]
  },
  {
   "cell_type": "code",
   "execution_count": null,
   "metadata": {},
   "outputs": [],
   "source": [
    "rezultati = podatci_3[[\"end_result\"]]\n",
    "rezultati.head()"
   ]
  },
  {
   "cell_type": "markdown",
   "metadata": {},
   "source": [
    "Prisjetimo se da \"head\" znači da se ispiše prvih nekoliko rezultata (default=5, ako se želi neka druga vrijednost, treba se napisati u zagrade), a ako želimo vidjeti cijelu tablicu samo napisemo \"rezultati\" umjesto \"rezultati.head()\"."
   ]
  },
  {
   "cell_type": "code",
   "execution_count": null,
   "metadata": {},
   "outputs": [],
   "source": [
    "stablo = tree.DecisionTreeClassifier()\n",
    "Breza = stablo.fit(svojstva, rezultati)"
   ]
  },
  {
   "cell_type": "code",
   "execution_count": null,
   "metadata": {},
   "outputs": [],
   "source": [
    "Breza"
   ]
  },
  {
   "cell_type": "markdown",
   "metadata": {},
   "source": [
    "Prvi redak u ćeliji iznad stvara novo prazno stablo iz SKlearn modula, a drugi redak ga utrenira nad podatcima iz CSV tablice koju smo istraživali. Sad je stablo utrenirano i živi u sustavu pod imenom \"Breza\" i spremno je za klasificiranje novih podataka.\n",
    "\n",
    "Zamislimo da sada dobijemo tablicu klijenata koji su upravo na stranici i kupuju, i to je tablica \"to_classify.csv\". Učitajmo tu tablicu (Shift+Enter na donju ćeliju)"
   ]
  },
  {
   "cell_type": "code",
   "execution_count": null,
   "metadata": {},
   "outputs": [],
   "source": [
    "klijenti_na_stranici = pd.read_csv(\"to_classify.csv\") #ovo ispisuje tablicu\n",
    "klijenti_na_stranici"
   ]
  },
  {
   "cell_type": "markdown",
   "metadata": {},
   "source": [
    "Sada upogonimo Brezu nad ovim  podatcima:"
   ]
  },
  {
   "cell_type": "code",
   "execution_count": null,
   "metadata": {},
   "outputs": [],
   "source": [
    "pred = Breza.predict(klijenti_na_stranici[[\"age\",\"price\"]])\n",
    "pred"
   ]
  },
  {
   "cell_type": "markdown",
   "metadata": {},
   "source": [
    "Na ovaj je način Breza ispisala što će svaki od klijenata najvjerojatnije napraviti. Prisjetimo se:\n",
    "\n",
    "* Vrijednost 0 znači \"napuštena košarica\"\n",
    "* Vrijednost 1 znači \"nedovršeno plaćanje\"\n",
    "* Vrijednost 2 znači \"kartica odbijena prilikom plaćanja\"\n",
    "* Vrijednost 3 znači \"Uspješno plaćanje\"\n",
    "\n",
    "Možemo ove podatke dodati u tablicu u novi stupac **expected_action**:"
   ]
  },
  {
   "cell_type": "code",
   "execution_count": null,
   "metadata": {},
   "outputs": [],
   "source": [
    "klijenti_na_stranici['expected_action'] = pred\n",
    "klijenti_na_stranici\n"
   ]
  },
  {
   "cell_type": "markdown",
   "metadata": {},
   "source": [
    "## Analiza"
   ]
  },
  {
   "cell_type": "code",
   "execution_count": null,
   "metadata": {},
   "outputs": [],
   "source": [
    "#učitamo biblioteke\n",
    "import pandas as pd\n",
    "from IPython.display import Image\n",
    "from IPython.display import SVG, display\n",
    "from sklearn import tree\n",
    "import pydotplus\n",
    "import numpy as np\n",
    "\n",
    "#učitamo dokument\n",
    "data = pd.read_csv(\"algebra_s.csv\")\n",
    "\n",
    "#razdvojimo dataframe na prediktore i ciljnu varijablu\n",
    "svojstva = data[[\"age\",\"price\"]]\n",
    "rezultati = data[[\"end_result\"]]\n",
    "\n",
    "#Izradimo novo stablo odlučivanja te treniramo model na podacima koje smo učitali\n",
    "stablo = tree.DecisionTreeClassifier()\n",
    "stablo = stablo.fit(svojstva, rezultati)\n",
    "\n",
    "#Prikaz stabla odlučivanja\n",
    "dot_data = tree.export_graphviz(stablo, \n",
    "    out_file='test.dot',\n",
    "    feature_names=[\"age\",\"price\"],\n",
    "    class_names=[\"0\", \"1\", \"2\", \"3\"],\n",
    "    filled=True, \n",
    "    rounded=True,\n",
    "    special_characters=True)\n",
    "\n",
    "graph = pydotplus.graphviz.graph_from_dot_file(\"test.dot\")\n",
    "svg_string = graph.create_svg()\n",
    "f = open('test.svg', 'wb')\n",
    "f.write(svg_string)\n",
    "f.close()\n",
    "#Image(svg_string)\n",
    "display(SVG(('test.svg')))"
   ]
  },
  {
   "cell_type": "code",
   "execution_count": null,
   "metadata": {},
   "outputs": [],
   "source": [
    "rezultati.head()"
   ]
  },
  {
   "cell_type": "code",
   "execution_count": null,
   "metadata": {},
   "outputs": [],
   "source": [
    "rezultati['result'] = np.where(rezultati['end_result'] < 3, 0, 1)"
   ]
  },
  {
   "cell_type": "code",
   "execution_count": null,
   "metadata": {},
   "outputs": [],
   "source": [
    "#Izradimo novo stablo odlučivanja te treniramo model na podacima koje smo učitali\n",
    "stablo = tree.DecisionTreeClassifier()\n",
    "stablo = stablo.fit(svojstva, rezultati)\n",
    "\n",
    "#Prikaz stabla odlučivanja\n",
    "dot_data = tree.export_graphviz(stablo, \n",
    "    out_file='test.dot',\n",
    "    feature_names=[\"age\",\"price\"],\n",
    "    class_names=[\"0\", \"1\"],\n",
    "    filled=True, \n",
    "    rounded=True,\n",
    "    special_characters=True)\n",
    "\n",
    "graph = pydotplus.graphviz.graph_from_dot_file(\"test.dot\")\n",
    "svg_string = graph.create_svg()\n",
    "f = open('test.svg', 'wb')\n",
    "f.write(svg_string)\n",
    "f.close()\n",
    "#Image(svg_string)\n",
    "display(SVG(('test.svg')))"
   ]
  },
  {
   "cell_type": "markdown",
   "metadata": {},
   "source": [
    "Napravimo sad model sa svim varijablama"
   ]
  },
  {
   "cell_type": "code",
   "execution_count": null,
   "metadata": {},
   "outputs": [],
   "source": [
    "import pandas as pd\n",
    "from sklearn.datasets import load_iris\n",
    "from IPython.display import Image \n",
    "from sklearn import tree\n",
    "import pydotplus\n",
    "\n",
    "data = pd.read_csv(\"algebra.csv\")\n",
    "\n",
    "cat = {'tech': 1, 'book': 2, 'office': 3}\n",
    "data[\"category\"] = data[\"category\"].map(cat)\n",
    "\n",
    "gan = {'f': 0, 'm': 1}\n",
    "data[\"gender\"] = data[\"gender\"].map(gan)\n",
    "\n",
    "svojstva = data[[\"age\",\"prev_purchases_in_usd\",\"gender\",\"uses_whishlist\",\"price\",\"category\"]]\n",
    "rezultati = data[[\"end_result\"]]\n",
    "\n",
    "stablo = tree.DecisionTreeClassifier()\n",
    "stablo = stablo.fit(svojstva, rezultati)\n",
    "\n",
    "#Prikaz stabla odlučivanja\n",
    "dot_data = tree.export_graphviz(stablo, \n",
    "    out_file='test.dot',\n",
    "    feature_names=[\"age\",\"prev_purchases_in_usd\",\"gender\",\"uses_whishlist\",\"price\",\"category\"],\n",
    "    class_names=[\"0\", \"1\", \"2\", \"3\"],\n",
    "    filled=True, \n",
    "    rounded=True,\n",
    "    special_characters=True)\n",
    "\n",
    "\n",
    "graph = pydotplus.graphviz.graph_from_dot_file(\"test.dot\")\n",
    "svg_string = graph.create_svg()\n",
    "f = open('test.svg', 'wb')\n",
    "f.write(svg_string)\n",
    "f.close()\n",
    "#Image(svg_string)\n",
    "display(SVG('test.svg'))"
   ]
  },
  {
   "cell_type": "markdown",
   "metadata": {},
   "source": [
    "<br>\n",
    "<div class=\"alert alert-info\">\n",
    "<b>Zadatak 1</b>\n",
    "</div>\n",
    "\n",
    "Napravite model korištenjem svih varijabli ali za ciljnu definirajte samo da li je uspješno plačeno ili ne.  \n",
    "Model na kraju snimite na disk s imenom *model.sav*"
   ]
  },
  {
   "cell_type": "code",
   "execution_count": null,
   "metadata": {},
   "outputs": [],
   "source": [
    "# ovdje upišite kôd koji rješava zadatak\n",
    "\n"
   ]
  },
  {
   "cell_type": "code",
   "execution_count": null,
   "metadata": {},
   "outputs": [],
   "source": [
    "<br>\n",
    "<div class=\"alert alert-info\">\n",
    "<b>Kraj zadatka 1</b>\n",
    "</div>"
   ]
  },
  {
   "cell_type": "code",
   "execution_count": null,
   "metadata": {},
   "outputs": [],
   "source": []
  }
 ],
 "metadata": {
  "anaconda-cloud": {},
  "kernelspec": {
   "display_name": "Python 3",
   "language": "python",
   "name": "python3"
  },
  "language_info": {
   "codemirror_mode": {
    "name": "ipython",
    "version": 3
   },
   "file_extension": ".py",
   "mimetype": "text/x-python",
   "name": "python",
   "nbconvert_exporter": "python",
   "pygments_lexer": "ipython3",
   "version": "3.7.3"
  }
 },
 "nbformat": 4,
 "nbformat_minor": 1
}
