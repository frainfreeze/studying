{
 "cells": [
  {
   "cell_type": "markdown",
   "metadata": {},
   "source": [
    "<img src=\"Slike/vua.png\">"
   ]
  },
  {
   "cell_type": "markdown",
   "metadata": {},
   "source": [
    "# Ugnježđivanje\n",
    "Iako smo pojam ugnježđivanja i dosad koristili u kontekstu funkcija, vrijeme je\n",
    "da se detaljnije upoznamo s njime. Svaki put kada smo kao argument neke funkcije\n",
    "upisali drugu funkciju umjesto vrijednosti, radili smo ugnježđivanje. Kada\n",
    "želimo spremiti više rječnika u neku listu ili više lista u neki rječnik, radimo\n",
    "ugnježđivanje. Ugnježđivanje je moćan alat koji nam omogućuje bolju organizaciju\n",
    "podataka. Upoznajmo se prvo s ugnježđivanjem rječnika u listu. Vratimo se našem\n",
    "primjeru rječnika s automobilima."
   ]
  },
  {
   "cell_type": "code",
   "execution_count": null,
   "metadata": {},
   "outputs": [],
   "source": [
    "auto = {'proizvođač':'bmw', 'boja':'crvena', 'broj vrata':5}"
   ]
  },
  {
   "cell_type": "markdown",
   "metadata": {},
   "source": [
    "Rječnik *auto* sadržava informacije o jednom automobilu. Ako želimo imati\n",
    "informacije o više automobila, moramo definirati više rječnika. Sve te rječnike\n",
    "možemo pospremiti u listu *auti*."
   ]
  },
  {
   "cell_type": "code",
   "execution_count": null,
   "metadata": {},
   "outputs": [],
   "source": [
    "auto_1 = {'proizvođač':'bmw', 'boja':'crvena', 'broj vrata':5}\n",
    "auto_2 = {'proizvođač':'bmw', 'boja':'zelena', 'broj vrata':2}\n",
    "auto_3 = {'proizvođač':'audi', 'boja':'crna', 'broj vrata':3}\n",
    "\n",
    "auti = [auto_1, auto_2, auto_3]\n",
    "\n",
    "for auto in auti:\n",
    "    print(auto)"
   ]
  },
  {
   "cell_type": "markdown",
   "metadata": {},
   "source": [
    "Realniji primjer bio bi da automatski kreiramo 50 automobila. Možemo iskoristiti\n",
    "**range()** za petlju koja će u listu dodavati automobile."
   ]
  },
  {
   "cell_type": "code",
   "execution_count": null,
   "metadata": {},
   "outputs": [],
   "source": [
    "# kreiramo praznu listu\n",
    "auti = []\n",
    "# dodajemo 50 automobila\n",
    "for auto in range(50):\n",
    "    novi_auto = {'proizvođač':'bmw', 'boja':'crvena', 'broj vrata':5}\n",
    "    auti.append(novi_auto)\n",
    "#ispisujemo prvih 5\n",
    "for auto in auti[:5]:\n",
    "    print(auto)\n",
    "#ispisujemo broj automobila koji su kreirani\n",
    "print(len(auti))"
   ]
  },
  {
   "cell_type": "markdown",
   "metadata": {},
   "source": [
    "Naravno, svi oni imaju iste vrijednosti koje, naravno, možemo mijenjati.\n",
    "Promjene možemo raditi pojedinačno, na svakom automobilu, ili koristiti petlje\n",
    "da napravimo promjenu na više automobila. Recimo, na prva tri automobila\n",
    "promijenimo proizvođača, na prva četiri broj vrata i samo na trećem boju."
   ]
  },
  {
   "cell_type": "code",
   "execution_count": null,
   "metadata": {},
   "outputs": [],
   "source": [
    "# kreiramo praznu listu\n",
    "auti = []\n",
    "# dodajemo 50 automobila\n",
    "for auto in range(50):\n",
    "    novi_auto = {'proizvođač':'bmw', 'boja':'crvena', 'broj vrata':5}\n",
    "    auti.append(novi_auto)\n",
    "# promjena boje na trećem autu\n",
    "auti[2]['boja']='crna'\n",
    "# promjena proizvođača na prva 3 auta\n",
    "for auto in auti[0:3]:\n",
    "    auto['proizvođač'] = 'audi'\n",
    "# promjena proizvođača na prva 4 auta\n",
    "for auto in auti[0:4]:\n",
    "    auto['broj vrata'] = 2\n",
    "#ispisujemo prvih 5\n",
    "for auto in auti[:5]:\n",
    "    print(auto)"
   ]
  },
  {
   "cell_type": "markdown",
   "metadata": {},
   "source": [
    "Jednako tako možemo spremiti liste u rječnik. Ako se sjetimo prethodne vježbe, s\n",
    "anketama u rječniku smo imali samo po jedan odgovor od korisnika. Ako naš\n",
    "upitnik ima više pitanja, odgovore možemo pospremiti u listu i onda listu\n",
    "dodijeliti korisniku. Recimo da, uz jezik, tražimo da nam odgovore i na pitanje\n",
    "koliko dugo programiraju u tom jeziku."
   ]
  },
  {
   "cell_type": "code",
   "execution_count": null,
   "metadata": {},
   "outputs": [],
   "source": [
    "najdrazi_jezik = {\n",
    "    'Hrvoje': ['python',3],\n",
    "    'Ana': ['c++',2],\n",
    "    'Ivana': ['python',1],\n",
    "    'Matija': ['ruby',10]\n",
    "}\n",
    "najdrazi_jezik"
   ]
  },
  {
   "cell_type": "markdown",
   "metadata": {},
   "source": [
    "Sada možemo ispisati poruku"
   ]
  },
  {
   "cell_type": "code",
   "execution_count": null,
   "metadata": {},
   "outputs": [],
   "source": [
    "najdrazi_jezik = {\n",
    "    'Hrvoje': ['python',3],\n",
    "    'Ana': ['c++',2],\n",
    "    'Ivana': ['python',1],\n",
    "    'Matija': ['ruby',10]\n",
    "}\n",
    "for ime, jezik in najdrazi_jezik.items():\n",
    "    print(\n",
    "        'Korisnik ' + ime.title() + \n",
    "        ' najviše voli ' + jezik[0].title() + \n",
    "        ' i u njemu programira oko ' + str(jezik[1]) + ' g.'\n",
    "    )"
   ]
  },
  {
   "cell_type": "markdown",
   "metadata": {},
   "source": [
    "Možemo i dopustiti korisnicima da odaberu više od jednog jezika."
   ]
  },
  {
   "cell_type": "code",
   "execution_count": null,
   "metadata": {},
   "outputs": [],
   "source": [
    "najdrazi_jezik = {\n",
    "    'Hrvoje': ['python','ruby'],\n",
    "    'Ana': ['c++'],\n",
    "    'Ivana': ['python','go'],\n",
    "    'Matija': ['ruby','fortran','java script']\n",
    "}\n",
    "for ime, jezici in najdrazi_jezik.items():\n",
    "    print ('\\n' + ime.title() + ' radi u jeziku ')\n",
    "    for jezik in jezici:\n",
    "        print('\\t' + jezik.title())"
   ]
  },
  {
   "cell_type": "markdown",
   "metadata": {},
   "source": [
    "Kada koristimo ugnježđivanje, treba paziti da ne stvorimo previše slojeva jer to\n",
    "dosta otežava praćenje. *Python* lako može spremiti listu u kojoj se nalaze\n",
    "rječnici u drugi rječnik koji se već nalazi u listi."
   ]
  },
  {
   "cell_type": "markdown",
   "metadata": {},
   "source": [
    "Možemo i spremati rječnike u rječnik, ali će jako brzo postati prekomplicirano\n",
    "pratiti takav kod. Primjerice, ako imamo korisnike koji imaju jedinstvena\n",
    "korisnička imena, možemo koristiti korisničko ime kao ključ u rječniku, a kao\n",
    "vrijednost možemo spremiti drugi rječnik u kojem spremamo informacije o njemu.\n",
    "Kada pristupamo podatcima, moramo koristiti višestruko indeksiranje."
   ]
  },
  {
   "cell_type": "code",
   "execution_count": null,
   "metadata": {},
   "outputs": [],
   "source": [
    "korisnici = {\n",
    "    'hhorvat': {\n",
    "        'ime': 'Hrvoje',\n",
    "        'prezime': 'Horvat',\n",
    "        'mjesto': 'Split'\n",
    "    },\n",
    "    'ihorvat':{\n",
    "        'ime': 'Ivana',\n",
    "        'prezime': 'Horvat',\n",
    "        'mjesto': 'Zagreb'  \n",
    "    }\n",
    "}\n",
    "korisnici['hhorvat']['ime']"
   ]
  },
  {
   "cell_type": "markdown",
   "metadata": {},
   "source": [
    "Možemo koristiti i petlje da pregledamo sve elemente."
   ]
  },
  {
   "cell_type": "code",
   "execution_count": null,
   "metadata": {},
   "outputs": [],
   "source": [
    "korisnici = {\n",
    "    'hhorvat': {\n",
    "        'ime': 'Hrvoje',\n",
    "        'prezime': 'Horvat',\n",
    "        'mjesto': 'Split'\n",
    "    },\n",
    "    'ihorvat':{\n",
    "        'ime': 'Ivana',\n",
    "        'prezime': 'Horvat',\n",
    "        'mjesto': 'Zagreb'  \n",
    "    }\n",
    "}\n",
    "for korisnicko_ime, korisnicke_informacije in korisnici.items():\n",
    "    print('\\nKorisničko ime: ' + korisnicko_ime)\n",
    "    print('Ime i prezime: ' + korisnicke_informacije['ime'] + ' ' +\n",
    "        korisnicke_informacije['prezime'])\n",
    "    print('Mjesto: ' + korisnicke_informacije['mjesto'])"
   ]
  },
  {
   "cell_type": "markdown",
   "metadata": {},
   "source": [
    "Ovo nije bilo teško, jer je struktura rječnika jednaka kod svih korisnika. Da je\n",
    "različita, morali bismo koristiti petlje da pregledamo ključeve svakog rječnika\n",
    "i dođemo do vrijednosti za ispis."
   ]
  },
  {
   "cell_type": "markdown",
   "metadata": {},
   "source": [
    "<br><div class=\"alert alert-info\"><b>Vježba</b></div></br>"
   ]
  },
  {
   "cell_type": "markdown",
   "metadata": {},
   "source": [
    "Kopirajte zadatak koji ste riješili u prethodnom poglavlju, u kojem je trebalo napraviti rječnik s osobama koje poznaješ i s njihovim podatcima (*ime*, *prezime*, *dob*, *mjesto*).  \n",
    "Napravite još dva rječnika u kojima ćete dodati druge ljude. Sva tri rječnika spremite u novu listu.  \n",
    "Napravite petlju koja će pregledati sve ljude i ispisati podatke o njima.\n"
   ]
  },
  {
   "cell_type": "code",
   "execution_count": 1,
   "metadata": {},
   "outputs": [
    {
     "name": "stdout",
     "output_type": "stream",
     "text": [
      "ime: kelj0\n",
      "prezime: ketljo\n",
      "dob: 20\n",
      "mjesto: zg\n",
      "ime: grga\n",
      "prezime: grgic\n",
      "dob: 20\n",
      "mjesto: zg\n",
      "ime: stjepko\n",
      "prezime: stjepkic\n",
      "dob: 20\n",
      "mjesto: zg\n"
     ]
    }
   ],
   "source": [
    "keljo = {'ime':'kelj0','prezime':'ketljo','dob':'20','mjesto':'zg'}\n",
    "grga = {'ime':'grga','prezime':'grgic','dob':'20','mjesto':'zg'}\n",
    "stjepko = {'ime':'stjepko','prezime':'stjepkic','dob':'20','mjesto':'zg'}\n",
    "\n",
    "users = [keljo, grga, stjepko]\n",
    "\n",
    "for user in users:\n",
    "    for key,value in user.items():\n",
    "        print(f\"{key}: {value}\")"
   ]
  },
  {
   "cell_type": "markdown",
   "metadata": {},
   "source": [
    "Odaberite pet svjetskih gradova.  \n",
    "Napravite rječnik za svaki od gradova u koji ćete upisati državu u kojoj se nalazi, okviran broj stanovnika i neku\n",
    "zanimljivost.  \n",
    "Napravite rječnik *gradovi* i u njega spremite sve gradove tako da ključ bude naziv grada.  \n",
    "Ispišite sve gradove i podatke o njima."
   ]
  },
  {
   "cell_type": "code",
   "execution_count": 5,
   "metadata": {},
   "outputs": [
    {
     "name": "stdout",
     "output_type": "stream",
     "text": [
      "drzava: franc\n",
      "stanovnika: 5m\n",
      "zanimljivost: Koko u parizu nikad nije bio u parizu\n",
      "drzava: cro\n",
      "stanovnika: 1m\n",
      "zanimljivost: ZET nikad ne dolazi na vrijeme\n",
      "drzava: srb\n",
      "stanovnika: ?m\n",
      "zanimljivost: ?\n",
      "drzava: uk\n",
      "stanovnika: 8m\n",
      "zanimljivost: Ponekad ne pada kisa\n",
      "drzava: usa\n",
      "stanovnika: 7m\n",
      "zanimljivost: Nemaju cevape\n"
     ]
    }
   ],
   "source": [
    "pariz = {'drzava':'franc','stanovnika':'5m','zanimljivost':'Koko u parizu nikad nije bio u parizu'}\n",
    "zagreb = {'drzava':'cro','stanovnika':'1m','zanimljivost':'ZET nikad ne dolazi na vrijeme'}\n",
    "beograd = {'drzava':'srb','stanovnika':'?m','zanimljivost':'?'}\n",
    "london = {'drzava':'uk','stanovnika':'8m','zanimljivost':'Ponekad ne pada kisa'}\n",
    "huston = {'drzava':'usa','stanovnika':'7m','zanimljivost':'Nemaju cevape'}\n",
    "\n",
    "gradovi = {\n",
    "    'pariz':pariz,\n",
    "    'zagreb':zagreb,\n",
    "    'beograd':beograd,\n",
    "    'london':london,\n",
    "    'huston':huston\n",
    "}\n",
    "\n",
    "for grad,grad1 in gradovi.items():\n",
    "    for key,value in grad1.items():\n",
    "        print(f\"{key}: {value}\")"
   ]
  },
  {
   "cell_type": "markdown",
   "metadata": {},
   "source": [
    "<br><div class=\"alert alert-info\"><b>Kraj</b></div></br>"
   ]
  }
 ],
 "metadata": {
  "kernelspec": {
   "display_name": "Python 3",
   "language": "python",
   "name": "python3"
  },
  "language_info": {
   "codemirror_mode": {
    "name": "ipython",
    "version": 3
   },
   "file_extension": ".py",
   "mimetype": "text/x-python",
   "name": "python",
   "nbconvert_exporter": "python",
   "pygments_lexer": "ipython3",
   "version": "3.7.3"
  }
 },
 "nbformat": 4,
 "nbformat_minor": 2
}
