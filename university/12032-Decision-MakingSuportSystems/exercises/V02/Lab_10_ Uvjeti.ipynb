{
 "cells": [
  {
   "cell_type": "markdown",
   "metadata": {},
   "source": [
    "<img src=\"Slike/vua.png\">"
   ]
  },
  {
   "cell_type": "markdown",
   "metadata": {},
   "source": [
    "# Uvjeti\n",
    "\n",
    "Tijekom izvođenja programa često trebamo provjeriti neke vrijednosti te u\n",
    "ovisnosti o rezultatu provjere napraviti različite akcije.  \n",
    "##### Primjer\n",
    "U sljedećem primjeru vidimo kako možemo iskoristiti naredbu **if** da bismo\n",
    "napravili različite akcije, ovisno o rezultatu provjere. Ako imamo listu u kojoj\n",
    "su proizvođači automobila zapisani malim slovima i želimo ispisivati listu,\n",
    "većinom možemo koristiti metodu **title()** da bi prvo slovo bilo veliko, a\n",
    "ostala slova mala. Ako u listi imamo i, primjerice, *BMW*, tu bismo trebali\n",
    "napraviti iznimku te ispisati sve velikim slovima korištenjem metode\n",
    "**upper()**."
   ]
  },
  {
   "cell_type": "code",
   "execution_count": null,
   "metadata": {},
   "outputs": [],
   "source": [
    "# kreiramo listu\n",
    "auti = ['audi', 'bmw', 'subaru', 'toyota']\n",
    "# koristimo petlju da prođemo kroz sve elemente liste\n",
    "for auto in auti:\n",
    "    # probjeravamo da li je element liste jednak 'bmw'\n",
    "    if auto == 'bmw':\n",
    "        # ispis ako je uvjet zadovoljen\n",
    "        print(auto.upper())\n",
    "    else:\n",
    "        # ispis ako uvjet nije zadovoljen\n",
    "        print(auto.title())"
   ]
  },
  {
   "cell_type": "markdown",
   "metadata": {},
   "source": [
    "<img src=\"Slike/12_8.png\" alt=\"Drawing\" style=\"width: 500px;\">\n",
    "\n",
    "U ovom primjeru imamo petlju koja prolazi kroz sve elemente liste. U petlji\n",
    "imamo usporedbu vrijednosti pojedinog elementa liste s tekstom „bmw“. Ako je\n",
    "uvjet zadovoljen, odnosno ako je vrijednost varijable jednaka *bmw*, ispisuje se\n",
    "korištenjem metode **upper()**, a ako je različita od *bmw,* onda se ispisuje\n",
    "metodom **title()**."
   ]
  },
  {
   "cell_type": "markdown",
   "metadata": {},
   "source": [
    "#### Načini provjeravanja\n",
    "Iza svakog pojavljivanja naredbe **if** mora se nalaziti izraz koji kao rezultat\n",
    "vraća **True** ili **False** (točno/netočno). Python koristi **True/False** da\n",
    "odluči koji dio koda koji se nalazi u sklopu **if** izraza treba izvršiti. Ako\n",
    "je usporedba vratila **True**, izvršavat će kod koji se nalazi iza **if**\n",
    "izraza. Ako je rezultat **False**, Python će ignorirati kod koji se nalazi ispod\n",
    "**if** izraza.\n",
    "\n",
    "#### Provjera jednakosti\n",
    "Najčešće provjeravamo je li vrijednost neke varijable jednaka nekoj zadanoj\n",
    "vrijednosti ili jesu li dvije varijable jednake."
   ]
  },
  {
   "cell_type": "code",
   "execution_count": null,
   "metadata": {},
   "outputs": [],
   "source": [
    "# dodjeljujemo vrijednost vatijabli auto\n",
    "auto = 'bmw'\n",
    "# provjeravamo jednakost s tekstom\n",
    "auto == 'bmw'"
   ]
  },
  {
   "cell_type": "markdown",
   "metadata": {},
   "source": [
    "**Zapamtite** da kod dodjeljivanja vrijednosti nekoj varijabli koristimo jedan\n",
    "znak jednakosti (**=**), a kod usporedbe dva (**==**). Rezultat provjere je\n",
    "**True** zato što je „bmw“ jednak „bmw“. Ako pokušamo usporediti s drugim\n",
    "tekstom, dobit ćemo rezultat **False**."
   ]
  },
  {
   "cell_type": "code",
   "execution_count": null,
   "metadata": {},
   "outputs": [],
   "source": [
    "# dodjeljujemo vrijednost vatijabli auto\n",
    "auto = 'bmw'\n",
    "# provjeravamo jednakost s tekstom\n",
    "auto == 'audi'"
   ]
  },
  {
   "cell_type": "markdown",
   "metadata": {},
   "source": [
    "*Python* razlikuje velika i mala slova pa ako probamo usporediti dva teksta koji\n",
    "imaju isti sadržaj, ali su zapisani različitom veličinom znakova, dobit ćemo\n",
    "rezultat **False**."
   ]
  },
  {
   "cell_type": "code",
   "execution_count": null,
   "metadata": {},
   "outputs": [],
   "source": [
    "# dodjeljujemo vrijednost vatijabli auto\n",
    "auto = 'bmw'\n",
    "# provjeravamo jednakost s tekstom\n",
    "auto == 'BMW'"
   ]
  },
  {
   "cell_type": "markdown",
   "metadata": {},
   "source": [
    "Ako želimo da provjera jednakosti zanemari veličinu slova, uvijek možemo\n",
    "koristiti neku od metoda da tekstu promijenimo veličine znakova."
   ]
  },
  {
   "cell_type": "code",
   "execution_count": null,
   "metadata": {},
   "outputs": [],
   "source": [
    "# dodjeljujemo vrijednost vatijabli auto\n",
    "auto = 'bmw'\n",
    "# provjeravamo jednakost s tekstom\n",
    "auto.lower() == 'BMW'.lower()"
   ]
  },
  {
   "cell_type": "markdown",
   "metadata": {},
   "source": [
    "#### Provjera nejednakosti\n",
    "Kada želimo provjeriti razlikuju li se dvije vrijednosti, koristimo kombinaciju\n",
    "uskličnika i znaka jednakosti (**!=**). Ova kombinacija predstavlja negaciju.\n",
    "Pogledajmo primjer s negacijom. Primjerice, iznajmljujemo automobile i nemamo\n",
    "više niti jedan automobil marke Audi."
   ]
  },
  {
   "cell_type": "code",
   "execution_count": null,
   "metadata": {},
   "outputs": [],
   "source": [
    "# dodjeljujemo vrijednost varijabli auto\n",
    "trazeni_auto = 'bmw'\n",
    "\n",
    "# provjeravamo je element liste različit od 'audi'\n",
    "if trazeni_auto != 'audi':\n",
    "    print('Možete preuzeti automobil')\n",
    "else:\n",
    "    print('Nažalost, više ih nemamo na raspolaganju')"
   ]
  },
  {
   "cell_type": "markdown",
   "metadata": {},
   "source": [
    "U većini slučajeva koristit ćete provjeru jednakosti, ali povremeno nejednakost\n",
    "može biti efikasnije rješenje."
   ]
  },
  {
   "cell_type": "markdown",
   "metadata": {},
   "source": [
    "#### Brojevi\n",
    "Usporedba brojeva jednaka je usporedbi teksta, ali nam daje više mogućnosti.\n",
    "Jednakost provjeravamo na isti način:"
   ]
  },
  {
   "cell_type": "code",
   "execution_count": null,
   "metadata": {},
   "outputs": [],
   "source": [
    "godine = 17\n",
    "godine == 18"
   ]
  },
  {
   "cell_type": "markdown",
   "metadata": {},
   "source": [
    "Nejednakost isto:"
   ]
  },
  {
   "cell_type": "code",
   "execution_count": null,
   "metadata": {},
   "outputs": [],
   "source": [
    "godine = 17\n",
    "godine != 18"
   ]
  },
  {
   "cell_type": "markdown",
   "metadata": {},
   "source": [
    "Kad radimo s brojevima, uz ove provjere možemo provjeravati i je li neka\n",
    "vrijednost manja, manja ili jednaka, veća ili veća ili jednaka nekoj drugoj."
   ]
  },
  {
   "cell_type": "code",
   "execution_count": null,
   "metadata": {},
   "outputs": [],
   "source": [
    "godine = 17\n",
    "print(godine < 18)\n",
    "print(godine <= 18)\n",
    "print(godine >= 18)\n",
    "print(godine > 18)"
   ]
  },
  {
   "cell_type": "markdown",
   "metadata": {},
   "source": [
    "Kod usporedbi ponekad trebamo provjeriti više različitih uvjeta u isto vrijeme.\n",
    "Primjerice, dva uvjeta trebaju biti **True** da bi se nešto dogodilo (**and**).\n",
    "Ili, možemo imati situaciju gdje nam je dovoljno da jedan od uvjeta bude\n",
    "zadovoljen da izraz **if** vrati **True** (**or**). Pogledajmo prvo što se\n",
    "događa kada želimo da svi uvjeti budu ispunjeni. Tu koristimo izraz **and**."
   ]
  },
  {
   "cell_type": "code",
   "execution_count": null,
   "metadata": {},
   "outputs": [],
   "source": [
    "godine_a = 20\n",
    "godine_b = 32\n",
    "\n",
    "godine_a > 20 and godine_b > 20"
   ]
  },
  {
   "cell_type": "markdown",
   "metadata": {},
   "source": [
    "Ako provjerimo pojedinačno…"
   ]
  },
  {
   "cell_type": "code",
   "execution_count": null,
   "metadata": {},
   "outputs": [],
   "source": [
    "godine_a > 20"
   ]
  },
  {
   "cell_type": "code",
   "execution_count": null,
   "metadata": {},
   "outputs": [],
   "source": [
    "godine_b > 20"
   ]
  },
  {
   "cell_type": "markdown",
   "metadata": {},
   "source": [
    "Prvi dio je netočan, a drugi točan. Rezultat **True** dobit ćemo jedino kada su\n",
    "oba izraza točna."
   ]
  },
  {
   "cell_type": "code",
   "execution_count": null,
   "metadata": {},
   "outputs": [],
   "source": [
    "godine_a = 21\n",
    "godine_b = 32\n",
    "\n",
    "godine_a > 20 and godine_b > 20"
   ]
  },
  {
   "cell_type": "markdown",
   "metadata": {},
   "source": [
    "Naravno možemo imati više uvjeta."
   ]
  },
  {
   "cell_type": "code",
   "execution_count": null,
   "metadata": {},
   "outputs": [],
   "source": [
    "godine_a = 20\n",
    "godine_b = 22\n",
    "godine_c = 28\n",
    "\n",
    "godine_a > 20 and godine_b > 20 and godine_c > 20"
   ]
  },
  {
   "cell_type": "markdown",
   "metadata": {},
   "source": [
    "Koliko god uvjeta imamo, uvijek svi moraju biti točni da bismo dobili **True**\n",
    "kao rezultat."
   ]
  },
  {
   "cell_type": "markdown",
   "metadata": {},
   "source": [
    "Ako želimo napraviti provjeru više uvjeta, ali sad želimo rezultat **True** ako\n",
    "je barem jedan od njih istinit, koristimo izraz **or**."
   ]
  },
  {
   "cell_type": "code",
   "execution_count": null,
   "metadata": {},
   "outputs": [],
   "source": [
    "godine_a = 20\n",
    "godine_b = 32\n",
    "\n",
    "godine_a > 20 or godine_b > 20"
   ]
  },
  {
   "cell_type": "markdown",
   "metadata": {},
   "source": [
    "Rezultat **False** dobit ćemo jedino ako nijedan uvjet nije točan. Naravno, i tu\n",
    "možemo imati više uvjeta."
   ]
  },
  {
   "cell_type": "code",
   "execution_count": null,
   "metadata": {},
   "outputs": [],
   "source": [
    "godine_a = 20\n",
    "godine_b = 22\n",
    "godine_c = 28\n",
    "\n",
    "godine_a > 30 or godine_b > 30 or godine_c > 30"
   ]
  },
  {
   "cell_type": "markdown",
   "metadata": {},
   "source": [
    "#### Provjera nalazi li se nešto u listi\n",
    "Ponekad je potrebno provjeriti nalazi li se nešto u listi. Jedan od načina bi\n",
    "bio da napravimo petlju kroz sve elemente te da provjeravamo postoji li sadržaj\n",
    "koji tražimo. Za provjeru nalazi li se nešto u listi, koristimo izraz **in**.\n",
    "Primjerice, imamo popis proizvođača automobila koje imamo na raspolaganju.\n",
    "Dolazi korisnik i zanima ga imamo li neku određenu marku automobila."
   ]
  },
  {
   "cell_type": "code",
   "execution_count": null,
   "metadata": {},
   "outputs": [],
   "source": [
    "# kreiramo listu\n",
    "auti = ['audi', 'bmw', 'subaru', 'toyota']\n",
    "# provjeravamo postoji li element u listi\n",
    "'audi' in auti"
   ]
  },
  {
   "cell_type": "code",
   "execution_count": null,
   "metadata": {},
   "outputs": [],
   "source": [
    "# kreiramo listu\n",
    "auti = ['audi', 'bmw', 'subaru', 'toyota']\n",
    "# provjeravamo da li postoji element u listi\n",
    "'alfa' in auti"
   ]
  },
  {
   "cell_type": "markdown",
   "metadata": {},
   "source": [
    "Nekad nam treba i informacija da se nešto ne nalazi u listi. Tada koristimo\n",
    "izraz **not in**."
   ]
  },
  {
   "cell_type": "code",
   "execution_count": null,
   "metadata": {},
   "outputs": [],
   "source": [
    "# kreiramo listu\n",
    "auti = ['audi', 'bmw', 'subaru', 'toyota']\n",
    "# provjeravamo ne postoji li element u listi\n",
    "'alfa' not in auti"
   ]
  },
  {
   "cell_type": "markdown",
   "metadata": {},
   "source": [
    "#### Boolean ili logički izrazi\n",
    "Upoznali smo se s provjerama koje nam kao rezultat uvijek vraćaju **True** ili\n",
    "**False**. Taj rezultat je zapisan u posebnom tipu podataka, **bool**."
   ]
  },
  {
   "cell_type": "code",
   "execution_count": null,
   "metadata": {},
   "outputs": [],
   "source": [
    "type(1==2)"
   ]
  },
  {
   "cell_type": "markdown",
   "metadata": {},
   "source": [
    "Ova vrsta podatka često se koristi u slučajevima gdje nam varijable mogu imati\n",
    "samo dvije vrijednosti. Osim što nastaju provjerama, mogu se i zasebno\n",
    "deklarirati dodjeljivanjem vrijednosti **True** ili **False** nekoj varijabli.\n",
    "Kako smo prije spomenuli, *Python* čini razliku između velikih i malih slova pa\n",
    "trebamo biti oprezni kad dodjeljujemo vrijednosti. Ako napišemo sve malim\n",
    "slovima, dobit ćemo poruku o grešci."
   ]
  },
  {
   "cell_type": "code",
   "execution_count": null,
   "metadata": {},
   "outputs": [],
   "source": [
    "korisnik_aktivan = True"
   ]
  },
  {
   "cell_type": "code",
   "execution_count": null,
   "metadata": {},
   "outputs": [],
   "source": [
    "korisnik_aktivan = true"
   ]
  },
  {
   "cell_type": "markdown",
   "metadata": {},
   "source": [
    "<br><div class=\"alert alert-info\"><b>Vježba</b></div>"
   ]
  },
  {
   "cell_type": "markdown",
   "metadata": {},
   "source": [
    "Napišite barem 20 usporedbi tako da prethodno napišete predviđeni rezultat. Pokušajte to napraviti tako da po 10 puta rezultat bude **True** odnosno **False**.  \n",
    "Pokušajte usporediti:  \n",
    "- jednakost i nejednakost teksta\n",
    "- jednakost, nejednakost, veće i manje brojeve\n",
    "- nalazi li se nešto u listi ili ne.  \n",
    "Kod može početi kao u primjeru:\n",
    "```python\n",
    "auti = ['audi', 'bmw', 'subaru', 'toyota']\n",
    "auto = 'subaru'\n",
    "print(\"Da li je auto == 'subaru'? Predviđam da će rezultat biti True.\")\n",
    "print(auto == 'subaru')\n",
    "print(\"\\n\")\n",
    "print(\"Da li je auto == 'audi'? Predviđam da će rezultat biti  False.\")\n",
    "print(auto == 'audi')\n",
    "print(\"\\n\")\n",
    "```"
   ]
  },
  {
   "cell_type": "code",
   "execution_count": 17,
   "metadata": {},
   "outputs": [
    {
     "name": "stdout",
     "output_type": "stream",
     "text": [
      "a == a? da\n",
      "True\n",
      "a is a? da\n",
      "True\n",
      "1 == 1? da\n",
      "True\n",
      "1 is 1? da\n",
      "True\n",
      "c == d? da\n",
      "True\n",
      "c is d? ne\n",
      "False\n",
      "c == 1? ne\n",
      "False\n",
      "c == [1,2,3,4]? ne\n",
      "False\n",
      "print == dict? ne\n",
      "False\n"
     ]
    }
   ],
   "source": [
    "print(\"a == a? da\")\n",
    "print(\"a\" == \"a\")\n",
    "\n",
    "print(\"a is a? da\")\n",
    "print(\"a\" is \"a\")\n",
    "\n",
    "print(\"1 == 1? da\")\n",
    "print(1 == 1)\n",
    "\n",
    "print(\"1 is 1? da\")\n",
    "print(1 is 1)\n",
    "\n",
    "c = [1,2,3]\n",
    "d = [1,2,3]\n",
    "\n",
    "print(\"c == d? da\")\n",
    "print(c == d)\n",
    "\n",
    "print(\"c is d? ne\")\n",
    "print(c is d)\n",
    "\n",
    "print(\"c == 1? ne\")\n",
    "print(c == 1)\n",
    "\n",
    "print(\"c == [1,2,3,4]? ne\")\n",
    "print(c == [1,2,3,4])\n",
    "\n",
    "print(\"print == dict? ne\")\n",
    "print(print == dict)"
   ]
  },
  {
   "cell_type": "markdown",
   "metadata": {},
   "source": [
    "<br><div class=\"alert alert-info\"><b>Kraj</b></div></br>"
   ]
  },
  {
   "cell_type": "code",
   "execution_count": null,
   "metadata": {},
   "outputs": [],
   "source": []
  }
 ],
 "metadata": {
  "kernelspec": {
   "display_name": "Python 3",
   "language": "python",
   "name": "python3"
  },
  "language_info": {
   "codemirror_mode": {
    "name": "ipython",
    "version": 3
   },
   "file_extension": ".py",
   "mimetype": "text/x-python",
   "name": "python",
   "nbconvert_exporter": "python",
   "pygments_lexer": "ipython3",
   "version": "3.7.3"
  }
 },
 "nbformat": 4,
 "nbformat_minor": 2
}
