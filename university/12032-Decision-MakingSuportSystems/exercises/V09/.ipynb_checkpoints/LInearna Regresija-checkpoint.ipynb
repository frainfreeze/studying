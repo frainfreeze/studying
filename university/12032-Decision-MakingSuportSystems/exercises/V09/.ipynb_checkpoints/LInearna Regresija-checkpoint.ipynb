{
 "cells": [
  {
   "cell_type": "markdown",
   "metadata": {},
   "source": [
    "<img src=\"vua.png\">"
   ]
  },
  {
   "cell_type": "markdown",
   "metadata": {},
   "source": [
    "# Linearna regresija\n",
    "\n",
    "Strojno učenje možemo provoditi na dva osnovna načina:\n",
    "- **nadzirano** učenje (engl. *supervised learning*)\n",
    "- **nenadzirano** učenje (engl *unsupervised learning*)\n",
    "\n",
    "Ako su nam poznati ulazni podaci i ciljne varijable tada se radi o nadziranom učenju prilikom kojeg koristimo **regresiju** za kontinuirane/brojčane vrijednosti ili **klasifikaciju** za diskretne/nebrojčane vrijednosti.\n",
    "\n",
    "Ako želimo pronaći pravilnost u podacima i od modela očekujemo da sam otkrije vrijednosti ciljnih varijabli tada se radi o nenadziranom učenju prilikom kojeg između ostalog koristimo **klasifikaciju** (grupiranje, engl. *clustering*) i **smanjenje dimenzionalnosti** (engl. *dimensionality reduction*).\n",
    "\n",
    "||kontinuirane varijable|kategoričke varijable|\n",
    "|---|---|---|\n",
    "|**nadzirano učenje**|**regresija**|klasifikacija|\n",
    "|**nenadzirano učenje**|smanjenje dimenzionalnosti|klasteriranje|\n",
    "\n",
    "\n",
    "Tema ovih vježbi je **linearna regresija** koju karakteriziraju sljedeće značajke:\n",
    "- koristi se za rješavanje širokog spektra problema\n",
    "- brza je\n",
    "- jednostavna je za korištenje\n",
    "- rezultati se lako interpretiraju\n",
    "- služi kao osnova za mnoge druge metode\n",
    "\n",
    "\n",
    "Za početak ćemo pripremiti neophodne biblioteke funkcija. Novi objekt koji dosad nije korišten u vježbama je **LinearRegression** iz biblioteke **sklearn** (više detalja možete pronaći na adresi http://scikit-learn.org/stable/modules/generated/sklearn.linear_model.LinearRegression.html)"
   ]
  },
  {
   "cell_type": "code",
   "execution_count": null,
   "metadata": {
    "collapsed": false
   },
   "outputs": [],
   "source": [
    "import pandas as pd\n",
    "import numpy as np\n",
    "import matplotlib.pyplot as plt\n",
    "from sklearn.linear_model import LinearRegression\n",
    "\n",
    "%matplotlib inline"
   ]
  },
  {
   "cell_type": "markdown",
   "metadata": {},
   "source": [
    "Podatke ćemo preuzeti iz datoteke Oglasi.csv"
   ]
  },
  {
   "cell_type": "code",
   "execution_count": null,
   "metadata": {
    "collapsed": false
   },
   "outputs": [],
   "source": [
    "# učitavanje sadržaja datoteke u Data Frame\n",
    "df = pd.read_csv('Oglasi.csv', sep='|')\n",
    "df.head()"
   ]
  },
  {
   "cell_type": "markdown",
   "metadata": {},
   "source": [
    "Ulazne varijable su:\n",
    "- **Televizija**: novčani iznos utrošen na oglašavanje na televiziji za jedan proizvod (u tisućama kuna)\n",
    "- **Radio**: novčani iznos utrošen na oglašavanje na radiju\n",
    "- **Novine**: novčani iznos utrošen na oglašavanje u novinama\n",
    "\n",
    "Ciljna varijabla je:\n",
    "- **Prodaja**: količina prodanih proizvoda (u tisućama prodanih jedinica)"
   ]
  },
  {
   "cell_type": "code",
   "execution_count": null,
   "metadata": {
    "collapsed": false
   },
   "outputs": [],
   "source": [
    "# Koliko slučajeva sadrže ulazni podaci?\n",
    "df.shape"
   ]
  },
  {
   "cell_type": "markdown",
   "metadata": {},
   "source": [
    "Pogledajmo kako izgleda dijagram rasipanja (engl. *scatterplot*) za svaku od ulaznih varijabli u odnosu na ciljnu varijablu"
   ]
  },
  {
   "cell_type": "code",
   "execution_count": null,
   "metadata": {
    "collapsed": false
   },
   "outputs": [],
   "source": [
    "# inicijalizacija 3 grafička prikaza u istom retku, sa zajedničkom ordinatom\n",
    "fig, axs = plt.subplots(1, 3, sharey=True)\n",
    "df.plot(kind='scatter', x='Televizija', y='Prodaja', ax=axs[0], figsize=(16, 8))\n",
    "df.plot(kind='scatter', x='Radio', y='Prodaja', ax=axs[1])\n",
    "df.plot(kind='scatter', x='Novine', y='Prodaja', ax=axs[2])"
   ]
  },
  {
   "cell_type": "markdown",
   "metadata": {},
   "source": [
    "**Kako bismo u budućnosti trebali rasporediti sredstva (novac) za oglašavanje u tri promatrana medija?**\n",
    "\n",
    "Da bismo dobili bolji uvid u problem i lakše došli do odgovora na postavljeno pitanje, postavit ćemo si nekoliko potpitanja:\n",
    "1. Postoji li uopće zavisnost između kanala oglašavanja i prodaje?\n",
    "2. Ako zavisnost postoji, koliko je jaka?\n",
    "3. Koji kanal(i) oglašavanja povećava(ju) prodaju?\n",
    "4. Koliko pojedini kanali oglašavanja utječu na prodaju?\n",
    "5. Može li se predvidjeti prodaja ako znamo koliko je novaca uloženo u koji kanal oglašavanja?\n",
    "\n",
    "U nastavku će biti opisane metode pronalaženja odgovora na ova pitanja korištenjem linearne regresije."
   ]
  },
  {
   "cell_type": "markdown",
   "metadata": {},
   "source": [
    "## Jednostavna linearna regresija\n",
    "\n",
    "**Jednostavna linearna regresija** nam omogućuje kvantitativno predviđanje vrijednosti izlazne varijable na temelju **jedne** ulazne varijable. Matematički se bilježi na sljedeći način:\n",
    "\n",
    "$$y = \\beta_0 + \\beta_1x$$\n",
    "\n",
    "U osnovi se radi o jednadžbi pravca s koeficijentima $\\beta_0$ i $\\beta_1$, u kojoj $y$ predstavlja izlaznu varijablu, a $x$ ulaznu.\n",
    "\n",
    "Kako bismo kreirali model, moramo \"naučiti\" vrijednosti koeficijenata $\\beta_0$ i $\\beta_1$, a potom naučene vrijednosti iskoristiti za predviđanje prodaje."
   ]
  },
  {
   "cell_type": "markdown",
   "metadata": {},
   "source": [
    "### Izračunavanje koeficijenata\n",
    "\n",
    "Koeficijenti se određuju pomoću metode najmanjih kvadrata, odnosno pronalaženjem pravca koji ima najmanji zbroj kvadratnih odstupanja vrijednosti ulazne od vrijednosti izlazne varijable."
   ]
  },
  {
   "cell_type": "markdown",
   "metadata": {},
   "source": [
    "<img src=\"estimating_coefficients.png\">"
   ]
  },
  {
   "cell_type": "markdown",
   "metadata": {},
   "source": [
    "- crne točke predstavljaju vrijednosti varijabli (x = ulazna, y = izlazna)\n",
    "- plavi pravac predstavlja pravac s najmanjim zbrojem kvadratnih odstupanja\n",
    "- crvene linije predstavljaju udaljenost pojedinačnih vrijednosti od pravca s najmanjim zbrojem kvadratnih odstupanja\n",
    "\n",
    "Odnos između ulaznih podataka i pravca možemo opisati i na sljedeći način:\n",
    "- $\\beta_0$ je presjecište pravca i ordinate (vrijednost $y$ ako je $x$=0, engl. *interception*)\n",
    "- $\\beta_1$ je koeficijent smjera pravca (omjer promjene $y$ i promjene $x$, engl. *slope*)\n",
    "\n",
    "Na slici to izgleda ovako:"
   ]
  },
  {
   "cell_type": "markdown",
   "metadata": {},
   "source": [
    "<img src=\"slope_intercept.png\">"
   ]
  },
  {
   "cell_type": "markdown",
   "metadata": {},
   "source": [
    "### Kreiranje modela\n",
    "\n",
    "Sastavni dio **Anaconda** distribucije Pythona je paket **scikit-learn**. Služi za jednostavno kreiranje modela temeljenih na različitim metodama strojnog učenja.\n",
    "\n",
    "U nastavku je primjer kôda za izračunavanje koeficijenata linearne regresije."
   ]
  },
  {
   "cell_type": "code",
   "execution_count": null,
   "metadata": {
    "collapsed": false
   },
   "outputs": [],
   "source": [
    "# X = DataFrame koji sadrži samo ulazne varijable\n",
    "# y = niz koji sadrži samo izlaznu varijablu\n",
    "X = df[['Televizija']]\n",
    "y = df.Prodaja\n",
    "\n",
    "# kreiranje instance modela\n",
    "lm = LinearRegression()\n",
    "# učenje\n",
    "lm.fit(X, y)\n",
    "\n",
    "# ispis koeficijenata linearne regresije\n",
    "print(lm.intercept_)\n",
    "print(lm.coef_)"
   ]
  },
  {
   "cell_type": "markdown",
   "metadata": {},
   "source": [
    "### Interpretacija koeficijenata modela\n",
    "\n",
    "**Koeficijent $\\beta_1$** za polje **Televizija** interpretiramo na sljedeći način:\n",
    "- Jedinica **povećanja budžeta za oglašavanje** putem televizije je povezana s **0,047537 jedinica povećanja prodaje**\n",
    "\n",
    "ili \n",
    "\n",
    "- **Povećanje budžeta** za televizijsko oglašavanje **za 1.000 jedinica** je povezano s **povećanjem prodaje od 47,5 jedinica**\n",
    "\n",
    "Ako je koeficijent $\\beta_1$ **negativan**, to znači da je povećanje budžeta za oglašavanje povezano sa **smanjenjem prodaje**."
   ]
  },
  {
   "cell_type": "markdown",
   "metadata": {},
   "source": [
    "### Predviđanje pomoću modela\n",
    "\n",
    "Pretpostavimo da smo na novom tržištu utrošili 50 novčanih jedinica na televizijsko oglašavanje i zanima nas koliko će to povećati prodaju.\n",
    "\n",
    "$$y = \\beta_0 + \\beta_1x$$\n",
    "$$y = 7.032594 + 0.047537 \\times 50$$"
   ]
  },
  {
   "cell_type": "code",
   "execution_count": null,
   "metadata": {
    "collapsed": false
   },
   "outputs": [],
   "source": [
    "# \"ručni\" izračun\n",
    "7.032594 + (0.047537 * 50)"
   ]
  },
  {
   "cell_type": "markdown",
   "metadata": {},
   "source": [
    "Dakle, izračunali smo da će se prodaja povećati za 9 jedinica proizvoda.\n",
    "\n",
    "Osim ručno, predviđanje možemo elegantnije napraviti i pomoću prethodno kreirane instance modela:"
   ]
  },
  {
   "cell_type": "code",
   "execution_count": null,
   "metadata": {
    "collapsed": false
   },
   "outputs": [],
   "source": [
    "lm.predict(50)"
   ]
  },
  {
   "cell_type": "markdown",
   "metadata": {},
   "source": [
    "### Grafički prikaz pravca linearne regresije\n",
    "\n",
    "Za početak, potrebno je odrediti **gornju i donju granicu grafičkog prikaza na ordinati**."
   ]
  },
  {
   "cell_type": "code",
   "execution_count": null,
   "metadata": {
    "collapsed": false
   },
   "outputs": [],
   "source": [
    "# kreiranje DataFramea s ulaznim varijablama (minimalna i maksimalna vrijednost budžeta za televizijsko oglašavanje)\n",
    "X_minmax = pd.DataFrame({'Televizija': [df.Televizija.min(), df.Televizija.max()]})\n",
    "X_minmax"
   ]
  },
  {
   "cell_type": "markdown",
   "metadata": {},
   "source": [
    "Sljedeći korak je izračunati **predviđene vrijednosti prodaje** za taj minimum i maksimum pa kroz njih nacrtati pravac:"
   ]
  },
  {
   "cell_type": "code",
   "execution_count": null,
   "metadata": {
    "collapsed": false
   },
   "outputs": [],
   "source": [
    "# predviđanje vrijednosti prodaje za minimalan i maksimalan iznos budžeta\n",
    "prodaja_minmax = lm.predict(X_minmax)\n",
    "prodaja_minmax"
   ]
  },
  {
   "cell_type": "code",
   "execution_count": null,
   "metadata": {
    "collapsed": false
   },
   "outputs": [],
   "source": [
    "# crtanje svih ulaznih podataka\n",
    "df.plot(kind='scatter', x='Televizija', y='Prodaja')\n",
    "\n",
    "# pravac linearne regresije\n",
    "plt.plot(X_minmax, prodaja_minmax, color='r', linewidth=2)"
   ]
  },
  {
   "cell_type": "markdown",
   "metadata": {},
   "source": [
    "## Višestruka linearna regresija\n",
    "\n",
    "Ako jednostavnu linearnu regresiju proširimo dodatnim ulaznim varijablama, ona postaje **višestruka linearna regresija** (engl. *multiple linear regression*):\n",
    "\n",
    "$$y = \\beta_0 + (\\beta_1x_1) + ... + (\\beta_nx_n)$$\n",
    "\n",
    "Svaki $x$ predstavlja drugu varijablu, a svaka varijabla ima svoj koeficijent pa u tom slučaju vrijedi:\n",
    "\n",
    "$$y = \\beta_0 + (\\beta_1 \\times Televizija) + (\\beta_2 \\times Radio) + (\\beta_3 \\times Novine)$$\n",
    "\n",
    "Izračunajmo koeficijente za sve ulazne varijable:"
   ]
  },
  {
   "cell_type": "code",
   "execution_count": null,
   "metadata": {
    "collapsed": false
   },
   "outputs": [],
   "source": [
    "varijable = ['Televizija', 'Radio', 'Novine']\n",
    "X = df[varijable]\n",
    "y = df.Prodaja\n",
    "\n",
    "# kreiranje instance modela\n",
    "lm = LinearRegression()\n",
    "# učenje\n",
    "lm.fit(X, y)\n",
    "\n",
    "# ispis koeficijenata linearne regresije\n",
    "print(lm.intercept_)\n",
    "list(zip(varijable, lm.coef_))"
   ]
  },
  {
   "cell_type": "markdown",
   "metadata": {},
   "source": [
    "## Kategoričke varijable s dvije vrijednosti\n",
    "\n",
    "U dosadašnjim primjerima su sve varijable bile numeričke, a u nastavku ćemo dodati i kategoričke varijable.\n",
    "\n",
    "Dodajmo varijablu **Tržište** i slučajim izborom joj dodijelimo vrijednosti \"**veliko**\" i \"**malo**\":"
   ]
  },
  {
   "cell_type": "code",
   "execution_count": null,
   "metadata": {
    "collapsed": false
   },
   "outputs": [],
   "source": [
    "# Kreiranje pseudoslučajnog niza brojeva\n",
    "np.random.seed(6543210)\n",
    "sluc_brojevi = np.random.rand(len(df))\n",
    "veliki_brojevi = sluc_brojevi > 0.5\n",
    "\n",
    "# Postavi svima vrijednost na 'malo' pa potom za sve vrijednosti veće od 0.5 na 'veliko'\n",
    "df['Trziste'] = 'malo'\n",
    "df.loc[veliki_brojevi, 'Trziste'] = 'veliko'\n",
    "df.head()"
   ]
  },
  {
   "cell_type": "markdown",
   "metadata": {},
   "source": [
    "Za **scikit-learn** vrijednosti svih varijabli moraju biti konvertirane u **numeričke**.\n",
    "\n",
    "Ako varijabla ima samo dvije kategorije, onda jednostavno možemo kreirati *dummy varijable* koje reprezentiraju svaku od kategorija kao binarnu vrijednost:"
   ]
  },
  {
   "cell_type": "code",
   "execution_count": null,
   "metadata": {
    "collapsed": false
   },
   "outputs": [],
   "source": [
    "# Kreiraj novi niz 'VelikoTrziste'\n",
    "df['VelikoTrziste'] = df.Trziste.map({'malo':0, 'veliko':1})\n",
    "df.head()"
   ]
  },
  {
   "cell_type": "markdown",
   "metadata": {},
   "source": [
    "Ponovimo višestruku linearnu regresiju s uključenom novom varijablom **VelikoTrziste**:"
   ]
  },
  {
   "cell_type": "code",
   "execution_count": null,
   "metadata": {
    "collapsed": false
   },
   "outputs": [],
   "source": [
    "varijable = ['Televizija', 'Radio', 'Novine', 'VelikoTrziste']\n",
    "X = df[varijable]\n",
    "y = df.Prodaja\n",
    "\n",
    "lm = LinearRegression()\n",
    "lm.fit(X, y)\n",
    "\n",
    "print(lm.intercept_)\n",
    "list(zip(varijable, lm.coef_))"
   ]
  },
  {
   "cell_type": "markdown",
   "metadata": {},
   "source": [
    "Kako interpretiramo koeficijent za **VelikoTrziste**?\n",
    "\n",
    "- Za zadani budžet radijskog, televizijskog i novinskog oglašavanja, veliko tržište je povezano s povećanjem prodaje od 34 jedinice proizvoda (u usporedbi s malim tržištem)\n",
    "\n",
    "Što bi se dogodilo da smo umjesto varijable \"**VelikoTrziste**\" kreirali varijablu \"**MaloTrziste**\"?"
   ]
  },
  {
   "cell_type": "code",
   "execution_count": null,
   "metadata": {
    "collapsed": false
   },
   "outputs": [],
   "source": [
    "# Kreiraj novi niz 'MaloTrziste'\n",
    "df['MaloTrziste'] = df.Trziste.map({'malo':1, 'veliko':0})\n",
    "df.head()\n",
    "\n",
    "varijable = ['Televizija', 'Radio', 'Novine', 'VelikoTrziste', 'MaloTrziste']\n",
    "X = df[varijable]\n",
    "y = df.Prodaja\n",
    "\n",
    "lm = LinearRegression()\n",
    "lm.fit(X, y)\n",
    "\n",
    "print(lm.intercept_)\n",
    "list(zip(varijable, lm.coef_))"
   ]
  },
  {
   "cell_type": "markdown",
   "metadata": {},
   "source": [
    "Kao što možemo vidjeti, **koeficijent je ostao isti, ali se promijenio predznak**, što znači da nije važno koju ćemo vrijednost izabrati za kreiranje *dummy varijable*, ali je moramo **pravilno interpretirati**."
   ]
  },
  {
   "cell_type": "markdown",
   "metadata": {},
   "source": [
    "## Kategoričke varijable s više od dvije vrijednosti\n",
    "\n",
    "Kreirajmo novu varijablu **Područje** i dodijelimo joj vrijednosti **gradsko**, **prigradsko** i **ruralno**:"
   ]
  },
  {
   "cell_type": "code",
   "execution_count": null,
   "metadata": {
    "collapsed": false
   },
   "outputs": [],
   "source": [
    "np.random.seed(123456)\n",
    "sluc_brojevi = np.random.rand(len(df))\n",
    "prigradska_podrucja = (sluc_brojevi > 0.33) & (sluc_brojevi < 0.66)\n",
    "urbana_podrucja = sluc_brojevi > 0.66\n",
    "\n",
    "df['Podrucje'] = 'ruralno'\n",
    "df.loc[prigradska_podrucja, 'Podrucje'] = 'prigradsko'\n",
    "df.loc[urbana_podrucja, 'Podrucje'] = 'urbano'\n",
    "df.head()"
   ]
  },
  {
   "cell_type": "markdown",
   "metadata": {},
   "source": [
    "Kao i u prethodnom primjeru s dvije vrijednosti varijable, i u ovom slučaju vrijednosti treba reprezentirati numerički, ali ne smijemo jednostavno kodirati nazive kao 0=ruralno, 1=prigradsko, 2=gradsko jer bismo time implicirali npr. stvarno nepostojeći redoslijed ili matematički netočan zaključak da dva prigradska područja vrijede kao jedno gradsko.\n",
    "\n",
    "Umjesto toga ćemo kreirati još dvije *dummy varijable*:"
   ]
  },
  {
   "cell_type": "code",
   "execution_count": null,
   "metadata": {
    "collapsed": false
   },
   "outputs": [],
   "source": [
    "# kreiranje dummy varijabli za prva dva od tri područja\n",
    "podrucja_dummies = pd.get_dummies(df.Podrucje, prefix='Podrucje').iloc[:, 1:]\n",
    "\n",
    "# spoji novokreirane stupce s postojećim DataFrameom (axis=0 označava retke, axis=1 označava stupce)\n",
    "df = pd.concat([df, podrucja_dummies], axis=1)\n",
    "df.head()"
   ]
  },
  {
   "cell_type": "markdown",
   "metadata": {},
   "source": [
    "Kodiranje interpretiramo na sljedeći način:\n",
    "- **ruralno** je kodirano kao podrucje_ruralno=1 i podrucje_urbano=0\n",
    "- **prigradsko** je kodirano kao podrucje_ruralno=0 i podrucje_urbano=0\n",
    "- **urbano** je kodirano kao podrucje_ruralno=0 i podrucje_urbano=1\n",
    "\n",
    "Budući da dvije kreirane *dummy* varijable pokrivaju sve tri vrijednosti, treća nam nije potrebna (općenito, kod kategoričkih varijabli s $n$ vrijednosti, potrebno je kreirati $n-1$ *dummy* varijabli.\n",
    "\n",
    "<br>\n",
    "<div class=\"alert alert-info\">\n",
    "<b>Zadatak 1</b>\n",
    "</div>\n",
    "\n",
    "Samostalno kreirajte model za predviđanje prodaje na temelju budžeta za televiziju, radio, novine i **područja** te ispišite koeficijente linearne regresije za sve varijable."
   ]
  },
  {
   "cell_type": "code",
   "execution_count": null,
   "metadata": {
    "collapsed": false
   },
   "outputs": [],
   "source": [
    "# ovdje upišite kôd koji rješava zadatak\n",
    "\n"
   ]
  },
  {
   "cell_type": "markdown",
   "metadata": {},
   "source": [
    "U sljedećoj ćeliji interpretirajte (tekstualno opišite) vrijednosti koeficijenata linearne regresije za sve ulazne varijable!"
   ]
  },
  {
   "cell_type": "markdown",
   "metadata": {},
   "source": [
    "Ovdje upišite odgovor:\n",
    "\n",
    "\n",
    "\n"
   ]
  },
  {
   "cell_type": "markdown",
   "metadata": {},
   "source": [
    "<br>\n",
    "<div class=\"alert alert-info\">\n",
    "<b>Kraj zadatka 1</b>\n",
    "</div>\n",
    "\n",
    "**Završna napomena**\n",
    "\n",
    "Ako varijabla ima kategoričke vrijednosti koje se mogu poredati u logičan vrijednosni niz (npr: **'ne slažem se', 'djelomično se ne slažem', 'nemam mišljenje', 'djelomično se slažem', 'slažem se'**), tada ipak, uvažavajući smisao, smijete kreirati samo jednu *dummy* varijablu koja će  vrijednosti reprezentirati numerički (npr. **1, 2, 3, 4, 5**)."
   ]
  }
 ],
 "metadata": {
  "anaconda-cloud": {},
  "kernelspec": {
   "display_name": "Python [Root]",
   "language": "python",
   "name": "Python [Root]"
  },
  "language_info": {
   "codemirror_mode": {
    "name": "ipython",
    "version": 3
   },
   "file_extension": ".py",
   "mimetype": "text/x-python",
   "name": "python",
   "nbconvert_exporter": "python",
   "pygments_lexer": "ipython3",
   "version": "3.5.2"
  }
 },
 "nbformat": 4,
 "nbformat_minor": 0
}
