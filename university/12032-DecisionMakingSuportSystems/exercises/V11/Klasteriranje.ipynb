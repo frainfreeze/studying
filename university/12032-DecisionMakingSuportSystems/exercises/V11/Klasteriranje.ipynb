{
 "cells": [
  {
   "cell_type": "markdown",
   "metadata": {},
   "source": [
    "<img src=\"vua.png\">"
   ]
  },
  {
   "cell_type": "markdown",
   "metadata": {},
   "source": [
    "# Klasteriranje\n",
    "\n",
    "Strojno učenje možemo provoditi na dva osnovna načina:\n",
    "- **nadzirano** učenje (engl. *supervised learning*)\n",
    "- **nenadzirano** učenje (engl *unsupervised learning*)\n",
    "\n",
    "Ako su nam poznati ulazni podaci i ciljne varijable tada se radi o nadziranom učenju prilikom kojeg koristimo **regresiju** za kontinuirane/brojčane vrijednosti ili **klasifikaciju** za diskretne/nebrojčane vrijednosti.\n",
    "\n",
    "Ako želimo pronaći pravilnost u podacima i od modela očekujemo da sam otkrije vrijednosti ciljnih varijabli tada se radi o nenadziranom učenju prilikom kojeg između ostalog koristimo **klasteriranje** (grupiranje, engl. *clustering*) i **smanjenje dimenzionalnosti** (engl. *dimensionality reduction*).\n",
    "\n",
    "||kontinuirane varijable|kategoričke varijable|\n",
    "|---|---|---|\n",
    "|**nadzirano učenje**|regresija|klasifikacija|\n",
    "|**nenadzirano učenje**|smanjenje dimenzionalnosti|**klasteriranje**|\n",
    "\n",
    "\n",
    "Tema ovih vježbi je **klasteriranje**:\n",
    "\n",
    "U poslovnoj praksi se možemo naći u situaciji rješavanja nekog problema na temelju podataka, ali bez definiranih izlaza ili ciljne varijable. Često želimo grupirati podatke, ali ne znamo na temelju kojih značajki ili u koliko ih je grupa optimalno podijeliti. Nemamo prethodno znanje što u njima tražiti. U takvim slučajevima tražimo sličnosti na temelju kojih bismo podatke mogli grupirati odnosno kreirati **klastere**.\n",
    "\n",
    "Tehnike klasteriranja služe formiranju grupa podataka sličnih vrijednosti. U ovim vježbama ćemo koristiti tehniku \"k-Means\". Prednost joj je da je jednostavna za razumijevanje, a nedostatak da je računalno dosta zahtjevna i sporo konvergira (dolazi do rješenja).\n",
    "\n",
    "\n",
    "Za početak ćemo pripremiti neophodne biblioteke funkcija. Novi objekti koji dosad nisu korišteni u vježbama su **kmeans**, **vq** i **cdist** iz biblioteke **scipy**. Više detalja možete pronaći na adresama:\n",
    "> https://docs.scipy.org/doc/scipy-0.18.1/reference/cluster.vq.html\n",
    "> https://docs.scipy.org/doc/scipy/reference/generated/scipy.spatial.distance.cdist.html\n",
    "\n",
    "\n",
    "Za razliku od nadziranog učenja, za koje smo koristili podatke s opservacijama koje pripadaju nekoj kategoriji s ciljem da napravimo model koji će učiti na primjerima, u ovom slučaju nemamo ciljnu varijablu već nam je zadatak pronaći znanje skriveno u podacima."
   ]
  },
  {
   "cell_type": "markdown",
   "metadata": {},
   "source": [
    "### Primjer\n",
    "\n",
    "Razmotrimo jedan od poznatih skupova podataka **iris** i klastere zasnovane na osobinama cvjetova. \n",
    "\n",
    "Postoje tri vrste irisa: *setosa* (plavo), *virginica* (zeleno) i *versicolor* (crveno).\n",
    "\n",
    "Pogledajmo izvorne podatke i dijagram rasipanja (engl. *scatterplot*) za varijable 'SepalLength' i 'PetalLength'."
   ]
  },
  {
   "cell_type": "code",
   "execution_count": null,
   "metadata": {},
   "outputs": [],
   "source": [
    "import pandas as pd\n",
    "import matplotlib.pyplot as plt\n",
    "\n",
    "df = pd.read_csv('iris.csv')\n",
    "print(df.shape, '\\n', df.describe())\n",
    "\n",
    "setosa = df[df.Species=='Iris-setosa']\n",
    "versicolor = df[df.Species=='Iris-versicolor']\n",
    "virginica = df[df.Species=='Iris-virginica']\n",
    "\n",
    "%pylab inline\n",
    "\n",
    "se = plt.scatter(setosa['SepalLength'], setosa['PetalLength'], marker='o', color='b', label='setosa')\n",
    "vi = plt.scatter(virginica['SepalLength'],virginica['PetalLength'], marker='o', color='g', label='virginica')\n",
    "ve = plt.scatter(versicolor['SepalLength'],versicolor['PetalLength'], marker='o', color='r', label='versicolor')\n",
    "leg = plt.legend(handles=[se, vi, ve], frameon=False, loc='lower right')"
   ]
  },
  {
   "cell_type": "markdown",
   "metadata": {},
   "source": [
    "Možemo uočiti da se stvaraju klasteri sa sličnim vrijednostima opservacija. Ovu ilustraciju koristimo zato što znamo da postoje tri vrste irisa i prirodno je da su osobine pojedine vrste slične i da će završiti u zasebnim klasterima.\n",
    "\n",
    "U slučaju u kojem unaprijed ne znamo broj klastera, potrebno je napraviti analizu klastera. Također, klasteriranje nije uvijek ovisno o atributima (osobinama) koje koristimo, pa je potrebno istražiti različite kombinacije."
   ]
  },
  {
   "cell_type": "markdown",
   "metadata": {},
   "source": [
    "### Vježba\n",
    "\n",
    "Na osnovu gornjeg primjera s varijablama *SepalLength* i *PetalLength* grafički prikažite klastere za kombinaciju varijabli **SepalLength** i **SepalWidth**."
   ]
  },
  {
   "cell_type": "code",
   "execution_count": null,
   "metadata": {},
   "outputs": [],
   "source": [
    "#ovdje upišite kôd koji rješava zadatak\n",
    "\n"
   ]
  },
  {
   "cell_type": "markdown",
   "metadata": {},
   "source": [
    "Postoji li razlika u odnosu na prethodni primjer?"
   ]
  },
  {
   "cell_type": "markdown",
   "metadata": {},
   "source": [
    "Odgovor:"
   ]
  },
  {
   "cell_type": "markdown",
   "metadata": {},
   "source": [
    "Možemo li unaprijed znati koje atribute treba izabrati?  "
   ]
  },
  {
   "cell_type": "markdown",
   "metadata": {},
   "source": [
    "Odgovor:"
   ]
  },
  {
   "cell_type": "markdown",
   "metadata": {},
   "source": [
    "Koristi li se domensko znanje (poznavanje karakteristika cvijeća) pri odabiru atributa za klasteriranje?"
   ]
  },
  {
   "cell_type": "markdown",
   "metadata": {},
   "source": [
    "Odgovor:"
   ]
  },
  {
   "cell_type": "markdown",
   "metadata": {},
   "source": [
    "\n",
    "### Primjena\n",
    "\n",
    "K-Means klastering je koristan u početnom istraživanju podataka kad nemamo ciljnu varijablu, a neki od primjera su:\n",
    "\n",
    "* **Prepoznavanje pojmova u tekstu**. Kako primjerice prepoznati da li riječ \"jaguar\" predstavlja automobil ili životinju? Ako su riječi oko nje primjerice u istom klasteru s riječima \"leopard\" i \"plijen\" u odnosu na riječi \"kilometri\" i \"kotači\" možemo zaključiti da se radi o životinji. Ovo nam omogućuje klasteriranje dokumenata.\n",
    "\n",
    "* **Demografski podaci**.  Klasteriranjem podataka o ponašanju korisnika neke usluge možemo grupirati uzorke te ih iskoristiti pri kreiranju prediktivnih modela prilagođenih svakom od klastera.\n",
    "\n",
    "* ..."
   ]
  },
  {
   "cell_type": "markdown",
   "metadata": {
    "collapsed": true
   },
   "source": [
    "### Podaci UN-a o državama svijeta\n",
    "\n",
    "U sljedećem primjeru ćemo potražiti korisne atribute u podacima iz datoteke UN.csv.\n",
    "\n",
    "> Napomena: Obratite pozornost na kvalitetu podataka (nedostajuće vrijednosti). Budući da imamo samo jednu opservaciju za svaku državu ne smijemo maknuti one s nedostajućim vrijednostima jer ćemo ostati bez većine podataka!\n",
    "\n",
    "Pogledajmo kako izgledaju podaci:"
   ]
  },
  {
   "cell_type": "code",
   "execution_count": null,
   "metadata": {},
   "outputs": [],
   "source": [
    "import pandas as pd\n",
    "df = pd.read_csv('UN.csv')\n",
    "print(df[:10])"
   ]
  },
  {
   "cell_type": "markdown",
   "metadata": {},
   "source": [
    "Pogledajmo koliko podataka nam je na raspolaganju za koje varijable:"
   ]
  },
  {
   "cell_type": "code",
   "execution_count": null,
   "metadata": {},
   "outputs": [],
   "source": [
    "print(df.count())"
   ]
  },
  {
   "cell_type": "markdown",
   "metadata": {},
   "source": [
    "Vidimo 14 atributa (**country** i **region** su *string*, a ostale *float*). Imamo ukupno 207 opservacija za 207 država. Osim države i regije koje imaju po 207 opservacija ostali atributi imaju nedostajućih vrijednosti.\n",
    "Kako ne želimo ostati bez većine država uzimamo samo atribute koji imaju malo nedostajućih vrijednosti (**tfr**, **lifeMale**, **lifeFemale**, **GDP**, **infantMortality**) i tako ostati bez samo par država.\n",
    "Da smo primjerice koristili **educationMale** i **educationFemale** ostali bismo bez 2/3 podataka. \n",
    "\n",
    "Novi skup podataka imat će atribute: **country**, **region**, **tfr**, **lifeMale**, **lifeFemale**, **GDP** i **infantMortality**. Intuitivno možemo pretpostaviti da vrijednosti varijabli **lifeMale**, **lifeFemale** i **infantMortality** u odnosu na **GDP** mogu dati relevantan rezultat.  \n",
    "\n",
    "Budući da unaprijed ne znamo na koliko klastera bi bilo optimalno podijeliti podatke, pokušajmo, za početak, napraviti klastere različitih kardinalnosti."
   ]
  },
  {
   "cell_type": "markdown",
   "metadata": {},
   "source": [
    "Koristit ćemo biblioteke **NumPy** i **SciPy** za *k-Means klastering* i to s k = 1 do 10 (broj klastera).  \n",
    "\n",
    "Za vježbu možemo pretpostaviti da je broj klastera manji od 10 i kreirati dijagram za odabir broja klastera iz kojeg možemo vidjeti koliko su klasteri dobro grupirani. Izračunajmo sumu kvadratnih udaljenosti svakog člana klastera od centra klastera pa to ponovimo za svaki klaster. U \"dobrim\" klasterima će udaljenosti biti manje, ali treba voditi računa o tome da će se udaljenosti smanjivati i povećanjem broja klastera. Promjena udaljenosti nije linearna pa uzimamo za *k* (broj klastera) zadnju vrijednost kod koje je pad bio značajan.\n",
    "\n",
    "Vratimo se podacima:  "
   ]
  },
  {
   "cell_type": "code",
   "execution_count": null,
   "metadata": {},
   "outputs": [],
   "source": [
    "# Učitavamo dokument u kojem su samo 4 atributa lifeMale, lifeFemale, infantMortality i GDPperCapita\n",
    "\n",
    "fName = ('UN4col.csv')\n",
    "fp = open(fName)\n",
    "X = np.loadtxt(fp)\n",
    "fp.close()\n",
    "X"
   ]
  },
  {
   "cell_type": "code",
   "execution_count": null,
   "metadata": {},
   "outputs": [],
   "source": [
    "import numpy as np\n",
    "from scipy.cluster.vq import kmeans,vq\n",
    "from scipy.spatial.distance import cdist\n",
    "import matplotlib.pyplot as plt\n",
    "\n",
    "##### Klasteriramo podatke u  K=1..10 klastera #####\n",
    "K = range(1,10)\n",
    "\n",
    "KM = [kmeans(X,k) for k in K] # apply kmeans 1 to 10\n",
    "centroids = [cent for (cent,var) in KM]   # cluster centroids\n",
    "\n",
    "D_k = [cdist(X, cent, 'euclidean') for cent in centroids]\n",
    "\n",
    "cIdx = [np.argmin(D,axis=1) for D in D_k]\n",
    "dist = [np.min(D,axis=1) for D in D_k]\n",
    "avgWithinSS = [sum(d)/X.shape[0] for d in dist]  "
   ]
  },
  {
   "cell_type": "code",
   "execution_count": null,
   "metadata": {},
   "outputs": [],
   "source": [
    "kIdx = 2\n",
    "# plot elbow curve\n",
    "fig = plt.figure()\n",
    "ax = fig.add_subplot(111)\n",
    "ax.plot(K, avgWithinSS, 'b*-')\n",
    "ax.plot(K[kIdx], avgWithinSS[kIdx], marker='o', markersize=12, \n",
    "      markeredgewidth=2, markeredgecolor='r', markerfacecolor='None')\n",
    "plt.grid(True)\n",
    "plt.xlabel('Broj klastera')\n",
    "plt.ylabel('Prosječna suma kvadrata udaljenosti')\n",
    "tt = plt.title('Elbow - k-Means klasteriranje')  "
   ]
  },
  {
   "cell_type": "markdown",
   "metadata": {},
   "source": [
    "Vidimo da bi 3 bio dobar broj klastera.\n",
    "Sad možemo iskoristiti k-Means algoritam za treniranje klastera primjerice za **Infant Mortality** i **GDP**.\n",
    "\n",
    "Prije nastavka, pogledajte kôd u datoteci **kmeans.py**, gdje se nalaze funkcije korištene kod sljedećih vizualizacija."
   ]
  },
  {
   "cell_type": "code",
   "execution_count": null,
   "metadata": {},
   "outputs": [],
   "source": [
    "from sklearn.cluster import KMeans\n",
    "km = KMeans(3, init='k-means++')\n",
    "km.fit(X)\n",
    "c = km.predict(X)"
   ]
  },
  {
   "cell_type": "code",
   "execution_count": null,
   "metadata": {},
   "outputs": [],
   "source": [
    "import kmeans as mykm\n",
    "(pl0,pl1,pl2) = mykm.plot_clusters(X,c,3,2)"
   ]
  },
  {
   "cell_type": "markdown",
   "metadata": {},
   "source": [
    "Iz grafičkog prikaza je vidljivo da države s manjim GDP-om imaju veću smrtnost beba, a rastom GDP-a smrtnost pada.\n",
    "\n",
    "Vidimo tri klastera koja i po GDP-u možemo odmah nazvati nerazvijene zemlje, zemlje u razvoju i razvijene zemlje.\n",
    "\n",
    "Probajmo neki drugi atribut - **lifeMale**..."
   ]
  },
  {
   "cell_type": "code",
   "execution_count": null,
   "metadata": {},
   "outputs": [],
   "source": [
    "(pl0,pl1,pl2) = mykm.plot_clusters(X,c,3,0,False)"
   ]
  },
  {
   "cell_type": "markdown",
   "metadata": {},
   "source": [
    "... i **lifeFemale**"
   ]
  },
  {
   "cell_type": "code",
   "execution_count": null,
   "metadata": {},
   "outputs": [],
   "source": [
    "(pl0,pl1,pl2) = mykm.plot_clusters(X,c,3,1,False)"
   ]
  },
  {
   "cell_type": "markdown",
   "metadata": {},
   "source": [
    "U zadnja dva prikaza vidimo da i dalje imamo klastere koji podjednako dijele uzorak po GDP-u, ali s drugim trendom (što je i očekivano)."
   ]
  },
  {
   "cell_type": "markdown",
   "metadata": {},
   "source": [
    "### Zadatak\n",
    "Prođite kroz kod i odgovorite na pitanja.  "
   ]
  },
  {
   "cell_type": "code",
   "execution_count": null,
   "metadata": {},
   "outputs": [],
   "source": [
    "import numpy as np\n",
    "from scipy.cluster.vq import kmeans\n",
    "from scipy.spatial.distance import cdist,pdist\n",
    "from sklearn import datasets\n",
    "from sklearn.decomposition import PCA\n",
    "from matplotlib import pyplot as plt\n",
    "from matplotlib import cm\n",
    "\n",
    "##### data #####\n",
    "# load digits dataset\n",
    "data = datasets.load_digits()\n",
    "t = data['target']"
   ]
  },
  {
   "cell_type": "code",
   "execution_count": null,
   "metadata": {},
   "outputs": [],
   "source": [
    "# Posjetite link\n",
    "# https://scikit-learn.org/stable/modules/generated/sklearn.datasets.load_digits.html\n",
    "# O kakvim se podacima radi, koliko ima uzoraka i koliko nezavisnih varijabli:\n"
   ]
  },
  {
   "cell_type": "code",
   "execution_count": null,
   "metadata": {},
   "outputs": [],
   "source": [
    "# perform PCA dimensionality reduction\n",
    "pca = PCA(n_components=2,svd_solver='randomized').fit(data['data'])\n",
    "X = pca.transform(data['data'])"
   ]
  },
  {
   "cell_type": "code",
   "execution_count": null,
   "metadata": {},
   "outputs": [],
   "source": [
    "# Posjetite link\n",
    "# https://scikit-learn.org/stable/modules/generated/sklearn.decomposition.PCA.html\n",
    "# Što se dogodilo s podacima i što je napravio PCA\n",
    "\n"
   ]
  },
  {
   "cell_type": "code",
   "execution_count": null,
   "metadata": {},
   "outputs": [],
   "source": [
    "##### cluster data into K=1..20 clusters #####\n",
    "K_MAX = 20\n",
    "KK = range(1,K_MAX+1)\n",
    "\n",
    "KM = [kmeans(X,k) for k in KK]\n",
    "centroids = [cent for (cent,var) in KM]\n",
    "D_k = [cdist(X, cent, 'euclidean') for cent in centroids]\n",
    "cIdx = [np.argmin(D,axis=1) for D in D_k]\n",
    "dist = [np.min(D,axis=1) for D in D_k]\n",
    "\n",
    "tot_withinss = [sum(d**2) for d in dist]  # Total within-cluster sum of squares\n",
    "totss = sum(pdist(X)**2)/X.shape[0]       # The total sum of squares\n",
    "betweenss = totss - tot_withinss          # The between-cluster sum of squares\n"
   ]
  },
  {
   "cell_type": "code",
   "execution_count": null,
   "metadata": {},
   "outputs": [],
   "source": [
    "# Posjetite link\n",
    "# https://docs.scipy.org/doc/scipy/reference/generated/scipy.cluster.vq.vq.html#scipy.cluster.vq.vq\n",
    "# Što radi kmeans, što predstavljaju \"centroids\"?\n",
    "\n"
   ]
  },
  {
   "cell_type": "code",
   "execution_count": null,
   "metadata": {},
   "outputs": [],
   "source": [
    "##### plots #####\n",
    "kIdx = 9        # K=10\n",
    "clr = cm.Spectral( np.linspace(0,1,10) ).tolist()\n",
    "mrk = 'os^p<dvh8>+x.'\n",
    "\n",
    "# elbow curve\n",
    "fig = plt.figure()\n",
    "ax = fig.add_subplot(111)\n",
    "ax.plot(KK, betweenss/totss*100, 'b*-')\n",
    "ax.plot(KK[kIdx], betweenss[kIdx]/totss*100, marker='o', markersize=12, \n",
    "    markeredgewidth=2, markeredgecolor='r', markerfacecolor='None')\n",
    "ax.set_ylim((0,100))\n",
    "plt.grid(True)\n",
    "plt.xlabel('Number of clusters')\n",
    "plt.ylabel('Percentage of variance explained (%)')\n",
    "plt.title('Elbow for KMeans clustering')\n",
    "plt.show()"
   ]
  },
  {
   "cell_type": "code",
   "execution_count": null,
   "metadata": {},
   "outputs": [],
   "source": [
    "# Posjetite link\n",
    "# https://scikit-learn.org/stable/auto_examples/cluster/plot_kmeans_silhouette_analysis.html\n",
    "# Kako koristimo elbow krivulju?"
   ]
  },
  {
   "cell_type": "code",
   "execution_count": null,
   "metadata": {},
   "outputs": [],
   "source": [
    "# show centroids for K=10 clusters\n",
    "plt.figure()\n",
    "for i in range(kIdx+1):\n",
    "    img = pca.inverse_transform(centroids[kIdx][i]).reshape(8,8)\n",
    "    ax = plt.subplot(3,4,i+1)\n",
    "    ax.set_xticks([])\n",
    "    ax.set_yticks([])\n",
    "    plt.imshow(img, cmap=cm.gray)\n",
    "    plt.title( 'Cluster %d' % i )\n",
    "plt.show()"
   ]
  },
  {
   "cell_type": "code",
   "execution_count": null,
   "metadata": {},
   "outputs": [],
   "source": [
    "# dodano da ne javlja upozorenja\n",
    "from matplotlib.axes._axes import _log as matplotlib_axes_logger\n",
    "matplotlib_axes_logger.setLevel('ERROR')\n",
    "# --------------------------------------------------------------\n",
    "\n",
    "# compare K=10 clustering vs. actual digits\n",
    "fig = plt.figure(figsize=(16, 12))\n",
    "ax = fig.add_subplot(121)\n",
    "for i in range(10):\n",
    "    ind = (t==i)\n",
    "    ax.scatter(X[ind,0],X[ind,1], s=35, c=clr[i], marker=mrk[i], label='%d'%i)\n",
    "plt.legend()\n",
    "plt.title('Actual Digits')\n",
    "ax = fig.add_subplot(122)\n",
    "for i in range(kIdx+1):\n",
    "    ind = (cIdx[kIdx]==i)\n",
    "    ax.scatter(X[ind,0],X[ind,1], s=35, c=clr[i], marker=mrk[i], label='C%d'%i)\n",
    "plt.legend()\n",
    "plt.title('K=%d clusters'%KK[kIdx])\n",
    "\n",
    "plt.show()"
   ]
  },
  {
   "cell_type": "code",
   "execution_count": null,
   "metadata": {},
   "outputs": [],
   "source": [
    "# Da li klustering algoritam može dodjeliti vrijednost klasi i zašto?\n",
    "\n",
    "\n"
   ]
  }
 ],
 "metadata": {
  "anaconda-cloud": {},
  "kernelspec": {
   "display_name": "Python 3",
   "language": "python",
   "name": "python3"
  },
  "language_info": {
   "codemirror_mode": {
    "name": "ipython",
    "version": 3
   },
   "file_extension": ".py",
   "mimetype": "text/x-python",
   "name": "python",
   "nbconvert_exporter": "python",
   "pygments_lexer": "ipython3",
   "version": "3.7.3"
  }
 },
 "nbformat": 4,
 "nbformat_minor": 1
}
