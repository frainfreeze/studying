{
 "cells": [
  {
   "cell_type": "markdown",
   "metadata": {},
   "source": [
    "<img src=\"vua.png\">"
   ]
  },
  {
   "cell_type": "markdown",
   "metadata": {},
   "source": [
    "# Logistička regresija i spremanje modela za kasniju uporabu\n",
    "\n",
    "Za spremanje modela koristimo biblioteku **pickle** (više detalja možete pronaći na adresi https://docs.python.org/2/library/pickle.html)\n",
    "\n",
    "Nakon što istreniramo model možemo ga pospremiti na disk, te ga učitati kad trebamo napraviti predikcije.\n",
    "\n",
    "Koristit će mo online set podataka o dijabetesu te napraviti model korištenjem **logističke regresije** (http://scikit-learn.org/stable/modules/generated/sklearn.linear_model.LogisticRegression.html).\n",
    "\n",
    "Informacije o podatkovnom setu možete pronaći na https://www.kaggle.com/uciml/pima-indians-diabetes-database\n",
    "\n",
    "Prvo učitamo potrebne biblioteke"
   ]
  },
  {
   "cell_type": "code",
   "execution_count": null,
   "metadata": {},
   "outputs": [],
   "source": [
    "import pandas\n",
    "from sklearn import model_selection\n",
    "from sklearn.linear_model import LogisticRegression\n",
    "import pickle\n",
    "import numpy as np\n",
    "import matplotlib.pyplot as plt\n",
    "\n",
    "%matplotlib inline"
   ]
  },
  {
   "cell_type": "markdown",
   "metadata": {},
   "source": [
    "Podatke ćemo preuzeti iz direktno s interneta"
   ]
  },
  {
   "cell_type": "code",
   "execution_count": null,
   "metadata": {},
   "outputs": [],
   "source": [
    "# u varijablu url dodamo url s podacima\n",
    "url = \"https://raw.githubusercontent.com/jbrownlee/Datasets/master/pima-indians-diabetes.data.csv\"\n",
    "\n",
    "# kako podaci nemaju zaglavlje u varijablu names dodamo nazive stupaca\n",
    "names = ['preg', 'plas', 'pres', 'skin', 'test', 'mass', 'pedi', 'age', 'class']\n",
    "\n",
    "df = pandas.read_csv(url, names=names)"
   ]
  },
  {
   "cell_type": "markdown",
   "metadata": {},
   "source": [
    "Ulazne varijable su:\n",
    "1. Number of times pregnant \n",
    "2. Plasma glucose concentration a 2 hours in an oral glucose tolerance test \n",
    "3. Diastolic blood pressure (mm Hg) \n",
    "4. Triceps skin fold thickness (mm) \n",
    "5. 2-Hour serum insulin (mu U/ml) \n",
    "6. Body mass index (weight in kg/(height in m)^2) \n",
    "7. Diabetes pedigree function \n",
    "8. Age (years) \n",
    "9. Class variable (0 or 1) \n",
    "\n",
    "Ciljna varijabla je:\n",
    "- **class**: oboljela od dijabetesa"
   ]
  },
  {
   "cell_type": "code",
   "execution_count": null,
   "metadata": {},
   "outputs": [],
   "source": [
    "# Upiš kod da provjeriš koliko imamo observacija u podatkovnom setu (.shape)\n"
   ]
  },
  {
   "cell_type": "markdown",
   "metadata": {},
   "source": [
    "Pripremimo podatke za modeliranje"
   ]
  },
  {
   "cell_type": "code",
   "execution_count": null,
   "metadata": {},
   "outputs": [],
   "source": [
    "# u varijablu array zapišemo datafreme\n",
    "array = df.values\n",
    "array [0]"
   ]
  },
  {
   "cell_type": "code",
   "execution_count": null,
   "metadata": {},
   "outputs": [],
   "source": [
    "# u varijablu X pospremimo nezavisne varijable\n",
    "X = array[:,0:8]\n",
    "\n",
    "# u varijablu Y pospremimo ciljnu varijablu\n",
    "Y = array[:,8]"
   ]
  },
  {
   "cell_type": "code",
   "execution_count": null,
   "metadata": {},
   "outputs": [],
   "source": [
    "# u varijablu test_size dodamo vrijednost koliko uzorka želimo koristiti za testiranje\n",
    "test_size = 0.33\n",
    "\n",
    "# u vatijablu seed upišemo neki broj koji će koristiti random generator za određivanje testnog uzorka\n",
    "seed = 7"
   ]
  },
  {
   "cell_type": "code",
   "execution_count": null,
   "metadata": {},
   "outputs": [],
   "source": [
    "# generiramo uzorak za treniranje (učenje) i za testiranje\n",
    "X_train, X_test, Y_train, Y_test = model_selection.train_test_split(X, Y, test_size=test_size, random_state=seed)"
   ]
  },
  {
   "cell_type": "code",
   "execution_count": null,
   "metadata": {},
   "outputs": [],
   "source": [
    "# treniranje modela\n",
    "model = LogisticRegression(solver='liblinear')\n",
    "model.fit(X_train, Y_train)"
   ]
  },
  {
   "cell_type": "code",
   "execution_count": null,
   "metadata": {},
   "outputs": [],
   "source": [
    "# provjerimo točnost modela s testnim podacima\n",
    "model.score(X_test, Y_test)"
   ]
  },
  {
   "cell_type": "code",
   "execution_count": null,
   "metadata": {},
   "outputs": [],
   "source": [
    "# upišite neke vrijednosti i isprobajte model\n",
    "preg = 2.\n",
    "plas = 100.\n",
    "pres = 70.\n",
    "skin = 30.\n",
    "test = 0.\n",
    "mass = 32.\n",
    "pedi = 0.5\n",
    "age = 40\n",
    "model.predict([[preg, plas, pres, skin, test, mass, pedi, age]])"
   ]
  },
  {
   "cell_type": "markdown",
   "metadata": {},
   "source": [
    "Probajte mjenjati vrijednosti nezavisnih varijabli da dobijete drugačiju predikciju"
   ]
  },
  {
   "cell_type": "markdown",
   "metadata": {},
   "source": [
    "### Snimanje modela"
   ]
  },
  {
   "cell_type": "code",
   "execution_count": null,
   "metadata": {},
   "outputs": [],
   "source": [
    "# pospremimo ime datoteke u koju će mo pospremiti model\n",
    "filename = 'testni_model.sav'\n",
    "\n",
    "# spremimo model u datoteku\n",
    "pickle.dump(model, open(filename, 'wb'))"
   ]
  },
  {
   "cell_type": "markdown",
   "metadata": {},
   "source": [
    "Sada nam je model pospremljen u datoteku *testni_model.sav*. Kasnije kada trebamo koristiti model nećemo morati ponovno trenirati model već ga jednostavno učitati iz datoteke i koristiti."
   ]
  },
  {
   "cell_type": "markdown",
   "metadata": {},
   "source": [
    "### Učitavanje modela"
   ]
  },
  {
   "cell_type": "code",
   "execution_count": null,
   "metadata": {},
   "outputs": [],
   "source": [
    "# pospremimo ime datoteke iz koje će mo učitati model\n",
    "filename = 'testni_model.sav'\n",
    "\n",
    "# učitamo model\n",
    "loaded_model = pickle.load(open(filename, 'rb'))"
   ]
  },
  {
   "cell_type": "markdown",
   "metadata": {},
   "source": [
    "Sada nam je model učitan u *loaded_model* pa idemo isprobati da li dobijamo isti rezultat kao i prije."
   ]
  },
  {
   "cell_type": "code",
   "execution_count": null,
   "metadata": {},
   "outputs": [],
   "source": [
    "# kako još uvijek u memoriji imamo dio uzorka za testiranje provjerimo da li nam je koeficjen korelacije jednak (R^2)\n",
    "loaded_model.score(X_test, Y_test)"
   ]
  },
  {
   "cell_type": "code",
   "execution_count": null,
   "metadata": {},
   "outputs": [],
   "source": [
    "loaded_model.predict([[preg, plas, pres, skin, test, mass, pedi, age]])"
   ]
  },
  {
   "cell_type": "markdown",
   "metadata": {},
   "source": [
    "<br>\n",
    "<div class=\"alert alert-info\">\n",
    "<b>Zadatak 1</b>\n",
    "</div>\n",
    "\n",
    "Napravite program koji će korištenjem podatkovng skupa iz prethodne vježbe *Oglasi.csv* napraviti model logističke regresije (prodaju morate pretvoriti u kategoričku varijablu, npr. uzmete srednju vrijednost i zapišete da li je vrijednost pojedinog zapisa veća od srednje vrijednosti) i spremite ga u datoteku *Oglasi.sav*"
   ]
  },
  {
   "cell_type": "code",
   "execution_count": null,
   "metadata": {},
   "outputs": [],
   "source": [
    "# ovdje upišite kôd koji rješava zadatak\n",
    "\n"
   ]
  },
  {
   "cell_type": "markdown",
   "metadata": {},
   "source": [
    "<br>\n",
    "<div class=\"alert alert-info\">\n",
    "<b>Kraj zadatka 1</b>\n",
    "</div>"
   ]
  }
 ],
 "metadata": {
  "anaconda-cloud": {},
  "kernelspec": {
   "display_name": "Python 3",
   "language": "python",
   "name": "python3"
  },
  "language_info": {
   "codemirror_mode": {
    "name": "ipython",
    "version": 3
   },
   "file_extension": ".py",
   "mimetype": "text/x-python",
   "name": "python",
   "nbconvert_exporter": "python",
   "pygments_lexer": "ipython3",
   "version": "3.7.3"
  }
 },
 "nbformat": 4,
 "nbformat_minor": 1
}
