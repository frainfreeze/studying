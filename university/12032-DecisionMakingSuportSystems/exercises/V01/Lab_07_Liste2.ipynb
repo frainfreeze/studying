{
 "cells": [
  {
   "cell_type": "markdown",
   "metadata": {},
   "source": [
    "<img src=\"Slike/vua.png\">"
   ]
  },
  {
   "cell_type": "markdown",
   "metadata": {},
   "source": [
    "# Liste (nastavak)\n",
    "U prethodnoj vježbi upoznali smo se s kreiranjem lista i pristupanjem pojedinim\n",
    "elementima liste. Sada idemo naučit kako pristupiti elementima kroz petlju.\n"
   ]
  },
  {
   "cell_type": "markdown",
   "metadata": {},
   "source": [
    "Kada smo ispisivali elemente liste, morali smo upisivati indekse i ispisivati\n",
    "svaki od elemenata posebno. Sad ćemo se upoznati s naredbom **for** za petlje i\n",
    "njezinom primjenom na listama."
   ]
  },
  {
   "cell_type": "code",
   "execution_count": null,
   "metadata": {},
   "outputs": [],
   "source": [
    "# definiramo novu listu imena\n",
    "imena = ['Marija', 'Hrvoje', 'Štef', 'Ivana']\n",
    "#ispis elemenata liste\n",
    "for ime in imena:\n",
    "    print (ime)"
   ]
  },
  {
   "cell_type": "markdown",
   "metadata": {},
   "source": [
    "Prvo smo definirali listu s imenima, te potom pozvali naredbu **for** koja u\n",
    "varijablu *ime* sprema prvi element liste te izvršava dio koda koji se nalazi\n",
    "ispod nje, uvučen prema sredini. To sve ponavlja dok ima elemenata u listi. To\n",
    "bismo mogli prevesti kao: **za svako ime u imenima ispiši ime**.\n",
    "  \n",
    "```python\n",
    "for ime in imena:\n",
    "```\n",
    "U ovoj liniji *Python* dohvaća prvi element liste i posprema ga u varijablu\n",
    "*ime*. Obratite pozornost na to da kod završava dvotočkom (:).\n",
    "  \n",
    "```python\n",
    "    print (ime)\n",
    "```\n",
    "U ovoj liniji *Python ispisuje vrijednost varijable ime. Kako ima još elemenata\n",
    "liste,* Python *vraća izvršavanje na prethodnu liniju i u varijablu ime sprema\n",
    "sljedeći element liste. To se sve ponavlja dok ima elemenata u listi. Kada smo\n",
    "definirali petlju* **for***, uveli smo privremenu varijablu \\*ime\\*.* Mogli smo\n",
    "je nazvati bilo kako, ali kako smo već prije spomenuli, liste je najbolje\n",
    "nazivati u množini po sadržaju koji se u njima nalaze, a, sukladno tome, ovdje\n",
    "je prikladno iskoristiti isti naziv, ali u jednini. Osim ispisa elemenata liste,\n",
    "možemo koristiti i povezivanje teksta pa napraviti da ispisuje rečenice u kojima\n",
    "će ti elementi biti dio sadržaja."
   ]
  },
  {
   "cell_type": "code",
   "execution_count": null,
   "metadata": {},
   "outputs": [],
   "source": [
    "# definiramo novu listu imena\n",
    "imena = ['Marija', 'Hrvoje', 'Štef', 'Ivana']\n",
    "#ispis elemenata liste\n",
    "for ime in imena:\n",
    "    print (ime + ' je moj prijatelj.')\n"
   ]
  },
  {
   "cell_type": "markdown",
   "metadata": {},
   "source": [
    "Ispod petlje **for** mogli smo napisati i više linija koda. Sve dok naredbe\n",
    "počinju uvučene za 4 prazna znaka, one će se ponovno izvršavati sve dok se ne\n",
    "prođe kroz sva imena u listi."
   ]
  },
  {
   "cell_type": "code",
   "execution_count": null,
   "metadata": {},
   "outputs": [],
   "source": [
    "# definiramo novu listu imena\n",
    "imena = ['Marija', 'Hrvoje', 'Štef', 'Ivana']\n",
    "#ispis elemenata liste\n",
    "for ime in imena:\n",
    "    print (ime + ' je moj prijatelj.')\n",
    "    print ('Ja i ' + ime + ' idemo u kino.')\n",
    "    print ('\\n')"
   ]
  },
  {
   "cell_type": "markdown",
   "metadata": {},
   "source": [
    "Kada petlja prođe svim elementima liste i izvrši instrukcije koje su uvučene\n",
    "ispod nje, izvršit će sljedeće naredbe koje počinju na početku reda. Najbolja\n",
    "praksa je da iza petlje ostavite jedan prazan redak radi lakšeg praćenja."
   ]
  },
  {
   "cell_type": "code",
   "execution_count": null,
   "metadata": {},
   "outputs": [],
   "source": [
    "# definiramo novu listu imena\n",
    "imena = ['Marija', 'Hrvoje', 'Štef', 'Ivana']\n",
    "#ispis elemenata liste\n",
    "for ime in imena:\n",
    "    print (ime + ' je moj prijatelj.')\n",
    "    print ('Ja i ' + ime + ' idemo u kino.')\n",
    "    print ('\\n')\n",
    "    \n",
    "print('Pozdrav')"
   ]
  },
  {
   "cell_type": "markdown",
   "metadata": {},
   "source": [
    "Ako, pak, slučajno ne uvučemo kod koji se nalazi ispod petlje, dobit ćemo poruku\n",
    "o grešci koja nas upozorava na uvlačenje instrukcija ispod petlje:\n",
    "**IndentationError: expected an indented block**."
   ]
  },
  {
   "cell_type": "code",
   "execution_count": null,
   "metadata": {},
   "outputs": [],
   "source": [
    "for ime in imena:\n",
    "print (ime + ' je moj prijatelj.')"
   ]
  },
  {
   "cell_type": "markdown",
   "metadata": {},
   "source": [
    "Ako napravimo istu pogrešku, ali ne s prvim redom ispod petlje, nema poruke o\n",
    "grešci jer *Python* smatra da je tu liniju treba izvršiti nakon što prođe\n",
    "elementima liste. Ovo je *logička* greška te kod nje *Python* nije u mogućnosti\n",
    "prepoznati da je riječ o grešci. Slična stvar će se dogoditi ako slučajno\n",
    "uvučemo neku liniju koja bi se trebala izvršiti tek nakon petlje. Nema poruke o\n",
    "grešci, već će se izvršiti onoliko puta koliko ima elemenata u listi."
   ]
  },
  {
   "cell_type": "code",
   "execution_count": null,
   "metadata": {},
   "outputs": [],
   "source": [
    "# definiramo novu listu imena\n",
    "imena = ['Marija', 'Hrvoje', 'Štef', 'Ivana']\n",
    "#ispis elemenata liste\n",
    "for ime in imena:\n",
    "    print (ime + ' je moj prijatelj.')\n",
    "print ('Ja i ' + ime + ' idemo u kino.')\n"
   ]
  },
  {
   "cell_type": "markdown",
   "metadata": {},
   "source": [
    "<br><div class=\"alert alert-info\"><b>Vježba</b></div></br>"
   ]
  },
  {
   "cell_type": "markdown",
   "metadata": {},
   "source": [
    "Napišite program u kojem u listi imate popis tri najdraža jela.  \n",
    "Napravite petlju koja će ispisati nazive jela.  \n",
    "Napravite dugu petlju u kojoj je taj naziv dio rečenice tipa „Sarma je jako dobra.\"  \n",
    "* Pokušajte iskoristiti metodu **title()** da osigurate da rečenica počinje velikim slovom.\n"
   ]
  },
  {
   "cell_type": "code",
   "execution_count": 4,
   "metadata": {},
   "outputs": [
    {
     "name": "stdout",
     "output_type": "stream",
     "text": [
      "kremsnita\n",
      "lignje\n",
      "onaj komad kruha iza frizidera na kraju mjeseca\n",
      "kremsnita je jako dobra\n",
      "lignje je jako dobra\n",
      "onaj komad kruha iza frizidera na kraju mjeseca je jako dobra\n"
     ]
    }
   ],
   "source": [
    "jela = [\"kremsnita\", \"lignje\", \"onaj komad kruha iza frizidera na kraju mjeseca\"]\n",
    "for j in jela:\n",
    "    print(j)\n",
    "    \n",
    "for j in jela:\n",
    "    print(f\"{j} je jako dobra\")"
   ]
  },
  {
   "cell_type": "markdown",
   "metadata": {},
   "source": [
    "<br><div class=\"alert alert-info\"><b>Kraj</b></div></br>"
   ]
  },
  {
   "cell_type": "markdown",
   "metadata": {},
   "source": [
    "Osim teksta, jako često u listama imamo i brojeve. Funkcija **range()** nam\n",
    "omogućuje da napravimo seriju brojeva."
   ]
  },
  {
   "cell_type": "code",
   "execution_count": null,
   "metadata": {},
   "outputs": [],
   "source": [
    "#ispis niza projeva\n",
    "for broj in range(1,5):\n",
    "    print(broj)"
   ]
  },
  {
   "cell_type": "markdown",
   "metadata": {},
   "source": [
    "Iako smo očekivali da ćemo dobiti brojeve od 1 do 5, to se nije dogodilo jer\n",
    "*Python* kod definiranja raspona uzima prvi broj, ali ide do zadnjeg i njega ne\n",
    "uključuje u raspon. Ako želimo dobiti brojeve od 1 do 5, moramo upisati\n",
    "range(1,6). Funkciju **range()** možemo koristiti i sa samo jednim parametrom te\n",
    "ćemo dobiti raspon od 0 do broja koji smo upisali."
   ]
  },
  {
   "cell_type": "code",
   "execution_count": null,
   "metadata": {},
   "outputs": [],
   "source": [
    "#ispis niza projeva\n",
    "for broj in range(5):\n",
    "    print(broj)"
   ]
  },
  {
   "cell_type": "markdown",
   "metadata": {},
   "source": [
    "Jednako tako, možemo dodati i treći parametar koji će biti veličina pomaka.\n",
    "Primjerice, ako želimo parne brojeve do broja 10 možemo napisati:"
   ]
  },
  {
   "cell_type": "code",
   "execution_count": null,
   "metadata": {},
   "outputs": [],
   "source": [
    "#ispis niza projeva\n",
    "for broj in range(2,10,2):\n",
    "    print(broj)"
   ]
  },
  {
   "cell_type": "markdown",
   "metadata": {},
   "source": [
    "Funkciju **range()** možemo koristiti da napravimo listu."
   ]
  },
  {
   "cell_type": "code",
   "execution_count": null,
   "metadata": {},
   "outputs": [],
   "source": [
    "brojevi = list(range(1,6))\n",
    "print (brojevi)"
   ]
  },
  {
   "cell_type": "markdown",
   "metadata": {},
   "source": [
    "Kombiniranjem funkcije **range()** možemo napraviti i liste koje sadrže neke\n",
    "izračunate vrijednosti. Primjerice lista kvadrata svih brojeva od 1 do 10.  \n",
    "Prvo inicijaliziramo praznu listu.  \n",
    "Zatim pokrenemo petlju korištenjem funkcije **range()**.  \n",
    "Unutar petlje napravimo kalkulaciju (kvadriranje).  \n",
    "Rezultat dodamo u listu.  \n",
    "Na kraju ispišemo listu."
   ]
  },
  {
   "cell_type": "code",
   "execution_count": null,
   "metadata": {},
   "outputs": [],
   "source": [
    "# definiramo praznu listu\n",
    "kvardati = []\n",
    "#petlja koja računa kvadrate i dodaje ih u listu\n",
    "for broj in range(1,11):\n",
    "    kvadrat = broj ** 2\n",
    "    kvardati.append(kvadrat)\n",
    "#Ispis liste\n",
    "print (kvardati)"
   ]
  },
  {
   "cell_type": "markdown",
   "metadata": {},
   "source": [
    "Kad se uz listi nalaze samo brojevi, možemo napraviti i osnovnu statistiku:\n",
    "pronaći minimum funkcijom **min()**, maksimum funkcijom **max()**, ili sumu svih\n",
    "elemenata liste funkcijom **sum()**."
   ]
  },
  {
   "cell_type": "code",
   "execution_count": null,
   "metadata": {},
   "outputs": [],
   "source": [
    "brojevi = [1, 4, 9, 16, 25, 36, 49, 64, 81, 100]\n",
    "print ('U listi s elementima ' + str(brojevi))\n",
    "print('najmanji broj je ' + str(min(brojevi)) + ',')\n",
    "print('najveći broj je ' + str(max(brojevi)) + ' i ')\n",
    "print('suma je ' + str(sum(brojevi)) + '.')"
   ]
  },
  {
   "cell_type": "markdown",
   "metadata": {},
   "source": [
    "Prethodno smo vidjeli kako možemo u nekoliko linija kôda napraviti listu koja\n",
    "sadrži izračunate vrijednosti. Upoznajmo se s još jednim načinom kako to možemo\n",
    "napraviti u samo jednoj liniji kôda – sažet način za stvaranje list (*list\n",
    "comprehension*). Nova lista može se stvoriti kao rezultat operacije nad članovima\n",
    "neke druge sekvence. Uglate zagrade unutar kojih se nalazi izraz koji slijedi\n",
    "naredba **for**, može biti još naredbi **for** i **if**.\n"
   ]
  },
  {
   "cell_type": "code",
   "execution_count": null,
   "metadata": {},
   "outputs": [],
   "source": [
    "kvadrati = [broj ** 2 for broj in range(1,11)]\n",
    "print (kvadrati)"
   ]
  },
  {
   "cell_type": "markdown",
   "metadata": {},
   "source": [
    "<br><div class=\"alert alert-info\"><b>Vježba</b></div></br>"
   ]
  },
  {
   "cell_type": "markdown",
   "metadata": {},
   "source": [
    "Napišite program koji ispisuje brojeve od 1 do 20 i uključuje i broj 1 i broj 20."
   ]
  },
  {
   "cell_type": "code",
   "execution_count": 9,
   "metadata": {},
   "outputs": [
    {
     "name": "stdout",
     "output_type": "stream",
     "text": [
      "1,2,3,4,5,6,7,8,9,11,12,13,14,15,16,17,18,19,20\n"
     ]
    }
   ],
   "source": [
    "for i in range(1,10):\n",
    "    print(i, end=\",\")\n",
    "print(\"11,12,13,14,15,16,17,18,19,20\")"
   ]
  },
  {
   "cell_type": "markdown",
   "metadata": {},
   "source": [
    "Napišite program koji u listu sprema brojeve od 1 do milijun.  \n",
    "Korištenjem funkcija min i max ispišite najmanji i najveći broj, te zbroj svih brojeva."
   ]
  },
  {
   "cell_type": "code",
   "execution_count": null,
   "metadata": {},
   "outputs": [],
   "source": [
    "for i in range(1,1000000):\n",
    "    "
   ]
  },
  {
   "cell_type": "markdown",
   "metadata": {},
   "source": [
    "Napišite program koji u listi ima brojeve djeljive s 3, u rasponu od 1 do 30.  \n",
    "Ispišite brojeve."
   ]
  },
  {
   "cell_type": "code",
   "execution_count": null,
   "metadata": {},
   "outputs": [],
   "source": []
  },
  {
   "cell_type": "markdown",
   "metadata": {},
   "source": [
    "<br><div class=\"alert alert-info\"><b>Kraj</b></div></br>"
   ]
  },
  {
   "cell_type": "markdown",
   "metadata": {},
   "source": [
    "Povremeno trebamo samo dio liste (engl. *slicing*). To možemo napraviti tako što\n",
    "u uglatoj zagradi, umjesto indeksa pojedinog elementa, upišemo raspon. Kada\n",
    "upisujemo raspon, vrijedi isto pravilo kao i kod funkcije **range()**: prvi broj\n",
    "će biti uključen, a zadnji neće. Primjerice, ako želimo 2. i 3. element liste\n",
    "moramo upisati raspon od 1 (sjetite se da *Python* elemente broji od 0. indeksa)\n",
    "do 3."
   ]
  },
  {
   "cell_type": "code",
   "execution_count": null,
   "metadata": {},
   "outputs": [],
   "source": [
    "# definiramo novu listu imena\n",
    "imena = ['Marija', 'Hrvoje', 'Štef', 'Ivana']\n",
    "# ispis 2. i 3. elementa\n",
    "print(imena[1:3])"
   ]
  },
  {
   "cell_type": "markdown",
   "metadata": {},
   "source": [
    "Ako prilikom unosa raspona izostavimo prvi broj, *Python* smatra da želimo\n",
    "dohvatiti elemente počevši od prvog (indeks 0).\n"
   ]
  },
  {
   "cell_type": "code",
   "execution_count": null,
   "metadata": {},
   "outputs": [],
   "source": [
    "# definiramo novu listu imena\n",
    "imena = ['Marija', 'Hrvoje', 'Štef', 'Ivana']\n",
    "# ispis elemenata od početka do trećeg\n",
    "print(imena[:3])"
   ]
  },
  {
   "cell_type": "markdown",
   "metadata": {},
   "source": [
    "Slično se događa ako izostavimo kraj: *Python* će uzeti sve do posljednjeg\n",
    "elementa.\n"
   ]
  },
  {
   "cell_type": "code",
   "execution_count": null,
   "metadata": {},
   "outputs": [],
   "source": [
    "# definiramo novu listu imena\n",
    "imena = ['Marija', 'Hrvoje', 'Štef', 'Ivana']\n",
    "# ispis elemenata od trećeg do kraja\n",
    "print(imena[2:])"
   ]
  },
  {
   "cell_type": "markdown",
   "metadata": {},
   "source": [
    "Kako nekad ne znamo veličinu liste, sjetite se da negativnim vrijednostima\n",
    "možemo indeksirati elemente u odnosu na kraj liste. Ako želimo ispisati zadnja\n",
    "tri elementa liste, možemo koristiti:"
   ]
  },
  {
   "cell_type": "code",
   "execution_count": null,
   "metadata": {},
   "outputs": [],
   "source": [
    "# definiramo novu listu imena\n",
    "imena = ['Marija', 'Hrvoje', 'Štef', 'Ivana']\n",
    "# ispis elemenata od trećeg do kraja\n",
    "print(imena[-3:])"
   ]
  },
  {
   "cell_type": "markdown",
   "metadata": {},
   "source": [
    "Kada radimo s dijelovima liste, možemo napraviti iste radnje kao i s cijelom\n",
    "listom. Primjerice, možemo koristiti petlje koje će raditi po dijelu liste."
   ]
  },
  {
   "cell_type": "code",
   "execution_count": null,
   "metadata": {},
   "outputs": [],
   "source": [
    "# definiramo novu listu imena\n",
    "imena = ['Marija', 'Hrvoje', 'Štef', 'Ivana']\n",
    "#ispis elemenata liste od 2 do kraja\n",
    "for ime in imena[1:]:\n",
    "    print (ime + ' je moj prijatelj.')"
   ]
  },
  {
   "cell_type": "markdown",
   "metadata": {},
   "source": [
    "Kada kopiramo liste, trebamo biti oprezni. Ako dodijelimo nekoj novoj varijabli\n",
    "vrijednost varijable koja već ima listu, *Python* neće napraviti kopiju već će\n",
    "samo za istu listu imati dva imena. Sjetite se prethodne priče o promjenjivosti\n",
    "i nepromjenjivosti objekata."
   ]
  },
  {
   "cell_type": "code",
   "execution_count": null,
   "metadata": {},
   "outputs": [],
   "source": [
    "# definiramo novu listu imena\n",
    "imena = ['Marija', 'Hrvoje', 'Štef', 'Ivana']\n",
    "# nova varijabla koja pokazuje na postojeću\n",
    "imena_druga = imena\n",
    "# dodajemo u obje po jedno ime\n",
    "imena.append('Mate')\n",
    "imena_druga.append('Ante')\n",
    "# ispis lista\n",
    "print (imena)\n",
    "print(imena_druga)"
   ]
  },
  {
   "cell_type": "markdown",
   "metadata": {},
   "source": [
    "<img src=\"Slike/12_7.png\" alt=\"Drawing\" style=\"width: 600px;\">\n",
    "\n",
    "Da bismo napravili kopiju koja će biti neovisna o originalu, moramo proslijediti\n",
    "vrijednosti liste, a ne samu listu. To radimo tako, da uz naziv liste dodamo\n",
    "uglate zagrade s rasponom. Ako želimo sve elemente, možemo jednostavno staviti\n",
    "dvotočku (:)."
   ]
  },
  {
   "cell_type": "code",
   "execution_count": null,
   "metadata": {},
   "outputs": [],
   "source": [
    "# definiramo novu listu imena\n",
    "imena = ['Marija', 'Hrvoje', 'Štef', 'Ivana']\n",
    "# nova varijabla koja pokazuje na postojeću\n",
    "imena_druga = imena[:]\n",
    "# dodajemo u obje po jedno ime\n",
    "imena.append('Mate')\n",
    "imena_druga.append('Ante')\n",
    "# ispis lista\n",
    "print (imena)\n",
    "print(imena_druga)"
   ]
  },
  {
   "cell_type": "markdown",
   "metadata": {},
   "source": [
    "Podsjetimo se da elemente liste uvijek možemo mijenjati dodjeljivanjem nove\n",
    "vrijednosti na pojedini indeks. Osim indeksa, možemo upisati raspon pa u jednom\n",
    "koraku promijeniti više elemenata liste."
   ]
  },
  {
   "cell_type": "code",
   "execution_count": null,
   "metadata": {},
   "outputs": [],
   "source": [
    "# definiramo novu listu s imenima\n",
    "imena = ['Marija', 'Hrvoje', 'Štef', 'Ivana']\n",
    "# Promjena prvog elementa\n",
    "imena[0] = 'Ivan'\n",
    "print (imena)\n",
    "# Promjena prva tri elementa\n",
    "imena[:3] = 3*['Mate']\n",
    "print (imena)\n",
    "# Promjena prva tri elementa\n",
    "imena[:3] = ['Jure', 'Ivan', 'Jana']\n",
    "print (imena)"
   ]
  },
  {
   "cell_type": "markdown",
   "metadata": {},
   "source": [
    "<br><div class=\"alert alert-info\"><b>Vježba</b></div></br>"
   ]
  },
  {
   "cell_type": "markdown",
   "metadata": {},
   "source": [
    "Napišite program u kojemu prvo u listu spremate svoja najdraža jela.  \n",
    "Napravite kopiju liste svojih najdražih jela i nazovite je partnerova_jela.  \n",
    "Iz nove liste obrišite neko jelo.  \n",
    "U obje liste dodajte po još jedno jelo.  \n",
    "Korištenjem petlje ispišite sva jela iz obje liste i provjerite razlikuju li se.  \n",
    "Korištenjem petlje ispišite prva tri jela iz prve liste.  \n",
    "Korištenjem petlje ispišite zadnja tri jela iz druge liste."
   ]
  },
  {
   "cell_type": "code",
   "execution_count": null,
   "metadata": {},
   "outputs": [],
   "source": []
  },
  {
   "cell_type": "markdown",
   "metadata": {},
   "source": [
    "<br><div class=\"alert alert-info\"><b>Kraj</b></div></br>"
   ]
  }
 ],
 "metadata": {
  "kernelspec": {
   "display_name": "Python 3",
   "language": "python",
   "name": "python3"
  },
  "language_info": {
   "codemirror_mode": {
    "name": "ipython",
    "version": 3
   },
   "file_extension": ".py",
   "mimetype": "text/x-python",
   "name": "python",
   "nbconvert_exporter": "python",
   "pygments_lexer": "ipython3",
   "version": "3.7.3"
  }
 },
 "nbformat": 4,
 "nbformat_minor": 2
}
