{
 "cells": [
  {
   "cell_type": "markdown",
   "metadata": {},
   "source": [
    "<img src=\"Slike/vua.png\">"
   ]
  },
  {
   "cell_type": "markdown",
   "metadata": {},
   "source": [
    "# Testiranje razreda\n",
    "\n",
    "Prije nego obradimo testiranje razreda, upoznajmo se s metodama provjere u\n",
    "razredu *unittest.TestCase*. Kao što je ranije spomenuto, metode *assert*\n",
    "provjeravaju je li stanje, koje treba biti istinito u određenoj točki u kodu,\n",
    "doista istinito. Ako je rezultat očekivan, potvrđuje se pretpostavka o tome kako\n",
    "se program ponaša i sigurni smo da ne postoje greške. Ako uvjet, za koji\n",
    "očekujemo da bude istinit, a kod izvršavanja programa to nije, *unittest*\n",
    "postavlja iznimku. Tablica opisuje šest najčešće korištenih metoda *assert*.\n",
    "Ovim metodama možemo provjeriti jesu li vraćene vrijednosti jednake ili\n",
    "različite od očekivanih vrijednosti, da su vrijednosti *True* ili *False*, te\n",
    "postoji li vrijednost u proslijeđenoj listi ili ne.\n",
    "  \n",
    "\n",
    "| **Metoda**           | **Opis**                             |\n",
    "|----------------------|--------------------------------------|\n",
    "| assertEqual(a, b)    | Provjerava je li *a* jednak *b*      |\n",
    "| assertNotEqual(a, b) | Provjerava je li *a* različit od *b* |\n",
    "| assertTrue(x)        | Provjerava je li *x True*            |\n",
    "| assertFalse(x)       | Provjerava je li *x False*           |\n",
    "| assertIn(x, list)    | Provjerava nalazi li se x u listi    |\n",
    "| assertNotIn(x, list) | Provjerava ne nalazi li se x u listi |\n",
    " "
   ]
  },
  {
   "cell_type": "markdown",
   "metadata": {},
   "source": [
    "Testiranje razreda slično je testiranju funkcija - veći dio se odnosi na\n",
    "testiranje ponašanja metoda. Postoji nekoliko razlika: napišimo razred *Upitnik*\n",
    "koji ćemo testirati. Napravite novu tekstualnu datoteku i kopirajte dolje\n",
    "navedeni sadržaj u nju. Promijenite joj naziv u upitnik.py i spremite promjene."
   ]
  },
  {
   "cell_type": "code",
   "execution_count": null,
   "metadata": {},
   "outputs": [],
   "source": [
    "class Upitnik():\n",
    "    \"\"\"Skuplja odgovore na upitnik\"\"\"\n",
    "    def __init__(self, pitanje):\n",
    "        \"\"\"Pospremi pitanje i napravi pripremu za pospremanje odgovora\"\"\"\n",
    "        self.pitanje = pitanje\n",
    "        self.odgovori = []\n",
    "        \n",
    "    def prikazi_pitanje(self):\n",
    "        \"\"\"Prikazuje pitanje\"\"\"\n",
    "        print(self.pitanje)\n",
    "        \n",
    "    def pohrani_odgovor(self, novi_odgovor):\n",
    "        \"\"\"Pospremi odgovor\"\"\"\n",
    "        self.odgovori.append(novi_odgovor)\n",
    "        \n",
    "    def prikazi_rezultate(self):\n",
    "        \"\"\"Prikaži odgovore\"\"\"\n",
    "        print(\"Rezultati:\")\n",
    "        for odgovor in self.odgovori:\n",
    "            print('- ' + odgovor)"
   ]
  },
  {
   "cell_type": "markdown",
   "metadata": {},
   "source": [
    "Napravimo program koji koristi razred *Upitnik*."
   ]
  },
  {
   "cell_type": "code",
   "execution_count": null,
   "metadata": {},
   "outputs": [],
   "source": [
    "from upitnik import Upitnik\n",
    "\n",
    "# Definiramo pitanje i provedemo upit\n",
    "pitanje = \"Unesi jezike koje si prve naučio.\"\n",
    "moja_anketa = Upitnik(pitanje)\n",
    "# Prikaži pitanje i pospremi odgovor\n",
    "moja_anketa.prikazi_pitanje()\n",
    "print(\"Upiši 'q' za izlaz iz programa.\\n\")\n",
    "while True:\n",
    "    odgovor = input(\"Jezik: \")\n",
    "    if odgovor == 'q':\n",
    "        break\n",
    "    moja_anketa.pohrani_odgovor(odgovor)\n",
    "    \n",
    "# Prikaži rezultat\n",
    "print(\"\\nHvala na sudjelovanju\")\n",
    "moja_anketa.prikazi_rezultate()"
   ]
  },
  {
   "cell_type": "markdown",
   "metadata": {},
   "source": [
    "Razred radi; napravimo test koji ćemo moći koristiti ako želimo napraviti neke\n",
    "nove mogućnosti u razredu, a da budemo sigurni da postojeće i dalje rade."
   ]
  },
  {
   "cell_type": "code",
   "execution_count": null,
   "metadata": {},
   "outputs": [],
   "source": [
    "import unittest\n",
    "from upitnik import Upitnik\n",
    "\n",
    "class TestUpitnik(unittest.TestCase):\n",
    "    \"\"\"Test za klasu Upitnik\"\"\"\n",
    "    def test_pohrani_odgovor(self):\n",
    "        \"\"\"Provjeri da je spremanje jednog odgovora prošlo kako treba\"\"\"\n",
    "        pitanje = \"Unesi jezike koji si prvi naučio govoriti?\"\n",
    "        moja_anketa = Upitnik(pitanje)\n",
    "        moja_anketa.pohrani_odgovor('Hrvatski')\n",
    "        self.assertIn('Hrvatski', moja_anketa.odgovori)\n",
    "        \n",
    "unittest.main(argv=['first-arg-is-ignored'], exit=False)"
   ]
  },
  {
   "cell_type": "markdown",
   "metadata": {},
   "source": [
    "Sve je prošlo u redu, ali provjerimo hoće li i spremanje tri odgovora isto tako\n",
    "dobro proći."
   ]
  },
  {
   "cell_type": "code",
   "execution_count": null,
   "metadata": {},
   "outputs": [],
   "source": [
    "import unittest\n",
    "from upitnik import Upitnik\n",
    "\n",
    "class TestUpitnik(unittest.TestCase):\n",
    "    \"\"\"Test za klasu Upitnik\"\"\"\n",
    "    def test_pohrani_1_odgovor(self):\n",
    "        \"\"\"Provjeri da je spremanje jednog odgovora prošlo kako treba\"\"\"\n",
    "        pitanje = \"Unesi jezike koji si prvi naučio govoriti?\"\n",
    "        moja_anketa = Upitnik(pitanje)\n",
    "        moja_anketa.pohrani_odgovor('Hrvatski')\n",
    "        self.assertIn('Hrvatski', moja_anketa.odgovori)\n",
    "        \n",
    "    def test_pohrani_3_odgovor(self):\n",
    "        \"\"\"Provjeri da je spremanje jednog odgovora prošlo kako treba\"\"\"\n",
    "        pitanje = \"Unesi jezike koji si prvi naučio govoriti?\"\n",
    "        moja_anketa = Upitnik(pitanje)\n",
    "        odgovori = ['Hrvatski', 'Engleski', 'Talijanski']\n",
    "        for odgovor in odgovori:\n",
    "            moja_anketa.pohrani_odgovor(odgovor)\n",
    "            \n",
    "        for odgovor in odgovori:\n",
    "            self.assertIn(odgovor, moja_anketa.odgovori)\n",
    "        \n",
    "unittest.main(argv=['first-arg-is-ignored'], exit=False)"
   ]
  },
  {
   "cell_type": "markdown",
   "metadata": {},
   "source": [
    "Ovo dalje možemo uljepšati tako da iskoristimo metodu *setUp* iz razreda\n",
    "*inittest.TestCalss* koja omogućuje da neke stvari (kao što je pitanje i\n",
    "instanca upitnika) inicijaliziramo na nivou testa te ih ne moramo ponovno pisati\n",
    "u svakom testu."
   ]
  },
  {
   "cell_type": "code",
   "execution_count": null,
   "metadata": {},
   "outputs": [],
   "source": [
    "import unittest\n",
    "from upitnik import Upitnik\n",
    "\n",
    "class TestUpitnik(unittest.TestCase):\n",
    "    \"\"\"Test za klasu Upitnik\"\"\"\n",
    "    def setUp(self):\n",
    "        \"\"\" Kreira upitnik i moguće odgovore\"\"\"\n",
    "        pitanje = \"Unesi jezike koji si prvi naučio govoriti?\"\n",
    "        self.moja_anketa = Upitnik(pitanje)\n",
    "        self.odgovori = ['Hrvatski', 'Engleski', 'Talijanski']\n",
    "    \n",
    "    def test_pohrani_1_odgovor(self):\n",
    "        \"\"\"Provjeri da je spremanje jednog odgovora prošlo kako treba\"\"\"\n",
    "        self.moja_anketa.pohrani_odgovor(self.odgovori[0])\n",
    "        self.assertIn(self.odgovori[0], self.moja_anketa.odgovori)\n",
    "        \n",
    "    def test_pohrani_3_odgovora(self):\n",
    "        \"\"\"Provjeri da je spremanje jednog odgovora prošlo kako treba\"\"\"\n",
    "        for odgovor in self.odgovori:\n",
    "            self.moja_anketa.pohrani_odgovor(odgovor)\n",
    "            \n",
    "        for odgovor in self.odgovori:\n",
    "            self.assertIn(odgovor, self.moja_anketa.odgovori)\n",
    "        \n",
    "unittest.main(argv=['first-arg-is-ignored'], exit=False)"
   ]
  },
  {
   "cell_type": "markdown",
   "metadata": {},
   "source": [
    "Metoda *setUp()* čini dvije stvari: kreira instancu moja_anketa razreda\n",
    "*Upitnik* i kreira popis odgovora. Svaki od njih je postavljen s prefiksom\n",
    "*self* tako da se mogu koristiti bilo gdje u razredu. Sada to više ne moramo\n",
    "raditi za ostale metode testiranja. Metoda *test_pohrani_1_odgovor()* potvrđuje\n",
    "da se prvi odgovor u *self.odgovori[0]* može ispravno pohraniti, a\n",
    "*test_pohrani_3_odgovora()* provjerava mogu li se sva tri odgovora u\n",
    "*self.odgovori* ispravno pohraniti. Kada ponovno pokrenemo testiranje oba testa,\n",
    "i dalje uspješno završavaju. Ovi testovi bi mogli biti jako korisni kad bismo\n",
    "pokušali promijeniti razred tako da prihvaća više odgovora jednog korisnika.\n",
    "Nakon što izmijenimo kôd da omogućimo višestruke odgovore, testovi mogu pokazati\n",
    "utjecaj na pohranjivanje jednog odgovora ili niza pojedinačnih odgovora."
   ]
  },
  {
   "cell_type": "markdown",
   "metadata": {},
   "source": [
    "<br><div class=\"alert alert-info\"><b>Vježba</b></div></br>"
   ]
  },
  {
   "cell_type": "markdown",
   "metadata": {},
   "source": [
    "Napišite razred naziva Zaposlenik.  \n",
    "Metoda \\__init\\__() treba prihvaćati ime, prezime i godišnju plaću te ih pohraniti kao atribute.  \n",
    "Napišite metodu naziva *povisica()* koja dodaje 5000 Kuna na godišnju plaću kao unaprijed definiranu vrijednost, ali prihvaća i drugačiji iznos.  \n",
    "Napravite test za zaposlenika.  \n",
    "Napravite dvije metode ispitivanja, *test_predefinirana_povisica()* i *test_drugacija_povisica()*.  \n",
    "Upotrijebite metodu *setUp()* tako da ne morate stvarati novu instancu zaposlenika u svakoj testnoj metodi.  \n",
    "Pokrenite testiranje i provjerite jesu li oba testa uspješno završila. "
   ]
  },
  {
   "cell_type": "code",
   "execution_count": null,
   "metadata": {},
   "outputs": [],
   "source": []
  },
  {
   "cell_type": "markdown",
   "metadata": {},
   "source": [
    "<br><div class=\"alert alert-info\"><b>Kraj</b></div></br>"
   ]
  }
 ],
 "metadata": {
  "kernelspec": {
   "display_name": "Python 3",
   "language": "python",
   "name": "python3"
  },
  "language_info": {
   "codemirror_mode": {
    "name": "ipython",
    "version": 3
   },
   "file_extension": ".py",
   "mimetype": "text/x-python",
   "name": "python",
   "nbconvert_exporter": "python",
   "pygments_lexer": "ipython3",
   "version": "3.7.3"
  }
 },
 "nbformat": 4,
 "nbformat_minor": 2
}
