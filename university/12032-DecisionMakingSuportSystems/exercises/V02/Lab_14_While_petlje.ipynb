{
 "cells": [
  {
   "cell_type": "markdown",
   "metadata": {},
   "source": [
    "<img src=\"Slike/vua.png\">"
   ]
  },
  {
   "cell_type": "markdown",
   "metadata": {},
   "source": [
    "# Petlje uporabom instrukcije *while*\n",
    "Petlje koje smo definirali korištenjem instrukcije **for** uzimale su raspon\n",
    "podataka i izvršavale dio koda za svaki element u rasponu. Za razliku od petlji\n",
    "**for**, petlje **while** se izvršavaju sve dok je neki uvjet istinit.\n",
    "Pogledajmo primjer petlje napravljene korištenjem instrukcije **while** koja\n",
    "ispisuje brojeve od 1 do 5.\n"
   ]
  },
  {
   "cell_type": "code",
   "execution_count": null,
   "metadata": {},
   "outputs": [],
   "source": [
    "broj = 1\n",
    "while broj <= 5:\n",
    "    print(broj)\n",
    "    broj += 1"
   ]
  },
  {
   "cell_type": "markdown",
   "metadata": {},
   "source": [
    "Prvo smo definirali varijablu *broj* u koju smo upisali vrijednost 1. Nakon toga\n",
    "smo definirali petlju **while** koju smo podesili tako da se izvršava sve dok je\n",
    "vrijednost varijable manja ili jednaka 5. Zatim ispisujemo vrijednost varijable\n",
    "te je u posljednjem retku uvećavamo za 1. *Python* ponavlja kod koji je u bloku\n",
    "ispod petlje **while** sve dok usporedba ima vrijednost *True*. Kako je 1 manje\n",
    "od 5, Python izvršava blok koda koji je ispod. Kako u bloku uvećavamo varijablu\n",
    "za 1, tako u sljedećoj iteraciji varijabla postaje 2, što je i dalje manje ili\n",
    "jednako 5 pa se ponavlja postupak. Jednom kada varijabla postane veća od 5,\n",
    "Python prekida izvođenje.\n"
   ]
  },
  {
   "cell_type": "markdown",
   "metadata": {},
   "source": [
    "Programi koje svakodnevno koristimo sadrže petlje **while**. One im omogućavaju\n",
    "da se izvršavaju sve dok mi ne napravimo neku akciju koja će prekinuti\n",
    "izvođenje. U svim programima koje smo do sad radili, nakon izvršavanja slijeda\n",
    "instrukcija prekinulo bi se izvršavanje programa. Pokušajmo sada napraviti\n",
    "program koji će korisniku omogućiti da sam odabere trenutak prekida."
   ]
  },
  {
   "cell_type": "code",
   "execution_count": null,
   "metadata": {},
   "outputs": [],
   "source": [
    "tekst = '\\nUpiši neki tekst i ja ću ga ispisati nazad.\\\n",
    "         \\nAko želiš izaći iz programa upiši \\'izlaz\\'.'\n",
    "poruka = ''\n",
    "while poruka != 'izlaz':\n",
    "    poruka = input(tekst)\n",
    "    print(poruka)"
   ]
  },
  {
   "cell_type": "markdown",
   "metadata": {},
   "source": [
    "Prvo smo definirali tekst koji želimo ispisati da bi korisnik upisao neki tekst.\n",
    "Zatim smo definirali varijablu u koju ćemo spremiti korisnikov unos i postavili\n",
    "je kao prazan tekst da bi petlja **while** imala vrijednost za usporedbu. Zatim\n",
    "definiramo petlju koja će se izvršavati sve dok je uvjet zadovoljen. Kako je naš\n",
    "uvjet da poruka nije jednaka tekstu „izlaz“, program će pokretati blok ispod\n",
    "petlje, jer je prazno polje različito od teksta „izlaz“. U prvom retku bloka od\n",
    "korisnika tražimo da unese neki tekst. Program zatim ispisuje taj tekst. Nakon\n",
    "ispisa provjerava je li tekst jednak „izlaz“ i, ako nije, ponavlja izvršavanje.\n",
    "Ako pak unesemo „izlaz“, nakon ispisa će se prekinuti izvođenje programa,\n",
    "odnosno, da smo imali još naredbi koje nisu uvučene iza petlje, nastavilo bi se\n",
    "izvođenje."
   ]
  },
  {
   "cell_type": "markdown",
   "metadata": {},
   "source": [
    "<br><div class=\"alert alert-info\"><b>Vježba</b></div></br>"
   ]
  },
  {
   "cell_type": "markdown",
   "metadata": {},
   "source": [
    "Probajte promjeniti kod tako da se ne ispisuje tekst 'izlaz' kada ga korisnik unese već samo druge tekstove."
   ]
  },
  {
   "cell_type": "code",
   "execution_count": 3,
   "metadata": {},
   "outputs": [
    {
     "name": "stdout",
     "output_type": "stream",
     "text": [
      "\n",
      "\n",
      "Upiši neki tekst i ja ću ga ispisati nazad.         \n",
      "Ako želiš izaći iz programa upiši 'izlaz'.iylay\n",
      "iylay\n",
      "\n",
      "Upiši neki tekst i ja ću ga ispisati nazad.         \n",
      "Ako želiš izaći iz programa upiši 'izlaz'.izlaz\n"
     ]
    }
   ],
   "source": [
    "tekst = '\\nUpiši neki tekst i ja ću ga ispisati nazad.\\\n",
    "         \\nAko želiš izaći iz programa upiši \\'izlaz\\'.'\n",
    "\n",
    "poruka = ''\n",
    "while poruka != 'izlaz':\n",
    "    print(poruka)\n",
    "    poruka = input(tekst)"
   ]
  },
  {
   "cell_type": "markdown",
   "metadata": {},
   "source": [
    "<br><div class=\"alert alert-info\"><b>Kraj</b></div></br>"
   ]
  },
  {
   "cell_type": "markdown",
   "metadata": {},
   "source": [
    "U prethodnim primjerima koristili smo petlju **while** koja je izvršavala blok\n",
    "instrukcija sve dok je dati uvjet bio *True*. Ako imamo situaciju da više\n",
    "različitih događaja treba utjecati na petlju, korisno je koristiti **zastavu**\n",
    "(engl. *flag*). Zastava predstavlja običnu varijablu, najčešće tipa **bool**,\n",
    "koja može imati vrijednosti *True* ili *False*. Najjednostavniji način je da\n",
    "napravimo novu varijablu i u nju spremimo početnu vrijednost koja zadovoljava\n",
    "uvjet petlje. Svi događaji koji bi trebali prekinuti izvođenje petlje mogu\n",
    "promijeniti vrijednost varijable i samim time prekinuti i petlju. Dodajmo\n",
    "**zastavu** u prethodni primjer."
   ]
  },
  {
   "cell_type": "code",
   "execution_count": null,
   "metadata": {},
   "outputs": [],
   "source": [
    "tekst = '\\nUpiši neki tekst i ja ću ga ispisati nazad.\\\n",
    "         \\nAko želiš izaći iz programa upiši \\'izlaz\\'.'\n",
    "zastava = True\n",
    "while zastava:\n",
    "    poruka = input(tekst)\n",
    "    if poruka == 'izlaz':\n",
    "        zastava = False\n",
    "    else:\n",
    "        print(poruka)"
   ]
  },
  {
   "cell_type": "markdown",
   "metadata": {},
   "source": [
    "Definirali smo varijablu *zastava* i postavili joj vrijednost *True*. Kada\n",
    "petlja radi provjeru, nastavit će izvršavanje jer je vrijednost *True*. Nakon\n",
    "toga instrukcijom **if** provjeravamo što je korisnik unio i, ako je to ključna\n",
    "riječ koja treba prekinuti petlju, postavljamo vrijednost varijable *zastava* na\n",
    "*False* što će prekinuti izvođenje programa, dok se u svim drugim situacijama\n",
    "izvršava kod pod dijelom **else** koji ispisuje tekst i nastavlja s petljom jer\n",
    "varijabla *zastava* ostaje *True*. Jednako tako, u dijelu gdje postavljamo\n",
    "zastavicu na *False*, možemo ispisati poruku korisniku da izlazi iz programa."
   ]
  },
  {
   "cell_type": "markdown",
   "metadata": {},
   "source": [
    "Postoji još jedan način koji nam omogućuje da izađemo iz petlje korištenjem\n",
    "izraza **break**. Kada *Python interpreter naiđe na izraz break*, izlazi iz\n",
    "petlje."
   ]
  },
  {
   "cell_type": "code",
   "execution_count": null,
   "metadata": {},
   "outputs": [],
   "source": [
    "tekst = '\\nUpiši neki tekst i ja ću ga ispisati nazad.\\\n",
    "         \\nAko želiš izaći iz programa upiši \\'izlaz\\'.'\n",
    "zastava = Tradfafue\n",
    "while zastava:\n",
    "    poruka = input(tekst)\n",
    "    if poruka == 'izlaz':\n",
    "        break\n",
    "    else:\n",
    "        print(poruka)"
   ]
  },
  {
   "cell_type": "markdown",
   "metadata": {},
   "source": [
    "Izraz **break** možemo koristiti da izađemo iz bilo kojeg tipa petlji.\n",
    "Primjerice, možemo koristiti petlju **for** koja pregledava elemente liste, a\n",
    "potom izrazom **if** vršimo provjeru vrijednosti te kod neke situacije\n",
    "jednostavno dodamo izraz **break** i petlja će se zaustaviti."
   ]
  },
  {
   "cell_type": "markdown",
   "metadata": {},
   "source": [
    "Osim izraza **break**, na raspolaganju imamo i izraz **continue** kojim nećemo\n",
    "izaći iz petlje već će se samo ignorirati ostatak instrukcija u petlji i krenuti\n",
    "s idućom iteracijom. Primjerice, ako želimo ispisati neparne brojeve, možemo, uz\n",
    "izraz **if,** dodati **continue** i provjeriti je li vrijednost *modulo* jednaka\n",
    "0 što znači da broj ne želimo ispisati."
   ]
  },
  {
   "cell_type": "code",
   "execution_count": null,
   "metadata": {},
   "outputs": [],
   "source": [
    "broj = 0\n",
    "while broj < 10:\n",
    "    broj += 1\n",
    "    if broj % 2 == 0:\n",
    "        continue\n",
    "    print(broj)"
   ]
  },
  {
   "cell_type": "markdown",
   "metadata": {},
   "source": [
    "Prvo smo postavili vrijednost varijable *broj* na 0, što je manje od 10. U\n",
    "petlji povećavamo vrijednost za 1. Nakon toga provjeravamo je li broj djeljiv \n",
    "s 2. Kako 1 nije djeljiv s 2, izvršit će se naredba za ispis. Nakon što se broj\n",
    "ponovno poveća za jedan, varijabla ima vrijednost 2 što će rezultirati time da\n",
    "**if** provjera bude *True* te se aktivira izraz **continue**, *Python* ignorira\n",
    "ostatak naredbi u petlji, prelazi u iduću iteraciju i tako redom sve dok se\n",
    "vrijednost varijable *broj* ne poveća na 10."
   ]
  },
  {
   "cell_type": "markdown",
   "metadata": {},
   "source": [
    "Kada koristimo petlje, trebamo paziti da ne napravimo beskonačnu petlju iz koje\n",
    "se nikad neće izaći. Primjerice, petlja koja ispisuje brojeve od 1 do 5:"
   ]
  },
  {
   "cell_type": "code",
   "execution_count": null,
   "metadata": {},
   "outputs": [],
   "source": [
    "broj = 1\n",
    "while broj <=5:\n",
    "    print(broj)\n",
    "    broj += 1"
   ]
  },
  {
   "cell_type": "markdown",
   "metadata": {},
   "source": [
    "Ako slučajno zaboravimo dodati redak u kojem povećavamo varijablu *broj*, uvjet\n",
    "će uvijek biti *True* i program će se cijelo vrijeme izvršavati. Kako vježbe\n",
    "radimo preko *Jupytera*, za prekid programa ne možemo koristiti kombinaciju\n",
    "tipaka **CTRL+C** već moramo rabiti izbornik i u dijelu **Kernel** izabrati\n",
    "**Interrupt**. Ako program izvršavamo na lokalnom računalu, **CTRL+C** prekida\n",
    "izvršavanje. Istu stvar možemo napraviti u bilo kojem dijelu izvršavanja\n",
    "programa."
   ]
  },
  {
   "cell_type": "code",
   "execution_count": null,
   "metadata": {},
   "outputs": [],
   "source": [
    "broj = 1\n",
    "while broj <=5:\n",
    "    print(broj)"
   ]
  },
  {
   "cell_type": "markdown",
   "metadata": {},
   "source": [
    "Svim programerima se dogodi da greškom naprave beskonačnu petlju pa je poželjno\n",
    "uvijek testirati sve petlje i osigurati da smo dobro definirali uvjet i da\n",
    "postoji mogućnost da on bude *False* da bi se petlja prestala izvoditi."
   ]
  },
  {
   "cell_type": "markdown",
   "metadata": {},
   "source": [
    "<br><div class=\"alert alert-info\"><b>Vježba</b></div></br>"
   ]
  },
  {
   "cell_type": "markdown",
   "metadata": {},
   "source": [
    "Napišite program u kojem korisnik upisuje broj godina te mu sustav prikazuje cijenu ulaznice.  \n",
    "Ako je korisnik mlađi od 3 godine, cijena je 10 kn.  \n",
    "Ako je korisnik star između 3 i 12 godina, cijena je 20 kn.  \n",
    "Ako je korisnik stariji od 65 godina, cijena je 25 kn.  \n",
    "U ostalim situacijama cijena je 40 kn.  \n",
    "Napravite petlju koja od korisnika traži da unese godine te mu ispisuje cijenu ulaznice.  \n",
    "Napravite tri verzije programa i u svakoj od njih koristite jedan od sljedećih načina za prekidanje izvršavanja:\n",
    "- uvjet u izrazu **while**  \n",
    "- koristi varijablu **zastavica**  \n",
    "- koristi izraz **break**  "
   ]
  },
  {
   "cell_type": "code",
   "execution_count": null,
   "metadata": {},
   "outputs": [],
   "source": []
  },
  {
   "cell_type": "code",
   "execution_count": null,
   "metadata": {},
   "outputs": [],
   "source": []
  },
  {
   "cell_type": "code",
   "execution_count": null,
   "metadata": {},
   "outputs": [],
   "source": []
  },
  {
   "cell_type": "markdown",
   "metadata": {},
   "source": [
    "<br><div class=\"alert alert-info\"><b>Kraj</b></div></br>"
   ]
  }
 ],
 "metadata": {
  "kernelspec": {
   "display_name": "Python 3",
   "language": "python",
   "name": "python3"
  },
  "language_info": {
   "codemirror_mode": {
    "name": "ipython",
    "version": 3
   },
   "file_extension": ".py",
   "mimetype": "text/x-python",
   "name": "python",
   "nbconvert_exporter": "python",
   "pygments_lexer": "ipython3",
   "version": "3.7.3"
  }
 },
 "nbformat": 4,
 "nbformat_minor": 2
}
