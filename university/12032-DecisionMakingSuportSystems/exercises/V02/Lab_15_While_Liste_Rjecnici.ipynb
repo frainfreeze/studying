{
 "cells": [
  {
   "cell_type": "markdown",
   "metadata": {},
   "source": [
    "<img src=\"Slike/vua.png\">"
   ]
  },
  {
   "cell_type": "markdown",
   "metadata": {},
   "source": [
    "Do sad smo radili samo s jednom vrijednošću u pojedinom trenutku. Prihvatili smo\n",
    "korisnički unos, obradili ga i ispisali rezultat. U sljedećem koraku smo\n",
    "korištenjem petlje **while** opet prihvatili korisnički unos i napravili\n",
    "odgovor. Da bismo pratili više korisnika i podatke koje unose, moramo početi\n",
    "koristiti liste i rječnike u petljama.\n",
    "\n",
    "Već prije smo vidjeli da je petlja **for** dosta efikasna u radu s listama, ali\n",
    "ne bismo smjeli mijenjati listu u kodu petlje jer će *Python* imati problema s\n",
    "praćenjem elemenata u listi. Ako trebamo modificirati listu tijekom izvođenja\n",
    "petlje, trebamo koristiti petlje **while**.\n",
    "\n",
    "U jednoj listi, primjerice, imamo korisnike koji su se registrirali na\n",
    "web-stranicu, ali nisu još prošli provjeru. Nakon što potvrde svoje podatke,\n",
    "kako ih možemo prebaciti u drugu listu gdje su potvrđeni korisnici? Jedan od\n",
    "načina može biti da, koristeći petlju **while**, pregledamo nepotvrđene\n",
    "korisnike, provjerimo u petlji jesu li napravili potvrdu, te ih, ako jesu,\n",
    "prebacimo u drugu listu. Pogledajmo kako to napisati u *Pythonu*."
   ]
  },
  {
   "cell_type": "code",
   "execution_count": null,
   "metadata": {},
   "outputs": [],
   "source": [
    "# Kreiramo listu nepotvrđenih korisnika\n",
    "nepotvrdjeni = ['ante', 'mate', 'ivana']\n",
    "# Kreiramo listu potvrđenih korisnika\n",
    "potvrdjeni = []\n",
    "# Napravimo petlju koja prolazi kroz nepotvrđene korisnike\n",
    "while nepotvrdjeni:\n",
    "    # U varijablu korisnik uzimamo jednog korisnika s kraja liste nepotvrđenih\n",
    "    korisnik = nepotvrdjeni.pop()\n",
    "    # Provjeravamo je li napravio potvrdu - U vježbi samo ispisujemo poruku\n",
    "    print('Provjeravam korisnika: ' + korisnik.title())\n",
    "    potvrdjeni.append(korisnik)\n",
    "# Prikazujemo listu potvrđenih korisnika\n",
    "print('\\nPotvrđeni korisnici su:')\n",
    "for korisnik in potvrdjeni:\n",
    "    print(korisnik.title())"
   ]
  },
  {
   "cell_type": "markdown",
   "metadata": {},
   "source": [
    "Prethodno smo naučili kako možemo maknuti element iz liste korištenjem metode\n",
    "**remove()** koja je brisala prvi pronađeni element u listi koji je imao\n",
    "vrijednost jednaku onoj koju kao parametar prosljeđujemo funkciji. Što\n",
    "napraviti, ako želimo izbrisati sve elemente neke vrijednosti iz liste?  \n",
    "Opet možemo koristiti metodu **remove(),** ali je moramo pozivati onoliko puta koliko\n",
    "ima elemenata koje želimo izbaciti. Ako imamo listu životinja i, primjerice,\n",
    "želimo izbaciti sve mačke iz liste, možemo koristiti petlju **while** koja će se\n",
    "izvršavati sve dok ima mački u listi i izvršavati metodu **remove()** u svakom\n",
    "koraku.\n"
   ]
  },
  {
   "cell_type": "code",
   "execution_count": null,
   "metadata": {},
   "outputs": [],
   "source": [
    "# kreiramo listu životinja\n",
    "zivotinje = ['pas', 'mačka', 'pas', 'kanarinac', 'zec', 'mačka', 'pas', 'mačka']\n",
    "print (zivotinje)\n",
    "# Definiramo petlju koja se ponavlja sve dok ima elemenata s vrijednošću 'mačka'\n",
    "while 'mačka' in zivotinje:\n",
    "    #pišemo element iz liste s vrijednošću 'mačka'\n",
    "    zivotinje.remove('mačka')\n",
    "print(zivotinje)"
   ]
  },
  {
   "cell_type": "markdown",
   "metadata": {},
   "source": [
    "Pogledajmo kako možemo koristiti rječnike u petljama **while**. Sljedeći program\n",
    "omogućuje unos podataka kroz petlju tako da se unese ime i broj godina. Podatke\n",
    "možemo spremati u rječnik, jer želimo imati vezu između imena i godina."
   ]
  },
  {
   "cell_type": "code",
   "execution_count": null,
   "metadata": {},
   "outputs": [],
   "source": [
    "# Kreiramo rječnik\n",
    "odgovori = {}\n",
    "# Postavljamo zastavicu koju ćemo koristiti kao znak kad završiti petlju\n",
    "aktivno = True\n",
    "# definiramo petlju koja će raditi dok je aktivno = True\n",
    "while aktivno == True:\n",
    "    # Prihvaćamo podatke od korisnika\n",
    "    ime = input ('Upišite ime: ')\n",
    "    godine = input ('Koliko godina imate: ')\n",
    "    # Pohranimo odgovor u rječnik\n",
    "    odgovori[ime] = godine\n",
    "    # Provjeravamo ima li još ispitanika\n",
    "    ponovo = input('Želite li unijeti još korisnika (da/ne)')\n",
    "    if ponovo == 'ne':\n",
    "        aktivno = False\n",
    "# Ispis razultata nakon unosa\n",
    "print ('\\n----- Rezultati -----')\n",
    "for ime, godine in odgovori.items():\n",
    "    print('Ime: ' + ime.title() + ', godine starosti: ' + godine)"
   ]
  },
  {
   "cell_type": "markdown",
   "metadata": {},
   "source": [
    "<br><div class=\"alert alert-info\"><b>Vježba</b></div></br>"
   ]
  },
  {
   "cell_type": "markdown",
   "metadata": {},
   "source": [
    "Napišite program koji od korisnika traži da upiše 10 gradova koje želi posjetiti i spremite ih u prvu listu.  \n",
    "Zatim tražite da unese još 3 grada koja je do sada posjetio, a nalaze se na prethodnoj listi.  \n",
    "Program treba ispisati sve gradove, osim ova tri koja se nalaze u drugoj listi.\n"
   ]
  },
  {
   "cell_type": "code",
   "execution_count": 4,
   "metadata": {},
   "outputs": [
    {
     "name": "stdout",
     "output_type": "stream",
     "text": [
      "Upišite ime grada: a\n",
      "Upišite ime grada: s\n",
      "Upišite ime grada: d\n",
      "Upišite ime grada: f\n",
      "Upišite ime grada: gh\n",
      "Upišite ime grada: j\n",
      "Upišite ime grada: k\n",
      "Upišite ime grada: l\n",
      "Upišite ime grada: č\n",
      "Upišite ime grada: ć\n",
      "Upišite ime grada koji ste vec posjetili: a\n",
      "Upišite ime grada koji ste vec posjetili: f\n",
      "Upišite ime grada koji ste vec posjetili: h\n",
      "{'k', 'č', 'd', 's', 'gh', 'j', 'l', 'ć'}\n"
     ]
    }
   ],
   "source": [
    "gradovi = []\n",
    "gradov2 = []\n",
    "for i in range(10):\n",
    "    # Prihvaćamo podatke od korisnika\n",
    "    gradovi.append(input ('Upišite ime grada: '))\n",
    "    \n",
    "for i in range(3):\n",
    "    # Prihvaćamo podatke od korisnika\n",
    "    gradov2.append(input ('Upišite ime grada koji ste vec posjetili: '))\n",
    "    \n",
    "print(set(gradovi)-set(gradov2))"
   ]
  },
  {
   "cell_type": "markdown",
   "metadata": {},
   "source": [
    "<br><div class=\"alert alert-info\"><b>Kraj</b></div></br>"
   ]
  }
 ],
 "metadata": {
  "kernelspec": {
   "display_name": "Python 3",
   "language": "python",
   "name": "python3"
  },
  "language_info": {
   "codemirror_mode": {
    "name": "ipython",
    "version": 3
   },
   "file_extension": ".py",
   "mimetype": "text/x-python",
   "name": "python",
   "nbconvert_exporter": "python",
   "pygments_lexer": "ipython3",
   "version": "3.7.3"
  }
 },
 "nbformat": 4,
 "nbformat_minor": 2
}
