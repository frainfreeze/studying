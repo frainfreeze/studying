{
 "cells": [
  {
   "cell_type": "markdown",
   "metadata": {},
   "source": [
    "<img src=\"Slike/vua.png\">"
   ]
  },
  {
   "cell_type": "markdown",
   "metadata": {},
   "source": [
    "# Rječnici (*dictionaries*)\n",
    "Rječnici (engl. *dictionary*) u *Pythonu* su neuređena kolekcija objekata.\n",
    "Omogućavaju da spremimo različite podatke po principu ključ-vrijednost:\n",
    "primjerice, možemo napraviti rječnik imena gradova i spremiti broj stanovnika uz\n",
    "svaki grad. Za definiranje rječnika koristimo vitičaste zagrade (**{}**).\n",
    "Napravimo jednostavan rječnik s autima."
   ]
  },
  {
   "cell_type": "code",
   "execution_count": 32,
   "metadata": {},
   "outputs": [
    {
     "name": "stdout",
     "output_type": "stream",
     "text": [
      "{'proizvođač': 'bmw', 'boja': 'crvena', 'broj vrata': 5}\n"
     ]
    }
   ],
   "source": [
    "auto = {'proizvođač':'bmw', 'boja':'crvena', 'broj vrata':5}\n",
    "print (auto)"
   ]
  },
  {
   "cell_type": "markdown",
   "metadata": {},
   "source": [
    "Kada neki podatak spremimo u rječnik, možemo pristupati pojedinim elementima."
   ]
  },
  {
   "cell_type": "code",
   "execution_count": 33,
   "metadata": {},
   "outputs": [
    {
     "name": "stdout",
     "output_type": "stream",
     "text": [
      "bmw\n",
      "crvena\n",
      "5\n"
     ]
    }
   ],
   "source": [
    "auto = {'proizvođač':'bmw', 'boja':'crvena', 'broj vrata':5}\n",
    "print (auto['proizvođač'])\n",
    "print (auto['boja'])\n",
    "print (auto['broj vrata'])"
   ]
  },
  {
   "cell_type": "markdown",
   "metadata": {},
   "source": [
    "Kao i kod ostalih programerskih koncepata, potrebno je uložiti malo vremena kako\n",
    "bismo počeli efikasno koristiti novi koncept. Prije nego nastavimo, pokažimo da\n",
    "*Python* rječnik vidi kao tip podatka **dict**."
   ]
  },
  {
   "cell_type": "code",
   "execution_count": 34,
   "metadata": {},
   "outputs": [
    {
     "data": {
      "text/plain": [
       "dict"
      ]
     },
     "execution_count": 34,
     "metadata": {},
     "output_type": "execute_result"
    }
   ],
   "source": [
    "auto = {}\n",
    "type(auto)"
   ]
  },
  {
   "cell_type": "markdown",
   "metadata": {},
   "source": [
    "Rječnici u *Pythonu predstavljaju kombinaciju ključeva i vrijednosti (engl.\n",
    "key-value pairs). Svaki ključ je povezan s pojedinom vrijednošću Ključ možemo\n",
    "koristiti da dođemo do vrijednosti koja je spremljena pod njim. Vrijednosti koje\n",
    "spremamo pod nekim ključem mogu biti bilo kojeg tipa podataka. Tako možemo\n",
    "spremiti tekst, brojeve, liste, pa čak i druge rječnike. U* Pythonu rječnici su\n",
    "dinamični i možemo dodavati nove ključeve i vrijednosti, ili mijenjati i brisati\n",
    "postojeće. Dodajmo dva nova zapisa u svoj rječnik."
   ]
  },
  {
   "cell_type": "code",
   "execution_count": 35,
   "metadata": {},
   "outputs": [
    {
     "data": {
      "text/plain": [
       "{'proizvođač': 'bmw',\n",
       " 'boja': 'crvena',\n",
       " 'broj vrata': 5,\n",
       " 'broj kotača': 4,\n",
       " 'zapremina motora': 1799}"
      ]
     },
     "execution_count": 35,
     "metadata": {},
     "output_type": "execute_result"
    }
   ],
   "source": [
    "auto = {'proizvođač':'bmw', 'boja':'crvena', 'broj vrata':5}\n",
    "auto['broj kotača'] = 4\n",
    "auto['zapremina motora'] = 1799\n",
    "auto"
   ]
  },
  {
   "cell_type": "markdown",
   "metadata": {},
   "source": [
    "Prije smo imali tri elementa, a sad ih imamo 5. Ako pogledamo ispis, vidimo da\n",
    "poredak elemenata u rječniku nije jednak redoslijedu unosa. *Python* ne vodi\n",
    "računa o rasporedu elemenata u rječniku, već samo o kombinaciji ključa i\n",
    "vrijednosti. Kada radimo programe, često počinjemo s praznim rječnikom. Da bismo\n",
    "definirali prazan rječnik, pojedinoj varijabli dodijelimo prazne vitičaste\n",
    "zagrade."
   ]
  },
  {
   "cell_type": "code",
   "execution_count": 36,
   "metadata": {},
   "outputs": [],
   "source": [
    "auto = {}"
   ]
  },
  {
   "cell_type": "markdown",
   "metadata": {},
   "source": [
    "Sada možemo dodavati elemente u rječnik. Ako pokušamo dodati novi element u\n",
    "varijablu koja nije rječnik, dobit ćemo poruku o grešci."
   ]
  },
  {
   "cell_type": "code",
   "execution_count": 37,
   "metadata": {},
   "outputs": [
    {
     "data": {
      "text/plain": [
       "{'proizvođač': 'bmw', 'boja': 'crvena', 'broj vrata': 5}"
      ]
     },
     "execution_count": 37,
     "metadata": {},
     "output_type": "execute_result"
    }
   ],
   "source": [
    "auto = {}\n",
    "auto['proizvođač'] = 'bmw'\n",
    "auto['boja'] = 'crvena'\n",
    "auto['broj vrata'] = 5\n",
    "auto"
   ]
  },
  {
   "cell_type": "markdown",
   "metadata": {},
   "source": [
    "Najčešće dodajemo elemente kada pohranjujemo neke podatke koje dobivamo od\n",
    "korisnika, koje učitavamo iz nekog izvora ili, ako trebamo veliki rječnik, koje\n",
    "ćemo definirati kroz petlje u kodu. Na isti način na koji dodajemo novi par\n",
    "ključa i vrijednosti možemo promijeniti vrijednost nekog već postojećeg\n",
    "elementa."
   ]
  },
  {
   "cell_type": "code",
   "execution_count": 38,
   "metadata": {},
   "outputs": [
    {
     "data": {
      "text/plain": [
       "{'proizvođač': 'bmw', 'boja': 'zelena', 'broj vrata': 5}"
      ]
     },
     "execution_count": 38,
     "metadata": {},
     "output_type": "execute_result"
    }
   ],
   "source": [
    "auto = {'proizvođač':'bmw', 'boja':'crvena', 'broj vrata':5}\n",
    "auto['boja'] = 'zelena'\n",
    "auto"
   ]
  },
  {
   "cell_type": "markdown",
   "metadata": {},
   "source": [
    "Kada više ne trebamo neku kombinaciju ključa i vrijednosti koji se nalaze u\n",
    "rječniku, možemo je izbrisati korištenjem izraza **del**. Izrazu **del** trebamo\n",
    "proslijediti naziv rječnika i naziv ključa."
   ]
  },
  {
   "cell_type": "code",
   "execution_count": 39,
   "metadata": {},
   "outputs": [
    {
     "name": "stdout",
     "output_type": "stream",
     "text": [
      "{'proizvođač': 'bmw', 'boja': 'crvena', 'broj vrata': 5}\n",
      "{'proizvođač': 'bmw', 'broj vrata': 5}\n"
     ]
    }
   ],
   "source": [
    "auto = {'proizvođač':'bmw', 'boja':'crvena', 'broj vrata':5}\n",
    "print (auto)\n",
    "del auto['boja']\n",
    "print (auto)"
   ]
  },
  {
   "cell_type": "markdown",
   "metadata": {},
   "source": [
    "Kada izbrišemo ključ, nemamo opcije da ga vratimo. U prethodnom primjeru u\n",
    "rječnik smo spremali različite podatke o nekom objektu. Rječnike možemo\n",
    "koristiti i da spremimo jednake informacije o više različitih objekata.\n",
    "Primjerice, možemo napraviti upitnik u kojem više ljudi odgovara na neko\n",
    "pitanje, poput: „Koji vam je programski jezik najdraži?“ Sada nam ključ može\n",
    "biti ime osobe, a vrijednost ključa odgovor korisnika."
   ]
  },
  {
   "cell_type": "code",
   "execution_count": 40,
   "metadata": {},
   "outputs": [
    {
     "name": "stdout",
     "output_type": "stream",
     "text": [
      "{'Hrvoje': 'python', 'Ana': 'c++', 'Ivana': 'python', 'Matija': 'ruby'}\n"
     ]
    }
   ],
   "source": [
    "najdrazi_jezik = {\n",
    "    'Hrvoje': 'python',\n",
    "    'Ana': 'c++',\n",
    "    'Ivana': 'python',\n",
    "    'Matija': 'ruby'\n",
    "}\n",
    "print (najdrazi_jezik)"
   ]
  },
  {
   "cell_type": "markdown",
   "metadata": {},
   "source": [
    "Svaki ključ je ime korisnika, a dodijeljena vrijednost je odgovor na pitanje o\n",
    "jeziku. Kao što vidite, kod definiranja rječnika različite ključeve smo stavili\n",
    "u nove retke. To je dosta uobičajena praksa koja olakšava čitanje programskog\n",
    "koda. Kada znamo da svi ključevi s vrijednostima neće stati u jedan redak,\n",
    "možemo nakon otvaranja uglate zagrade prijeći u novi redak i to napraviti nakon\n",
    "svakog elementa. Moramo paziti na uvlačenje da bi *Python* znao da je riječ o\n",
    "istom izrazu. Kada definiramo sve elemente, u novom retku (bez uvlake) zatvorimo\n",
    "uglatu zagradu. Ako kasnije trebamo provjeriti koji jezik je unijela neki\n",
    "ispitanik, jednostavno pozovemo ključ s njegovim imenom."
   ]
  },
  {
   "cell_type": "code",
   "execution_count": 41,
   "metadata": {},
   "outputs": [
    {
     "name": "stdout",
     "output_type": "stream",
     "text": [
      "Hrvojev najdraži jezik je Python.\n"
     ]
    }
   ],
   "source": [
    "najdrazi_jezik = {\n",
    "    'Hrvoje': 'python',\n",
    "    'Ana': 'c++',\n",
    "    'Ivana': 'python',\n",
    "    'Matija': 'ruby'\n",
    "}\n",
    "print (\n",
    "    'Hrvojev najdraži jezik je ' +\n",
    "    najdrazi_jezik['Hrvoje'].title() +\n",
    "    '.'\n",
    ")"
   ]
  },
  {
   "cell_type": "markdown",
   "metadata": {},
   "source": [
    "Kao što vidite, i kod izraza za ispis možemo prelaziti u novi redak."
   ]
  },
  {
   "cell_type": "markdown",
   "metadata": {},
   "source": [
    "<br><div class=\"alert alert-info\"><b>Vježba</b></div>"
   ]
  },
  {
   "cell_type": "markdown",
   "metadata": {},
   "source": [
    "Napravite rječnik u koji ćete spremiti podatke o nekoj osobi.  \n",
    "Od podataka posebno spremite *ime*, *prezime*, *dob*, *mjesto*.  \n",
    "Ispišite svaki od podataka u zasebnom retku s pripadajućim tekstom koji opisuje što prikazujemo."
   ]
  },
  {
   "cell_type": "code",
   "execution_count": 42,
   "metadata": {},
   "outputs": [
    {
     "name": "stdout",
     "output_type": "stream",
     "text": [
      "ime: kelj0\n",
      "prezime: ketljo\n",
      "dob: 20\n",
      "mjesto: zg\n"
     ]
    }
   ],
   "source": [
    "keljo = {'ime':'kelj0','prezime':'ketljo','dob':'20','mjesto':'zg'}\n",
    "\n",
    "for key,value in keljo.items():\n",
    "    print(f\"{key}: {value}\")"
   ]
  },
  {
   "cell_type": "markdown",
   "metadata": {},
   "source": [
    "Napravite program u kojem ćete zapisati u rječnik „rječnik“ koji će sadržavati 5\n",
    "instrukcija koje ste naučili do sada te kao vrijednost ispisati kratki opis što\n",
    "one rade.  \n",
    "Ispišite sve instrukcije tako da prvo ispišete naziv pa u novom retku opis.  \n",
    "Novi redak možete dobiti i dodavanjem specijalnog znaka **\\\\n** unutar teksta.\n"
   ]
  },
  {
   "cell_type": "code",
   "execution_count": 43,
   "metadata": {},
   "outputs": [
    {
     "name": "stdout",
     "output_type": "stream",
     "text": [
      "dict:\n",
      "Dictionary definiramo pomocu viticastih zagrada. Primjer: keljo = {'ime':'kelj0','prezime':'ketljo'}\n",
      "\n",
      "type:\n",
      "Tip objekta moyemo provjeriti sa type. Primjer: type(keljo)\n",
      "\n",
      "Vrijednosti:\n",
      "Vrijednost iz rjecnika moyemo dobiti po njegovom kljucu. Primjer: print (keljo['ime'])\n",
      "\n",
      "del:\n",
      "Kada više ne trebamo neku kombinaciju ključa i vrijednosti koji se nalaze u rječniku, možemo je izbrisati korištenjem izraza del. Izrazu del trebamo proslijediti naziv rječnika i naziv ključa.\n",
      "\n",
      "Dodavanje elementa:\n",
      "Ako pokušamo dodati novi element u varijablu koja nije rječnik, dobit ćemo poruku o grešci.\n",
      "\n"
     ]
    }
   ],
   "source": [
    "rjecnik = {\n",
    "    'dict':'Dictionary definiramo pomocu viticastih zagrada. Primjer: keljo = {\\'ime\\':\\'kelj0\\',\\'prezime\\':\\'ketljo\\'}',\n",
    "    'type':'Tip objekta moyemo provjeriti sa type. Primjer: type(keljo)',\n",
    "    'Vrijednosti':'Vrijednost iz rjecnika moyemo dobiti po njegovom kljucu. Primjer: print (keljo[\\'ime\\'])',\n",
    "    'del':'Kada više ne trebamo neku kombinaciju ključa i vrijednosti koji se nalaze u rječniku, možemo je izbrisati korištenjem izraza del. Izrazu del trebamo proslijediti naziv rječnika i naziv ključa.',\n",
    "    'Dodavanje elementa':'Ako pokušamo dodati novi element u varijablu koja nije rječnik, dobit ćemo poruku o grešci.'\n",
    "}\n",
    "\n",
    "for key,value in rjecnik.items():\n",
    "    print(f\"{key}:\\n{value}\\n\")"
   ]
  },
  {
   "cell_type": "markdown",
   "metadata": {},
   "source": [
    "<br><div class=\"alert alert-info\"><b>Kraj</b></div>"
   ]
  },
  {
   "cell_type": "markdown",
   "metadata": {},
   "source": [
    "Pojedini rječnik može, kao i u ovim primjerima, sadržavati mali broj ključeva s\n",
    "pripadajućim vrijednostima ili može sadržavati tisuće ili milijune zapisa. Kako\n",
    "podatci imaju promjenjivu veličinu, *Python* omogućuje da koristimo **petlje**\n",
    "kada pregledavamo rječnik. Budući da rječnici dozvoljavaju da spremamo podatke\n",
    "na različite načine, možemo i pregledavati liste korištenjem kombinacije\n",
    "ključ-vrijednost, samo ključeve ili samo vrijednosti. Pogledajmo prvo primjer\n",
    "gdje koristimo kombinaciju ključ-vrijednost. Već prije smo vidjeli da možemo\n",
    "doći do pojedine vrijednosti ako navedemo naziv ključa, ali što napraviti ako\n",
    "želimo doći do svih elemenata unutar jednog rječnika? Tada moramo koristiti\n",
    "petlje."
   ]
  },
  {
   "cell_type": "code",
   "execution_count": 44,
   "metadata": {},
   "outputs": [
    {
     "name": "stdout",
     "output_type": "stream",
     "text": [
      "\n",
      "Kljuc: Hrvoje\n",
      "Vrijednost: python\n",
      "\n",
      "Kljuc: Ana\n",
      "Vrijednost: c++\n",
      "\n",
      "Kljuc: Ivana\n",
      "Vrijednost: python\n",
      "\n",
      "Kljuc: Matija\n",
      "Vrijednost: ruby\n"
     ]
    }
   ],
   "source": [
    "najdrazi_jezik = {\n",
    "    'Hrvoje': 'python',\n",
    "    'Ana': 'c++',\n",
    "    'Ivana': 'python',\n",
    "    'Matija': 'ruby'\n",
    "}\n",
    "\n",
    "for kljuc, vrijednost in najdrazi_jezik.items():\n",
    "    print('\\nKljuc: ' + kljuc)\n",
    "    print('Vrijednost: ' + vrijednost)"
   ]
  },
  {
   "cell_type": "markdown",
   "metadata": {},
   "source": [
    "Prvo smo u petlji napravili dvije varijable (kljuc i vrijednost) koje će čuvati\n",
    "informacije za svaki pojedini element rječnika. Imena varijabli mogu biti\n",
    "proizvoljna. Sve bi jednako radilo da smo umjesto opisnih naziva stavili\n",
    "primjerice:\n",
    "```python\n",
    "for k, v in najdrazi_jezik.items()\n",
    "```\n",
    "Naravno da onda i u dijelu za ispis moramo promijeniti nazive varijabli. Kako u\n",
    "našem rječniku ključ predstavlja ime osobe, a vrijednost programski jezik,\n",
    "najbolje rješenje je da koristimo varijable *ime* i *jezik*. U drugom djelu\n",
    "izraza koristimo metodu **items()** uz naziv rječnika koja od rječnika stvara\n",
    "listu s torkama."
   ]
  },
  {
   "cell_type": "code",
   "execution_count": 45,
   "metadata": {},
   "outputs": [
    {
     "data": {
      "text/plain": [
       "dict_items([('Hrvoje', 'python'), ('Ana', 'c++'), ('Ivana', 'python'), ('Matija', 'ruby')])"
      ]
     },
     "execution_count": 45,
     "metadata": {},
     "output_type": "execute_result"
    }
   ],
   "source": [
    "najdrazi_jezik = {\n",
    "    'Hrvoje': 'python',\n",
    "    'Ana': 'c++',\n",
    "    'Ivana': 'python',\n",
    "    'Matija': 'ruby'\n",
    "}\n",
    "najdrazi_jezik.items()"
   ]
  },
  {
   "cell_type": "markdown",
   "metadata": {},
   "source": [
    "Kako je riječ o parovima, Python prvu vrijednost dodjeljuje prvoj definiranoj\n",
    "varijabli, a drugu drugoj. Kada koristimo metodu **items()**, *Python* neće\n",
    "uvijek vratiti elemente istim redoslijedom kako su zapisani, jer ne vodi brigu o\n",
    "redoslijedu, već samo o vezi između ključa i vrijednosti.\n"
   ]
  },
  {
   "cell_type": "code",
   "execution_count": 46,
   "metadata": {},
   "outputs": [
    {
     "name": "stdout",
     "output_type": "stream",
     "text": [
      "Hrvoje obožava programski jezik Python.\n",
      "Ana obožava programski jezik C++.\n",
      "Ivana obožava programski jezik Python.\n",
      "Matija obožava programski jezik Ruby.\n"
     ]
    }
   ],
   "source": [
    "najdrazi_jezik = {\n",
    "    'Hrvoje': 'python',\n",
    "    'Ana': 'c++',\n",
    "    'Ivana': 'python',\n",
    "    'Matija': 'ruby'\n",
    "}\n",
    "\n",
    "for ime, jezik in najdrazi_jezik.items():\n",
    "    print(ime.title() + ' obožava programski jezik ' + jezik.title() + '.')"
   ]
  },
  {
   "cell_type": "markdown",
   "metadata": {},
   "source": [
    "Pogledajmo sad petlju koja koristi samo ključeve. Za to koristimo metodu\n",
    "**keys()** koja prikazuje listu svih ključeva. Kako sada imamo samo ključeve,\n",
    "potrebno je samo definirati jednu varijablu koja će u svakom koraku petlje\n",
    "čuvati vrijednost imena ključa."
   ]
  },
  {
   "cell_type": "code",
   "execution_count": 47,
   "metadata": {},
   "outputs": [
    {
     "name": "stdout",
     "output_type": "stream",
     "text": [
      "Hrvoje\n",
      "Ana\n",
      "Ivana\n",
      "Matija\n"
     ]
    }
   ],
   "source": [
    "najdrazi_jezik = {\n",
    "    'Hrvoje': 'python',\n",
    "    'Ana': 'c++',\n",
    "    'Ivana': 'python',\n",
    "    'Matija': 'ruby'\n",
    "}\n",
    "\n",
    "for ime in najdrazi_jezik.keys():\n",
    "    print(ime.title())"
   ]
  },
  {
   "cell_type": "markdown",
   "metadata": {},
   "source": [
    "Kada koristimo petlje s rječnicima, unaprijed je definiran način rada s\n",
    "ključevima pa isti rezultat možemo dobiti i bez korištenja **keys()** metode."
   ]
  },
  {
   "cell_type": "code",
   "execution_count": 48,
   "metadata": {},
   "outputs": [
    {
     "name": "stdout",
     "output_type": "stream",
     "text": [
      "Hrvoje\n",
      "Ana\n",
      "Ivana\n",
      "Matija\n"
     ]
    }
   ],
   "source": [
    "najdrazi_jezik = {\n",
    "    'Hrvoje': 'python',\n",
    "    'Ana': 'c++',\n",
    "    'Ivana': 'python',\n",
    "    'Matija': 'ruby'\n",
    "}\n",
    "\n",
    "for ime in najdrazi_jezik:\n",
    "    print(ime.title())"
   ]
  },
  {
   "cell_type": "markdown",
   "metadata": {},
   "source": [
    "Kada radimo s ključevima, opet imamo opciju da dohvatimo i vrijednost\n",
    "korištenjem varijable petlje kao argumenta u uglatim zagradama. Iako smo na\n",
    "početku pristupali vrijednosti pojedinog ključa upisivanjem naziva ključa u\n",
    "uglate zagrade, sada umjesto naziva ključa u tekstualnom obliku upisujemo naziv\n",
    "varijable koja čuva naziv ključa."
   ]
  },
  {
   "cell_type": "code",
   "execution_count": 49,
   "metadata": {},
   "outputs": [
    {
     "name": "stdout",
     "output_type": "stream",
     "text": [
      "Hrvoje - Python\n",
      "Ana - C++\n",
      "Ivana - Python\n",
      "Matija - Ruby\n"
     ]
    }
   ],
   "source": [
    "najdrazi_jezik = {\n",
    "    'Hrvoje': 'python',\n",
    "    'Ana': 'c++',\n",
    "    'Ivana': 'python',\n",
    "    'Matija': 'ruby'\n",
    "}\n",
    "\n",
    "for ime in najdrazi_jezik:\n",
    "    print(ime.title() + ' - ' + najdrazi_jezik[ime].title())"
   ]
  },
  {
   "cell_type": "markdown",
   "metadata": {},
   "source": [
    "Metodu **keys()** možemo koristiti i kada želimo provjeriti postoji li neki\n",
    "ključ u rječniku. U svojem primjeru provjerimo postoji li neko ime. Opet, budući\n",
    "da je rad s ključevima unaprijed definirana opcija u rječniku, možemo to\n",
    "napraviti i bez eksplicitnog upisivanja metode."
   ]
  },
  {
   "cell_type": "code",
   "execution_count": 50,
   "metadata": {},
   "outputs": [
    {
     "name": "stdout",
     "output_type": "stream",
     "text": [
      "False\n",
      "True\n"
     ]
    }
   ],
   "source": [
    "najdrazi_jezik = {\n",
    "    'Hrvoje': 'python',\n",
    "    'Ana': 'c++',\n",
    "    'Ivana': 'python',\n",
    "    'Matija': 'ruby'\n",
    "}\n",
    "print('Ivan' in najdrazi_jezik.keys())\n",
    "print('Ivana' in najdrazi_jezik.keys())"
   ]
  },
  {
   "cell_type": "markdown",
   "metadata": {},
   "source": [
    "Kako smo prije spomenuli, *Python* ne vodi računa o rasporedu prikaza elemenata,\n",
    "već samo o vezi između ključeva i vrijednosti. Ako želimo dobiti sortirani\n",
    "izlaz, možemo koristiti funkciju **sorted()**."
   ]
  },
  {
   "cell_type": "code",
   "execution_count": 51,
   "metadata": {},
   "outputs": [
    {
     "name": "stdout",
     "output_type": "stream",
     "text": [
      "Ana - C++\n",
      "Hrvoje - Python\n",
      "Ivana - Python\n",
      "Matija - Ruby\n"
     ]
    }
   ],
   "source": [
    "najdrazi_jezik = {\n",
    "    'Hrvoje': 'python',\n",
    "    'Ana': 'c++',\n",
    "    'Ivana': 'python',\n",
    "    'Matija': 'ruby'\n",
    "}\n",
    "\n",
    "for ime in sorted(najdrazi_jezik):\n",
    "    print(ime.title() + ' - ' + najdrazi_jezik[ime].title())"
   ]
  },
  {
   "cell_type": "markdown",
   "metadata": {},
   "source": [
    "Pogledajmo sad kako korištenjem metode **values()** možemo napraviti petlju koja\n",
    "gleda vrijednosti ključeva."
   ]
  },
  {
   "cell_type": "code",
   "execution_count": 52,
   "metadata": {},
   "outputs": [
    {
     "name": "stdout",
     "output_type": "stream",
     "text": [
      "Python\n",
      "C++\n",
      "Python\n",
      "Ruby\n"
     ]
    }
   ],
   "source": [
    "najdrazi_jezik = {\n",
    "    'Hrvoje': 'python',\n",
    "    'Ana': 'c++',\n",
    "    'Ivana': 'python',\n",
    "    'Matija': 'ruby'\n",
    "}\n",
    "\n",
    "for jezik in najdrazi_jezik.values():\n",
    "    print(jezik.title())"
   ]
  },
  {
   "cell_type": "markdown",
   "metadata": {},
   "source": [
    "Ponovno izraz **for** dodjeljuje varijabli *jezik* vrijednost pojedinog ključa u\n",
    "svakoj iteraciji. Kao što vidimo, *Python* ne gleda vrijednosti pa imamo\n",
    "dvostrukih vrijednosti. Da smo imali rječnik s više zapisa, to bi bio prilično\n",
    "nepregledan popis. Ako elemente želimo ispisati sortirano, možemo ponovno\n",
    "koristiti metodu **sorted()** ili, ako želimo vidjeti samo jedinstvene (engl.\n",
    "*unique*) vrijednosti, možemo koristiti tip podataka **set()** koji je jednak\n",
    "kao i lista, ali može sadržavati samo jedinstvene vrijednosti. Pogledajmo kako\n",
    "izgleda izlaz ako iskoristimo **set()**."
   ]
  },
  {
   "cell_type": "code",
   "execution_count": 53,
   "metadata": {},
   "outputs": [
    {
     "name": "stdout",
     "output_type": "stream",
     "text": [
      "Python\n",
      "Ruby\n",
      "C++\n"
     ]
    }
   ],
   "source": [
    "najdrazi_jezik = {\n",
    "    'Hrvoje': 'python',\n",
    "    'Ana': 'c++',\n",
    "    'Ivana': 'python',\n",
    "    'Matija': 'ruby'\n",
    "}\n",
    "\n",
    "for jezik in set(najdrazi_jezik.values()):\n",
    "    print(jezik.title())"
   ]
  },
  {
   "cell_type": "markdown",
   "metadata": {},
   "source": [
    "<br><div class=\"alert alert-info\"><b>Vježba</b></div>"
   ]
  },
  {
   "cell_type": "markdown",
   "metadata": {},
   "source": [
    "Napravite rječnik s 5 Python instrukcija i pripadajučim opisom.  \n",
    "Korištenjem petlje ispiši instrukcije s pripadajučim opisom.  \n",
    "Ako je sve u redu, dodajte još tri nova elementa u rječnik i pokušajte ponovno pokrenuti program."
   ]
  },
  {
   "cell_type": "code",
   "execution_count": 54,
   "metadata": {},
   "outputs": [
    {
     "name": "stdout",
     "output_type": "stream",
     "text": [
      "print:\n",
      "Prints text\n",
      "\n",
      "bin:\n",
      "Convert an integer number to a binary string prefixed with “0b”\n",
      "\n",
      "float:\n",
      "Return a floating point number constructed from a number or string x.\n",
      "\n",
      "hex:\n",
      "Convert an integer number to a lowercase hexadecimal string prefixed with “0x”.\n",
      "\n",
      "input:\n",
      "reads a line from input, converts it to a string\n",
      "\n",
      "eval:\n",
      "parses and evaluates Python expression\n",
      "\n",
      "exec:\n",
      "dynamic execution of Python code\n",
      "\n",
      "len:\n",
      "Return the length (the number of items) of an object\n",
      "\n"
     ]
    }
   ],
   "source": [
    "instrukcije = {\n",
    "    'print': 'Prints text',\n",
    "    'bin': 'Convert an integer number to a binary string prefixed with “0b”',\n",
    "    'float': 'Return a floating point number constructed from a number or string x.',\n",
    "    'hex': 'Convert an integer number to a lowercase hexadecimal string prefixed with “0x”.',\n",
    "    'input':'reads a line from input, converts it to a string'\n",
    "}\n",
    "\n",
    "instrukcije['eval'] = 'parses and evaluates Python expression'\n",
    "instrukcije['exec'] = 'dynamic execution of Python code'\n",
    "instrukcije['len'] = 'Return the length (the number of items) of an object'\n",
    "\n",
    "for kljuc, tekst in instrukcije.items():\n",
    "    print(f\"{kljuc}:\\n{tekst}\\n\")"
   ]
  },
  {
   "cell_type": "markdown",
   "metadata": {},
   "source": [
    "<br><div class=\"alert alert-info\"><b>Kraj</b></div>"
   ]
  },
  {
   "cell_type": "code",
   "execution_count": null,
   "metadata": {},
   "outputs": [],
   "source": []
  }
 ],
 "metadata": {
  "kernelspec": {
   "display_name": "Python 3",
   "language": "python",
   "name": "python3"
  },
  "language_info": {
   "codemirror_mode": {
    "name": "ipython",
    "version": 3
   },
   "file_extension": ".py",
   "mimetype": "text/x-python",
   "name": "python",
   "nbconvert_exporter": "python",
   "pygments_lexer": "ipython3",
   "version": "3.7.3"
  }
 },
 "nbformat": 4,
 "nbformat_minor": 2
}
