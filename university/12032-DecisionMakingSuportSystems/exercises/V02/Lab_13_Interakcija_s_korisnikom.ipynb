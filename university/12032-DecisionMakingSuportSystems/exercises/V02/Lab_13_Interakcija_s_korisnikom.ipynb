{
 "cells": [
  {
   "cell_type": "markdown",
   "metadata": {},
   "source": [
    "<img src=\"Slike/vua.png\">"
   ]
  },
  {
   "cell_type": "markdown",
   "metadata": {},
   "source": [
    "# Interakcija s korisnikom\n",
    "Većina programa je napisana zato da riješi neki korisnički problem. Da bi\n",
    "programi to postigli, najčešće trebaju imati neku interakciju s korisnikom. Do\n",
    "sada smo samo korisniku ispisivali informacije, a sada ćemo se upoznati s\n",
    "prihvaćanjem podataka od korisnika. Ako se sjetimo prvih primjera, kada smo\n",
    "ispisivali ima li korisnik ima dovoljno godina da bi mogao glasati, u samom smo\n",
    "programu definirali i godine. U stvarnosti, to je informacija koju trebamo\n",
    "tražiti od korisnika. Kada program bude u mogućnosti prihvaćati podatke koje\n",
    "unosi korisnik, možemo napraviti interaktivni program. U ovim vježbama naučit\n",
    "ćemo kako prikupiti podatke od korisnika.\n",
    "## Kako radi funkcija *input()* \n",
    "Funkcija **input()** pauzira izvođenje programa i čeka da korisnik unese neki\n",
    "tekst. Kada korisnik unese neki tekst i pritisne *Enter*, unos se najčešće\n",
    "sprema u varijablu koju dalje obrađujemo. Primjerice, ako želimo napisati\n",
    "program koji od korisnika traži da unese neki tekst, pa taj isti tekst ispišemo\n",
    "kao poruku, možemo to izvesti sljedećim programom."
   ]
  },
  {
   "cell_type": "code",
   "execution_count": null,
   "metadata": {},
   "outputs": [],
   "source": [
    "poruka = input('Napiši poruku: ')\n",
    "print(poruka)"
   ]
  },
  {
   "cell_type": "markdown",
   "metadata": {},
   "source": [
    "Funkcija **input()** prihvaća jedan argument koji će ispisati korisniku poruku\n",
    "kada želimo da on nešto unese. U prethodnom primjeru, kada pokrenemo kod,\n",
    "*Python* ispisuje poruku „Napiši poruku:“ i čeka da korisnik nešto upiše i\n",
    "pritisne tipku *Enter*. Kada to korisnik napravi, program prelazi u drugu liniju\n",
    "koda u kojoj ispisuje tu istu poruku. Naravno, u praksi ćemo prije ispisivanja\n",
    "poruke korisniku napraviti neku obradu. Kada koristimo funkciju **input()**,\n",
    "poželjno je da uvijek pošaljemo poruku koja opisuje koji unos tražimo od\n",
    "korisnika. Jednako tako, nakon teksta koji opisuje što očekujemo od korisnika,\n",
    "običaj je stavljati dvotočku na kraj te dodatni razmak, tako da korisnik bolje\n",
    "vidi polje unosa."
   ]
  },
  {
   "cell_type": "code",
   "execution_count": null,
   "metadata": {},
   "outputs": [],
   "source": [
    "ime = input('Upiši svoje ime: ')\n",
    "print('Pozdrav ' + ime + '!')"
   ]
  },
  {
   "cell_type": "markdown",
   "metadata": {},
   "source": [
    "Tekst možemo spremiti i u neku varijablu pa nju proslijediti kao argument funkciji **input()**."
   ]
  },
  {
   "cell_type": "code",
   "execution_count": null,
   "metadata": {},
   "outputs": [],
   "source": [
    "poruka = 'Ako mi upišete svoje ime poslat ću vam personalizirani odgovor.\\nUpišite svoje ime: '\n",
    "ime = input(poruka)\n",
    "print('Pozdrav ' + ime + '!')"
   ]
  },
  {
   "cell_type": "markdown",
   "metadata": {},
   "source": [
    "Ako očekujemo da korisnik unese neki broj, *Python* ne zna prepoznati o čemu je\n",
    "riječ i sve što korisnik unese smatra tekstom. Na primjer, ako pogledamo izlaz\n",
    "sljedećeg programa, vidimo da je, bez obzira na to što unesemo, varijabla tekst\n",
    "(**str**)."
   ]
  },
  {
   "cell_type": "code",
   "execution_count": null,
   "metadata": {},
   "outputs": [],
   "source": [
    "godine = input('Unesi broj godina: ')\n",
    "print (type(godine))"
   ]
  },
  {
   "cell_type": "markdown",
   "metadata": {},
   "source": [
    "Ako pak probamo napraviti provjeru je li broj godina veći ili jednak 18, dobit\n",
    "ćemo poruku o grešci (**not supported between instances of 'str' and 'int'**)."
   ]
  },
  {
   "cell_type": "code",
   "execution_count": null,
   "metadata": {},
   "outputs": [],
   "source": [
    "godine = input('Unesi broj godina: ')\n",
    "godine >= 18"
   ]
  },
  {
   "cell_type": "markdown",
   "metadata": {},
   "source": [
    "Problem možemo riješiti ako pretvorimo unos korisnika u broj korištenjem\n",
    "funkcije **int()** koja će reći *Pythonu* da tretira tekst kao broj."
   ]
  },
  {
   "cell_type": "code",
   "execution_count": null,
   "metadata": {},
   "outputs": [],
   "source": [
    "godine = input('Unesi broj godina: ')\n",
    "godine = int(godine)\n",
    "if godine >= 18:\n",
    "    print ('Imate dovoljno godina')\n",
    "else:\n",
    "    print ('Nažalost, premladi ste, morate čekati još ' + str(18-godine) + ' godina.')"
   ]
  },
  {
   "cell_type": "markdown",
   "metadata": {},
   "source": [
    "Zasad smo našli rješenje, ali u praksi ovo nije dobro. Pokušajte ponovno\n",
    "pokrenuti kod i umjesto broja upisati neki tekst. Dobit ćete poruku o grešci\n",
    "(**invalid literal for int() with base 10:**)."
   ]
  },
  {
   "cell_type": "markdown",
   "metadata": {},
   "source": [
    "Ovo možemo riješiti tako da pokušamo presresti greške. Ovdje samo uvodimo\n",
    "primjer koji ćemo pojasniti kasnije tijekom tečaja."
   ]
  },
  {
   "cell_type": "code",
   "execution_count": null,
   "metadata": {},
   "outputs": [],
   "source": [
    "godine = input('Unesi broj godina: ')\n",
    "try:\n",
    "    godine = int(godine)\n",
    "    if godine >= 18:\n",
    "        print ('Imate dovoljno godina')\n",
    "    else:\n",
    "        print ('Nažalost, premladi ste, morate čekati još ' + str(18-godine) + ' godina.')\n",
    "except ValueError:\n",
    "    print ('Niste unjeli broj!')"
   ]
  },
  {
   "cell_type": "markdown",
   "metadata": {},
   "source": [
    "Možemo napraviti program koji korisniku javlja je li uneseni broj paran ili\n",
    "neparan. Najjednostavnije rješenje je korištenje operatora modulo (**%**) koji\n",
    "nam prikazuje ostatak dijeljenja. Pogledajmo prvo rezultate modulo operacija."
   ]
  },
  {
   "cell_type": "code",
   "execution_count": null,
   "metadata": {},
   "outputs": [],
   "source": [
    "4%3"
   ]
  },
  {
   "cell_type": "markdown",
   "metadata": {},
   "source": [
    "Ako broj 4 podijelimo s 3, rezultat je 1 i ostatak je 1."
   ]
  },
  {
   "cell_type": "code",
   "execution_count": null,
   "metadata": {},
   "outputs": [],
   "source": [
    "5%3"
   ]
  },
  {
   "cell_type": "markdown",
   "metadata": {},
   "source": [
    "Ako pak broj 5 podijelimo s 3, opet je rezultat 1, ali sad je ostatak 2.  \n",
    "**Modulo prikazuje samo ostatak.**"
   ]
  },
  {
   "cell_type": "code",
   "execution_count": null,
   "metadata": {},
   "outputs": [],
   "source": [
    "6%3"
   ]
  },
  {
   "cell_type": "markdown",
   "metadata": {},
   "source": [
    "Ako je broj djeljiv bez ostatka, vratit će 0. Ovo možemo iskoristiti da\n",
    "napravimo program koji će korisniku ispisati je li broj paran ili neparan za\n",
    "bilo koji broj koji je unio."
   ]
  },
  {
   "cell_type": "code",
   "execution_count": null,
   "metadata": {},
   "outputs": [],
   "source": [
    "broj = input ('Upiši jedan broj: ')\n",
    "broj = int(broj)\n",
    "if broj%2 == 0:\n",
    "    print (str(broj) + ' je paran.')\n",
    "else:\n",
    "    print (str(broj) + ' je neparan')"
   ]
  },
  {
   "cell_type": "markdown",
   "metadata": {},
   "source": [
    "<br><div class=\"alert alert-info\"><b>Vježba</b></div></br>"
   ]
  },
  {
   "cell_type": "markdown",
   "metadata": {},
   "source": [
    "Napišite program u kojem od korisnika tražite da unese željenog proizvođača automobila.  \n",
    "Ispišite poruku o provjeri dostupnosti automobila tipa: „Provjeravam je li automobil XXXXX dostupan'.“"
   ]
  },
  {
   "cell_type": "code",
   "execution_count": null,
   "metadata": {},
   "outputs": [],
   "source": [
    "a = input(\"unesite željenog proizvođača automobila\")\n",
    "print(f\"Provjeravam je li automobil {a} dostupan\")"
   ]
  },
  {
   "cell_type": "markdown",
   "metadata": {},
   "source": [
    "Napišite program koji od korisnika traži da unese broj ljudi koji dolaze na večeru.  \n",
    "Ako je taj broj veći od 8, ispišite poruku da nemate dovoljno mjesta.  \n",
    "Ako nije veći od 8, ispišite poruku da je rezervacija napravljena."
   ]
  },
  {
   "cell_type": "code",
   "execution_count": null,
   "metadata": {},
   "outputs": [],
   "source": [
    "a = input(\"broj ljudi koji doalye na veceru? \")\n",
    "print(\"nema dovoljno mjesta\") if int(a) > 8 else print(\"rez napravljena\")"
   ]
  },
  {
   "cell_type": "markdown",
   "metadata": {},
   "source": [
    "Napišite program koji od korisnika traži da unese neki broj.  \n",
    "Program treba porukom javiti je li broj djeljiv s 9."
   ]
  },
  {
   "cell_type": "code",
   "execution_count": null,
   "metadata": {},
   "outputs": [],
   "source": [
    "a = input(\"broj: \")\n",
    "print(\"djeljiv s 9\") if int(a)/9==0 else print(\"nije djeljiv s 9\")"
   ]
  },
  {
   "cell_type": "markdown",
   "metadata": {},
   "source": [
    "<br><div class=\"alert alert-info\"><b>Kraj</b></div></br>"
   ]
  }
 ],
 "metadata": {
  "kernelspec": {
   "display_name": "Python 3",
   "language": "python",
   "name": "python3"
  },
  "language_info": {
   "codemirror_mode": {
    "name": "ipython",
    "version": 3
   },
   "file_extension": ".py",
   "mimetype": "text/x-python",
   "name": "python",
   "nbconvert_exporter": "python",
   "pygments_lexer": "ipython3",
   "version": "3.7.3"
  }
 },
 "nbformat": 4,
 "nbformat_minor": 2
}
