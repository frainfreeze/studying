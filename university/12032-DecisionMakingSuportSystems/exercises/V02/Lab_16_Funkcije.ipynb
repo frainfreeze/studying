{
 "cells": [
  {
   "cell_type": "markdown",
   "metadata": {},
   "source": [
    "<img src=\"Slike/vua.png\">"
   ]
  },
  {
   "cell_type": "markdown",
   "metadata": {},
   "source": [
    "Sad ćemo se upoznati s funkcijama koje u praksi predstavljaju imenovani dio koda\n",
    "napravljen da obavlja neku specifičnu zadaću. Kada želimo da se u programu\n",
    "izvrši pojedini zadatak definiran funkcijom, iz programa pozivamo ime funkcije.\n",
    "Osnovna ideja je da koristimo funkcije kada u programu na više mjesta koristimo\n",
    "isti slijed naredbi, pa ih želimo napisati samo jednom i kasnije samo pozivati.\n",
    "Jednako tako, korištenje funkcija olakšava čitanje i pisanje programa, kao i\n",
    "testiranje i popravljanje nedostataka. Pogledajmo primjer jednostavne funkcije:"
   ]
  },
  {
   "cell_type": "code",
   "execution_count": null,
   "metadata": {},
   "outputs": [],
   "source": [
    "def poruka():\n",
    "    '''Ispisuje poruku'''\n",
    "    print ('Pozdrav')\n",
    "    \n",
    "poruka()"
   ]
  },
  {
   "cell_type": "markdown",
   "metadata": {},
   "source": [
    "Da bi *Python* znao da želimo definirati funkciju, moramo koristiti izraz\n",
    "**def**. Iza njega ide ime funkcije koje ćemo koristiti kod njenog pozivanja.\n",
    "Bilo bi dobro da ta imena budu u vezi sa zadatcima koje funkcija obavlja.\n",
    "Konkretno, ime funkcije trebalo bi biti glagol koji opisuje akciju koju funkcija\n",
    "izvršava. Iza naziva pišemo zagrade(). Kako u ovom primjeru funkcija može\n",
    "izvršiti svoju namjenu bez ulaznih parametara, u zagradama se ne nalazi ništa.\n",
    "Kada budemo htjeli funkciji proslijediti neke ulazne parametre koje će koristiti\n",
    "za izvršavanje, u zagrade ćemo upisati nazive varijabli koje će postojati samo u\n",
    "njoj. U drugoj liniji koda imamo opis funkcije koji je omeđen s 3\n",
    "navodnika/apostrofa. U trećoj liniji imamo jedinu naredbu koju funkcija\n",
    "izvršava. Sve sljedeće linije, koje su uvučene, bit će dio funkcije. Radi lakše\n",
    "čitljivosti programa, kada završavamo definiciju funkcije, ostavljamo jedan\n",
    "prazan redak prije ostatka programa. Na kraju, bez uvlake imamo poziv funkcije\n",
    "koji je jednak nazivu definirane funkcije. Kako nemamo parametara, opet\n",
    "upisujemo samo prazne zagrade iza imena. Pogledajmo sada situaciju kada funkcija\n",
    "treba ispisati i nešto što joj proslijedimo."
   ]
  },
  {
   "cell_type": "code",
   "execution_count": null,
   "metadata": {},
   "outputs": [],
   "source": [
    "def poruka(ime):\n",
    "    '''Ispisuje poruku'''\n",
    "    print ('Pozdrav ' + ime.title() + '!')\n",
    "    \n",
    "poruka('ivana')"
   ]
  },
  {
   "cell_type": "markdown",
   "metadata": {},
   "source": [
    "Prethodnu funkciju smo malo modificirali te kod definicije u zagrade dodali\n",
    "varijablu *ime*. Kasnije tu varijablu koristimo kod ispisivanja poruke. Kada kod\n",
    "poziva funkcije proslijedimo neki tekst, on će biti pospremljen u varijablu\n",
    "*ime* te će je funkcija koristiti za kao i sve druge varijable."
   ]
  },
  {
   "cell_type": "markdown",
   "metadata": {},
   "source": [
    "<br><div class=\"alert alert-info\"><b>Vježba</b></div></br>"
   ]
  },
  {
   "cell_type": "markdown",
   "metadata": {},
   "source": [
    "Napravite funkciju naziva *prikazi_poruku* koja kod pozivanja ispisuje poruku kako se osjećate dok radite u jeziku Python."
   ]
  },
  {
   "cell_type": "code",
   "execution_count": 2,
   "metadata": {},
   "outputs": [
    {
     "name": "stdout",
     "output_type": "stream",
     "text": [
      "Odlicno\n"
     ]
    }
   ],
   "source": [
    "def prikazi_poruku():\n",
    "    print(\"Odlicno\")\n",
    "    \n",
    "prikazi_poruku()"
   ]
  },
  {
   "cell_type": "markdown",
   "metadata": {},
   "source": [
    "Napravite funkciju naziva *najdraza_knjiga* koja prihvaća parametar knjiga i koja kod poziva ispisuje poruke poput „Moja najdraža knjiga je _.“"
   ]
  },
  {
   "cell_type": "code",
   "execution_count": 3,
   "metadata": {},
   "outputs": [
    {
     "name": "stdout",
     "output_type": "stream",
     "text": [
      "Moja najdraža knjiga je The zen and art of moto..\n"
     ]
    }
   ],
   "source": [
    "def najdraza_knjiga(knjiga):\n",
    "    print(f\"Moja najdraža knjiga je {knjiga}\")\n",
    "    \n",
    "najdraza_knjiga(\"The zen and art of moto..\")"
   ]
  },
  {
   "cell_type": "markdown",
   "metadata": {},
   "source": [
    "<br><div class=\"alert alert-info\"><b>Kraj</b></div></br>"
   ]
  },
  {
   "cell_type": "markdown",
   "metadata": {},
   "source": [
    "Funkcije mogu imati više definiranih parametara, pa će i poziv funkciji morati\n",
    "imati više argumenata. Jedan od načina da proslijedimo više parametara je\n",
    "korištenje pozicije argumenata koji moraju biti u istom redoslijedu kao i kod\n",
    "definicije funkcije. Pogledajmo, primjerice, funkciju koja ispisuje informacije\n",
    "o životinjama te koja kao ulaz prima vrstu i ime kućnog ljubimca."
   ]
  },
  {
   "cell_type": "code",
   "execution_count": null,
   "metadata": {},
   "outputs": [],
   "source": [
    "def opis_zivotinje(vrsta, ime):\n",
    "    '''Prikazuje informacije o kućnim ljubimcima'''\n",
    "    print ('\\nImam kućnog ljubimca imena ' + ime.title() + ', koji je ' + vrsta + '.')\n",
    "opis_zivotinje('pas', 'rex')"
   ]
  },
  {
   "cell_type": "markdown",
   "metadata": {},
   "source": [
    "Kako funkcija ima dva definirana parametra, kod pozivanja joj moramo\n",
    "proslijediti dva argumenta. Kako smo kod definicije prvo napisali parametar\n",
    "*vrsta,* i kod poziva prvi argument mora biti informacije o vrsti. Ako\n",
    "proslijedimo argumente u drugom redoslijedu, poruka će biti malo čudna."
   ]
  },
  {
   "cell_type": "code",
   "execution_count": null,
   "metadata": {},
   "outputs": [],
   "source": [
    "def opis_zivotinje(vrsta, ime):\n",
    "    '''Prikazuje informacije o kućnim ljubimcima'''\n",
    "    print ('\\nImam kućnog ljubimca imena ' + ime.title() + ', koji je ' + vrsta + '.')\n",
    "opis_zivotinje('rex', 'pas')"
   ]
  },
  {
   "cell_type": "markdown",
   "metadata": {},
   "source": [
    "Jednom definiranu funkciju možemo koristiti više puta i svaki put možemo slati\n",
    "druge argumente."
   ]
  },
  {
   "cell_type": "code",
   "execution_count": null,
   "metadata": {},
   "outputs": [],
   "source": [
    "def opis_zivotinje(vrsta, ime):\n",
    "    '''Prikazuje informacije o kućnim ljubimcima'''\n",
    "    print ('\\nImam kućnog ljubimca imena ' + ime.title() + ', koji je ' + vrsta + '.')\n",
    "opis_zivotinje('pas', 'rex')\n",
    "opis_zivotinje('kanarinac', 'fifi')"
   ]
  },
  {
   "cell_type": "markdown",
   "metadata": {},
   "source": [
    "Kada prosljeđujemo argumente funkciji, osim pozicijskog dodjeljivanja, možemo\n",
    "koristiti i imensko. U tom slučaju redoslijed nije bitan, već kod poziva moramo\n",
    "napisati nazive varijabli i dodijeliti im vrijednosti."
   ]
  },
  {
   "cell_type": "code",
   "execution_count": null,
   "metadata": {},
   "outputs": [],
   "source": [
    "def opis_zivotinje(vrsta, ime):\n",
    "    '''Prikazuje informacije o kućnim ljubimcima'''\n",
    "    print ('\\nImam kućnog ljubimca imena ' + ime.title() + ', koji je ' + vrsta + '.')\n",
    "opis_zivotinje(vrsta = 'pas', ime = 'rex')\n",
    "opis_zivotinje(ime = 'rex', vrsta = 'pas')"
   ]
  },
  {
   "cell_type": "markdown",
   "metadata": {},
   "source": [
    "Kod imenskog prosljeđivanja argumenata parametrima, moramo paziti da koristimo\n",
    "imena definirana u definiciji funkcije. Prosljeđivanje argumenata može biti po\n",
    "vrijednosti (*call by value*) i po referenci (*call by reference*), Konkretno, kada\n",
    "se funkciji kao argument prosljeđuje tip podatka koji je nepromjenjiv, tada\n",
    "svaka promjena nad nepromjenjivim objektom uzrokuje stvaranje novog objekta u\n",
    "funkciji, koji ni na koji način nije povezan s argumentom funkcije. S druge\n",
    "stranje, prijenos promjenjivih objekata jednak je prijenosu po referenci jer\n",
    "svaka promjena unutar funkcije vidljiva je i izvan funkcije."
   ]
  },
  {
   "cell_type": "markdown",
   "metadata": {},
   "source": [
    "<br><div class=\"alert alert-info\"><b>Vježba</b></div></br>"
   ]
  },
  {
   "cell_type": "markdown",
   "metadata": {},
   "source": [
    "Napravite program koji ima funkciju *napravi_majicu* koja prihvaća veličinu i boju majice, te tekst koji treba biti ispisan na njoj.  \n",
    "Funkcija treba ispisati poruku s unesenim podatcima o majici.  \n",
    "Pozovite funkciju korištenjem pozicije argumenata.  \n",
    "Pozovite funkciju korištenjem imenskog pozicioniranja."
   ]
  },
  {
   "cell_type": "code",
   "execution_count": 7,
   "metadata": {},
   "outputs": [
    {
     "name": "stdout",
     "output_type": "stream",
     "text": [
      "velicina:10, boja:bijela, tekst:python ftw\n",
      "velicina:12, boja:bijela, tekst:python ftw\n"
     ]
    }
   ],
   "source": [
    "def napravi_majicu(velicina, boja, tekst):\n",
    "    print(f\"velicina:{velicina}, boja:{boja}, tekst:{tekst}\")\n",
    "    \n",
    "napravi_majicu(10, 'bijela', 'python ftw')\n",
    "napravi_majicu(boja='bijela', velicina=12, tekst='python ftw')"
   ]
  },
  {
   "cell_type": "markdown",
   "metadata": {},
   "source": [
    "Kopirajte prethodno rješenje i pokušajte pozivati funkciju tako da:\n",
    "- upišete manje argumenata\n",
    "- upišete više argumenata\n",
    "- koristite imensko pozicioniranje i pogrešno upišete naziv parametra.  \n",
    "\n",
    "Pogledajte razlike u greškama."
   ]
  },
  {
   "cell_type": "code",
   "execution_count": 8,
   "metadata": {},
   "outputs": [
    {
     "ename": "TypeError",
     "evalue": "napravi_majicu() missing 1 required positional argument: 'tekst'",
     "output_type": "error",
     "traceback": [
      "\u001b[0;31m---------------------------------------------------------------------------\u001b[0m",
      "\u001b[0;31mTypeError\u001b[0m                                 Traceback (most recent call last)",
      "\u001b[0;32m<ipython-input-8-77dfa0bb4043>\u001b[0m in \u001b[0;36m<module>\u001b[0;34m\u001b[0m\n\u001b[1;32m      2\u001b[0m     \u001b[0mprint\u001b[0m\u001b[0;34m(\u001b[0m\u001b[0;34mf\"velicina:{velicina}, boja:{boja}, tekst:{tekst}\"\u001b[0m\u001b[0;34m)\u001b[0m\u001b[0;34m\u001b[0m\u001b[0;34m\u001b[0m\u001b[0m\n\u001b[1;32m      3\u001b[0m \u001b[0;34m\u001b[0m\u001b[0m\n\u001b[0;32m----> 4\u001b[0;31m \u001b[0mnapravi_majicu\u001b[0m\u001b[0;34m(\u001b[0m\u001b[0;34m'bijela'\u001b[0m\u001b[0;34m,\u001b[0m \u001b[0;34m'python ftw'\u001b[0m\u001b[0;34m)\u001b[0m\u001b[0;34m\u001b[0m\u001b[0;34m\u001b[0m\u001b[0m\n\u001b[0m\u001b[1;32m      5\u001b[0m \u001b[0mnapravi_majicu\u001b[0m\u001b[0;34m(\u001b[0m\u001b[0mboja\u001b[0m\u001b[0;34m=\u001b[0m\u001b[0;34m'bijela'\u001b[0m\u001b[0;34m,\u001b[0m \u001b[0mvelicina\u001b[0m\u001b[0;34m=\u001b[0m\u001b[0;36m12\u001b[0m\u001b[0;34m,\u001b[0m \u001b[0mtekst\u001b[0m\u001b[0;34m=\u001b[0m\u001b[0;34m'python ftw'\u001b[0m\u001b[0;34m)\u001b[0m\u001b[0;34m\u001b[0m\u001b[0;34m\u001b[0m\u001b[0m\n",
      "\u001b[0;31mTypeError\u001b[0m: napravi_majicu() missing 1 required positional argument: 'tekst'"
     ]
    }
   ],
   "source": [
    "def napravi_majicu(velicina, boja, tekst):\n",
    "    print(f\"velicina:{velicina}, boja:{boja}, tekst:{tekst}\")\n",
    "    \n",
    "napravi_majicu('bijela', 'python ftw')\n",
    "napravi_majicu(boja='bijela', velicina=12, tekst='python ftw')"
   ]
  },
  {
   "cell_type": "code",
   "execution_count": 9,
   "metadata": {},
   "outputs": [
    {
     "ename": "TypeError",
     "evalue": "napravi_majicu() takes 3 positional arguments but 4 were given",
     "output_type": "error",
     "traceback": [
      "\u001b[0;31m---------------------------------------------------------------------------\u001b[0m",
      "\u001b[0;31mTypeError\u001b[0m                                 Traceback (most recent call last)",
      "\u001b[0;32m<ipython-input-9-f3f7e580ef12>\u001b[0m in \u001b[0;36m<module>\u001b[0;34m\u001b[0m\n\u001b[1;32m      2\u001b[0m     \u001b[0mprint\u001b[0m\u001b[0;34m(\u001b[0m\u001b[0;34mf\"velicina:{velicina}, boja:{boja}, tekst:{tekst}\"\u001b[0m\u001b[0;34m)\u001b[0m\u001b[0;34m\u001b[0m\u001b[0;34m\u001b[0m\u001b[0m\n\u001b[1;32m      3\u001b[0m \u001b[0;34m\u001b[0m\u001b[0m\n\u001b[0;32m----> 4\u001b[0;31m \u001b[0mnapravi_majicu\u001b[0m\u001b[0;34m(\u001b[0m\u001b[0;36m10\u001b[0m\u001b[0;34m,\u001b[0m \u001b[0;34m'bijela'\u001b[0m\u001b[0;34m,\u001b[0m \u001b[0;34m'python ftw'\u001b[0m\u001b[0;34m,\u001b[0m \u001b[0;36m12\u001b[0m\u001b[0;34m)\u001b[0m\u001b[0;34m\u001b[0m\u001b[0;34m\u001b[0m\u001b[0m\n\u001b[0m\u001b[1;32m      5\u001b[0m \u001b[0mnapravi_majicu\u001b[0m\u001b[0;34m(\u001b[0m\u001b[0mboja\u001b[0m\u001b[0;34m=\u001b[0m\u001b[0;34m'bijela'\u001b[0m\u001b[0;34m,\u001b[0m \u001b[0mvelicina\u001b[0m\u001b[0;34m=\u001b[0m\u001b[0;36m12\u001b[0m\u001b[0;34m,\u001b[0m \u001b[0mtekst\u001b[0m\u001b[0;34m=\u001b[0m\u001b[0;34m'python ftw'\u001b[0m\u001b[0;34m)\u001b[0m\u001b[0;34m\u001b[0m\u001b[0;34m\u001b[0m\u001b[0m\n",
      "\u001b[0;31mTypeError\u001b[0m: napravi_majicu() takes 3 positional arguments but 4 were given"
     ]
    }
   ],
   "source": [
    "def napravi_majicu(velicina, boja, tekst):\n",
    "    print(f\"velicina:{velicina}, boja:{boja}, tekst:{tekst}\")\n",
    "    \n",
    "napravi_majicu(10, 'bijela', 'python ftw', 12)\n",
    "napravi_majicu(boja='bijela', velicina=12, tekst='python ftw')"
   ]
  },
  {
   "cell_type": "code",
   "execution_count": 10,
   "metadata": {},
   "outputs": [
    {
     "name": "stdout",
     "output_type": "stream",
     "text": [
      "velicina:10, boja:bijela, tekst:python ftw\n"
     ]
    },
    {
     "ename": "TypeError",
     "evalue": "napravi_majicu() got an unexpected keyword argument 'velicdddina'",
     "output_type": "error",
     "traceback": [
      "\u001b[0;31m---------------------------------------------------------------------------\u001b[0m",
      "\u001b[0;31mTypeError\u001b[0m                                 Traceback (most recent call last)",
      "\u001b[0;32m<ipython-input-10-7f6d06d49720>\u001b[0m in \u001b[0;36m<module>\u001b[0;34m\u001b[0m\n\u001b[1;32m      3\u001b[0m \u001b[0;34m\u001b[0m\u001b[0m\n\u001b[1;32m      4\u001b[0m \u001b[0mnapravi_majicu\u001b[0m\u001b[0;34m(\u001b[0m\u001b[0;36m10\u001b[0m\u001b[0;34m,\u001b[0m \u001b[0;34m'bijela'\u001b[0m\u001b[0;34m,\u001b[0m \u001b[0;34m'python ftw'\u001b[0m\u001b[0;34m)\u001b[0m\u001b[0;34m\u001b[0m\u001b[0;34m\u001b[0m\u001b[0m\n\u001b[0;32m----> 5\u001b[0;31m \u001b[0mnapravi_majicu\u001b[0m\u001b[0;34m(\u001b[0m\u001b[0mboja\u001b[0m\u001b[0;34m=\u001b[0m\u001b[0;34m'bijela'\u001b[0m\u001b[0;34m,\u001b[0m \u001b[0mvelicdddina\u001b[0m\u001b[0;34m=\u001b[0m\u001b[0;36m12\u001b[0m\u001b[0;34m,\u001b[0m \u001b[0mtekst\u001b[0m\u001b[0;34m=\u001b[0m\u001b[0;34m'python ftw'\u001b[0m\u001b[0;34m)\u001b[0m\u001b[0;34m\u001b[0m\u001b[0;34m\u001b[0m\u001b[0m\n\u001b[0m",
      "\u001b[0;31mTypeError\u001b[0m: napravi_majicu() got an unexpected keyword argument 'velicdddina'"
     ]
    }
   ],
   "source": [
    "def napravi_majicu(velicina, boja, tekst):\n",
    "    print(f\"velicina:{velicina}, boja:{boja}, tekst:{tekst}\")\n",
    "    \n",
    "napravi_majicu(10, 'bijela', 'python ftw')\n",
    "napravi_majicu(boja='bijela', velicdddina=12, tekst='python ftw')"
   ]
  },
  {
   "cell_type": "markdown",
   "metadata": {},
   "source": [
    "<br><div class=\"alert alert-info\"><b>Kraj</b></div></br>"
   ]
  },
  {
   "cell_type": "markdown",
   "metadata": {},
   "source": [
    "Kada definiramo funkcije, možemo odmah unaprijed definirati pretpostavljene\n",
    "vrijednosti za svaki parametar. Ako kod poziva funkcije argument nije poslan,\n",
    "koristit će se unaprijed definirana vrijednost, a ako jest, koristi se\n",
    "vrijednost argumenta. Korištenje unaprijed definiranih vrijednosti može olakšati\n",
    "korištenje funkcija, pogotovo ako je neka vrijednost jednaka u većini poziva.\n",
    "Primjerice, ako znamo da su kućni ljubimci većinom psi, možemo kod definiranja\n",
    "funkcije dodati tu vrijednost kao unaprijed definiranu."
   ]
  },
  {
   "cell_type": "code",
   "execution_count": 11,
   "metadata": {},
   "outputs": [
    {
     "name": "stdout",
     "output_type": "stream",
     "text": [
      "\n",
      "Imam kućnog ljubimca imena Rex, koji je pas.\n",
      "\n",
      "Imam kućnog ljubimca imena Alfred, koji je miš.\n"
     ]
    }
   ],
   "source": [
    "def opis_zivotinje(ime, vrsta = 'pas'):\n",
    "    '''Prikazuje informacije o kućnim ljubimcima'''\n",
    "    print ('\\nImam kućnog ljubimca imena ' + ime.title() + ', koji je ' + vrsta + '.')\n",
    "opis_zivotinje('rex')\n",
    "opis_zivotinje('alfred', 'miš')"
   ]
  },
  {
   "cell_type": "markdown",
   "metadata": {},
   "source": [
    "Kada koristite unaprijed definirane vrijednosti, one uvijek u definiciji\n",
    "funkcije moraju doći iza onih koje nemaju unaprijed definiranu vrijednost. Ovo\n",
    "omogućuje *Pythonu* da koristi pozicijsko prosljeđivanje argumenata."
   ]
  }
 ],
 "metadata": {
  "kernelspec": {
   "display_name": "Python 3",
   "language": "python",
   "name": "python3"
  },
  "language_info": {
   "codemirror_mode": {
    "name": "ipython",
    "version": 3
   },
   "file_extension": ".py",
   "mimetype": "text/x-python",
   "name": "python",
   "nbconvert_exporter": "python",
   "pygments_lexer": "ipython3",
   "version": "3.7.3"
  }
 },
 "nbformat": 4,
 "nbformat_minor": 2
}
