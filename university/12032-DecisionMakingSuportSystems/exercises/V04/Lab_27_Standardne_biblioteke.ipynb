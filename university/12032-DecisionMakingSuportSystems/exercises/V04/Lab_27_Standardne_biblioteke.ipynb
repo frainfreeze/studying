{
 "cells": [
  {
   "cell_type": "markdown",
   "metadata": {},
   "source": [
    "<img src=\"Slike/vua.png\">"
   ]
  },
  {
   "cell_type": "markdown",
   "metadata": {},
   "source": [
    "# Standardne biblioteke\n",
    "\n",
    "Standardne biblioteke u Pythonu su skup modula koji je uključen u svaku\n",
    "instalaciju. Kada imamo osnovno razumijevanje načina rada razreda, možemo početi\n",
    "koristiti module koje su napisali drugi programeri. Možemo koristiti bilo koju\n",
    "funkciju ili razred u standardnim bibliotekama tako da pozovemo izraz za\n",
    "učitavanje: *import*. Pogledajmo jedan razred *OrderedDict* iz modula\n",
    "*collections*. Rječnici omogućuju povezivanje dijelova informacija\n",
    "(ključ/vrijednost), ali oni ne prate redoslijed dodavanja elemenata. Ako\n",
    "kreiramo rječnik i želimo pratiti i redoslijed dodavanja elemenata, možemo\n",
    "koristiti razred *OrderedDict* iz modula *collections*. Instance razreda\n",
    "*OrderedDict* ponašaju se poput rječnika, uz iznimku da prate redoslijed\n",
    "dodavanja elemenata. Pogledajmo primjer rječnika koji smo definirali za anketu\n",
    "*najdraži programski jezik*. Želimo pratiti redoslijed dodavanja elemenata."
   ]
  },
  {
   "cell_type": "code",
   "execution_count": null,
   "metadata": {},
   "outputs": [],
   "source": [
    "from collections import OrderedDict\n",
    "najdrazi_jezik = OrderedDict()\n",
    "najdrazi_jezik['Hrvoje'] = 'python'\n",
    "najdrazi_jezik['Ana'] = 'c++'\n",
    "najdrazi_jezik['Ivana'] = 'python'\n",
    "najdrazi_jezik['Matija'] = 'ruby'\n",
    "for ime, jezik in najdrazi_jezik.items():\n",
    "    print(ime.title() + \" preferira programski jezik \" + jezik.title() + \".\")"
   ]
  },
  {
   "cell_type": "markdown",
   "metadata": {},
   "source": [
    "Počinjemo učitavanjem razreda *OrderedDict* iz modula *collections*. Zatim\n",
    "kreiramo instancu razreda *OrderedDict* i pohranjujemo je u varijablu\n",
    "*najdrazi_jezik*. Primijetimo da nema vitičastih zagrada. Poziv na\n",
    "*OrderedDict()* stvara prazan rječnik. Zatim pohranjujemo imena i jezike u\n",
    "*najdrazi_jezik* jedan po jedan. Kada pregledavamo *najdrazi_jezik* uvijek ćemo\n",
    "dobiti odgovore u redoslijedu kojim su dodani. Ovo je jako koristan razred koji\n",
    "povezuje glavne prednosti lista (redoslijed) s glavnim prednostima rječnika\n",
    "(povezivanje informacija). Osim standardnih modula, uvijek možemo instalirati i\n",
    "dodatne module. To nije tako jednostavno u ovom okruženju u kojem sada radimo,\n",
    "ali na lokalnoj instalaciji Pythona samo treba pratiti uputu na mjestu gdje smo\n",
    "pronašli modul."
   ]
  },
  {
   "cell_type": "markdown",
   "metadata": {},
   "source": [
    "<br><div class=\"alert alert-info\"><b>Vježba</b></div>"
   ]
  },
  {
   "cell_type": "markdown",
   "metadata": {},
   "source": [
    "Napravite program koji radi kao rječnik korištenjem klase *OrderedDict*.  \n",
    "U rječnik unesite 10 instrukcija jezika Python koje ste do sad naučili kao ključ i\n",
    "objašnjenje što rade kao vrijednost.  \n",
    "Ispišite elemente rječnika i provjerite jesu li ispisani istim redoslijedom kao što su uneseni."
   ]
  },
  {
   "cell_type": "code",
   "execution_count": null,
   "metadata": {},
   "outputs": [],
   "source": []
  },
  {
   "cell_type": "markdown",
   "metadata": {},
   "source": [
    "Modul *random* sadrži funkciju za generiranje slučajnih brojeva na različite\n",
    "načine.  \n",
    "Funkcija *randint()* vraća cijeli broj u rangu koji je proslijeđen kao\n",
    "parametar funkciji.  \n",
    "Primjerice, sljedeći kod vraća slučajan broj između 1 i 6:\n",
    "```python\n",
    "from random import randint\n",
    "x = randint(1, 6)\n",
    "```\n",
    "Napravite razred *Kocka* s jednim atributom imena *strana* koja ima unaprijed definiranu vrijednost 6.  \n",
    "Unutar razreda napravite metodu *baci_kocku()* koja ispisuje slučajno odabrani broj između 1 i 6.  \n",
    "Napravite 6 instanci klase *Kocka* i za svaku od njih napravite 10 bacanja."
   ]
  },
  {
   "cell_type": "code",
   "execution_count": null,
   "metadata": {},
   "outputs": [],
   "source": []
  },
  {
   "cell_type": "markdown",
   "metadata": {},
   "source": [
    "Kako biste napravili 100 instanci kocke, gdje svaku treba baciti po 10 puta?"
   ]
  },
  {
   "cell_type": "code",
   "execution_count": null,
   "metadata": {},
   "outputs": [],
   "source": []
  },
  {
   "cell_type": "markdown",
   "metadata": {},
   "source": [
    "**Python Module of the Week** odličan je izvor za istraživanje Python modula.  \n",
    "Web stranica na linku http://pymotw.com/ sadrži upute za korištenje standardnih modula u Python-u.  \n",
    "Pronađite neki modul koji vam je interesantan i probajte pokrenuti primjer iz opisa u donjoj čeliji."
   ]
  },
  {
   "cell_type": "code",
   "execution_count": null,
   "metadata": {},
   "outputs": [],
   "source": []
  },
  {
   "cell_type": "markdown",
   "metadata": {},
   "source": [
    "<br><div class=\"alert alert-info\"><b>Kraj</b></div>"
   ]
  }
 ],
 "metadata": {
  "kernelspec": {
   "display_name": "Python 3",
   "language": "python",
   "name": "python3"
  },
  "language_info": {
   "codemirror_mode": {
    "name": "ipython",
    "version": 3
   },
   "file_extension": ".py",
   "mimetype": "text/x-python",
   "name": "python",
   "nbconvert_exporter": "python",
   "pygments_lexer": "ipython3",
   "version": "3.7.3"
  }
 },
 "nbformat": 4,
 "nbformat_minor": 2
}
