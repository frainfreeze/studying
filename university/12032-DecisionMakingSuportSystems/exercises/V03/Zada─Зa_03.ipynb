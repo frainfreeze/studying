{
 "cells": [
  {
   "cell_type": "markdown",
   "metadata": {},
   "source": [
    "<img src=\"Slike/vua.png\">"
   ]
  },
  {
   "cell_type": "markdown",
   "metadata": {},
   "source": [
    "# Zadaća\n",
    "Kopirajte razred Korisnik iz Laba_23.  \n",
    "Administratora sustava možemo promatrati kao posebnu vrstu korisnika. Napravite\n",
    "razred naziva *Admin* koja je izvedena iz razreda *Korisnik*.  \n",
    "Dodajte atribut *privilegije* koje pohranjuje popis ovlasti tipa: „može dodati\n",
    "objavu\", „može obrisati objavu\", \"može zabraniti korisnika\" i tako dalje.  \n",
    "Napišite metodu nazvanu *prikazi.privilegije()* koja ispisuje popis privilegija\n",
    "administratora.  \n",
    "Kreirajte instancu administratora korištenjem izvedenog razreda *Admin* i pozovi\n",
    "metodu *prikazi.privilegije()*."
   ]
  },
  {
   "cell_type": "code",
   "execution_count": null,
   "metadata": {},
   "outputs": [],
   "source": []
  }
 ],
 "metadata": {
  "kernelspec": {
   "display_name": "Python 3",
   "language": "python",
   "name": "python3"
  },
  "language_info": {
   "codemirror_mode": {
    "name": "ipython",
    "version": 3
   },
   "file_extension": ".py",
   "mimetype": "text/x-python",
   "name": "python",
   "nbconvert_exporter": "python",
   "pygments_lexer": "ipython3",
   "version": "3.7.3"
  }
 },
 "nbformat": 4,
 "nbformat_minor": 2
}
