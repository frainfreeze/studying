{
 "cells": [
  {
   "cell_type": "markdown",
   "metadata": {},
   "source": [
    "<img src=\"Slike/vua.png\">"
   ]
  },
  {
   "cell_type": "markdown",
   "metadata": {},
   "source": [
    "# Razredi - nasljeđivanje\n",
    "Ne moramo uvijek započeti ispočetka kada pišemo razred. Ako je razred koji\n",
    "pišemo specijalna inačica razreda koji već imamo, možemo upotrijebiti\n",
    "nasljeđivanje. Kada kreiramo razred koji nasljeđuje drugi, on automatski\n",
    "preuzima sve atribute i metode prvog razreda. Izvorni razred naziva se *bazni\n",
    "ili nasljeđujući razred*, a novi razred *izvedeni razred*. *Izvedeni razred*\n",
    "nasljeđuje sve javne ili zaštićene atribute i metode od *baznog razreda*, ali\n",
    "omogućuje da dodajemo nove atribute i metode."
   ]
  },
  {
   "cell_type": "markdown",
   "metadata": {},
   "source": [
    "### Metoda \\__init\\__() za izvedenu klasu\n",
    "Python kod stvaranja *izvedenog razreda* prvo mora dodijeliti vrijednosti svim\n",
    "atributima *baznog razreda*. Zato metoda \\__init__() izvedenog razreda koristi\n",
    "*bazni razred*. Na primjer, ako želimo definirati instancu za električne\n",
    "automobile baziranu na novom razredu *ElektricniAuto,* možemo iskoristiti razred\n",
    "*Auto* koji smo napravili prije. Kako nam u novom razredu trebaju svi atributi\n",
    "iz razreda *Auto*, možemo ga iskoristiti kao bazu za stvaranje novog razreda i\n",
    "dodati samo atribute i metode specifične samo za električne automobile. Počnimo\n",
    "s izradom jednostavne verzije razreda *ElektricniAuto*, koji radi sve što i\n",
    "razred *Auto*."
   ]
  },
  {
   "cell_type": "code",
   "execution_count": null,
   "metadata": {},
   "outputs": [],
   "source": [
    "class Auto():\n",
    "    \"\"\"Jednostavan razred automobila.\"\"\"\n",
    "    def __init__(self, marka, model, godina):\n",
    "        \"\"\"Inicijalizacija atributa koji opisuju automobil.\"\"\"\n",
    "        self.marka = marka\n",
    "        self.model = model\n",
    "        self.godina = godina\n",
    "        self.kilometara = 0\n",
    "    def podaci(self):\n",
    "        \"\"\"Vraća objedinjenje podatke.\"\"\"\n",
    "        ime = str(self.godina) + ' ' + self.marka + ' ' + self.model\n",
    "        return ime.title()\n",
    "    def procitaj_kilometre(self):\n",
    "        \"\"\"Ispisuje stanje kilometara.\"\"\"\n",
    "        print(\"Automobil ima \" + str(self.kilometara) + \" prijeđenih kilometara.\")\n",
    "    def osvjezi_kilometre(self, kilometri):\n",
    "        \"\"\"\n",
    "        Postavi kilometara na proslijeđenu vrijednost\n",
    "        Ne dozvoli vraćanje kilometara\n",
    "        \"\"\"\n",
    "        if kilometri >= self.kilometara:\n",
    "            self.kilometara = kilometri\n",
    "        else:\n",
    "            print('Ne možeš vraćati kilometre na automobilu')\n",
    "    def povecaj_kilometre(self, kilometri):\n",
    "        \"\"\"Dodaj kilometre.\"\"\"\n",
    "        self.kilometara += kilometri\n",
    "class ElektricniAuto(Auto):\n",
    "    \"\"\"Razred prilagođen za električne automobile.\"\"\"\n",
    "    def __init__(self, marka, model, godina):\n",
    "        \"\"\"Inicijalizacija atributa baznog razreda.\"\"\"\n",
    "        super().__init__(marka, model, godina)\n",
    "automobil = ElektricniAuto('tesla', 'model s', 2018)\n",
    "print(automobil.podaci())"
   ]
  },
  {
   "cell_type": "markdown",
   "metadata": {},
   "source": [
    "Počinjemo s razredom *Auto*. Kada kreiramo izvedeni razred, bazni razred mora\n",
    "biti učitan prije izvedenog razreda. Definiramo izvedeni razred *ElektricniAuto*\n",
    "tako što naziv baznog razreda stavimo kao parametar u zagrade nakon naziva novog\n",
    "razreda. Metoda \\_\\_init\\_\\_() uzima podatke potrebne za izradu automobila.\n",
    "Funkcija *super()* je posebna funkcija koja pomaže Pythonu da poveže bazni i\n",
    "izvedeni razred. Python poziva metodu baznog razreda \\_\\_init\\_\\_(), što dodjeljuje\n",
    "razredu *ElektricniAuto* sve atribute baznog razreda. Naziv funkcije *super()*\n",
    "dolazi iz konvencije nazivanja baznog razreda *nadrazredom* i izvedene\n",
    "*podrazredom*. Za test stvaramo novu instancu razreda *ElektricniAuto* i\n",
    "prosljeđujemo iste parametre kao i kad smo koristili razred *Auto*. Za sada\n",
    "imamo samo metodu \\__init__(), pa se izvedeni razred ponaša jednako kao i bazni."
   ]
  },
  {
   "cell_type": "markdown",
   "metadata": {},
   "source": [
    "### Definiranje atributa i metoda za izvedene klase\n",
    "Kada imamo izvedeni razred, možemo dodati nove atribute i metode potrebne za\n",
    "razlikovanje razreda. Dodajmo atribut koji je specifičan za električne\n",
    "automobile (npr. baterija) i način ispisa o tom atributu. Spremit ćemo veličinu\n",
    "baterije i napisati metodu koja ispisuje opis baterije."
   ]
  },
  {
   "cell_type": "code",
   "execution_count": null,
   "metadata": {},
   "outputs": [],
   "source": [
    "class Auto():\n",
    "    \"\"\"Jednostavan razred automobila.\"\"\"\n",
    "    def __init__(self, marka, model, godina):\n",
    "        \"\"\"Inicijalizacija atributa koji opisuju automobil.\"\"\"\n",
    "        self.marka = marka\n",
    "        self.model = model\n",
    "        self.godina = godina\n",
    "        self.kilometara = 0\n",
    "    def podaci(self):\n",
    "        \"\"\"Vraća objedinjenje podatke.\"\"\"\n",
    "        ime = str(self.godina) + ' ' + self.marka + ' ' + self.model\n",
    "        return ime.title()\n",
    "    def procitaj_kilometre(self):\n",
    "        \"\"\"Ispisuje stanje kilometara.\"\"\"\n",
    "        print(\"Automobil ima \" + str(self.kilometara) + \" prijeđenih kilometara.\")\n",
    "    def osvjezi_kilometre(self, kilometri):\n",
    "        \"\"\"\n",
    "        Postavi kilometara na proslijeđenu vrijednost\n",
    "        Ne dozvoli vraćanje kilometara\n",
    "        \"\"\"\n",
    "        if kilometri >= self.kilometara:\n",
    "            self.kilometara = kilometri\n",
    "        else:\n",
    "            print('Ne možeš vraćati kilometre na automobilu')\n",
    "    def povecaj_kilometre(self, kilometri):\n",
    "        \"\"\"Dodaj kilometre.\"\"\"\n",
    "        self.kilometara += kilometri\n",
    "class ElektricniAuto(Auto):\n",
    "    \"\"\"Razred prilagođen za električne automobile.\"\"\"\n",
    "    def __init__(self, marka, model, godina):\n",
    "        \"\"\"\n",
    "        Inicijalizacija atributa baznog razreda.\n",
    "        Dodavanje atributa za bateriju.\n",
    "        \"\"\"\n",
    "        super().__init__(marka, model, godina)\n",
    "        self.baterija = 70\n",
    "    def opisi_bateriju(self):\n",
    "        \"\"\"Ispisi informacije o bateriji.\"\"\"\n",
    "        print(\"Ovaj automobil ima \" + str(self.baterija) + \"-kWh bateriju.\")\n",
    "automobil = ElektricniAuto('tesla', 'model s', 2018)\n",
    "print(automobil.podaci())\n",
    "automobil.opisi_bateriju()"
   ]
  },
  {
   "cell_type": "markdown",
   "metadata": {},
   "source": [
    "Dodali smo novi atribut *self.baterija* i postavili početnu vrijednost na 70.\n",
    "Ovaj atribut bit će povezan sa svim instancama stvorenim iz razreda\n",
    "*ElektricniAuto*, ali neće biti povezan ni s jednom instancom razreda *Auto*.\n",
    "Dodali smo i metodu *opisi_bateriju()* koja ispisuje informacije o bateriji.\n",
    "Kada pozovemo ovu metodu, ispisuju se informacije specifične za električni\n",
    "automobil.\n",
    "\n",
    "Kod prilagodbe izvedenih razreda nemamo ograničenja. Možemo dodavati onoliko\n",
    "atributa i metoda koliko je potrebno za opisivanje električnog automobila.\n",
    "Atribut ili metodu koja bi mogla pripadati bilo kojem automobilu (ne samo\n",
    "električnim automobilima) treba dodati u razred *Auto*. Tada će svi koji koriste\n",
    "razred *Auto* imati pristup toj funkciji, a razred *ElektricniAuto* će\n",
    "sadržavati samo informacije i ponašanja specifična za električna vozila.\n",
    "\n",
    "U nekim situacijama, neke od metoda iz baznog razreda nisu primjerene ili\n",
    "trebamo metode u izvedenom razredu koje imaju isti naziv kao i u baznom razredu.\n",
    "Tada trebamo izvedenim razredom nadjačati metodu iz baznog razreda koja ne\n",
    "odgovara onome što pokušavamo opisati. To je najjednostavnije napraviti tako što\n",
    "u izvedenom razredu definiramo metodu koja ima isto ime kao i ona u baznoj.\n",
    "Python će zanemariti metodu baznog razreda i obraditi metodu koju definiramo u\n",
    "izvedenom razredu. Ako razredu *Auto* dodamo metodu *napuni_rezervar()* koja\n",
    "povećava atribut koji bilježi stanje goriva u rezervoaru, njena je\n",
    "funkcionalnost za električni automobil nepotrebna. U izvedenom razredu trebamo\n",
    "definirati metodu istog imena i u nju dodati poruku da nije podržana za\n",
    "električne automobile.\n",
    "\n",
    "Na ilustraciji ispod možete vidjeti dijagram razreda (UML class dijagram)\n",
    "napravljen prema UML specifikaciji. UML je meta jezik za opisivanje principa\n",
    "objektno orijentirane paradigme, koja programerima olakšava vizualizaciju\n",
    "objektne arhitekture i objektne hijerarhije. U dijagramu oznaka + označava da je\n",
    "metoda ili atribut javan, a strelica s punom glavom označava nasljeđivanje. Iz\n",
    "slike je jasno da je razred *ElektricniAuto* naslijedio sve javne atribute i\n",
    "metode baznog razreda *Auto*.\n",
    "<img src=\"Slike/12_10.png\" alt=\"Drawing\" style=\"width: 400px;\">"
   ]
  },
  {
   "cell_type": "markdown",
   "metadata": {},
   "source": [
    "Kod prilagodbe izvedene klase nemamo ograničenja. Možemo dodavati onoliko\n",
    "atributa i metoda koliko je potrebno za opisivanje električnog automobila.\n",
    "Atribut ili metodu koja bi mogla pripadati bilo kojem automobilu (ne samo\n",
    "električnim automobilima) treba dodati u klasu *Auto*. Tada će svi koji koriste\n",
    "klasu *Auto* imati pristup toj funkciji, a klasa *ElektricniAuto* će sadržavati\n",
    "samo one informacije i ponašanja specifične za električna vozila."
   ]
  },
  {
   "cell_type": "markdown",
   "metadata": {},
   "source": [
    "<br><div class=\"alert alert-info\"><b>Vježba</b></div>"
   ]
  },
  {
   "cell_type": "raw",
   "metadata": {},
   "source": [
    "Kopirajte razred Restoran iz Lab_23.  \n",
    "Kreirajte izvedeni razred *Sladoled* koja nasljeđuje atribute razreda *Restoran*.  \n",
    "Dodajte atribut naziva *okusi* koji sprema popis okusa i dodajte par različitih\n",
    "okusa po želji.  \n",
    "Napravite metodu koja prikazuje ove okuse.  \n",
    "Kreirajte instancu razreda *Sladoled* i pozovite kreiranu metodu."
   ]
  },
  {
   "cell_type": "code",
   "execution_count": null,
   "metadata": {},
   "outputs": [],
   "source": []
  },
  {
   "cell_type": "markdown",
   "metadata": {},
   "source": [
    "<br><div class=\"alert alert-info\"><b>Kraj</b></div></br>"
   ]
  }
 ],
 "metadata": {
  "kernelspec": {
   "display_name": "Python 3",
   "language": "python",
   "name": "python3"
  },
  "language_info": {
   "codemirror_mode": {
    "name": "ipython",
    "version": 3
   },
   "file_extension": ".py",
   "mimetype": "text/x-python",
   "name": "python",
   "nbconvert_exporter": "python",
   "pygments_lexer": "ipython3",
   "version": "3.7.3"
  }
 },
 "nbformat": 4,
 "nbformat_minor": 2
}
