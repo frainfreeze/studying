{
 "cells": [
  {
   "cell_type": "markdown",
   "metadata": {},
   "source": [
    "<img src=\"Slike/vua.png\">"
   ]
  },
  {
   "cell_type": "markdown",
   "metadata": {},
   "source": [
    "# Tekst\n",
    "Većina programa uzima podatke te ih obrađuje i prikazuje rezultat. Prvi tip\n",
    "podataka s kojim ćemo se malo bolje upoznati su tekstualni podatci (engl.\n",
    "*Strings*). **String** je niz znakova. Sve znakove koji se nalaze između\n",
    "jednostrukih ili dvostrukih navodnika Python smatra tipom podatka **string**.\n"
   ]
  },
  {
   "cell_type": "markdown",
   "metadata": {},
   "source": [
    "\"Ovo je tekst\"  \n",
    "'Ovo je isto tekst'  "
   ]
  },
  {
   "cell_type": "markdown",
   "metadata": {},
   "source": [
    "Ako u tekstu trebamo neki tip navodnika, za označavanje moramo koristiti drugi\n",
    "tip navodnika.\n",
    "\n",
    "\"Ovo je tekst u 'Pythonu'\" ili\n",
    "\n",
    "'Ovo je isto tekst u \"Pythonu\"'"
   ]
  },
  {
   "cell_type": "code",
   "execution_count": null,
   "metadata": {},
   "outputs": [],
   "source": [
    "tekst = \"Ovo je tekst\"\n",
    "print (tekst)"
   ]
  },
  {
   "cell_type": "markdown",
   "metadata": {},
   "source": [
    "U donjem prozoru isprobajte ostale načine definiranja teksta."
   ]
  },
  {
   "cell_type": "code",
   "execution_count": null,
   "metadata": {},
   "outputs": [],
   "source": []
  },
  {
   "cell_type": "markdown",
   "metadata": {},
   "source": [
    "Što napraviti ako unutar nekog teksta trebamo oba tipa navodnika? U tom slučaju\n",
    "moramo koristiti predznačni znak ili **escape**. Kada koristimo \\\\ ispred nekog\n",
    "znaka, Python smatra da znak koji se nalazi iza gubi svoju specijalnu namjenu i\n",
    "zapisuje se u tekst ili, u nekim slučajevima, ako nije imao specijalnu namjenu,\n",
    "ona se dodaje."
   ]
  },
  {
   "cell_type": "code",
   "execution_count": null,
   "metadata": {},
   "outputs": [],
   "source": [
    "tekst = \"Ovo je \\\"Python\\\" tekst\"\n",
    "print (tekst)"
   ]
  },
  {
   "cell_type": "markdown",
   "metadata": {},
   "source": [
    "Ako isto pokušamo napraviti bez znaka **escape**, dobit ćemo poruku o grešci\n",
    "(**SyntaxError: invalid syntax**) jer *Python* ne zna gdje se tekst završava.\n",
    "Kada koristimo uređivač koji različitim bojama prikazuje elemente kôda, odmah\n",
    "ćemo uočiti gdje je nastao problem.\n"
   ]
  },
  {
   "cell_type": "code",
   "execution_count": null,
   "metadata": {},
   "outputs": [],
   "source": [
    "tekst = \"Ovo je \"Python\" tekst\"\n",
    "print (tekst)"
   ]
  },
  {
   "cell_type": "markdown",
   "metadata": {},
   "source": [
    "U radu s tekstom imamo na raspolaganju različite metode kojima možemo utjecati\n",
    "na tekst. Metode su definirana ponašanja ili akcije koje se mogu raditi nad\n",
    "objektom u memoriji. Više o tome kako metode rade objašnjeno je u poglavlju 6.\n",
    "Zasad je važno znati da se metodi objekta pristupa tako da se navede ime\n",
    "varijable, zatim znak točke te ime metode s pripadajućim parametrima koje metoda\n",
    "prima. Prva skupina s kojom ćemo se upoznati je promjena malih u velika slova i\n",
    "obrnuto. Prva metoda koju ćemo upoznati je **title(),** koja na ulaznom tekstu\n",
    "prva slova riječi postavlja na velika slova, a ostala na mala."
   ]
  },
  {
   "cell_type": "code",
   "execution_count": null,
   "metadata": {},
   "outputs": [],
   "source": [
    "ime = 'hrvoje horvat'\n",
    "print(ime.title())"
   ]
  },
  {
   "cell_type": "markdown",
   "metadata": {},
   "source": [
    "<img src=\"Slike/12_3.png\" alt=\"Drawing\" style=\"width: 600px;\">\n",
    "\n",
    "U ovom primjeru u varijablu *ime* pospremili smo tekst *hrvoje horvat*. Metoda\n",
    "**title()** postavljena je iza imena varijable kao parametar funkcije **print**.\n",
    "Metoda predstavlja neku akciju koju Python treba napraviti na nekom podatku.\n",
    "Točka (.) iza imena varijable u *ime.title()* definira Pythonu da primijeni\n",
    "metodu *title()* na varijablu *ime*. Metode uvijek završavaju zagradama, jer u\n",
    "većini slučajeva trebaju dodatne informacije kod izvođenja koje prosljeđujemo\n",
    "kao parametre. Konkretno, metoda *title()* ne treba nikakve parametre pa su\n",
    "zagrade prazne. Pokušajte upisati neki svoj tekst i provjeriti rezultat.\n",
    "Obratite pozornost da budući da je niz znakova nepromjenjiv tip podatka, svaka\n",
    "promjena niza znakova uzrokuje stvaranje novog objekta."
   ]
  },
  {
   "cell_type": "code",
   "execution_count": null,
   "metadata": {},
   "outputs": [],
   "source": [
    "ime = ''\n",
    "print(ime.title())"
   ]
  },
  {
   "cell_type": "markdown",
   "metadata": {},
   "source": [
    "Prije nego nastavimo, upoznajmo se i s funkcijom **help** koja nam pruža pomoć.\n",
    "Funkcije su akcije koje postoje samostalno i za koje nije potreban objekt nad\n",
    "kojim bi se navedena akcija izvršavala. Jednostavnije rečeno, funkcije su\n",
    "granule naredbi koje izvršavaju određeni posao. Više o funkcijama bit će rečeno\n",
    "kasnije. Kako sad radimo s tekstom, možemo poznati **help** za tekst:\n"
   ]
  },
  {
   "cell_type": "code",
   "execution_count": null,
   "metadata": {},
   "outputs": [],
   "source": [
    "help ('str')"
   ]
  },
  {
   "cell_type": "markdown",
   "metadata": {},
   "source": [
    "Jednako tako možemo pozvati **help** i da uz klasu dodamo i metodu pa će odgovor\n",
    "biti puno kraći."
   ]
  },
  {
   "cell_type": "code",
   "execution_count": null,
   "metadata": {},
   "outputs": [],
   "source": [
    "help ('str.title')"
   ]
  },
  {
   "cell_type": "markdown",
   "metadata": {},
   "source": [
    "**Help** nam je prikazao popis svih metoda koje možemo koristiti na tekstu.\n",
    "Primjerice, metode koje također utječu na mala i velika slova su **upper()**\n",
    "odnosno **lower()**.\n"
   ]
  },
  {
   "cell_type": "code",
   "execution_count": null,
   "metadata": {},
   "outputs": [],
   "source": [
    "ime = 'Hrvoje Horvat'\n",
    "print(ime.upper())\n",
    "print(ime.lower())"
   ]
  },
  {
   "cell_type": "markdown",
   "metadata": {},
   "source": [
    "Metoda **lower()** se često koristi kada uspoređujemo tekstove koji su nastali\n",
    "ručnim unošenjem podataka od strane korisnika. Kod prikazivanja možemo zadržati\n",
    "originalni unos ili ga, ako to ima smisla, možemo konvertirati u prikladan\n",
    "oblik.\n",
    "\n",
    "**Napomena:** U prethodnim primjerima metode smo koristili u dijelu kôda za\n",
    "ispis, pa su nam originalne varijable ostale nepromijenjene. Ako pak želimo da u\n",
    "varijabli bude promijenjeni tekst, tu promjenu moramo dodijeliti toj varijabli.\n",
    "Sjetite se posljedice koju izaziva poziv metode **lower()** nad objektom na koji\n",
    "pokazuje varijabla *ime*."
   ]
  },
  {
   "cell_type": "code",
   "execution_count": null,
   "metadata": {},
   "outputs": [],
   "source": [
    "ime = 'Hrvoje Horvat'\n",
    "ime = ime.lower()\n",
    "print(ime)"
   ]
  },
  {
   "cell_type": "markdown",
   "metadata": {},
   "source": [
    "Programi u radu često trebaju kombinirati više *stringova*. Primjerice, u\n",
    "različitim varijablama čuvamo ime i prezime, ali kod ispisa želimo ih ispisati\n",
    "zajedno.\n"
   ]
  },
  {
   "cell_type": "code",
   "execution_count": null,
   "metadata": {},
   "outputs": [],
   "source": [
    "ime = 'Hrvoje'\n",
    "prezime = 'Horvat'\n",
    "puno_ime = ime + ' ' + prezime\n",
    "print(puno_ime)"
   ]
  },
  {
   "cell_type": "markdown",
   "metadata": {},
   "source": [
    "Ovaj način spajanja tekstova naziva se konkatenacija (engl. *concatenation*).\n",
    "Koristimo ga kada želimo složiti tekst od više odvojenih varijabli. Primjer:\n"
   ]
  },
  {
   "cell_type": "code",
   "execution_count": null,
   "metadata": {},
   "outputs": [],
   "source": [
    "ime = 'Hrvoje'\n",
    "prezime = 'Horvat'\n",
    "puno_ime = ime + ' ' + prezime\n",
    "print('Pozdrav, ' + puno_ime() + '!')"
   ]
  },
  {
   "cell_type": "markdown",
   "metadata": {},
   "source": [
    "Slično smo mogli napraviti i korištenjem nove varijable:"
   ]
  },
  {
   "cell_type": "code",
   "execution_count": null,
   "metadata": {},
   "outputs": [],
   "source": [
    "ime = 'Hrvoje'\n",
    "prezime = 'Horvat'\n",
    "puno_ime = ime + ' ' + prezime\n",
    "poruka = 'Pozdrav, ' + puno_ime() + '!'\n",
    "print(poruka)"
   ]
  },
  {
   "cell_type": "markdown",
   "metadata": {},
   "source": [
    "Ako želimo dodati u tekst tabulator ili prijeći u novi redak, moramo koristiti\n",
    "znak **escape**. Primjerice, na tabulatoru koristimo **/t**, a za novi redak\n",
    "**/n**.\n"
   ]
  },
  {
   "cell_type": "code",
   "execution_count": null,
   "metadata": {},
   "outputs": [],
   "source": [
    "ime = 'Hrvoje\\tHorvat'\n",
    "print(ime)\n",
    "print('--------------')\n",
    "ime = 'Hrvoje\\nHorvat'\n",
    "print(ime)\n",
    "print('--------------')\n",
    "ime = 'Hrvoje\\n\\tHorvat'\n",
    "print(ime)"
   ]
  },
  {
   "cell_type": "markdown",
   "metadata": {},
   "source": [
    "Često trebamo i ukloniti prazna mjesta u tekstu. Kada ispišemo *stringove*\n",
    "„Python“ i „Python “ ispis izgleda jednako, ali kod izvođenja to su dva potpuno\n",
    "različita teksta što može prouzročiti poteškoće kod usporedbe. Ako provjerimo\n",
    "jednakost (za razliku od pridruživanja vrijednosti gdje smo koristili jedan znak\n",
    "**=**, kod provjere jednakosti koristimo **==**) dvije varijable vidimo da su\n",
    "različite.\n"
   ]
  },
  {
   "cell_type": "code",
   "execution_count": null,
   "metadata": {},
   "outputs": [],
   "source": [
    "ime_1 = 'Python'\n",
    "ime_2 = 'Python '\n",
    "ime_1 == ime_2"
   ]
  },
  {
   "cell_type": "markdown",
   "metadata": {},
   "source": [
    "Praznog prostora na početku i/ili kraju teksta možemo se riješiti metodom\n",
    "**strip()** (miče razmak i s početka i s kraja), **rstrip()** (miče razmak s\n",
    "kraja) i **lstrip()** (miče razmak s početka)."
   ]
  },
  {
   "cell_type": "code",
   "execution_count": null,
   "metadata": {},
   "outputs": [],
   "source": [
    "ime_1 = 'Python'\n",
    "ime_2 = 'Python '\n",
    "ime_1.strip() == ime_2.strip()"
   ]
  },
  {
   "cell_type": "code",
   "execution_count": null,
   "metadata": {},
   "outputs": [],
   "source": [
    "ime = ' Python '\n",
    "ime.strip()"
   ]
  },
  {
   "cell_type": "code",
   "execution_count": null,
   "metadata": {},
   "outputs": [],
   "source": [
    "ime = ' Python '\n",
    "ime.rstrip()"
   ]
  },
  {
   "cell_type": "code",
   "execution_count": null,
   "metadata": {},
   "outputs": [],
   "source": [
    "ime = ' Python '\n",
    "ime.lstrip()"
   ]
  },
  {
   "cell_type": "markdown",
   "metadata": {},
   "source": [
    "<br><div class=\"alert alert-info\"><b>Vježba</b></div></br>"
   ]
  },
  {
   "cell_type": "markdown",
   "metadata": {},
   "source": [
    "Napravite program u kojem u varijabli imate upisano ime, te koji ispisuje poruku \"Pozdrav Hrvoje, kako napreduje učenje Pythona?\". „Hrvoje“ zamijenite svojim imenom."
   ]
  },
  {
   "cell_type": "code",
   "execution_count": null,
   "metadata": {},
   "outputs": [],
   "source": []
  },
  {
   "cell_type": "markdown",
   "metadata": {},
   "source": [
    "Napravite program u kojem u varijabli imate upisano ime, te koji ispisuje to ime svim velikim slovima, malim slovima i s početnim velikim i ostatkom malim slovima."
   ]
  },
  {
   "cell_type": "code",
   "execution_count": null,
   "metadata": {},
   "outputs": [],
   "source": []
  },
  {
   "cell_type": "markdown",
   "metadata": {},
   "source": [
    "Pronađite na internetu neki citat osobe koju cijenite. Spremite u jednu varijablu ime osobe, a u drugu tekst citata. Program treba ispisati:  \n",
    "„More ne možeš prijeći gledajući u vodu.\"  \n",
    "Rabindranath Tagore\n"
   ]
  },
  {
   "cell_type": "code",
   "execution_count": null,
   "metadata": {},
   "outputs": [],
   "source": []
  },
  {
   "cell_type": "markdown",
   "metadata": {},
   "source": [
    "<br><div class=\"alert alert-info\"><b>Kraj</b></div></br>"
   ]
  }
 ],
 "metadata": {
  "kernelspec": {
   "display_name": "Python 3",
   "language": "python",
   "name": "python3"
  },
  "language_info": {
   "codemirror_mode": {
    "name": "ipython",
    "version": 3
   },
   "file_extension": ".py",
   "mimetype": "text/x-python",
   "name": "python",
   "nbconvert_exporter": "python",
   "pygments_lexer": "ipython3",
   "version": "3.7.3"
  }
 },
 "nbformat": 4,
 "nbformat_minor": 2
}
