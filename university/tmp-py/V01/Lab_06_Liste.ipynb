{
 "cells": [
  {
   "cell_type": "markdown",
   "metadata": {},
   "source": [
    "<img src=\"Slike/vua.png\">"
   ]
  },
  {
   "cell_type": "markdown",
   "metadata": {},
   "source": [
    "# Liste\n",
    "Lista predstavlja fleksibilnu uređenu kolekciju podataka Elementi liste mogu\n",
    "biti različiti, npr. slova, brojevi ili riječi. Iako nije običaj tako ih\n",
    "koristiti, unutar jedne liste možemo imati podatke različitih tipova. Da bi\n",
    "*Python* znao da je riječ o listi, koristimo uglate zagrade (**[ ]**). Elementi\n",
    "liste su odvojeni zarezom (**,**). Kada dodjeljujemo listu nekoj varijabli,\n",
    "korisno je nazvati je u množini da bismo je razlikovali od običnih varijabli. U\n",
    "nastavku imamo primjer liste u kojoj su zapisana imena. Kada ispisujemo\n",
    "varijablu koja sadrži listu, prikaz će biti niz imena u uglatim zagradama."
   ]
  },
  {
   "cell_type": "code",
   "execution_count": null,
   "metadata": {},
   "outputs": [],
   "source": [
    "# definiramo novu listu imena\n",
    "imena = ['Marija', 'Hrvoje', 'Štef', 'Ivana']\n",
    "# ispis liste\n",
    "print(imena)"
   ]
  },
  {
   "cell_type": "markdown",
   "metadata": {},
   "source": [
    "Najčešće ne želimo korisniku prikazivati listu, pa ćemo vidjeti kako možemo\n",
    "pristupati pojedinom elementu liste. Kako liste predstavljaju skup podataka\n",
    "složen po nekom redoslijedu, pojedinim elementima pristupamo upisivanjem indeksa\n",
    "pozicije elementa. Za pristup, uz ime varijable liste, dodajemo u uglatim\n",
    "zagradama i poziciju.  \n",
    "**Zapamtite da prvi element liste ima indeks 0.**\n"
   ]
  },
  {
   "cell_type": "code",
   "execution_count": null,
   "metadata": {},
   "outputs": [],
   "source": [
    "# definiramo novu listu imena\n",
    "imena = ['Marija', 'Hrvoje', 'Štef', 'Ivana']\n",
    "# ispis prvog elementa liste\n",
    "print(imena[0])"
   ]
  },
  {
   "cell_type": "markdown",
   "metadata": {},
   "source": [
    "Kao što je vidljivo iz prethodnog primjera, s indeksom 0 dobili smo prvi\n",
    "element. Sličan način *brojenja od nule* ima i većina drugih programskih jezika.\n",
    "Ako, pak, želimo doći do 4. elementa, moramo koristiti indeks 3."
   ]
  },
  {
   "cell_type": "code",
   "execution_count": null,
   "metadata": {},
   "outputs": [],
   "source": [
    "# definiramo novu listu imena\n",
    "imena = ['Marija', 'Hrvoje', 'Štef', 'Ivana']\n",
    "# ispis četvrtog elementa liste\n",
    "print(imena[3])"
   ]
  },
  {
   "cell_type": "markdown",
   "metadata": {},
   "source": [
    "Prvom elementu uvijek možemo pristupiti s indeksom 0, ali, ako želimo doći do\n",
    "zadnjeg elementa, moramo znati koliko elemenata se nalazi u listi ili možemo\n",
    "koristiti specijalnu sintaksu u Pythonu indeks **-1**, koja prikazuje zadnji\n",
    "element."
   ]
  },
  {
   "cell_type": "code",
   "execution_count": null,
   "metadata": {},
   "outputs": [],
   "source": [
    "# definiramo novu listu imena\n",
    "imena = ['Marija', 'Hrvoje', 'Štef', 'Ivana']\n",
    "# ispis zadnjeg elementa liste\n",
    "print(imena[-1])"
   ]
  },
  {
   "cell_type": "markdown",
   "metadata": {},
   "source": [
    "Ovo može biti korisno kad ne znamo koliko elemenata imamo u listi. Ovaj\n",
    "specijalni oblik podržava i druge vrijednosti pa tako možemo dobiti predzadnji\n",
    "element ako kao indeks pošaljemo vrijednost **-2**."
   ]
  },
  {
   "cell_type": "code",
   "execution_count": null,
   "metadata": {},
   "outputs": [],
   "source": [
    "# definiramo novu listu imena\n",
    "imena = ['Marija', 'Hrvoje', 'Štef', 'Ivana']\n",
    "# ispis predzadnjeg elementa liste\n",
    "print(imena[-2])"
   ]
  },
  {
   "cell_type": "markdown",
   "metadata": {},
   "source": [
    "Elemente liste koristimo na isti način kao i obične varijable. Primjerice, ako\n",
    "želimo ispisati poruku koja u sebi sadrži neki element liste, koristimo istu\n",
    "metodu kao i kad smo radili s tekstualnim varijablama."
   ]
  },
  {
   "cell_type": "code",
   "execution_count": null,
   "metadata": {},
   "outputs": [],
   "source": [
    "# definiramo novu listu s imenima\n",
    "imena = ['Marija', 'Hrvoje', 'Štef', 'Ivana']\n",
    "# ispis teksta s dodatkom elementa iz popisa\n",
    "print('Prvi ime na popisu je ' + imena[0])"
   ]
  },
  {
   "cell_type": "markdown",
   "metadata": {},
   "source": [
    "<br><div class=\"alert alert-info\"><b>Vježba</b></div></br>"
   ]
  },
  {
   "cell_type": "markdown",
   "metadata": {},
   "source": [
    "Napišite program u koji ćete spremiti imena par svojih prijatelja. Imena ispisati svako u novom redu."
   ]
  },
  {
   "cell_type": "code",
   "execution_count": 2,
   "metadata": {},
   "outputs": [
    {
     "name": "stdout",
     "output_type": "stream",
     "text": [
      "kelj0\n",
      "rok\n",
      "Zdravko\n"
     ]
    }
   ],
   "source": [
    "imena = ['kelj0', 'rok', 'Zdravko']\n",
    "print(*imena, sep = \"\\n\") "
   ]
  },
  {
   "cell_type": "markdown",
   "metadata": {},
   "source": [
    "Napišite program u kojem u listi imate nazive kompanija koje proizvode automobile (dovoljno je 4). Program treba ispisati 4 poruke tipa: „Volio bih imati Honda automobil.\""
   ]
  },
  {
   "cell_type": "code",
   "execution_count": 4,
   "metadata": {},
   "outputs": [
    {
     "name": "stdout",
     "output_type": "stream",
     "text": [
      "Volio big imati BMW automobil.\n",
      "Volio big imati Ferrari automobil.\n",
      "Volio big imati Java automobil.\n"
     ]
    }
   ],
   "source": [
    "imena = ['BMW', 'Ferrari', 'Java']\n",
    "print('\\n'.join('Volio big imati {} automobil.' for _ in range(len(imena))).format(*imena))"
   ]
  },
  {
   "cell_type": "markdown",
   "metadata": {},
   "source": [
    "<br><div class=\"alert alert-info\"><b>Kraj</b></div></br>"
   ]
  },
  {
   "cell_type": "markdown",
   "metadata": {},
   "source": [
    "#### Promjena, dodavanje i brisanje elemenata liste"
   ]
  },
  {
   "cell_type": "markdown",
   "metadata": {},
   "source": [
    "Većina lista koje napravite u programu tijekom izvođenja doživjet će promjene. U\n",
    "liste ćemo dodavati, iz njih brisati ili mijenjati elemente. Sintaksa za\n",
    "promjenu elementa je ista kao i za dodjeljivanje neke vrijednosti nekoj\n",
    "varijabli, uz navođenje indeksa pozicije u listi."
   ]
  },
  {
   "cell_type": "code",
   "execution_count": null,
   "metadata": {},
   "outputs": [],
   "source": [
    "# definiramo novu listu imena\n",
    "imena = ['Marija', 'Hrvoje', 'Štef', 'Ivana']\n",
    "# ispis prvog elementa\n",
    "print(imena[0])\n",
    "# promjena prvog elementa\n",
    "imena[0] = 'Mirjana'\n",
    "# ispis prvog elementa\n",
    "print(imena[0])"
   ]
  },
  {
   "cell_type": "markdown",
   "metadata": {},
   "source": [
    "Ako želimo dodati novi element u listu, koristimo metodu **append()**. Kada\n",
    "dodajemo novi element, on će biti dodan na kraj liste."
   ]
  },
  {
   "cell_type": "code",
   "execution_count": null,
   "metadata": {},
   "outputs": [],
   "source": [
    "# definiramo novu listu imena\n",
    "imena = ['Marija', 'Hrvoje', 'Štef', 'Ivana']\n",
    "#ispis liste\n",
    "print (imena)\n",
    "# dodavanje novog elementa\n",
    "imena.append('Ivan')\n",
    "#ispis liste\n",
    "print (imena)"
   ]
  },
  {
   "cell_type": "markdown",
   "metadata": {},
   "source": [
    "Korištenjem metode **append()** možemo lako graditi liste u programu. Ako\n",
    "pokušamo dodati element u varijablu koja nije lista, dobit ćemo poruku o grešci:\n",
    "**AttributeError: 'str' object has no attribute 'append'**."
   ]
  },
  {
   "cell_type": "code",
   "execution_count": null,
   "metadata": {},
   "outputs": [],
   "source": [
    "prezime = 'Horvat'\n",
    "prezime.append('Marić')"
   ]
  },
  {
   "cell_type": "markdown",
   "metadata": {},
   "source": [
    "**Napomena:** ako želimo koristiti metodu **append()**, moramo imati varijablu koja\n",
    "sadrži referencu na objekt tipa lista ili objekt koji implementira metodu\n",
    "**append()**. Primjerice, možemo kreirati praznu listu pa u nju dodavati elemente."
   ]
  },
  {
   "cell_type": "code",
   "execution_count": null,
   "metadata": {},
   "outputs": [],
   "source": [
    "# definiramo prazne liste\n",
    "imena = []\n",
    "#ispis liste\n",
    "print (imena)\n",
    "# dodavanje novog elementa\n",
    "imena.append('Ivan')\n",
    "imena.append('Ivana')\n",
    "imena.append('Štef')\n",
    "#ispis liste\n",
    "print (imena)"
   ]
  },
  {
   "cell_type": "markdown",
   "metadata": {},
   "source": [
    "Osim metode **append()** koja dodaje element na kraj liste, možemo koristiti i\n",
    "metodu **insert()** koja može dodati element na točno određenu poziciju, te\n",
    "postojeće elemente pomaknuti. Kod poziva metode, a prije navođenja vrijednosti\n",
    "elementa, moramo upisati poziciju na koju će se dodati."
   ]
  },
  {
   "cell_type": "code",
   "execution_count": null,
   "metadata": {},
   "outputs": [],
   "source": [
    "# definiramo novu listu imena\n",
    "imena = ['Marija', 'Hrvoje', 'Štef', 'Ivana']\n",
    "#ispis liste\n",
    "print (imena)\n",
    "# dodavanje novog elementa na drugu poziciju\n",
    "imena.insert(1,'Ivan')\n",
    "#ispis liste\n",
    "print (imena)"
   ]
  },
  {
   "cell_type": "markdown",
   "metadata": {},
   "source": [
    "Često u programima želimo i obrisati neki element s liste. Da bismo obrisali\n",
    "element s liste, koristimo naredbu **del** i naziv varijable s indeksom elementa\n",
    "koji brišemo."
   ]
  },
  {
   "cell_type": "code",
   "execution_count": null,
   "metadata": {},
   "outputs": [],
   "source": [
    "# definiramo novu listu imena\n",
    "imena = ['Marija', 'Hrvoje', 'Štef', 'Ivana']\n",
    "#ispis liste\n",
    "print (imena)\n",
    "# brisanje trećeg elementa iz liste\n",
    "del imena[2]\n",
    "#ispis liste\n",
    "print (imena)"
   ]
  },
  {
   "cell_type": "markdown",
   "metadata": {},
   "source": [
    "Postoji još jedan način koji nam omogućuje da izbrišemo posljednji element iz\n",
    "liste: korištenje metode **pop()**. Kod poziva metode **pop()** zadnji element\n",
    "liste se briše, ali nam se ta vrijednost vraća pa ju možemo iskoristiti.\n",
    "Primjerice, možemo ispisati (ili tu vrijednost dodijeliti nekoj varijabli)\n",
    "zadnji element liste i ujedno ga izbrisati i on više neće biti u listi."
   ]
  },
  {
   "cell_type": "code",
   "execution_count": null,
   "metadata": {},
   "outputs": [],
   "source": [
    "# definiramo novu listu imena\n",
    "imena = ['Marija', 'Hrvoje', 'Štef', 'Ivana']\n",
    "# ispis i brisanje zadnjeg elementa\n",
    "print (imena.pop())\n",
    "print (imena)"
   ]
  },
  {
   "cell_type": "markdown",
   "metadata": {},
   "source": [
    "U prethodnom primjeru koristili smo metodu **pop()** bez argumenata pa smo\n",
    "dobili zadnji element liste. Jednako tako mogli smo proslijediti indeks elementa\n",
    "liste i napraviti istu stvar, ali s nekim drugim elementom."
   ]
  },
  {
   "cell_type": "code",
   "execution_count": null,
   "metadata": {},
   "outputs": [],
   "source": [
    "# definiramo novu listu imena\n",
    "imena = ['Marija', 'Hrvoje', 'Štef', 'Ivana']\n",
    "# ispis i brisanje zadnjeg elementa\n",
    "print (imena.pop(1))\n",
    "#ispis liste\n",
    "print (imena)"
   ]
  },
  {
   "cell_type": "markdown",
   "metadata": {},
   "source": [
    "Posljednji način brisanja je prema vrijednosti. Korištenjem metode **remove()**\n",
    "možemo obrisati element po njegovom sadržaju. Ako imamo više jednakih\n",
    "vrijednosti, obrisat će se ona s najmanjim indeksom. Ako pak želimo da se\n",
    "izbrišu sve vrijednosti, moramo koristiti petlju (pojasnit ćemo kasnije)."
   ]
  },
  {
   "cell_type": "code",
   "execution_count": null,
   "metadata": {},
   "outputs": [],
   "source": [
    "# definiramo novu listu imena\n",
    "imena = ['Marija', 'Hrvoje', 'Štef', 'Ivana']\n",
    "# brisanje zapisa 'Ivana'\n",
    "imena.remove('Ivana')\n",
    "#ispis liste\n",
    "print (imena)"
   ]
  },
  {
   "cell_type": "markdown",
   "metadata": {},
   "source": [
    "<br><div class=\"alert alert-info\"><b>Vježba</b></div></br>"
   ]
  },
  {
   "cell_type": "markdown",
   "metadata": {},
   "source": [
    "Napišite program u kojem u listi imate popis prijatelja koje želite pozvati na večeru. Program treba ispisati poziv za svakog od njih.  \n",
    "Zatim ispišite dvije prazne linije.  \n",
    "Nakon toga saznali ste da jedan od njih ne može doći na večeru pa morate ga maknuti s liste i ponovno ispisati pozive za preostale goste.  \n",
    "Nakon toga ispišite dvije prazne linije.  \n",
    "I, naravno, sjetili ste se da morate pozvati još tri gosta.  \n",
    "Korištenjem metoda insert() i append() dodajte nove goste na prvo, zadnje i mjesto u sredini liste.  \n",
    "Nakon toga ispišite dvije prazne linije.  \n",
    "Na kraju shvatite da ste zauzeti i da morate otkazati večeru. Korištenjem metode pop() ispišite poruke svima da je večera otkazana."
   ]
  },
  {
   "cell_type": "code",
   "execution_count": 30,
   "metadata": {},
   "outputs": [
    {
     "name": "stdout",
     "output_type": "stream",
     "text": [
      "Dragi kelj0, pozivam te na veceru, imamo fishy.\n",
      "Dragi rok, pozivam te na veceru, imamo fishy.\n",
      "Dragi Zdravko, pozivam te na veceru, imamo fishy.\n",
      "\n",
      "\n",
      "\n",
      "Dragi kelj0, pozivam te na veceru, imamo fishy.\n",
      "Dragi rok, pozivam te na veceru, imamo fishy.\n",
      "\n",
      "\n",
      "\n",
      "Dragi Petar Kresimir 4, vecera se nazalost otkazuje, no fishy.\n",
      "Dragi rok, vecera se nazalost otkazuje, no fishy.\n",
      "Dragi kelj0, vecera se nazalost otkazuje, no fishy.\n",
      "Dragi Ivan, vecera se nazalost otkazuje, no fishy.\n",
      "Dragi Luka, vecera se nazalost otkazuje, no fishy.\n"
     ]
    }
   ],
   "source": [
    "pepl = ['kelj0', 'rok', 'Zdravko']\n",
    "\n",
    "def poziv(imena,msg):\n",
    "    print('\\n'.join(msg for _ in range(len(imena))).format(*imena))\n",
    "    print('\\n\\n')\n",
    "\n",
    "poziv(pepl,'Dragi {}, pozivam te na veceru, imamo fishy.')\n",
    "\n",
    "pepl.remove('Zdravko')\n",
    "poziv(pepl,'Dragi {}, pozivam te na veceru, imamo fishy.')\n",
    "\n",
    "pepl.insert(0,'Ivan')\n",
    "pepl.insert((len(pepl)//2)-1,'Luka')\n",
    "pepl.append('Petar Kresimir 4')\n",
    "\n",
    "while len(pepl)>0:\n",
    "    print('Dragi {}, vecera se nazalost otkazuje, no fishy.'.format(pepl.pop()))"
   ]
  },
  {
   "cell_type": "markdown",
   "metadata": {},
   "source": [
    "<br><div class=\"alert alert-info\"><b>Kraj</b></div></br>"
   ]
  },
  {
   "cell_type": "markdown",
   "metadata": {},
   "source": [
    "Nekad želimo sortirati elemente u listi. Sortiranje je uređivanje elemenata\n",
    "prema njihovoj vrijednosti. Da bi se elementi mogli sortirati, oni moraju biti\n",
    "međusobno usporedivi. To znači da sortiranje liste koja sadrži brojeve i nizove\n",
    "znakova uzrokuje pogrešku. Sortiranje može biti uzlazno, od elementa najmanje\n",
    "vrijednosti prema najvećoj, ili silazno, od elementa najveće vrijednosti prema\n",
    "najmanjoj. Postoji puno algoritama za sortiranje, od kojih je najčešći primjer u\n",
    "edukativne svrhe sortiranje odabirom (*selection sort*), a u praksi se najčešće\n",
    "koristi brzi sort (*quick sort*)."
   ]
  },
  {
   "cell_type": "code",
   "execution_count": null,
   "metadata": {},
   "outputs": [],
   "source": [
    "help ('list.sort')"
   ]
  },
  {
   "cell_type": "markdown",
   "metadata": {},
   "source": [
    "To možemo napraviti na dva načina. Prvi je korištenjem metode **sort()** koja će\n",
    "trajno sortirati elemente liste ili možemo koristiti funkciju **sorted()** koja\n",
    "će listu ostaviti onakvom kakva jest, ali će je prikazati sortiranu."
   ]
  },
  {
   "cell_type": "code",
   "execution_count": null,
   "metadata": {},
   "outputs": [],
   "source": [
    "# definiramo novu listu imena\n",
    "imena = ['Marija', 'Hrvoje', 'Štef', 'Ivana']\n",
    "#ispis liste\n",
    "print (imena)\n",
    "# sortiranje liste\n",
    "imena.sort()\n",
    "#ispis liste\n",
    "print (imena)"
   ]
  },
  {
   "cell_type": "markdown",
   "metadata": {},
   "source": [
    "Ako želimo sortirati u obrnutom smjeru, možemo koristiti argument **reverse** i\n",
    "postaviti ga na **True**."
   ]
  },
  {
   "cell_type": "code",
   "execution_count": null,
   "metadata": {},
   "outputs": [],
   "source": [
    "# definiramo novu listu imena\n",
    "imena = ['Marija', 'Hrvoje', 'Štef', 'Ivana']\n",
    "# ispis liste\n",
    "print (imena)\n",
    "# sortiranje liste u obrnutom smjeru\n",
    "imena.sort(reverse=True)\n",
    "# ispis liste\n",
    "print (imena)"
   ]
  },
  {
   "cell_type": "markdown",
   "metadata": {},
   "source": [
    "U oba slučaja trajno smo promijenili listu. Ako pak želimo listu zadržati u\n",
    "postojećem obliku i samo promijeniti ispis, koristimo funkciju **sorted()**."
   ]
  },
  {
   "cell_type": "code",
   "execution_count": null,
   "metadata": {},
   "outputs": [],
   "source": [
    "# definiramo novu listu imena\n",
    "imena = ['Marija', 'Hrvoje', 'Štef', 'Ivana']\n",
    "#ispis liste\n",
    "print (imena)\n",
    "#sortirani ispis liste\n",
    "print (sorted(imena))\n",
    "#ispis liste\n",
    "print (imena)"
   ]
  },
  {
   "cell_type": "markdown",
   "metadata": {},
   "source": [
    "Osim sortiranja, nekad nam je potrebno da listu samo zapišemo u silaznom\n",
    "redoslijedu. To možemo napraviti korištenjem metode **reverse()**."
   ]
  },
  {
   "cell_type": "code",
   "execution_count": null,
   "metadata": {},
   "outputs": [],
   "source": [
    "# definiramo novu listu imena\n",
    "imena = ['Marija', 'Hrvoje', 'Štef', 'Ivana']\n",
    "#ispis liste\n",
    "print (imena)\n",
    "# sortiranje liste u silaznom smjeru\n",
    "imena.reverse()\n",
    "#ispis liste\n",
    "print (imena)"
   ]
  },
  {
   "cell_type": "markdown",
   "metadata": {},
   "source": [
    "Kada želimo saznati broj elemenata u listi, koristimo funkciju **len()**."
   ]
  },
  {
   "cell_type": "code",
   "execution_count": null,
   "metadata": {},
   "outputs": [],
   "source": [
    "# definiramo novu listu imena\n",
    "imena = ['Marija', 'Hrvoje', 'Štef', 'Ivana']\n",
    "# ispis broja elemenata liste\n",
    "print (len(imena))"
   ]
  },
  {
   "cell_type": "markdown",
   "metadata": {},
   "source": [
    "Kao što vidimo, dobili smo broj elemenata u listi. Ovdje treba biti na oprezu\n",
    "jer je ovo stvarni broj elemenata u listi, te se, kada koristimo indekse, moramo\n",
    "sjetiti da je prvi element **0,** što znači da je zadnji **len(lista)-1**."
   ]
  },
  {
   "cell_type": "markdown",
   "metadata": {},
   "source": [
    "<br><div class=\"alert alert-info\"><b>Vježba</b></div></br>"
   ]
  },
  {
   "cell_type": "markdown",
   "metadata": {},
   "source": [
    "Napišite program u kojemu se u listi nalazi popis pet mjesta koje želite posjetiti. Pokušajte to napraviti tako da ne budu poredana abecednim redom.  \n",
    "Ispišite originalnu listu. (Ne treba pojedinačne elemente, već samo print(lista)).  \n",
    "Ispišite listu sortirano, ali bez mijenjanja izvorne liste.  \n",
    "Ispišite originalnu listu da provjerite je li  li ostala ista.  \n",
    "Ispišite listu sortirano, u obrnutom smjeru, ali bez mijenjanja izvorne liste.  \n",
    "Ispišite originalnu listu da provjerite je li ostala ista.  \n",
    "Promijenite listu tako da bude zapisana obrnuto. Ispišite listu.  \n",
    "Promijenite listu tako da bude sortirana. Ispišite listu.  \n",
    "Ispišite broj elemenata u listi.\n"
   ]
  },
  {
   "cell_type": "code",
   "execution_count": 51,
   "metadata": {},
   "outputs": [
    {
     "name": "stdout",
     "output_type": "stream",
     "text": [
      "['Huston', 'Jacksonville', 'Auch', 'Pariz', 'Split']\n",
      "['Auch', 'Huston', 'Jacksonville', 'Pariz', 'Split']\n",
      "['Huston', 'Jacksonville', 'Auch', 'Pariz', 'Split']\n",
      "['Split', 'Pariz', 'Jacksonville', 'Huston', 'Auch']\n",
      "['Huston', 'Jacksonville', 'Auch', 'Pariz', 'Split']\n",
      "['Split', 'Pariz', 'Jacksonville', 'Huston', 'Auch']\n",
      "['Auch', 'Huston', 'Jacksonville', 'Pariz', 'Split']\n",
      "5\n",
      "5\n"
     ]
    }
   ],
   "source": [
    "mjesta = [\"Huston\", \"Jacksonville\", \"Auch\", \"Pariz\", \"Split\"]\n",
    "print(mjesta)\n",
    "print(sorted(mjesta))\n",
    "print(mjesta)\n",
    "print(sorted(mjesta,reverse = True))\n",
    "print(mjesta)\n",
    "mjesta.sort(reverse = True)\n",
    "print(mjesta)\n",
    "mjesta.sort()\n",
    "print(mjesta)\n",
    "print(len(mjesta))\n",
    "print(mjesta.__len__())"
   ]
  },
  {
   "cell_type": "markdown",
   "metadata": {},
   "source": [
    "<br><div class=\"alert alert-info\"><b>Kraj</b></div></br>"
   ]
  },
  {
   "cell_type": "code",
   "execution_count": null,
   "metadata": {},
   "outputs": [],
   "source": []
  }
 ],
 "metadata": {
  "kernelspec": {
   "display_name": "Python 3",
   "language": "python",
   "name": "python3"
  },
  "language_info": {
   "codemirror_mode": {
    "name": "ipython",
    "version": 3
   },
   "file_extension": ".py",
   "mimetype": "text/x-python",
   "name": "python",
   "nbconvert_exporter": "python",
   "pygments_lexer": "ipython3",
   "version": "3.7.3"
  }
 },
 "nbformat": 4,
 "nbformat_minor": 2
}
