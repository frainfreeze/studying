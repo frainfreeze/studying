{
 "cells": [
  {
   "cell_type": "markdown",
   "metadata": {},
   "source": [
    "<img src=\"Slike/vua.png\">"
   ]
  },
  {
   "cell_type": "markdown",
   "metadata": {},
   "source": [
    "# Uvod u Python\n",
    "<h4 align=\"center\">*Give a man a fish and you feed him for a day. Teach a man to fish and you feed him for a lifetime.*</h4>\n",
    "\n",
    "Prema Wikipediji: **Programiranje** je pisanje uputa računalu što i kako\n",
    "učiniti, a upute se pišu u nekom od programskih jezika. Programiranje je\n",
    "umjetnost i umijeće u stvaranju programa za računala. Stvaranje programa sadrži\n",
    "u sebi pojedine elemente dizajna, umjetnosti, znanosti, matematike kao i\n",
    "inženjerstva. Osoba koja oblikuje program zove se **programer, a osoba koja piše\n",
    "k**ô**d u nekom programskom jeziku naziva se koder**. Vrijedi da je svaki\n",
    "programer ujedno i **koder**, ali obrat ne mora vrijediti. Ono čemu treba težiti\n",
    "jest biti programerom jer programiranje nije usko vezano za poznavanje\n",
    "programskog jezika, već sistematičnom rješavanju problema koji se može riješiti\n",
    "korištenjem računala. Računala su vrlo moćna, ali, nažalost, ne mogu misliti\n",
    "samostalno. Potrebno im je sve definirati, te opisati kako izvršiti zadatak.\n",
    "Programirati možemo u mnogo različitih paradigmi i jezika. Programiranje je\n",
    "slično je pisanju. Svatko može naučiti pisati, ali ako želimo napisati pjesmu,\n",
    "poznavanje pisanja nije dovoljno, već trebamo i niz drugih vještina.\n",
    "\n",
    "Python je jedan od danas najpopularnijih jezika, a veliku primjenu ima u domeni\n",
    "umjetne inteligencije, strojnog učenja, analizi velikog skupa podataka, izradi\n",
    "mrežnih stranica i slično. Pripada skupini skriptnih jezika jer služi za pisanje\n",
    "skripti, a izvodi se pomoću Python virtualnog stroja, PVM (Python virtual\n",
    "machine). Python skripte pišu se u datoteke koje imaju nastavak .py, a prilikom\n",
    "pokretanja skripte, prvo Python prevoditelj prevede Python kôd u kôd srednje\n",
    "razine (Python bytecode), koji je zapisan u datoteku s nastavkom .pyc. Zatim se\n",
    "učitava u Python virtualni stroj prevedeni kod te se interpretira. Obično se\n",
    "kaže da je Python interpreterski jezik, iako je lako za uočiti da postoji proces\n",
    "prevođenja (compile) u kôd srednje razine. Kôd niže razine naziva se još i\n",
    "strojni ili binarni kôd, koji se izvršava na procesoru računala. Osim što je\n",
    "Python skriptni jezik, on također pripada skupini objektno orijentiranih jezika,\n",
    "o čemu će više biti rečeno u nastavku.\n",
    "\n",
    "Važna odlika Pythona je njegova jednostavna i jasna sintaksa i dosljednost, koja\n",
    "ga čini lakim za učenje. Uz to, specifična sintaksa tjera programera na\n",
    "urednost, pa je kôd izuzetno čitljiv i pregledan. Autor jezika je Guido van\n",
    "Rossum, a prva inačica jezika predstavljena 1991. godine. Ime jezika ne dolazi\n",
    "od zmije na koju asocira, već od popularne humorističke serije Leteći cirkus\n",
    "Montyja Pythona, pa su i mnogi primjeri u referentnim udžbenicima inspirirani\n",
    "njihovim citatima. Jezik se neprestano razvija i redovito izlaze nove inačice, a\n",
    "trenutne su Python 2.7.3 i Python 3.7.3. Neobičnost da su istovremeno aktualne\n",
    "dvije inačice jezika posljedica je uvođenja značajnih promjena u jezik s\n",
    "inačicom 3. Prva inačica Pythona 3 uvedena je 2009. godine, a njome su uvedene\n",
    "značajnije izmjene jezika, uz odricanje od kompatibilnosti starijeg kôda.\n",
    "Podrška za Python 2 prestat će 1. siječnja 2020., stoga svi primjeri ovog\n",
    "udžbenika fokusirani su na Python verzije 3. "
   ]
  },
  {
   "cell_type": "markdown",
   "metadata": {},
   "source": [
    "### Primjer\n",
    "Želimo napraviti instant kavu. Moramo uzeti šalicu, instant kavu, žličicu, vodu\n",
    "i čajnik. Iako nismo svjesni toga, analiziramo mnogo podataka. Provjeravamo je\n",
    "li čajnik čist, ima li vode u njemu, je li šalica čista, ima li dovoljno kave u\n",
    "posudi itd. Zatim, kuhamo vodu i u međuvremenu stavljamo kavu u šalicu. Kada je\n",
    "voda zagrijana, ulijemo je u šalicu i promiješamo.\n",
    "\n",
    "Što bismo učinili kada bismo ovaj postupak pokušali programirati?\n",
    "\n",
    "Prikupimo sredstva (čajnik, kava, voda, žličica i šalica) i provjeravamo neke\n",
    "uvjete (kuhalo je čisto, šalica je čisto, dovoljno kave...). Ako su uvjeti\n",
    "ispunjeni, pokrećemo akciju kuhanja vode i stavljanja kave u šalicu, te čekanja\n",
    "da se voda zagrije te bismo konačno završili postupak ulijevanjem vode u šalicu\n",
    "i miješanjem. Upravo smo opisali funkcionalnost programa za pripremu kave. Sada\n",
    "samo trebate naučiti kako razložiti sve radnje koje radite automatski u stvarnom\n",
    "životu, tako da ih računala mogu izvršavati.\n",
    "\n",
    "**Započnimo s učenjem jezika!**"
   ]
  },
  {
   "cell_type": "markdown",
   "metadata": {},
   "source": [
    "# *Hello world!*\n",
    "Običaj je da kod učenja bilo kojeg programskog jezika prvi program bude „*Hello\n",
    "world!*\", koji samo prikazuje tekst definiran u program. Za ispisivanje teksta\n",
    "iz programa Python koristi naredbu **print()**. Ispod teksta smo prikazan je\n",
    "program koji ispisuje tekst \"Hello Python world!\". Ako želite izvršiti naredbu\n",
    "*print('Hello Python world!')*, dok je označen donji prozor, odaberite izbornik\n",
    "**Cell** te opciju **Run Cell** i ispod prozora biste trebali dobiti odgovor."
   ]
  },
  {
   "cell_type": "code",
   "execution_count": null,
   "metadata": {},
   "outputs": [],
   "source": [
    "print('Hello Python world!')"
   ]
  },
  {
   "cell_type": "markdown",
   "metadata": {},
   "source": [
    "Kada pokrenemo program, *Python interpreter* čita retke i određuje što svaka\n",
    "riječ u programu znači. Na primjer, kada interpreter vidi riječ **print**,\n",
    "ispisuje na ekran sve što se nalazi unutar zagrada. Dok pišete programe, ovisno\n",
    "o tome u kojem uređivaču teksta radite, različiti dijelovi se prikazuju na\n",
    "različite načine. Na primjer, jedan uređivač prepoznaje da je **print** naziv\n",
    "funkcije i prikazuje tu riječ u zelenoj boji, a drugi prepoznaje da *'Hello\n",
    "Python world!'* nije dio koda u Pythonu i prikazuje je crveno. Ove funkcije\n",
    "pojedinih uređivača se zovu *syntax highlighting*. Napredniji uređivači tipa\n",
    "Spyder (https://www.spyder-ide.org/) imaju i napredne mogućnosti poput\n",
    "automatskog završavanja naziva varijabli i naredbi/metoda.\n"
   ]
  },
  {
   "cell_type": "markdown",
   "metadata": {},
   "source": [
    "<br><div class=\"alert alert-info\"><b>Vježba</b></div>"
   ]
  },
  {
   "cell_type": "markdown",
   "metadata": {},
   "source": [
    "Sada napravite *Python* kôd koji će ispisati veče ime i prezime."
   ]
  },
  {
   "cell_type": "code",
   "execution_count": null,
   "metadata": {},
   "outputs": [],
   "source": []
  },
  {
   "cell_type": "markdown",
   "metadata": {},
   "source": [
    "<br><div class=\"alert alert-info\"><b>Kraj</b></div></br>"
   ]
  }
 ],
 "metadata": {
  "kernelspec": {
   "display_name": "Python 3",
   "language": "python",
   "name": "python3"
  },
  "language_info": {
   "codemirror_mode": {
    "name": "ipython",
    "version": 3
   },
   "file_extension": ".py",
   "mimetype": "text/x-python",
   "name": "python",
   "nbconvert_exporter": "python",
   "pygments_lexer": "ipython3",
   "version": "3.7.3"
  }
 },
 "nbformat": 4,
 "nbformat_minor": 2
}
