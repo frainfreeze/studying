{
 "cells": [
  {
   "cell_type": "markdown",
   "metadata": {},
   "source": [
    "<img src=\"Slike/vua.png\">"
   ]
  },
  {
   "cell_type": "markdown",
   "metadata": {},
   "source": [
    "# Torke (*tuple*)\n",
    "Za razliku od lista u kolima možemo mijenjati elemente, *torke* odnosno *tuple*\n",
    "je tip podatka u koji možemo samo jednom pospremiti vrijednosti i tijekom\n",
    "izvođenja programa ih ne možemo mijenjati. Kreiramo ih na sličan način kao i\n",
    "liste, ali koristimo obične zagrade **(),** a ne uglate."
   ]
  },
  {
   "cell_type": "code",
   "execution_count": null,
   "metadata": {},
   "outputs": [],
   "source": [
    "# definiramo novu torku\n",
    "imena = ('Marija', 'Hrvoje', 'Štef', 'Ivana')\n",
    "#ispis elemenata torke\n",
    "for ime in imena:\n",
    "    print (ime)"
   ]
  },
  {
   "cell_type": "markdown",
   "metadata": {},
   "source": [
    "Ako pokušamo modificirati pojedini element, dobit ćemo poruku o grešci koja nas\n",
    "upozorava da *tuple* nema dodavanja vrijednosti: **TypeError: 'tuple' object\n",
    "does not support item assignment.**"
   ]
  },
  {
   "cell_type": "code",
   "execution_count": null,
   "metadata": {},
   "outputs": [],
   "source": [
    "# definiramo novu torku\n",
    "imena = ('Marija', 'Hrvoje', 'Štef', 'Ivana')\n",
    "#propmjena elementa torke\n",
    "imena[0] = 'Jasna'"
   ]
  },
  {
   "cell_type": "markdown",
   "metadata": {},
   "source": [
    "Ako želimo promijeniti vrijednost, moramo dodijeliti sve vrijednosti. Ako,\n",
    "primjerice, želimo da prvo ime bude „Jasna“ umjesto „Marija“ moramo:"
   ]
  },
  {
   "cell_type": "code",
   "execution_count": null,
   "metadata": {},
   "outputs": [],
   "source": [
    "# definiramo novu torku\n",
    "imena = ('Marija', 'Hrvoje', 'Štef', 'Ivana')\n",
    "#propmjena elementa torke\n",
    "imena = ('Jasna', 'Hrvoje', 'Štef', 'Ivana')\n",
    "print (imena)"
   ]
  },
  {
   "cell_type": "markdown",
   "metadata": {},
   "source": [
    "<br><div class=\"alert alert-info\"><b>Vježba</b></div></br>"
   ]
  },
  {
   "cell_type": "markdown",
   "metadata": {},
   "source": [
    "Napišite program u kojem u *torki* imate zapisano 5 jela.  \n",
    "Korištenjem petlje ispišite svih pet jela.  \n",
    "Pokušajte promijeniti neko jelo.  \n",
    "Provjerite jeste li dobili grešku.  \n",
    "Napravite komentar od te linije kôda gdje te pokušali napraviti promjenu i napravite promjenu dva jela tako da ponovno kreirate *torku*.  \n",
    "Ispišite sva jela.\n"
   ]
  },
  {
   "cell_type": "code",
   "execution_count": null,
   "metadata": {},
   "outputs": [],
   "source": []
  },
  {
   "cell_type": "markdown",
   "metadata": {},
   "source": [
    "<br><div class=\"alert alert-info\"><b>Kraj</b></div></br>"
   ]
  },
  {
   "cell_type": "markdown",
   "metadata": {},
   "source": [
    "### Stiliziranje kôda\n",
    "Sada kada programi postaju duži, potrebno je obratiti pozornost na oblikovanje\n",
    "kôda. Potrudite se da se vaš kôd lako čita. Programeri Pythona definirali su\n",
    "brojne konvencije za stiliziranje, kako bi osigurali da kôdovi budu\n",
    "strukturirani na približno isti način. Kada naučite pisati čist Python kôd, moći\n",
    "ćete razumjeti cjelokupnu strukturu bilo kojeg drugog Python kôda, sve dok\n",
    "slijedi iste smjernice. Ako se nadate da ćete u nekom trenutku postati\n",
    "profesionalni programer, trebali biste što prije početi slijediti ove smjernice\n",
    "kako biste razvili dobre navike.\n",
    " \n",
    "#### Vodič za stil\n",
    "Kada netko želi napraviti promjene u jeziku Python, prvo napiše *Python\n",
    "Enhancement Proposal* (PEP). Jedan od najstarijih PEP-ova je PEP 8, koji daje\n",
    "preporuke kako oblikovati kôd. Vodič za stil Python pisan je uz pretpostavku da\n",
    "će se kôd više čitati nego pisati. Jednom ćete napisati kôd i početi ga čitati\n",
    "kako biste uklonili greške. Kada u program dodate nove značajke, potrošit ćete\n",
    "više vremena na čitanje koda nego na pisanje. Kada podijelite kôd s drugim\n",
    "programerima, oni će morati pročitati vaš kôd.\n",
    "\n",
    "#### Uvlačenje\n",
    "PEP 8 preporučuje da koristite četiri razmaka po razini uvlačenja. U dokumentu\n",
    "za obradu teksta ljudi često koriste tabulatore umjesto razmaka u uvlačenju. To\n",
    "dobro funkcionira za dokumente, ali Python interpreter ostaje zbunjen kada su\n",
    "tabulatori pomiješani s razmacima.\n",
    "\n",
    "#### Duljina linije\n",
    "Mnogi programeri Pythona preporučuju da svaki redak ima manje od 80 znakova.\n",
    "Povijesno gledano, ova je smjernica razvijena jer je većina računala mogla\n",
    "prikazati samo 79 znakova na jednom retku u prozoru terminala. Trenutno, na\n",
    "svojim zaslonima možete vidjeti puno dulje linije. Ako, primjerice, otvorite\n",
    "više programskih datoteka, moći ćete pratiti cijeli kôd. PEP 8 smjernice za\n",
    "duljinu crte nisu *zapisane u kamenu* i neki timovi preferiraju ograničenje od\n",
    "99 znakova.\n",
    "\n",
    "#### Prazni redci\n",
    "Za vizualno grupiranje dijelova programa koristite prazne retke. Prazne retke\n",
    "koristimo da odvojimo dijelove programa. Na primjer, ako imate pet redaka kôda\n",
    "koji kreiraju listu, a zatim još tri retka koja rade neku transformaciju na\n",
    "listi, prikladno je ostaviti prazan red između ova dva dijela programa. Prazni\n",
    "redci neće utjecati na rad programa, ali utječu na čitljivost vašeg kôda.\n"
   ]
  }
 ],
 "metadata": {
  "kernelspec": {
   "display_name": "Python 3",
   "language": "python",
   "name": "python3"
  },
  "language_info": {
   "codemirror_mode": {
    "name": "ipython",
    "version": 3
   },
   "file_extension": ".py",
   "mimetype": "text/x-python",
   "name": "python",
   "nbconvert_exporter": "python",
   "pygments_lexer": "ipython3",
   "version": "3.7.3"
  }
 },
 "nbformat": 4,
 "nbformat_minor": 2
}
