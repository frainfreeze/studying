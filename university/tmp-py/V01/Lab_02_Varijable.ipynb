{
 "cells": [
  {
   "cell_type": "markdown",
   "metadata": {},
   "source": [
    "<img src=\"Slike/vua.png\">"
   ]
  },
  {
   "cell_type": "markdown",
   "metadata": {},
   "source": [
    "# Varijable\n",
    "Jedan od ključnih elemenata izrade ekspresivnog koda jest upotreba smislenih\n",
    "imena. Ali, što se smatra smislenim? U ovom djelu pregledat ćemo neka uobičajena\n",
    "pravila za stvaranje smislenih imena. Jednako tako, vidjet ćemo na koji način\n",
    "možemo dodijeliti vrijednosti imenima koja smo definirali. U prethodnom\n",
    "*Notebooku* smo ispisivali „Hello Python world!“ tako što smo funkciji *print*\n",
    "proslijedili tekst kao parametar. To je dobar način ako to trebamo samo jednom\n",
    "napraviti i ako taj tekst uvijek ostaje isti. Ako pak trebamo tekst ispisati\n",
    "više puta, ili ako ga trebamo mijenjati, moramo koristiti **varijable**. Ako se\n",
    "tekst ispisuje više puta i ako ga trebamo promijeniti, a nismo koristili\n",
    "**varijable,** promjenu moramo napraviti na svim mjestima u kôdu, a ako\n",
    "koristimo varijable, to moramo učiniti samo na jednom mjestu.\n",
    "\n",
    "Primjer iz prethodnih *Notebooka*:"
   ]
  },
  {
   "cell_type": "code",
   "execution_count": null,
   "metadata": {},
   "outputs": [],
   "source": [
    "print('Hello Python world!')"
   ]
  },
  {
   "cell_type": "markdown",
   "metadata": {},
   "source": [
    "Pretpostavimo da trebamo više puta u programu ispisati tekst „Hello Python\n",
    "world!“:"
   ]
  },
  {
   "cell_type": "code",
   "execution_count": null,
   "metadata": {},
   "outputs": [],
   "source": [
    "print('Hello Python world!')\n",
    "# druge naredbe\n",
    "# ...\n",
    "print('Hello Python world!')\n",
    "# druge naredbe\n",
    "# ...\n",
    "print('Hello Python world!')"
   ]
  },
  {
   "cell_type": "markdown",
   "metadata": {},
   "source": [
    "Ako sada trebamo napraviti promjenu i, primjerice, izbaciti „!“ iz teksta,\n",
    "moramo promjenu napraviti na sva tri mjesta. To ovdje ne izgleda kao veliki\n",
    "problem, ali kad programi postanu veći, teško je pratiti sva mjesta na kojima\n",
    "treba napraviti promjenu:\n"
   ]
  },
  {
   "cell_type": "code",
   "execution_count": null,
   "metadata": {},
   "outputs": [],
   "source": [
    "print('Hello Python world')\n",
    "# druge naredbe\n",
    "# ...\n",
    "print('Hello Python world')\n",
    "# druge naredbe\n",
    "# ...\n",
    "print('Hello Python world')"
   ]
  },
  {
   "cell_type": "markdown",
   "metadata": {},
   "source": [
    "Alternativa je koristiti **varijable**. U programskom jeziku **Python**\n",
    "varijablama dodjeljujemo vrijednost korištenjem znaka **=**.\n",
    "<img src=\"Slike/12_1.png\" alt=\"Drawing\" style=\"width: 400px;\">\n",
    "\n",
    "Pridruživanje se isključivo može raditi tako da se vrijednost s desne strane\n",
    "pridružuje varijabli s lijeve strane znaka =. Pokušajmo napraviti prethodni\n",
    "primjer korištenjem varijable. Uvodimo novu varijablu **x** i dodjeljujemo joj\n",
    "vrijednost **'Hello Python world!'**, te funkciji za ispis (**print**)\n",
    "prosljeđujemo ime varijable, a ne tekst."
   ]
  },
  {
   "cell_type": "code",
   "execution_count": null,
   "metadata": {},
   "outputs": [],
   "source": [
    "x='Hello Python world!'\n",
    "print(x)\n",
    "# druge naredbe\n",
    "# ...\n",
    "print(x)\n",
    "# druge naredbe\n",
    "# ...\n",
    "print(x)"
   ]
  },
  {
   "cell_type": "markdown",
   "metadata": {},
   "source": [
    "Ako sada trebamo nešto promijeniti u tekstu, potrebno je samo promijeniti\n",
    "vrijednost **varijable**:"
   ]
  },
  {
   "cell_type": "code",
   "execution_count": null,
   "metadata": {},
   "outputs": [],
   "source": [
    "x='Hello Python world'\n",
    "print(x)\n",
    "# druge naredbe\n",
    "# ...\n",
    "print(x)\n",
    "# druge naredbe\n",
    "# ...\n",
    "print(x)"
   ]
  },
  {
   "cell_type": "markdown",
   "metadata": {},
   "source": [
    "Ako pak tijekom izvođenja programa trebamo promijeniti tekst, jednostavno\n",
    "varijabli **x** dajemo novu vrijednost. Od tog trenutka na dalje **x** ima novu\n",
    "vrijednost."
   ]
  },
  {
   "cell_type": "code",
   "execution_count": null,
   "metadata": {},
   "outputs": [],
   "source": [
    "x='Hello Python world'\n",
    "print(x)\n",
    "# druge naredbe\n",
    "# ...\n",
    "x='Hello'\n",
    "print(x)"
   ]
  },
  {
   "cell_type": "markdown",
   "metadata": {},
   "source": [
    "<img src=\"Slike/12_2.png\" alt=\"Drawing\" style=\"width: 400px;\">\n",
    "\n",
    "U ovom malom primjeru naziv varijable je **x**. Kada imamo složeniji program,\n",
    "koji ima veći broj varijabli **a**, **b**, **c**, ..., **z**, može nastati\n",
    "problem praćenja što pojedina od njih predstavlja. Kod imenovanja varijabli\n",
    "trebamo se držati nekih pravila:\n",
    "\n",
    "\n",
    "1.  u nazivima varijabli možemo koristiti samo slova, brojeve te znak '_' (engl.     *underscore*)\n",
    "\n",
    "2.  naziv ne može početi brojem (**x1** je ispravan naziv, ali **1x** nije)\n",
    "\n",
    "3.  ne smijemo imati razmake u nazivima (ako želimo simulirati razmake, koristimo znak '_')\n",
    "\n",
    "4.  ne smijemo koristiti nazive koje koristi Python kao programski jezik\n",
    "\n",
    "5.  nazivi trebaju biti kratki, ali ipak deskriptivni (opisuju što im je svrha)\n",
    "\n",
    "6.  *Python* je *case-sensitive* (razlikuje mala i velika slova).\n",
    "\n",
    "Ako pokušamo napraviti varijablu koja počinje brojem, dobit ćemo poruku o grešci: **SyntaxError: invalid syntax**:"
   ]
  },
  {
   "cell_type": "code",
   "execution_count": null,
   "metadata": {},
   "outputs": [],
   "source": [
    "1a = 'Hello'"
   ]
  },
  {
   "cell_type": "markdown",
   "metadata": {},
   "source": [
    "Ili, ako pomiješamo velika i mala slova, dobit ćemo poruku da varijabla nije\n",
    "definirana: **NameError: name 'X' is not defined**:\n"
   ]
  },
  {
   "cell_type": "code",
   "execution_count": null,
   "metadata": {},
   "outputs": [],
   "source": [
    "x = 'Hello'\n",
    "print(X)"
   ]
  },
  {
   "cell_type": "markdown",
   "metadata": {},
   "source": [
    "**Obratite pozornost na to da kod prikaza greške Python prikazuje dio kôda i\n",
    "mjesto gdje je nastala greška.** U konkretnom slučaju greška je otkrivena, ali\n",
    "*Python* ne može otkriti grešku kada je postojala i druga varijabla, ali nema\n",
    "sadržaj koji smo stvarno mislili iskoristiti. Npr. imamo dvije varijable x i X s\n",
    "različitim vrijednostima, te primjerice želimo ispisati 'Hello' i pogrešno\n",
    "odaberemo varijablu **X:** *Python* neće javiti grešku jer ne zna što smo mi\n",
    "mislili:\n",
    "\n"
   ]
  },
  {
   "cell_type": "code",
   "execution_count": null,
   "metadata": {},
   "outputs": [],
   "source": [
    "x = 'Hello'\n",
    "X = 'World'\n",
    "print (X)"
   ]
  },
  {
   "cell_type": "markdown",
   "metadata": {},
   "source": [
    "Vratimo se imenovanju varijabli. Kada stvaramo opisnu varijablu, želimo stvoriti\n",
    "imena koja su i specifična i artikuliraju odnose među stvarima u našim\n",
    "programima. Jedna od tehnika koju možemo koristiti su duga imena u stilu koji se\n",
    "kreće od posebnog do općeg. Koraci za odabir imena su:\n",
    "\n",
    "1.  Posljednji dio imena je vrlo širok sažetak stvari. U nekoliko slučajeva to\n",
    "    može biti sve što nam treba; kontekst će pojasniti ostatak.\n",
    "\n",
    "2.  Upotrijebite prefiks za usmjeravanje ime na neku domenu.\n",
    "\n",
    "3.  Možete koristiti i više prefiksa kako biste što bolje opisali varijablu.\n",
    "\n",
    "4.  Formatirajte ime, ovisno o tome što imenujemo u Pythonu. Postoje tri široka\n",
    "    razreda koja imenujemo:\n",
    "\n",
    "    -   **Razredi**: Razred ima naziv koji opisuje objekte koji su primjerci\n",
    "        razreda. Najčešće ih imenujemo oblikom **CapitalizedCamelCase**. Prvo\n",
    "        slovo imena razreda je veliko kako bi se naglasilo da je to razredte,\n",
    "        ako imamo više pojmova koje želimo upisati, svaku novu riječ počinjemo\n",
    "        velikim slovom.\n",
    "\n",
    "    -   **Objekti**: Za ime objekta obično se koristi oblik **snake_case**. Sva\n",
    "        slova su mala, a između riječi je znak \\_.\n",
    "\n",
    "    -   **Datoteke skripti i modula**: Ovo su resursi OS-a, ali bi trebali\n",
    "        slijediti konvencije za Python objekte, koristeći slova, znak \\_ i\n",
    "        završavati s .py.\n",
    "\n"
   ]
  },
  {
   "cell_type": "markdown",
   "metadata": {},
   "source": [
    "Ovisno o vrijednosti koju dodjeljujemo pojedinoj varijabli, ona će biti\n",
    "drugačijeg tipa. Kada pričamo o tipovima podataka, najčešće govorimo o tri tipa\n",
    "podataka: niz znakova ili **string** (str), cijeli broj ili **integer** (int),\n",
    "te broj s pomičnom točkom ili **float** (float). Postoje i drugi tipovi podataka\n",
    "s kojima ćemo se naknadno upoznati, međutim zasad je važno za razumjeti da je\n",
    "tip podatka svojstvo objekta, a ne varijable."
   ]
  },
  {
   "cell_type": "code",
   "execution_count": null,
   "metadata": {},
   "outputs": [],
   "source": [
    "boja_ime = 'Crvena'\n",
    "boja_rgb = (178, 34, 34)\n",
    "omjer_opsega = 355/113\n",
    "print(boja_ime)\n",
    "print(boja_rgb)\n",
    "print(omjer_opsega)"
   ]
  },
  {
   "cell_type": "markdown",
   "metadata": {},
   "source": [
    "Ako želimo provjeriti koji tip podatka je zapisan u nekoj varijabli, možemo\n",
    "koristiti naredbu **type()**.\n"
   ]
  },
  {
   "cell_type": "code",
   "execution_count": null,
   "metadata": {},
   "outputs": [],
   "source": [
    "print(type(boja_ime))\n",
    "print(type(boja_rgb))\n",
    "print(type(omjer_opsega))"
   ]
  },
  {
   "cell_type": "markdown",
   "metadata": {},
   "source": [
    "Kod dodjeljivanja vrijednosti varijablama možemo koristiti i *duplicirano\n",
    "dodjeljivanje*."
   ]
  },
  {
   "cell_type": "code",
   "execution_count": null,
   "metadata": {},
   "outputs": [],
   "source": [
    "boja_ime = pocetna_boja = 'Crvena'\n",
    "print(boja_ime)\n",
    "print(pocetna_boja)"
   ]
  },
  {
   "cell_type": "markdown",
   "metadata": {},
   "source": [
    "Jednako tako možemo dodijeliti i više različitih vrijednosti različitim varijablama u jednoj liniji tako da odvojimo nazive varijabli i pripadajuće vrijednosti zarezima:"
   ]
  },
  {
   "cell_type": "code",
   "execution_count": null,
   "metadata": {},
   "outputs": [],
   "source": [
    "boja_ime, pocetna_boja = 'Crvena', 'Zelena'\n",
    "print(boja_ime)\n",
    "print(pocetna_boja)"
   ]
  },
  {
   "cell_type": "markdown",
   "metadata": {},
   "source": [
    "Crtica o filozofiji pisanja programa u Pythonu:"
   ]
  },
  {
   "cell_type": "code",
   "execution_count": null,
   "metadata": {},
   "outputs": [],
   "source": [
    "import this"
   ]
  },
  {
   "cell_type": "markdown",
   "metadata": {},
   "source": [
    "Python nudi sljedeće tipove podataka:\n",
    "\n",
    "| Tip objekta            | Primjer stvaranja                      | Promjenjiv/Nepromjenjiv |\n",
    "|------------------------|----------------------------------------|-------------------------|\n",
    "| Broj                   | 3.1415, 1234, 123e24, 3+4j             | **nepromjenjiv**        |\n",
    "| Znakovni niz           | ‘spam’, “poruke”                       | **nepromjenjiv**        |\n",
    "| Lista                  | [1, [2, ‘three’], 4]                   | promjenjiv              |\n",
    "| Rječnik                | {‘hrana’ : ‘gulaš’, ‘poruka’ : ‘spam’} | promjenjiv              |\n",
    "| n-torka                | (1, 'spam', 4, ‘U’)                    | **nepromjenjiv**        |\n",
    "| datoteka               | text = open ('poruke', 'r').read( )    | promjenjiv              |\n",
    "| Istinitosna vrijednost | True, False                            | **nepromjenjiv**        |"
   ]
  },
  {
   "cell_type": "markdown",
   "metadata": {},
   "source": [
    "Python nudi jednostavne i složene tipove podataka. Složeni tipovi podataka su\n",
    "kolekcije, odnosno oni objekti koji istovremeno mogu čuvati više podataka. Važno\n",
    "svojstvo tipova su njihova promjenjivost ili nepromjenjivost (mutability).\n",
    "Naime, u memorijskom modelu vidjeli ste da varijabla ima referencu ili „gleda“\n",
    "na objekt u memoriji. U objektu je pohranjena vrijednost i tip podatka, te neke\n",
    "druge informacije o objektu. Jedna od informacija jest i može li se objekt\n",
    "promijeniti. Naime, svaki puta kada se radi neka operacija s objektom te ako se\n",
    "mijenja vrijednost objekta, u slučaju da je objekt nepromjenjiv, stvara se novi\n",
    "objekt! Pogledajmo sljedeći primjer:\n"
   ]
  },
  {
   "cell_type": "code",
   "execution_count": null,
   "metadata": {},
   "outputs": [],
   "source": [
    "x = 3\n",
    "X = x + 1\n",
    "print (X)"
   ]
  },
  {
   "cell_type": "markdown",
   "metadata": {},
   "source": [
    "<img src=\"Slike/12_5.png\" alt=\"Drawing\" style=\"width: 400px;\">\n",
    "\n",
    "U prethodnom primjeru vrijednost objekta na koju pokazuje referenca imena „x“, a\n",
    "čija je vrijednost 3, povećala se za 1. Uvećanje vrijednosti 3 za 1 jednako je\n",
    "broju 4. Međutim, budući da je tip podatka broj nepromjenjiv, u memoriji je\n",
    "stvoren novi objekt čija je vrijednost jednaka 4. S druge strane, sljedeći\n",
    "primjer ilustrira što se u memoriji računala događa ako pokušamo dodati novi\n",
    "element na kraj liste."
   ]
  },
  {
   "cell_type": "code",
   "execution_count": null,
   "metadata": {},
   "outputs": [],
   "source": [
    "# definiramo novu listu s imenima\n",
    "imena = ['Marija', 'Hrvoje', 'Štef', 'Ivana']\n",
    "# dodavanje novog elementa\n",
    "imena.append('Ivan')\n",
    "#ispis liste\n",
    "print (imena)"
   ]
  },
  {
   "cell_type": "markdown",
   "metadata": {},
   "source": [
    "<img src=\"Slike/12_6.png\" alt=\"Drawing\" style=\"width: 600px;\">\n",
    "\n",
    "Iz ilustracije je vidljivo da je referenca ostala nepromjenjiva, odnosno objekt\n",
    "se promijenio, bez stvaranja novog objekta. Ovdje treba naglasiti nužnost\n",
    "poznavanja činjenice je li objekt promjenjiv ili nije: svaki puta kada se\n",
    "mijenja objekt koji je nepromjenjiv, u memoriji se stvara novi objekt s novom\n",
    "vrijednošću, a stvaranje objekta jest skupa operacija: računalo je potrebno\n",
    "pronaći slobodnu memoriju za stvaranje objekta, a i samo stvaranje objekta\n",
    "zahtijeva određeno vrijeme."
   ]
  },
  {
   "cell_type": "markdown",
   "metadata": {},
   "source": [
    "<br><div class=\"alert alert-info\"><b>Vježba</b></div></br>"
   ]
  },
  {
   "cell_type": "markdown",
   "metadata": {},
   "source": [
    "Napiši program koji ima tri varijable u kojima je posebno zapisano vaše ime, prezime i godina rođenja.  \n",
    "Varijable nakon toga ispišite.\n"
   ]
  },
  {
   "cell_type": "code",
   "execution_count": 4,
   "metadata": {},
   "outputs": [
    {
     "name": "stdout",
     "output_type": "stream",
     "text": [
      "Tomislav Kucar &$%\"%\"/%&%$\"#\n"
     ]
    }
   ],
   "source": [
    "ime = \"Tomislav\"\n",
    "prez = \"Kucar\"\n",
    "dob = \"&$%\\\"%\\\"/%&%$\\\"#\"\n",
    "print(f\"{ime} {prez} {dob}\")"
   ]
  },
  {
   "cell_type": "markdown",
   "metadata": {},
   "source": [
    "<br><div class=\"alert alert-info\"><b>Kraj</b></div></br>"
   ]
  }
 ],
 "metadata": {
  "kernelspec": {
   "display_name": "Python 3",
   "language": "python",
   "name": "python3"
  },
  "language_info": {
   "codemirror_mode": {
    "name": "ipython",
    "version": 3
   },
   "file_extension": ".py",
   "mimetype": "text/x-python",
   "name": "python",
   "nbconvert_exporter": "python",
   "pygments_lexer": "ipython3",
   "version": "3.7.3"
  }
 },
 "nbformat": 4,
 "nbformat_minor": 2
}
