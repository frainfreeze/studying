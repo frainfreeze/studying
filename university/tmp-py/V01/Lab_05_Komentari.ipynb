{
 "cells": [
  {
   "cell_type": "markdown",
   "metadata": {},
   "source": [
    "<img src=\"Slike/vua.png\">"
   ]
  },
  {
   "cell_type": "markdown",
   "metadata": {},
   "source": [
    "Komentari su iznimno korisna značajka u većini programskih jezika. Sve što ste\n",
    "do sada napisali u programima je Python kôd. Kad programi postanu duži i\n",
    "kompliciraniji, dodavanje bilješki koje opisuju dio linija kôda postaje\n",
    "neophodno ako želimo nakon nekog vremena napraviti promjene. Kako bi *Python*\n",
    "razlikovao komentare od programskog koda, koristimo specijalne znakove da ih\n",
    "označimo. Kada *Python* kod izvođenja programa naiđe na znak *ljestve* (**\\#**),\n",
    "ignorira sve što se nalazi do kraja te linije. Komentare možemo pisati u zasebne\n",
    "linije ili ih dodavati nakon instrukcija.\n"
   ]
  },
  {
   "cell_type": "code",
   "execution_count": null,
   "metadata": {},
   "outputs": [],
   "source": [
    "# Ispisuje poruku hello world\n",
    "print('Hello world!')"
   ]
  },
  {
   "cell_type": "code",
   "execution_count": null,
   "metadata": {},
   "outputs": [],
   "source": [
    "print('Hello world!') # Ispisuje poruku hello world"
   ]
  },
  {
   "cell_type": "markdown",
   "metadata": {},
   "source": [
    "Ako želite upisati više linija, kao komentar možete na početku svake linije\n",
    "staviti znak *hash* (**\\#**) ili prije i poslije komentara dodati 3 navodnika\n",
    "(mogu biti jednostruki ili dvostruki). Ako pogledate programe dostupne na\n",
    "internetu, uočit će te da većina programa u *Python*u počinje zaglavljem koje je\n",
    "komentar.\n"
   ]
  },
  {
   "cell_type": "code",
   "execution_count": null,
   "metadata": {},
   "outputs": [],
   "source": [
    "# -*- coding: utf-8 -*-\n",
    "\"\"\"\n",
    "Created on Wed Jan 23 14:48:02 2019\n",
    "\n",
    "@author: Hrvoje\n",
    "\n",
    "Opis programa što radi\n",
    "\n",
    "\"\"\"\n",
    "print()"
   ]
  },
  {
   "cell_type": "markdown",
   "metadata": {},
   "source": [
    "Prva linija izgleda kao komentar, ali *Python* tu informaciju koristi da\n",
    "definira način prikazivanja znakova. Nakon nje nalaze se tri navodnika koji\n",
    "započinju komentar. Nakon toga je navedeno, primjerice, vrijeme kreiranja\n",
    "dokumenta, ime autora i opis programa i njegovih funkcija. Nerijetko je tu i\n",
    "uputa kako se koristi."
   ]
  },
  {
   "cell_type": "markdown",
   "metadata": {},
   "source": [
    "Glavni razlog pisanja komentara je objasniti što bi kôd trebao raditi i kako\n",
    "rješavate pojedini problem. U trenutku kada radite na projektu razumijete sve\n",
    "dijelove i njihovu povezanost, ali, kad napravite pauzu i nakon nekog vremena se\n",
    "vratite na projekt, sigurno ćete zaboraviti neke pojedinosti. Ako niste pisali\n",
    "komentare, morat ćete proučavati svoj program da shvatite gdje ste stali i gdje\n",
    "se pojedini dijelovi nalaze. Jednako tako, ako kod izvođenja program prikazuje\n",
    "rezultate koji nisu valjani, lakše ćete pronaći dio koji je zadužen za taj\n",
    "izlaz. K tome, na većim projektima radi više programera i jako je teško\n",
    "analizirati što su drugi napravili ako nema komentara."
   ]
  },
  {
   "cell_type": "markdown",
   "metadata": {},
   "source": [
    "<br><div class=\"alert alert-info\"><b>Vježba</b></div></br>"
   ]
  },
  {
   "cell_type": "markdown",
   "metadata": {},
   "source": [
    "U program koji se nalazi ispod pokušajte dodati smislene komentare."
   ]
  },
  {
   "cell_type": "code",
   "execution_count": 2,
   "metadata": {},
   "outputs": [
    {
     "name": "stdout",
     "output_type": "stream",
     "text": [
      "<class 'float'>\n",
      "4.3\n",
      "<class 'int'>\n",
      "4\n"
     ]
    }
   ],
   "source": [
    "# \n",
    "broj = 4.3 #assigment\n",
    "# \n",
    "print(type(broj)) #ispis tipa objeta 'broj'\n",
    "# \n",
    "print(broj) #ispis sadrzaja objkta \"broj\"\n",
    "# \n",
    "print(type(int(broj))) #ispis tipa objkta brj pretvorenog u int\n",
    "# \n",
    "print(int(broj)) #ispis objkta broj castanog u int"
   ]
  },
  {
   "cell_type": "markdown",
   "metadata": {},
   "source": [
    "<br><div class=\"alert alert-info\"><b>Kraj</b></div></br>"
   ]
  }
 ],
 "metadata": {
  "kernelspec": {
   "display_name": "Python 3",
   "language": "python",
   "name": "python3"
  },
  "language_info": {
   "codemirror_mode": {
    "name": "ipython",
    "version": 3
   },
   "file_extension": ".py",
   "mimetype": "text/x-python",
   "name": "python",
   "nbconvert_exporter": "python",
   "pygments_lexer": "ipython3",
   "version": "3.7.3"
  }
 },
 "nbformat": 4,
 "nbformat_minor": 2
}
