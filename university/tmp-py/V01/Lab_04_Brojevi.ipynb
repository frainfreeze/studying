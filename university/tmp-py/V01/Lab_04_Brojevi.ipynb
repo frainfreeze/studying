{
 "cells": [
  {
   "cell_type": "markdown",
   "metadata": {},
   "source": [
    "<img src=\"Slike/vua.png\">"
   ]
  },
  {
   "cell_type": "markdown",
   "metadata": {},
   "source": [
    "# Brojevi\n",
    "Brojevi se jako često koriste u programima za pohranu vrijednosti i za\n",
    "matematičke operacije (*Int*, *Float*). *Python* različito tretira brojeve,\n",
    "ovisno o korištenju. Krenimo s cijelim brojevima (engl. *Integer*), jer su\n",
    "najjednostavniji.\n"
   ]
  },
  {
   "cell_type": "markdown",
   "metadata": {},
   "source": [
    "### Cijeli brojevi (*Integers*)\n",
    "Možemo koristiti osnovne matematičke operacije s brojevima korištenjem simbola:\n",
    "zbrajanje (**+**), oduzimanje (**-**), množenje (**\\***), dijeljenje (**/**),\n",
    "potenciranje (**\\*\\***), modulo (**%**)."
   ]
  },
  {
   "cell_type": "code",
   "execution_count": null,
   "metadata": {},
   "outputs": [],
   "source": [
    "2 + 3"
   ]
  },
  {
   "cell_type": "code",
   "execution_count": null,
   "metadata": {},
   "outputs": [],
   "source": [
    "3 - 2"
   ]
  },
  {
   "cell_type": "code",
   "execution_count": null,
   "metadata": {},
   "outputs": [],
   "source": [
    "3 * 4"
   ]
  },
  {
   "cell_type": "code",
   "execution_count": null,
   "metadata": {},
   "outputs": [],
   "source": [
    "3 / 2"
   ]
  },
  {
   "cell_type": "code",
   "execution_count": null,
   "metadata": {},
   "outputs": [],
   "source": [
    "3 ** 3"
   ]
  },
  {
   "cell_type": "markdown",
   "metadata": {},
   "source": [
    "Python podržava redoslijed operacija pa možemo koristiti više operanada u jednoj\n",
    "liniji koda. Jednako tako možemo koristiti zagrade **()** ako želimo da se nešto\n",
    "izvrši prije ostatka.\n"
   ]
  },
  {
   "cell_type": "code",
   "execution_count": null,
   "metadata": {},
   "outputs": [],
   "source": [
    "2 + 3 * 4"
   ]
  },
  {
   "cell_type": "code",
   "execution_count": null,
   "metadata": {},
   "outputs": [],
   "source": [
    "(2 + 3) * 4"
   ]
  },
  {
   "cell_type": "markdown",
   "metadata": {},
   "source": [
    "### Decimalni brojevi (*Float*)\n",
    "Brojevi koji imaju decimalnu točku nazivaju se *float*."
   ]
  },
  {
   "cell_type": "code",
   "execution_count": null,
   "metadata": {},
   "outputs": [],
   "source": [
    "0.1 + 0.1"
   ]
  },
  {
   "cell_type": "code",
   "execution_count": null,
   "metadata": {},
   "outputs": [],
   "source": [
    "0.3 * 5"
   ]
  },
  {
   "cell_type": "markdown",
   "metadata": {},
   "source": [
    "Zbog načina kako *Python* zapisuje decimalne brojeve. nekad rezultat nije kakav\n",
    "očekujemo. Zasad ćemo to ignorirati."
   ]
  },
  {
   "cell_type": "code",
   "execution_count": null,
   "metadata": {},
   "outputs": [],
   "source": [
    "0.2 + 0.1"
   ]
  },
  {
   "cell_type": "markdown",
   "metadata": {},
   "source": [
    "Korištenjem metoda **int()** i **float()** možemo prebaciti jedan format u drugi\n",
    "(*cast*)."
   ]
  },
  {
   "cell_type": "code",
   "execution_count": null,
   "metadata": {},
   "outputs": [],
   "source": [
    "# dodijelimo varijabli broj decimalni broj\n",
    "broj = 4.3\n",
    "# ispišemo tip podatka\n",
    "print(type(broj))\n",
    "# ispišemo podatak\n",
    "print(broj)\n",
    "# ispišemo tip podatka kad ga pretvorimo u cijeli broj\n",
    "print(type(int(broj)))\n",
    "# ispišemo podatak pretvoren u cijeli broj\n",
    "print(int(broj))"
   ]
  },
  {
   "cell_type": "markdown",
   "metadata": {},
   "source": [
    "Kada želimo mijenjati vrijednost neke brojčane varijable, to radimo na način da\n",
    "dodijelimo novu vrijednost. Nova vrijednost može biti rezultat operacija s\n",
    "vrijednošću koja je prije bila zapisana. Primjerice, želimo povećati vrijednost\n",
    "varijable za 10. To možemo napraviti na dva načina.\n"
   ]
  },
  {
   "cell_type": "code",
   "execution_count": null,
   "metadata": {},
   "outputs": [],
   "source": [
    "broj = 23\n",
    "print(broj)\n",
    "broj = broj + 10\n",
    "print(broj)\n",
    "# drugi način\n",
    "broj = 23\n",
    "broj += 10\n",
    "print (broj)"
   ]
  },
  {
   "cell_type": "markdown",
   "metadata": {},
   "source": [
    "Ako želimo broj upisati kao heksadecimalnu vrijednost (osim dekadske baze, koju\n",
    "koriste ljudi, možemo koristiti i druge baze za zapis brojeva, od kojih su u\n",
    "računarstvu najčešće korištene binarna baza, heksadecimalna baza, oktalna baza\n",
    "te kvaternarna baza), koristimo prefiks **0x**.\n"
   ]
  },
  {
   "cell_type": "code",
   "execution_count": null,
   "metadata": {},
   "outputs": [],
   "source": [
    "broj = 0xA\n",
    "print(broj)"
   ]
  },
  {
   "cell_type": "markdown",
   "metadata": {},
   "source": [
    "Ili, ako želimo unijeti binarni broj, koristimo prefiks **0b**."
   ]
  },
  {
   "cell_type": "code",
   "execution_count": null,
   "metadata": {},
   "outputs": [],
   "source": [
    "broj = 0b1010\n",
    "print(broj)"
   ]
  },
  {
   "cell_type": "markdown",
   "metadata": {},
   "source": [
    "Ako pak želimo ispisati vrijednosti u heksadecimalnom ili binarnom obliku,\n",
    "koristimo funkcije **hex()** i **bin()**."
   ]
  },
  {
   "cell_type": "code",
   "execution_count": null,
   "metadata": {},
   "outputs": [],
   "source": [
    "broj = 10\n",
    "print(hex(broj))\n",
    "print(bin(broj))"
   ]
  },
  {
   "cell_type": "markdown",
   "metadata": {},
   "source": [
    "Ako želimo raditi na nivou bitova, na raspolaganju imamo i dodatne operatore:  \n",
    "**&** (binarno I - *AND*)  \n",
    "**^** (binarno ILI - *XOR*)  \n",
    "**\\|** (binarno ILI - *OR*)  \n",
    "**<<** (pomak u lijevo - *Left Shift*)  \n",
    "**\\>\\>** (pomak u desno - *Right Shift*).\n",
    "\n",
    "<img src=\"Slike/12_4.png\" alt=\"Drawing\" style=\"width: 800px;\">\n",
    "\n",
    "Binarni operatori koriste se prilikom optimiziranog izvođenja koda, konkretno\n",
    "kada nam je potrebna brzina. Tipičan primjer korištenja binarnih operatora jest\n",
    "ispitivanje parnosti broja. Obično **koderi** koriste operator modulo te\n",
    "uspoređuju rezultat s nulom, međutim, iskusni programeri ispituju je li zadnja\n",
    "znamenka binarnog broja jednaka 0. Pokušajte sami razumjeti zašto je to tako i\n",
    "sami napravite ovaj primjer. Možemo pogledati primjer korištenja funkcije\n",
    "**bin()**.\n"
   ]
  },
  {
   "cell_type": "code",
   "execution_count": null,
   "metadata": {},
   "outputs": [],
   "source": [
    "xor = 0b0011 ^ 0b0101\n",
    "print (bin(xor))"
   ]
  },
  {
   "cell_type": "code",
   "execution_count": null,
   "metadata": {},
   "outputs": [],
   "source": [
    "broj = 0b1011\n",
    "broj = broj << 2\n",
    "print(bin(broj))\n",
    "broj = broj >> 4\n",
    "print(bin(broj))"
   ]
  },
  {
   "cell_type": "markdown",
   "metadata": {},
   "source": [
    "Korištenjem dodatnih modula možemo imati pristup i drugim tipovima, kao što su\n",
    "decimalni brojevi (engl. *Decimal*) ili razlomci (engl. *Fraction*). Da bismo ih\n",
    "koristili, prvo trebamo dodati razrede koje ih definiraju. Kasnije ćemo reći\n",
    "više o učitavanju novih modula. Ako učitamo modul za rad s decimalnim brojevima,\n",
    "koristimo metodu *Decimal* te brojeve prosljeđujemo kao tekst.\n"
   ]
  },
  {
   "cell_type": "code",
   "execution_count": null,
   "metadata": {},
   "outputs": [],
   "source": [
    "from decimal import Decimal\n",
    "print (Decimal('0.2') + Decimal('0.1'))"
   ]
  },
  {
   "cell_type": "markdown",
   "metadata": {},
   "source": [
    "Slično je i s razlomcima. Pogledajmo primjer u kojem množimo dva razlomka kao\n",
    "*float* brojeve. Na prvi pogled nam je jasno da bi rezultat trebao biti **1**.\n",
    "Nastala pogreška rezultat je ograničenosti računala kod prikaza brojeva s\n",
    "pomičnom točkom.\n"
   ]
  },
  {
   "cell_type": "code",
   "execution_count": null,
   "metadata": {},
   "outputs": [],
   "source": [
    "print((19/155)*(155/19))"
   ]
  },
  {
   "cell_type": "markdown",
   "metadata": {},
   "source": [
    "Napravimo to sad korištenjem funkcije **Fraction()**."
   ]
  },
  {
   "cell_type": "code",
   "execution_count": null,
   "metadata": {},
   "outputs": [],
   "source": [
    "from fractions import Fraction\n",
    "print(Fraction('19/155')*Fraction('155/19'))"
   ]
  },
  {
   "cell_type": "markdown",
   "metadata": {},
   "source": [
    "Ako i dalje želimo koristiti *float*, u obradi možemo koristiti funkciju\n",
    "**round()**. Funkcija osim vrijednosti koju treba zaokružiti traži da unesemo i\n",
    "na koliko decimala želimo precizan rezultat. Za razliku od funkcije **int()**\n",
    "koja briše decimale i ostavi cijeli broj, **round()** radi zaokruživanje.\n"
   ]
  },
  {
   "cell_type": "code",
   "execution_count": null,
   "metadata": {},
   "outputs": [],
   "source": [
    "broj = (19/155)*(155/19)\n",
    "print(broj)\n",
    "print(round(broj, 1))"
   ]
  },
  {
   "cell_type": "markdown",
   "metadata": {},
   "source": [
    "Pokušajmo ispisati poruku tako da vrijednost numeričke varijable uključimo u\n",
    "tekst. Ako je proslijedimo samo kao neki numerički tip podatka, dobit ćemo\n",
    "poruku o grešci **TypeError: must be str, not xxx**."
   ]
  },
  {
   "cell_type": "code",
   "execution_count": null,
   "metadata": {},
   "outputs": [],
   "source": [
    "godine = 25\n",
    "poruka = 'Sretan ' + godine + '. rođendan!'\n",
    "print(poruka)"
   ]
  },
  {
   "cell_type": "markdown",
   "metadata": {},
   "source": [
    "Kada želimo povezati brojeve i tekst zajedno, moramo iskoristiti metodu\n",
    "**str()** i sve numeričke vrijednosti pretvoriti u tekstualne."
   ]
  },
  {
   "cell_type": "code",
   "execution_count": null,
   "metadata": {},
   "outputs": [],
   "source": [
    "godine = 25\n",
    "poruka = 'Sretan ' + str(godine) + '. rođendan!'\n",
    "print(poruka)"
   ]
  },
  {
   "cell_type": "markdown",
   "metadata": {},
   "source": [
    "<br><div class=\"alert alert-info\"><b>Vježba</b></div></br>"
   ]
  },
  {
   "cell_type": "markdown",
   "metadata": {},
   "source": [
    "Napišite program koji koristi zbrajanje, oduzimanje, množenje i dijeljenje, gdje\n",
    "će rezultat uvijek biti 10. Rješenje treba imati 4 linije koda s naredbom\n",
    "**print(),** gdje će kao parametri biti, primjerice 9 + 1,...\n"
   ]
  },
  {
   "cell_type": "code",
   "execution_count": 1,
   "metadata": {},
   "outputs": [
    {
     "name": "stdout",
     "output_type": "stream",
     "text": [
      "10\n",
      "10\n",
      "10\n",
      "10.0\n"
     ]
    }
   ],
   "source": [
    "print(10+0)\n",
    "print(11-1)\n",
    "print(2*5)\n",
    "print(10/1)"
   ]
  },
  {
   "cell_type": "markdown",
   "metadata": {},
   "source": [
    "Napišite program koji u varijablu sprema neki broj, te ga ispisuje uz tekstualnu poruku: „Zapisani broj je X.“"
   ]
  },
  {
   "cell_type": "code",
   "execution_count": 2,
   "metadata": {},
   "outputs": [
    {
     "name": "stdout",
     "output_type": "stream",
     "text": [
      "Zapisan je 1\n"
     ]
    }
   ],
   "source": [
    "a = 1\n",
    "print(f\"Zapisan je {a}\")"
   ]
  },
  {
   "cell_type": "markdown",
   "metadata": {},
   "source": [
    "<br><div class=\"alert alert-info\"><b>Kraj</b></div></br>"
   ]
  }
 ],
 "metadata": {
  "kernelspec": {
   "display_name": "Python 3",
   "language": "python",
   "name": "python3"
  },
  "language_info": {
   "codemirror_mode": {
    "name": "ipython",
    "version": 3
   },
   "file_extension": ".py",
   "mimetype": "text/x-python",
   "name": "python",
   "nbconvert_exporter": "python",
   "pygments_lexer": "ipython3",
   "version": "3.7.3"
  }
 },
 "nbformat": 4,
 "nbformat_minor": 2
}
