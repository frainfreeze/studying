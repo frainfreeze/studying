{
 "cells": [
  {
   "cell_type": "markdown",
   "metadata": {},
   "source": [
    "<img src=\"Slike/vua.png\">"
   ]
  },
  {
   "cell_type": "markdown",
   "metadata": {},
   "source": [
    "# Izraz *if*\n",
    "Sada kada razumijemo usporedbe, možemo se upoznati s različitim načinima\n",
    "korištenja izraza **if**. Neke od njih smo već upoznali u dijelu posvećenom\n",
    "uvjetima. Najjednostavniji oblik je:\n",
    "```python\n",
    "if uvjet:\n",
    "    napravi nešto\n",
    "```\n",
    "U dijelu *uvjet* možemo staviti bilo koji izraz koji kao rezultat vraća **True**\n",
    "ili **False**. Ako *uvjet* vrati **True,** izvršit će se kôd **napravi nešto**,\n",
    "a ako vrati **False**, on će biti preskočen. Primjerice, imamo broj godina neke\n",
    "osobe i želimo ispisati ima li pravo izaći na izbore.\n"
   ]
  },
  {
   "cell_type": "code",
   "execution_count": null,
   "metadata": {},
   "outputs": [],
   "source": [
    "godine = 19\n",
    "if godine >= 18:\n",
    "    print('Imate pravo glasati')"
   ]
  },
  {
   "cell_type": "markdown",
   "metadata": {},
   "source": [
    "Ako smanjimo broj godina, nećemo dobiti ništa na izlazu."
   ]
  },
  {
   "cell_type": "code",
   "execution_count": null,
   "metadata": {},
   "outputs": [],
   "source": [
    "godine = 17\n",
    "if godine >= 18:\n",
    "    print('Imate pravo glasati')"
   ]
  },
  {
   "cell_type": "markdown",
   "metadata": {},
   "source": [
    "Kao što smo prije napomenuli, *uvjet* može biti sve što ima vrijednost **True**\n",
    "ili **False**."
   ]
  },
  {
   "cell_type": "code",
   "execution_count": null,
   "metadata": {},
   "outputs": [],
   "source": [
    "if True:\n",
    "    print('Imate pravo glasati')"
   ]
  },
  {
   "cell_type": "code",
   "execution_count": null,
   "metadata": {},
   "outputs": [],
   "source": [
    "if False:\n",
    "    print('Imate pravo glasati')"
   ]
  },
  {
   "cell_type": "code",
   "execution_count": null,
   "metadata": {},
   "outputs": [],
   "source": [
    "uvjet = True\n",
    "if uvjet:\n",
    "    print('Imate pravo glasati')\n"
   ]
  },
  {
   "cell_type": "markdown",
   "metadata": {},
   "source": [
    "Kôd koji je uvučen ispod izraza **if** može biti u više linija, isto kao i kod\n",
    "petlji."
   ]
  },
  {
   "cell_type": "code",
   "execution_count": null,
   "metadata": {},
   "outputs": [],
   "source": [
    "godine = 18\n",
    "if godine >= 18:\n",
    "    print('Imate dovoljno godina')\n",
    "    print('Imate pravo glasati')"
   ]
  },
  {
   "cell_type": "markdown",
   "metadata": {},
   "source": [
    "## Izraz *if-elese*\n",
    "Nekad želimo imati mogućnost da, uz izvršavanje nekog koda kada je uvjet točan,\n",
    "izvršimo i dio koda koji će se izvršiti samo ako uvjet nije točan. Da bismo to\n",
    "napravili koristimo strukturu **if-else**.\n",
    "```python\n",
    "if uvjet:\n",
    "    napravi nešto\n",
    "else:\n",
    "    napravi nešto drugo\n",
    "```"
   ]
  },
  {
   "cell_type": "code",
   "execution_count": null,
   "metadata": {},
   "outputs": [],
   "source": [
    "godine = 17\n",
    "if godine >= 18:\n",
    "    print('Imate dovoljno godina')\n",
    "    print('Možete glasati')\n",
    "else:\n",
    "    print('Nemate dovoljno godina')\n",
    "    print('Nažalost, ne možete glasati')"
   ]
  },
  {
   "cell_type": "markdown",
   "metadata": {},
   "source": [
    "Ako je *uvjet* u dijelu **if** točan, izvršit će se kôd uvučen ispod njega. Ako\n",
    "*uvjet* nije točan, izvršit će se kôd uvučen ispod izraza **else**. Ovo zasad\n",
    "rješava probleme, ako imamo samo dva moguća izlaza i *Python* će uvijek izvršiti\n",
    "jedan od njih."
   ]
  },
  {
   "cell_type": "markdown",
   "metadata": {},
   "source": [
    "## Izraz *if-elif-elese*\n",
    "Često želimo testirati više od dvije situacije na ulazu. Tada koristimo\n",
    "strukturu **if-elif-else**.\n",
    "```python\n",
    "if uvjet:\n",
    "    napravi nešto\n",
    "elif uvjet:\n",
    "    napravi nešto drugo\n",
    "else:\n",
    "    napravi nešto treće\n",
    "```\n",
    "Primjerice, imamo sustav za prodaju ulaznica i imamo situaciju da je:\n",
    "-   karta besplatna za djecu mlađu od 4 godine\n",
    "-   karta košta 20 kn za djecu od 4 do 18 godina\n",
    "-   karta košta 50 kn za starije od 18 godina.\n",
    "\n",
    "Možemo li to napraviti strukturom **if-else**? Ne, jer imamo tri moguća izlaza.  \n",
    "Možemo li to napraviti izrazom **if**?. Možemo, ali će nam kod biti manje čitljiv i spor.\n"
   ]
  },
  {
   "cell_type": "code",
   "execution_count": null,
   "metadata": {},
   "outputs": [],
   "source": [
    "godine = 18\n",
    "if godine < 4:\n",
    "    print('Karta je besplatna')\n",
    "if godine >= 4 and godine < 18:\n",
    "    print('Karta košta 20 kn')\n",
    "if godine >= 18:\n",
    "    print('Karta košta 50 kn')"
   ]
  },
  {
   "cell_type": "markdown",
   "metadata": {},
   "source": [
    "Uspjeli smo to napraviti samo s izrazima **if**. Pokušajmo iskoristiti strukturu\n",
    "**if-elif-else**."
   ]
  },
  {
   "cell_type": "code",
   "execution_count": null,
   "metadata": {},
   "outputs": [],
   "source": [
    "godine = 17\n",
    "if godine < 4:\n",
    "    print('Karta je besplatna')\n",
    "elif godine < 18:\n",
    "    print('Karta košta 20 kn')\n",
    "else:\n",
    "    print('Karta košta 50 kn')"
   ]
  },
  {
   "cell_type": "markdown",
   "metadata": {},
   "source": [
    "Prvo smo postavili jedan *uvjet*. Ako je on točan, izvršava se i zanemaruje sve\n",
    "što se nalazi ispod. Ako nije točan, prelazi se na drugi *uvjet* i radi isto.\n",
    "Ako je točan, izvršava kôd ispod, a ako nije točan nastavlja dalje. Prethodni\n",
    "primjer se često optimizira na način da ne ponavljamo naredbu za ispis kod svake\n",
    "provjere već pokušamo to riješiti zajedničkim tekstom i privremenom varijablom u\n",
    "kojoj definiramo vrijednost."
   ]
  },
  {
   "cell_type": "code",
   "execution_count": null,
   "metadata": {},
   "outputs": [],
   "source": [
    "godine = 17\n",
    "if godine < 4:\n",
    "    cijena = 0\n",
    "elif godine < 18:\n",
    "    cijena = 20\n",
    "else:\n",
    "    cijena = 50\n",
    "print ('Karta košta ' + str(cijena) + ' kn')"
   ]
  },
  {
   "cell_type": "markdown",
   "metadata": {},
   "source": [
    "Izlaz je isti kao i kod prethodne inačice, ali je kôd puno jednostavniji.\n",
    "Primjerice, ako treba promijeniti tekst poruke, to radimo samo na jednom mjestu.\n",
    "Naravno, ovisno o tome koliko različitih ishoda želimo imati, možemo imati više\n",
    "**elif** dijelova u strukturi **if-elif-else**. Recimo da imamo i cijenu od 30\n",
    "kn za osobe starije od 65 godina."
   ]
  },
  {
   "cell_type": "code",
   "execution_count": null,
   "metadata": {},
   "outputs": [],
   "source": [
    "godine = 66\n",
    "if godine < 4:\n",
    "    cijena = 0\n",
    "elif godine < 18:\n",
    "    cijena = 20\n",
    "elif godine < 65:\n",
    "    cijena = 50\n",
    "else:\n",
    "    cijena = 30\n",
    "print ('Karta košta ' + str(cijena) + ' kn')"
   ]
  },
  {
   "cell_type": "markdown",
   "metadata": {},
   "source": [
    "Kako koristimo različite oblike izraza **if**, nije uvijek potrebno imati\n",
    "**else** blok na kraju. Njega koristimo jedino kada želimo izvršiti nešto ako\n",
    "niti jedan od uvjeta nije zadovoljen. Gornji primjer smo mogli zapisati i s\n",
    "dodatnim **elif** dijelom. To možemo koristiti ako želimo osigurati da se moraju\n",
    "zadovoljiti uvjeti neke od provjera."
   ]
  },
  {
   "cell_type": "code",
   "execution_count": null,
   "metadata": {},
   "outputs": [],
   "source": [
    "godine = 66\n",
    "if godine < 4:\n",
    "    cijena = 0\n",
    "elif godine < 18:\n",
    "    cijena = 20\n",
    "elif godine < 65:\n",
    "    cijena = 50\n",
    "elif godine >= 65:\n",
    "    cijena = 30\n",
    "print ('Karta košta ' + str(cijena) + ' kn')"
   ]
  },
  {
   "cell_type": "markdown",
   "metadata": {},
   "source": [
    "U strukturi **if-elif-else** imamo situaciju gdje *Python* prestaje gledati\n",
    "uvjete u trenutku kada pronađe prvi koji vraća **True**. Ako pak želimo\n",
    "provjeriti zadovoljava li više uvjeta i napraviti akcije za svaki od uvjeta koji\n",
    "je zadovoljen, moramo koristiti višekratne izraze **if**.\n",
    "\n",
    "```python\n",
    "if uvjet:\n",
    "    napravi nešto\n",
    "if uvjet:\n",
    "    napravi nešto drugo\n",
    "if uvjet:\n",
    "    napravi nešto treće\n",
    "```"
   ]
  },
  {
   "cell_type": "markdown",
   "metadata": {},
   "source": [
    "Već prije smo vidjeli primjer s listom i uvjetima."
   ]
  },
  {
   "cell_type": "code",
   "execution_count": null,
   "metadata": {},
   "outputs": [],
   "source": [
    "# kreiramo listu\n",
    "auti = ['audi', 'bmw', 'subaru', 'toyota']\n",
    "# koristimo petlju da prođemo kroz sve elemente liste\n",
    "for auto in auti:\n",
    "    # provjeravamo  je li element liste jednak 'bmw'\n",
    "    if auto == 'bmw':\n",
    "        # ispis ako je uvjet zadovoljen\n",
    "        print(auto.upper())\n",
    "    else:\n",
    "        # ispis ako uvjet nije zadovoljen\n",
    "        print(auto.title())"
   ]
  },
  {
   "cell_type": "markdown",
   "metadata": {},
   "source": [
    "Pogledajmo što će se dogoditi ako je lista prazna."
   ]
  },
  {
   "cell_type": "code",
   "execution_count": null,
   "metadata": {},
   "outputs": [],
   "source": [
    "# kreiramo listu\n",
    "auti = []\n",
    "# koristimo petlju da prođemo kroz sve elemente liste\n",
    "for auto in auti:\n",
    "    # provjeravamo je li element liste jednak 'bmw'\n",
    "    if auto == 'bmw':\n",
    "        # ispis ako je uvjet zadovoljen\n",
    "        print(auto.upper())\n",
    "    else:\n",
    "        # ispis ako uvjet nije zadovoljen\n",
    "        print(auto.title())"
   ]
  },
  {
   "cell_type": "markdown",
   "metadata": {},
   "source": [
    "Nemamo nikakav izlaz. Ovdje možemo iskoristiti izraz **if** da provjerimo je li\n",
    "lista prazna, pa ako jest, poslati poruku."
   ]
  },
  {
   "cell_type": "code",
   "execution_count": null,
   "metadata": {},
   "outputs": [],
   "source": [
    "# kreiramo listu\n",
    "auti = []\n",
    "# koristimo petlju da prođemo kroz sve elemente liste\n",
    "if auti:\n",
    "    for auto in auti:\n",
    "        # provjeravamo je li element liste jednak 'bmw'\n",
    "        if auto == 'bmw':\n",
    "            # ispis ako je uvjet zadovoljen\n",
    "            print(auto.upper())\n",
    "        else:\n",
    "            # ispis ako uvjet nije zadovoljen\n",
    "            print(auto.title())\n",
    "else:\n",
    "    print ('Lista je prazna')"
   ]
  },
  {
   "cell_type": "markdown",
   "metadata": {},
   "source": [
    "Ovdje smo iskoristili to što *Python* za praznu listu vraća **False,** a ako ima\n",
    "barem jedan element, **True**."
   ]
  },
  {
   "cell_type": "markdown",
   "metadata": {},
   "source": [
    "Jednako tako možemo napraviti usporedbu više lista. Primjerice, imamo listu\n",
    "priloga koje neko može naručiti uz pizzu. U listu spremimo priloge koje je netko\n",
    "naručio. Trebamo provjeriti imamo li priloge koje je korisnik naručio."
   ]
  },
  {
   "cell_type": "code",
   "execution_count": null,
   "metadata": {},
   "outputs": [],
   "source": [
    "# kreiramo liste\n",
    "dostupni_prilozi = ['gljive', 'masline', 'feferoni', 'rajčica', 'parmezan', 'pršut']\n",
    "trazeni_prilozi = ['gljive', 'kobasica', 'rajčica', 'špek']\n",
    "\n",
    "#prolazimo kroz elemente jedne liste\n",
    "for trazeni_prilog in trazeni_prilozi:\n",
    "    #provjeravamo nalazi li se u drugoj listi\n",
    "    if trazeni_prilog in dostupni_prilozi:\n",
    "        print ('Na pizzu dodajemo ' + trazeni_prilog + '.')\n",
    "    else:\n",
    "        print ('Nažalost, nemamo ' + trazeni_prilog + '.')"
   ]
  },
  {
   "cell_type": "markdown",
   "metadata": {},
   "source": [
    "<br><div class=\"alert alert-info\"><b>Vježba</b></div></br>"
   ]
  },
  {
   "cell_type": "markdown",
   "metadata": {},
   "source": [
    "Napišite program koji će za definirani broj godina opisati životnu dob.  \n",
    "- mlađa od 2 godine - beba\n",
    "- između 2 i 13 - dijete\n",
    "- između 13 i 18 - adolescent\n",
    "- između 18 i 65 - odrasla osoba\n",
    "- iznad 65 - starija osoba"
   ]
  },
  {
   "cell_type": "code",
   "execution_count": 8,
   "metadata": {},
   "outputs": [
    {
     "name": "stdout",
     "output_type": "stream",
     "text": [
      " dijete\n"
     ]
    }
   ],
   "source": [
    "bg = 7\n",
    "\n",
    "if bg < 2:\n",
    "    print(\"beba\")\n",
    "elif bg < 13:\n",
    "    print(\" dijete\")\n",
    "elif bg < 18:\n",
    "    print(\"adolescent\")\n",
    "elif bg < 65:\n",
    "    print(\"odrasla osoba\")\n",
    "elif bg > 65:\n",
    "    print(\"starija osoba\")\n",
    "else:\n",
    "    print(\"?\")"
   ]
  },
  {
   "cell_type": "markdown",
   "metadata": {},
   "source": [
    "<br><div class=\"alert alert-info\"><b></b></div></br>"
   ]
  },
  {
   "cell_type": "markdown",
   "metadata": {},
   "source": [
    "Napišite program u kojemu lista sadrži najmanje 5 korisničkih imena.  \n",
    "Neka barem jedno od njih bude „admin“.  \n",
    "Napravite petlju da prođeš kroz sve korisnike.  \n",
    "Za korisnika admin ispišite poruku: „Pozdrav, prijavljeni ste kao korisnik admin. Želite li vidjeti izvještaj o korištenju?“  \n",
    "Za ostale korisnike ispišite poruku: „Pozdrav, prijavljeni ste kao korisnik ime. Dobro došli u sustav.“  \n",
    "Napravite provjeru je li lista prazna, te ako jest, ispišite poruku „Nema definiranih korisnika!“  \n",
    "Napravite drugu listu s novim korisnicima, s najmanje 5 imena, ali da samo dva budu ista kao i u prethodnoj listi.  \n",
    "Provjerite liste i, ako se ime iz druge liste podudara s nekim od imena iz prve liste, ispišite poruku „Korisnik već postoji, izaberi drugo ime.“  \n",
    "Ako korisnik ne postoji u prvoj listi, dodajte ga u prvu listu i ispišite poruku „Korisnički račun je napravljen, dobrodošli.“  \n",
    "Na kraju ispišite sve članove prve liste."
   ]
  },
  {
   "cell_type": "code",
   "execution_count": 16,
   "metadata": {},
   "outputs": [
    {
     "name": "stdout",
     "output_type": "stream",
     "text": [
      "a već postoji, izaberi drugo ime.\n",
      "b već postoji, izaberi drugo ime.\n",
      "Korisnički račun je napravljen, dobrodošli f.\n",
      "Korisnički račun je napravljen, dobrodošli g.\n",
      "Korisnički račun je napravljen, dobrodošli n.\n",
      "Pozdrav, prijavljeni ste kao korisnik a. Dobro došli u sustav\n",
      "Pozdrav, prijavljeni ste kao korisnik b. Dobro došli u sustav\n",
      "Pozdrav, prijavljeni ste kao korisnik c. Dobro došli u sustav\n",
      "Pozdrav, prijavljeni ste kao korisnik d. Dobro došli u sustav\n",
      "Pozdrav, prijavljeni ste kao korisnik admin. Želite li vidjeti izvještaj o korištenju?\n",
      "Pozdrav, prijavljeni ste kao korisnik f. Dobro došli u sustav\n",
      "Pozdrav, prijavljeni ste kao korisnik g. Dobro došli u sustav\n",
      "Pozdrav, prijavljeni ste kao korisnik n. Dobro došli u sustav\n"
     ]
    }
   ],
   "source": [
    "users = ['a','b','c','d','admin']\n",
    "users2 = ['a','b','f','g','n']\n",
    "\n",
    "for user in users2:\n",
    "    if user in users:\n",
    "        print(f\"{user} već postoji, izaberi drugo ime.\")\n",
    "    else:\n",
    "        users.append(user)\n",
    "        print(f\"Korisnički račun je napravljen, dobrodošli {user}.\")\n",
    "\n",
    "if users:\n",
    "    for user in users:\n",
    "        if user == 'admin':\n",
    "            print('Pozdrav, prijavljeni ste kao korisnik admin. Želite li vidjeti izvještaj o korištenju?')\n",
    "        else:\n",
    "            print(f\"Pozdrav, prijavljeni ste kao korisnik {user}. Dobro došli u sustav\")\n",
    "else:\n",
    "    print(\"Nema definiranih korisnika!\")\n",
    "    \n",
    "    "
   ]
  },
  {
   "cell_type": "markdown",
   "metadata": {},
   "source": [
    "<br><div class=\"alert alert-info\"><b></b></div></br>"
   ]
  },
  {
   "cell_type": "markdown",
   "metadata": {},
   "source": [
    "Napravite listu u koju ćete spremiti popis imena osoba koje trebaju ispuniti anketu o programskim jezicima te se pobrinite da imate neka imena koja već postoje u rječniku i neka koja još ne postoje.  \n",
    "Iskoristite kôd koji smo koristili za anketu o najdražim jezicima.  \n",
    "Napravite petlju koja će pregledati elemente liste i provjeriti je li osoba već ispunila anketu.  \n",
    "Ako je ispunila anketu, ispišite poruku da je anketa već ispunjena.  \n",
    "Ako osoba nije ispunila anketu, ispišite poruku u kojoj je pozivaš da ispuni anketu."
   ]
  },
  {
   "cell_type": "code",
   "execution_count": null,
   "metadata": {},
   "outputs": [],
   "source": [
    "users = ['a','b','c','d','admin']\n",
    "users2 = ['a','b','f','g','n']\n",
    "\n",
    "for user in users2:\n",
    "    if user in users:\n",
    "        print(f\"{user} već postoji, izaberi drugo ime.\")\n",
    "    else:\n",
    "        users.append(user)\n",
    "        print(f\"Korisnički račun je napravljen, dobrodošli {user}.\")\n",
    "\n",
    "if users:\n",
    "    for user in users:\n",
    "        if user == 'admin':\n",
    "            print('Pozdrav, prijavljeni ste kao korisnik admin. Želite li vidjeti izvještaj o korištenju?')\n",
    "        else:\n",
    "            print(f\"Pozdrav, prijavljeni ste kao korisnik {user}. Dobro došli u sustav\")\n",
    "else:\n",
    "    print(\"Nema definiranih korisnika!\")\n",
    "    "
   ]
  },
  {
   "cell_type": "markdown",
   "metadata": {},
   "source": [
    "<br><div class=\"alert alert-info\"><b>Kraj</b></div></br>"
   ]
  }
 ],
 "metadata": {
  "kernelspec": {
   "display_name": "Python 3",
   "language": "python",
   "name": "python3"
  },
  "language_info": {
   "codemirror_mode": {
    "name": "ipython",
    "version": 3
   },
   "file_extension": ".py",
   "mimetype": "text/x-python",
   "name": "python",
   "nbconvert_exporter": "python",
   "pygments_lexer": "ipython3",
   "version": "3.7.3"
  }
 },
 "nbformat": 4,
 "nbformat_minor": 2
}
