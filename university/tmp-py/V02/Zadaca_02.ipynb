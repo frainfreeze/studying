{
 "cells": [
  {
   "cell_type": "markdown",
   "metadata": {},
   "source": [
    "<img src=\"Slike/vua.png\">"
   ]
  },
  {
   "cell_type": "markdown",
   "metadata": {},
   "source": [
    "# Zadaća\n",
    "Kopirajte program koji ste napravili za majice.  \n",
    "Napravite izmjene tako da funkcija radi ako pošaljemo samo boju majice.  \n",
    "Kada nemamo veličinu, postavite neku unaprijed definiranu vrijednost.  \n",
    "Jednako tako, ako nema teksta, postavite unaprijed definirani tekst koji se treba ispisati.  \n",
    "Pokušajte pozvati funkciju korištenjem različitih argumenata te ispuštanjem pojedinih unaprijed definiranih parametara."
   ]
  },
  {
   "cell_type": "code",
   "execution_count": null,
   "metadata": {},
   "outputs": [],
   "source": []
  },
  {
   "cell_type": "markdown",
   "metadata": {},
   "source": [
    "<br><div class=\"alert alert-info\"><b></b></div></br>"
   ]
  },
  {
   "cell_type": "markdown",
   "metadata": {},
   "source": [
    "Napišite funkciju opisi_grad koja prihvaća grad i državu u kojoj se on nalazi.  \n",
    "Funkcija treba ispisati jednostavne poruke poput „Zagreb se nalazi u Republici Hrvatskoj.“  \n",
    "Program treba tražiti od korisnika da upiše grad i državu te nakon unosa pozvati funkciju.\n"
   ]
  },
  {
   "cell_type": "code",
   "execution_count": null,
   "metadata": {},
   "outputs": [],
   "source": []
  }
 ],
 "metadata": {
  "kernelspec": {
   "display_name": "Python 3",
   "language": "python",
   "name": "python3"
  },
  "language_info": {
   "codemirror_mode": {
    "name": "ipython",
    "version": 3
   },
   "file_extension": ".py",
   "mimetype": "text/x-python",
   "name": "python",
   "nbconvert_exporter": "python",
   "pygments_lexer": "ipython3",
   "version": "3.7.3"
  }
 },
 "nbformat": 4,
 "nbformat_minor": 2
}
