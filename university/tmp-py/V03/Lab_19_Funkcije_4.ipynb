{
 "cells": [
  {
   "cell_type": "markdown",
   "metadata": {},
   "source": [
    "<img src=\"Slike/vua.png\">"
   ]
  },
  {
   "cell_type": "markdown",
   "metadata": {},
   "source": [
    "# Funkcije - nastavak\n",
    "\n",
    "Ponekad pri pozivanju funkcija ne znamo unaprijed koliko argumenata će se\n",
    "proslijediti pa možemo koristiti mogućnost *Python*a da definiramo funkciju koja\n",
    "prihvaća bilo koji broj argumenata. Primjerice, imamo funkciju koja izrađuje\n",
    "sendvič. Ne znamo unaprijed sadržaj sendviča i koliko različitih sastojaka će\n",
    "ići u sendvič. Ako kod definiranja funkcije u nazivu parametra stavimo znak\n",
    "**\\*** *Python* će dodijeliti sve parametre koje stavimo u torku (*tupl*)."
   ]
  },
  {
   "cell_type": "code",
   "execution_count": null,
   "metadata": {},
   "outputs": [],
   "source": [
    "def napravi_sendvic (*sastojci):\n",
    "    '''Ispisuje sastojke sendviča'''\n",
    "    print(sastojci)\n",
    "napravi_sendvic('šunka', 'sir')\n",
    "napravi_sendvic('šunka', 'sir', 'salata')\n",
    "napravi_sendvic('pršut')"
   ]
  },
  {
   "cell_type": "markdown",
   "metadata": {},
   "source": [
    "Asterisk (**\\***) na početku imena parametra kaže *Python*u da napravi torku i u\n",
    "nju spremi sve argumente koji su poslani kod poziva funkcije. U našem primjeru\n",
    "\\**sastojci* sadrže torku sa svim argumentima. Uočite da *Python* uvijek sve\n",
    "sprema u torku, čak i u slučaju da pošaljemo samo jedan element. Promijenimo\n",
    "sada kôd tako da ne ispisuje torku nego svaki pojedini element."
   ]
  },
  {
   "cell_type": "code",
   "execution_count": null,
   "metadata": {},
   "outputs": [],
   "source": [
    "def napravi_sendvic (*sastojci):\n",
    "    '''Ispisuje sastojke sendviča'''\n",
    "    print ('\\nPripremam sendvič sljedećeg sadržaja:')\n",
    "    for element in sastojci:\n",
    "        print('-' + element)\n",
    "napravi_sendvic('šunka', 'sir')\n",
    "napravi_sendvic('pršut')\n",
    "napravi_sendvic('šunka', 'sir', 'salata')"
   ]
  },
  {
   "cell_type": "markdown",
   "metadata": {},
   "source": [
    "Kada želimo definirati funkciju koja prima argumente po pozicijskom i imenskom\n",
    "rasporedu i još želimo omogućiti da neki od parametara može primiti više\n",
    "vrijednosti, parametar koji prihvaća više elemenata mora biti zadnji na popisu.\n",
    "*Python* prvo prihvaća argumente i mapira ih na parametre po pozicijskom i\n",
    "imenskom redoslijedu, a ostatak dodaje u zadnji parametar koji prihvaća više\n",
    "vrijednosti. Primjerice, ako želimo u funkciju dodati da prihvaća i argument\n",
    "koji označava veličinu sendviča, parametar za sadržaj mora doći na zadnje mjesto\n",
    "kod definicije funkcije."
   ]
  },
  {
   "cell_type": "code",
   "execution_count": null,
   "metadata": {},
   "outputs": [],
   "source": [
    "def napravi_sendvic (velicina, *sastojci):\n",
    "    '''Ispisuje sastojke sendviča'''\n",
    "    print ('\\nPripremam ' + velicina +' sendvič sljedećeg sadržaja:')\n",
    "    for element in sastojci:\n",
    "        print('-' + element)\n",
    "    \n",
    "napravi_sendvic('veliki', 'šunka', 'sir')\n",
    "napravi_sendvic('srednji', 'pršut')\n",
    "napravi_sendvic('mali', 'šunka', 'sir', 'salata')"
   ]
  },
  {
   "cell_type": "markdown",
   "metadata": {},
   "source": [
    "Kod poziva funkcije *Python* sprema prvi argument u varijablu *velicina*, a\n",
    "ostatak u torku."
   ]
  },
  {
   "cell_type": "markdown",
   "metadata": {},
   "source": [
    "Nekad želimo prihvatiti promjenjivi broj elemenata, ali ne znamo unaprijed koje\n",
    "argumente ćemo dobiti. U tom slučaju možemo napisati funkciju koja prima sve\n",
    "argumente koje pozivatelj šalje kod pozivanja. Primjerice, trebamo napraviti\n",
    "korisnički profil, ali nismo sigurni koje će podatke korisnik unijeti u obrazac.\n",
    "Napravit ćemo funkcije *napravi_profil* koja uvijek prima ime i prezime i bilo\n",
    "koji broj argumenata koji moraju imati ključ koji definira što predstavljaju."
   ]
  },
  {
   "cell_type": "code",
   "execution_count": null,
   "metadata": {},
   "outputs": [],
   "source": [
    "def napravi_profil(ime, prezime, **informacije):\n",
    "    '''Napravi rječnik s informacijama o korisniku'''\n",
    "    profil = {}\n",
    "    profil['ime'] = ime\n",
    "    profil['prezime'] = prezime\n",
    "    for kljuc, vrijednost in informacije.items():\n",
    "        profil[kljuc] = vrijednost\n",
    "    return (profil)\n",
    "\n",
    "korisnicki_profile = napravi_profil('albert', 'einstein', lokacija = 'princeton', polje = 'fizika')\n",
    "\n",
    "print (korisnicki_profile)"
   ]
  },
  {
   "cell_type": "markdown",
   "metadata": {},
   "source": [
    "Kod pozivanja funkcija koje imaju mnogo parametara često se koristi i\n",
    "ispisivanje poziva u više redaka pa je poziv lakše čitljiv."
   ]
  },
  {
   "cell_type": "code",
   "execution_count": null,
   "metadata": {},
   "outputs": [],
   "source": [
    "def napravi_profil(ime, prezime, **informacije):\n",
    "    '''Napravi rječnik s informacijama o korisniku'''\n",
    "    profil = {}\n",
    "    profil['ime'] = ime\n",
    "    profil['prezime'] = prezime\n",
    "    for kljuc, vrijednost in informacije.items():\n",
    "        profil[kljuc] = vrijednost\n",
    "    return (profil)\n",
    "\n",
    "korisnicki_profile = napravi_profil('albert', \n",
    "                                    'einstein', \n",
    "                                    lokacija = 'princeton', \n",
    "                                    polje = 'fizika'\n",
    "                                   )\n",
    "\n",
    "print (korisnicki_profile)"
   ]
  },
  {
   "cell_type": "markdown",
   "metadata": {},
   "source": [
    "Naša funkcija očekuje ime i prezime kao obavezne argumente kod poziva i.\n",
    "opcionalno. bilo koji broj dodatnih imenovanih vrijednosti. Dvostruki asterisk\n",
    "\\*\\*informacije u nazivu parametra oznaka je *Pythonu* da napravi rječnik imena\n",
    "*informacije* i u njega pospremi sve imenovane vrijednosti. U samoj funkciji\n",
    "onda pristupamo parovima ključ-vrijednost kao i kod bilo kojeg rječnika. Vraćeni\n",
    "rječnik sadrži ključeve *ime* i *prezime* i sve druge vrijednosti koje pošaljemo\n",
    "kao ključeve kod poziva, bez obzira na to koliko ih ima, odnosno na to ima li ih\n",
    "uopće. Kada pišemo program, možemo koristiti različite načine definiranja\n",
    "parametara u funkcijama. Dobro je znati da ti načini postoje i kako rade jer\n",
    "ćemo ih susretati kod čitanja programa koje je neko drugi napisao. U samim\n",
    "početcima najbolje je koristiti najjednostavniji način koji omogućuje da program\n",
    "izvršava svoj zadatak. Kad napredujete, naučit ćete kako koristiti najefikasniji\n",
    "način.\n"
   ]
  },
  {
   "cell_type": "markdown",
   "metadata": {},
   "source": [
    "<br><div class=\"alert alert-info\"><b>Vježba</b></div>"
   ]
  },
  {
   "cell_type": "markdown",
   "metadata": {},
   "source": [
    "Napišite funkciju koja prihvaća listu dodatne opreme kod kupovine automobila.  \n",
    "Funkcija treba imati jedan parametar koji prihvaća bilo koji broj argumenata.  \n",
    "Funkcija treba ispisati svu dodatnu opremu.  \n",
    "Pozovite funkciju više puta s različitim brojem argumenata."
   ]
  },
  {
   "cell_type": "code",
   "execution_count": null,
   "metadata": {},
   "outputs": [],
   "source": []
  },
  {
   "cell_type": "markdown",
   "metadata": {},
   "source": [
    "Kopirajte funkciju *napravi_profil* i pozovite je tako da proslijedite svoje ime i prezime i još tri vrijednosti koje vas opisuju."
   ]
  },
  {
   "cell_type": "code",
   "execution_count": null,
   "metadata": {},
   "outputs": [],
   "source": []
  },
  {
   "cell_type": "markdown",
   "metadata": {},
   "source": [
    "Napravite funkciju koja sprema informacije o automobilu u rječnik.  \n",
    "Funkcija uvijek mora primiti proizvođača i model i, opcionalno, dodatne argumente s ključevima poput boje, broja vrata ili dostupnosti (*True/False*).  \n",
    "Funkcija treba odgovoriti na upit poput:\n",
    "```python\n",
    "aut = definiraj_auto('mercedes', 'S500', boja = 'plava', broj_vrata = 4, dostupnost = True)\n",
    "```\n",
    "Nakon poziva funkcije ispišite sadržaj rječnika da provjerite odgovara li vrijednostima iz poziva funkcije."
   ]
  },
  {
   "cell_type": "code",
   "execution_count": null,
   "metadata": {},
   "outputs": [],
   "source": []
  },
  {
   "cell_type": "markdown",
   "metadata": {},
   "source": [
    "<br><div class=\"alert alert-info\"><b>Kraj</b></div>"
   ]
  }
 ],
 "metadata": {
  "kernelspec": {
   "display_name": "Python 3",
   "language": "python",
   "name": "python3"
  },
  "language_info": {
   "codemirror_mode": {
    "name": "ipython",
    "version": 3
   },
   "file_extension": ".py",
   "mimetype": "text/x-python",
   "name": "python",
   "nbconvert_exporter": "python",
   "pygments_lexer": "ipython3",
   "version": "3.7.3"
  }
 },
 "nbformat": 4,
 "nbformat_minor": 2
}
