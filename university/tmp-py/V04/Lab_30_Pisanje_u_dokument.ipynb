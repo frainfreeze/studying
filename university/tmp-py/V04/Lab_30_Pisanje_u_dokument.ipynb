{
 "cells": [
  {
   "cell_type": "markdown",
   "metadata": {},
   "source": [
    "<img src=\"Slike/vua.png\">"
   ]
  },
  {
   "cell_type": "markdown",
   "metadata": {},
   "source": [
    "# Pisanje u dokument\n",
    "Jedan od najjednostavnijih načina za spremanje podataka je zapisivanje u\n",
    "datoteku. Kada tekst pišete u datoteku, izlaz će i dalje biti dostupan nakon što\n",
    "zatvorite program. Izlazne datoteke možete dijeliti i s drugima. Također, možete\n",
    "napisati program koji ponovno učitava spremljenu datoteku u memoriju i radi s\n",
    "njom. Za pisanje teksta u datoteku, moramo pozvati funkciju *open()* te, osim\n",
    "naziva (putanje+naziva) datoteke, proslijediti i drugi argument koji Pythonu\n",
    "definira da želimo pisati. Da vidimo kako to funkcionira, napišimo jednostavnu\n",
    "poruku i pohranimo je u datoteku umjesto da je ispišemo na zaslon."
   ]
  },
  {
   "cell_type": "code",
   "execution_count": null,
   "metadata": {},
   "outputs": [],
   "source": [
    "datoteka = 'programiranje.txt'\n",
    "with open(datoteka, 'w') as file_object:\n",
    "    file_object.write(\"Volim programirati.\")"
   ]
  },
  {
   "cell_type": "markdown",
   "metadata": {},
   "source": [
    "Kod pozivanja funkcije *open()* u ovom primjeru imamo dva argumenta. Prvi\n",
    "argument je i dalje naziv datoteke koju želimo otvoriti, a drugi argument je\n",
    "tekst 'w' koji definira da želimo otvoriti datoteku u načinu rada koji omogućuje\n",
    "pisanje. Datoteku možemo otvoriti u načinu čitanja ('r'), načinu pisanja ('w'),\n",
    "načinu dodavanja ('a') ili načinu koji omogućuje čitanje i pisanje u datoteku\n",
    "('r+'). Ako izostavite argument, Python otvara datoteku samo za čitanje te zato\n",
    "prije nije bio potreban. Funkcija *open()* automatski stvara datoteku, ako ona\n",
    "već ne postoji. Budite oprezni pri otvaranju datoteke u načinu pisanja ('w'),\n",
    "jer će Python izbrisati datoteku, ako ona već postoji. Nakon toga koristimo\n",
    "metodu *write()* na objektu datoteke i zapisujemo definirani tekst. Ovaj program\n",
    "ništa ne ispisuje pa, ako želimo provjeriti je li uistinu i zapisao tekst,\n",
    "možemo u mapi *Dan 4* provjeriti je li se pojavila nova datoteka te je otvoriti\n",
    "i pogledati sadržaj ili uz pomoć znanja s prethodnih vježbi učitati datoteku i\n",
    "ispisati sadržaj. Python može samo spremati tekst u datoteku i, ako imamo\n",
    "brojčane vrijednosti, moramo iskoristiti funkciju *str()* da ih pretvorimo u\n",
    "tekst."
   ]
  },
  {
   "cell_type": "markdown",
   "metadata": {},
   "source": [
    "Funkcija *write()* ne dodaje nove retke te, ako je ponovimo više puta, datoteka\n",
    "možda neće izgledati onako kako želimo:"
   ]
  },
  {
   "cell_type": "code",
   "execution_count": null,
   "metadata": {},
   "outputs": [],
   "source": [
    "datoteka = 'programiranje.txt'\n",
    "with open(datoteka, 'w') as file_object:\n",
    "    file_object.write(\"Volim programirati.\")\n",
    "    file_object.write(\"Volim Python.\")"
   ]
  },
  {
   "cell_type": "markdown",
   "metadata": {},
   "source": [
    "Rezultat je možda neočekivan jer je sve u jednom retku. Ako želimo dodati novi\n",
    "redak, moramo proslijediti specijalni znak **\\\\n**."
   ]
  },
  {
   "cell_type": "code",
   "execution_count": null,
   "metadata": {},
   "outputs": [],
   "source": [
    "datoteka = 'programiranje.txt'\n",
    "with open(datoteka, 'w') as file_object:\n",
    "    file_object.write(\"Volim programirati.\\n\")\n",
    "    file_object.write(\"Volim Python.\\n\")"
   ]
  },
  {
   "cell_type": "markdown",
   "metadata": {},
   "source": [
    "Ako želimo dodati sadržaj u datoteku, a ne napisati ga preko postojećeg\n",
    "sadržaja, datoteku možemo otvoriti u načinu dodavanja ('a'). Kada otvorimo\n",
    "datoteku u načinu dodavanja, Python ne briše datoteku. Sve linije koje zapišemo\n",
    "u datoteku bit će dodane na kraju datoteke. Ako datoteka još ne postoji, Python\n",
    "će kreirati praznu datoteku. Izmijenimo *programiranje.txt* dodavanjem novih\n",
    "tekstova."
   ]
  },
  {
   "cell_type": "code",
   "execution_count": null,
   "metadata": {},
   "outputs": [],
   "source": [
    "datoteka = 'programiranje.txt'\n",
    "with open(datoteka, 'a') as file_object:\n",
    "    file_object.write(\"Volim i pronalaziti greške.\\n\")\n",
    "    file_object.write(\"Volim raditi web aplikacije.\\n\")"
   ]
  },
  {
   "cell_type": "markdown",
   "metadata": {},
   "source": [
    "<br><div class=\"alert alert-info\"><b>Vježba</b></div></br>"
   ]
  },
  {
   "cell_type": "markdown",
   "metadata": {},
   "source": [
    "Napravite program koji od korisnika traži da upiše ime.  \n",
    "Kada završi s upisom, zapišite to ime u datoteku *gosti.txt*."
   ]
  },
  {
   "cell_type": "code",
   "execution_count": null,
   "metadata": {},
   "outputs": [],
   "source": []
  },
  {
   "cell_type": "markdown",
   "metadata": {},
   "source": [
    "Napravite program u kojem u petlji tražite od korisnika da upiše ime.  \n",
    "Osigurajte da postoji opcija za izlazak iz petlje.  \n",
    "Kada korisnik upiše ime, zapišite ga u datoteku *popis_gostiju.txt*.  \n",
    "Svaki gost treba biti u zasebnom retku."
   ]
  },
  {
   "cell_type": "code",
   "execution_count": null,
   "metadata": {},
   "outputs": [],
   "source": []
  },
  {
   "cell_type": "markdown",
   "metadata": {},
   "source": [
    "<br><div class=\"alert alert-info\"><b>Kraj</b></div></br>"
   ]
  }
 ],
 "metadata": {
  "kernelspec": {
   "display_name": "Python 3",
   "language": "python",
   "name": "python3"
  },
  "language_info": {
   "codemirror_mode": {
    "name": "ipython",
    "version": 3
   },
   "file_extension": ".py",
   "mimetype": "text/x-python",
   "name": "python",
   "nbconvert_exporter": "python",
   "pygments_lexer": "ipython3",
   "version": "3.7.3"
  }
 },
 "nbformat": 4,
 "nbformat_minor": 2
}
