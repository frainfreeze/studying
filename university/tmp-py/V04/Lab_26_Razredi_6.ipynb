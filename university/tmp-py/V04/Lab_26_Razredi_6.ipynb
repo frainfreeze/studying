{
 "cells": [
  {
   "cell_type": "markdown",
   "metadata": {},
   "source": [
    "<img src=\"Slike/vua.png\">"
   ]
  },
  {
   "cell_type": "markdown",
   "metadata": {},
   "source": [
    "# Razredi - učitavanje iz datoteka\n",
    "\n",
    "Kako dodajemo više funkcionalnosti svojim razredima, datoteke s programom mogu\n",
    "postati jako dugačke, čak i kada pravilno koristimo nasljeđivanje. U skladu s\n",
    "cjelokupnom filozofijom Pythona, želite da datoteke budu što urednije. Python\n",
    "omogućuje pohranjivanje razreda u module (datoteke), te učitavanje razreda koji\n",
    "su potrebni u glavni program. U mapi *Dan 4* imamo datoteku *auto.py*. Ako je\n",
    "otvorimo, vidimo da je prazna pa je potrebno kopirati kod koji se nalazi u\n",
    "ćeliji ispod."
   ]
  },
  {
   "cell_type": "code",
   "execution_count": null,
   "metadata": {},
   "outputs": [],
   "source": [
    "\"\"\" Razred za opis automobila\"\"\"\n",
    "class Auto():\n",
    "    \"\"\"Jednostavan razred automobila.\"\"\"\n",
    "    def __init__(self, marka, model, godina):\n",
    "        \"\"\"Inicijalizacija atributa koji opisuju automobil.\"\"\"\n",
    "        self.marka = marka\n",
    "        self.model = model\n",
    "        self.godina = godina\n",
    "        self.kilometara = 0\n",
    "    def podaci(self):\n",
    "        \"\"\"Vraća objedinjenje podatke.\"\"\"\n",
    "        ime = str(self.godina) + ' ' + self.marka + ' ' + self.model\n",
    "        return ime.title()\n",
    "    def procitaj_kilometre(self):\n",
    "        \"\"\"Ispisuje stanje kilometara.\"\"\"\n",
    "        print(\"Automobil ima \" + str(self.kilometara) + \" prijeđenih kilometara.\")\n",
    "    def osvjezi_kilometre(self, kilometri):\n",
    "        \"\"\"\n",
    "        Postavi kilometara na proslijeđenu vrijednost\n",
    "        Ne dozvoli vraćanje kilometara\n",
    "        \"\"\"\n",
    "        if kilometri >= self.kilometara:\n",
    "            self.kilometara = kilometri\n",
    "        else:\n",
    "            print('Ne možeš vraćati kilometre na automobilu')\n",
    "    def povecaj_kilometre(self, kilometri):\n",
    "        \"\"\"Dodaj kilometre.\"\"\"\n",
    "        self.kilometara += kilometri"
   ]
  },
  {
   "cell_type": "markdown",
   "metadata": {},
   "source": [
    "Sada u njoj imamo razred *Auto*. Jedino što smo dodali kao komentar na početku\n",
    "je opis modula. Taj opis je poželjno staviti u sve module koje napravimo da\n",
    "možemo jednostavnije shvatiti što pojedini modul radi. Prije nego nastavimo,\n",
    "izaberimo u izborniku **File** opciju **Save** da se promjene spreme. Sada\n",
    "možemo učitati modul i koristiti razred iz datoteke, a glavni će program ostati\n",
    "čitljiv i jednostavan.\n",
    "\n",
    "**Da bismo osigurali da Python ponovno učita modul nakon promjene, odaberimo\n",
    "opciju Kernel u izborniku i Restart, što će osigurati da Python zaboravi\n",
    "prethodne korake.**"
   ]
  },
  {
   "cell_type": "code",
   "execution_count": null,
   "metadata": {},
   "outputs": [],
   "source": [
    "from auto import Auto\n",
    "\n",
    "automobil = Auto('audi', 'a4', 2018)\n",
    "print(automobil.podaci())\n",
    "automobil.kilometara = 23\n",
    "automobil.procitaj_kilometre()"
   ]
  },
  {
   "cell_type": "markdown",
   "metadata": {},
   "source": [
    "U prvoj liniji Python iz modula *auto* učitava razred *Auto*. Rezultat je\n",
    "identičan kao da se kôd iz datoteke *auto* nalazio umjesto te linije koda. U\n",
    "nastavku programa koristimo razred kao da je dio programa. Učitavanje razreda\n",
    "učinkovit je način za programiranje. Zamislite koliko bi ovaj program bio\n",
    "kompliciraniji i duži da se u njemu nalazi kod cijelog razreda. Umjesto toga,\n",
    "razred smo spremili u modul i učitali u glavni program te zadržali istu\n",
    "funkcionalnost. Kada radimo na složenijem programu, uvijek možemo pojedine\n",
    "probleme razložiti na manje i, nakon što riješimo pojedini dio, spremiti taj dio\n",
    "u modul da nam više ne privlači pažnju te se usredotočiti na logiku više razine\n",
    "glavnog programa."
   ]
  },
  {
   "cell_type": "markdown",
   "metadata": {},
   "source": [
    "Unutar jednog modula možemo pohraniti više razreda. Praksa je da unutar jednog\n",
    "modula imamo razrede koji su nekako povezani. Naši razredi *Baterija* i\n",
    "*ElektričniAuto* pomažu u predstavljanju automobila, pa ih možemo dodati u\n",
    "auto.py. Ponovno otvorite auto.py te na kraj dodajte kod naveden ispod."
   ]
  },
  {
   "cell_type": "code",
   "execution_count": null,
   "metadata": {},
   "outputs": [],
   "source": [
    "class Baterija():\n",
    "    \"\"\"Razred za opis baterije.\"\"\"\n",
    "    def __init__(self, velicina_baterije=70):\n",
    "        \"\"\"Inicijalizacija baterije.\"\"\"\n",
    "        self.velicina_baterije = velicina_baterije\n",
    "    def opisi_bateriju(self):\n",
    "        \"\"\"Ispisi informacije o bateriji.\"\"\"\n",
    "        print(\"Ovaj automobil ima \"+str(self.velicina_baterije)+\"-kWh bateriju.\")\n",
    "    def domet(self):\n",
    "        \"\"\"Ispisi domet automobila.\"\"\"\n",
    "        print(\"Ovaj automobil ima domet\" + str(self.velicina_baterije * 4) + \" km.\")\n",
    "\n",
    "class ElektricniAuto(Auto):\n",
    "    \"\"\"Razred prilagođen za električne automobile.\"\"\"\n",
    "    def __init__(self, marka, model, godina):\n",
    "        \"\"\"\n",
    "        Inicijalizacija atributa baznog razreda.\n",
    "        Dodavanje atributa za bateriju.\n",
    "        \"\"\"\n",
    "        super().__init__(marka, model, godina)\n",
    "        self.baterija = Baterija()"
   ]
  },
  {
   "cell_type": "markdown",
   "metadata": {},
   "source": [
    "Ponovno uz pomoć opcije **Save** spremite promjene."
   ]
  },
  {
   "cell_type": "code",
   "execution_count": null,
   "metadata": {},
   "outputs": [],
   "source": [
    "from auto import ElektricniAuto\n",
    "automobil = ElektricniAuto('tesla', 'model s', 2018)\n",
    "print(automobil.podaci())\n",
    "automobil.baterija.opisi_bateriju()\n",
    "automobil.baterija.domet()"
   ]
  },
  {
   "cell_type": "markdown",
   "metadata": {},
   "source": [
    "Izlaz je jednak kao i prije, ali je sva logika skrivena u modulu. U program\n",
    "možemo učitati više razreda. Primjerice, ako želimo napraviti običan automobil i\n",
    "električni automobil u istom programu, moramo učitati oba razreda."
   ]
  },
  {
   "cell_type": "code",
   "execution_count": null,
   "metadata": {},
   "outputs": [],
   "source": [
    "from auto import Auto, ElektricniAuto\n",
    "\n",
    "automobil1 = ElektricniAuto('tesla', 'model s', 2018)\n",
    "print(automobil1.podaci())\n",
    "\n",
    "automobil2 = Auto('Mercedes', 'A200', 2017)\n",
    "print(automobil2.podaci())\n"
   ]
  },
  {
   "cell_type": "markdown",
   "metadata": {},
   "source": [
    "Kada želimo učitati više razreda iz jednog modula, koristimo zarez da ih\n",
    "odvojimo. Jednako tako, imamo mogućnost učitati i cijeli modul i tada možemo\n",
    "koristiti sve razrede iz modula korištenjem notacije\n",
    "*naziv_modula.naziv_razreda*. Ova notacija pomaže da osiguramo da se ne dogodi\n",
    "konflikt s imenovanjem u različitim modulima ili s već definiranim funkcijama i\n",
    "razredima unutar glavnog programa."
   ]
  },
  {
   "cell_type": "code",
   "execution_count": null,
   "metadata": {},
   "outputs": [],
   "source": [
    "import auto\n",
    "automobil1 = auto.ElektricniAuto('tesla', 'model s', 2018)\n",
    "print(automobil1.podaci())\n",
    "\n",
    "automobil2 = auto.Auto('Mercedes', 'A200', 2017)\n",
    "print(automobil2.podaci())"
   ]
  },
  {
   "cell_type": "markdown",
   "metadata": {},
   "source": [
    "Ako pažljivo pogledate, uočit ćete da postoji razlika kada učitavamo pojedini\n",
    "razred ili cijeli modul. Kod pojedinih razreda možemo jednostavno koristiti\n",
    "naziv razreda, a kad učitavamo cijeli modul, moramo dodati naziv modula i točku\n",
    "ispred naziva. Iako se to ne bi trebalo koristiti, možemo učitati i sve razrede\n",
    "iz modula tako da ne moramo koristiti naziv modula kod pozivanja."
   ]
  },
  {
   "cell_type": "code",
   "execution_count": null,
   "metadata": {},
   "outputs": [],
   "source": [
    "from auto import *\n",
    "\n",
    "automobil1 = ElektricniAuto('tesla', 'model s', 2018)\n",
    "print(automobil1.podaci())\n",
    "\n",
    "automobil2 = Auto('Mercedes', 'A200', 2017)\n",
    "print(automobil2.podaci())"
   ]
  },
  {
   "cell_type": "markdown",
   "metadata": {},
   "source": [
    "Ponekad je potrebno iz pojedinog modula koristiti druge module, da bismo\n",
    "smanjili veličinu datoteka i povećali čitljivost. Primjerice, ostavimo u\n",
    "dokumentu auto.py samo razred *Auto,* a druga dva ćemo kopirati u datoteku\n",
    "elektricniauto.py. Na vrh novog dokumenta dodajte opis \"\"\"Razred za opis\n",
    "elektricnih automobila\"\"\". Nakon toga dodajte novu liniju i napišite:\n",
    "```python\n",
    "from auto import Auto\n",
    "```  \n",
    "te spremite dokument."
   ]
  },
  {
   "cell_type": "code",
   "execution_count": null,
   "metadata": {},
   "outputs": [],
   "source": [
    "from elektricniauto import ElektricniAuto\n",
    "\n",
    "automobil1 = ElektricniAuto('tesla', 'model s', 2018)\n",
    "print(automobil1.podaci())\n"
   ]
  },
  {
   "cell_type": "markdown",
   "metadata": {},
   "source": [
    "Kao što možemo vidjeti, Python daje mnogo mogućnosti za strukturiranje koda u\n",
    "velikim projektima. Važno ih je znati, kako bismo mogli izabrati najbolji način\n",
    "za svoje projekte te razumjeti projekte drugih programera. U početku, zadržimo\n",
    "jednostavnu strukturu koda. Napravimo sve u jednoj datoteci dok pojedini\n",
    "dijelovi ne budu u potpunosti gotovi te ih onda premjestimo u odvojene module.\n",
    "Cilj je pronaći pristup koji omogućuje da pišemo kod koji radi, a onda ga\n",
    "uljepšati i optimizirati."
   ]
  },
  {
   "cell_type": "markdown",
   "metadata": {},
   "source": [
    "<br><div class=\"alert alert-info\"><b>Vježba</b></div></br>"
   ]
  },
  {
   "cell_type": "markdown",
   "metadata": {},
   "source": [
    "Kopirajte razred *Restoran* i pohranite je u modul.  \n",
    "Napišite kod koji učitava modul.  \n",
    "Napravite instancu restorana i pozovite jednu od metoda klase *Restoran* kako biste bili sigurni da učitavanje radi."
   ]
  },
  {
   "cell_type": "code",
   "execution_count": null,
   "metadata": {},
   "outputs": [],
   "source": []
  },
  {
   "cell_type": "markdown",
   "metadata": {},
   "source": [
    "Iz posljednjeg primjera s korisnicima pohranite razred *Korisnik*, *Privilegije* i *Admin* u jedan modul.  \n",
    "Napravite instancu administratora i pozovite metodu *prikaži_privilegije()* kako biste bili sigurni da učitavanje radi."
   ]
  },
  {
   "cell_type": "code",
   "execution_count": null,
   "metadata": {},
   "outputs": [],
   "source": []
  },
  {
   "cell_type": "markdown",
   "metadata": {},
   "source": [
    "Prilagodite zadnji zadatak tako da razred *Korisnik* spremite u jedan, a *Privilegije* i *Admin* u drugi modul.  \n",
    "Napravite instancu administrator i pozovite metodu *prikaži_privilegije()* kako biste bili sigurni da učitavanje radi."
   ]
  },
  {
   "cell_type": "code",
   "execution_count": null,
   "metadata": {},
   "outputs": [],
   "source": []
  },
  {
   "cell_type": "markdown",
   "metadata": {},
   "source": [
    "<br><div class=\"alert alert-info\"><b>Kraj</b></div></br>"
   ]
  }
 ],
 "metadata": {
  "kernelspec": {
   "display_name": "Python 3",
   "language": "python",
   "name": "python3"
  },
  "language_info": {
   "codemirror_mode": {
    "name": "ipython",
    "version": 3
   },
   "file_extension": ".py",
   "mimetype": "text/x-python",
   "name": "python",
   "nbconvert_exporter": "python",
   "pygments_lexer": "ipython3",
   "version": "3.7.3"
  }
 },
 "nbformat": 4,
 "nbformat_minor": 2
}
