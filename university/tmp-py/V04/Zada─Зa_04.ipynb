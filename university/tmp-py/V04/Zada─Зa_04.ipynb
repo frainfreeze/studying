{
 "cells": [
  {
   "cell_type": "markdown",
   "metadata": {},
   "source": [
    "<img src=\"Slike/vua.png\">"
   ]
  },
  {
   "cell_type": "markdown",
   "metadata": {},
   "source": [
    "# Zadaća\n",
    "Napišite program koji radi kao kalkulator.  \n",
    "Program se treba izvršavati bez prekida, osim u slučaju kada korisnik unese slovo *q*.  \n",
    "Koristite provjere korisničkog unosa.  \n",
    "Program treba kreirati datoteku u koju će zapisivati sve računske operacije koje su izvršene kalkulatorom.  \n",
    "Program treba kreirati i drugu datoteku u koju će zapisati pokretanje programa, izlazak iz programa i svi krive\n",
    "unose korisnika.  \n",
    "U obje datoteke prije svakog zapisa dodajte datum i vrijeme kada se radnja dogodila.  \n",
    "https://www.saltycrane.com/blog/2008/06/how-to-get-current-date-and-time-in\n",
    "\n"
   ]
  },
  {
   "cell_type": "code",
   "execution_count": null,
   "metadata": {},
   "outputs": [],
   "source": []
  },
  {
   "cell_type": "markdown",
   "metadata": {},
   "source": [
    "<br><div class=\"alert alert-info\"><b></b></div></br>"
   ]
  }
 ],
 "metadata": {
  "kernelspec": {
   "display_name": "Python 3",
   "language": "python",
   "name": "python3"
  },
  "language_info": {
   "codemirror_mode": {
    "name": "ipython",
    "version": 3
   },
   "file_extension": ".py",
   "mimetype": "text/x-python",
   "name": "python",
   "nbconvert_exporter": "python",
   "pygments_lexer": "ipython3",
   "version": "3.7.3"
  }
 },
 "nbformat": 4,
 "nbformat_minor": 2
}
