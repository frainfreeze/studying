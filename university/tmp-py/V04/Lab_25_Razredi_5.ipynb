{
 "cells": [
  {
   "cell_type": "markdown",
   "metadata": {},
   "source": [
    "<img src=\"Slike/vua.png\">"
   ]
  },
  {
   "cell_type": "markdown",
   "metadata": {},
   "source": [
    "# Klase - nastavak\n",
    "\n",
    "### Instance kao atributi\n",
    "Kada opisujemo nešto iz stvarnog svijeta, u razred ćemo dodavati sve više\n",
    "detalja. Kada količina atributa i metoda postane prevelika, teško je pratiti što\n",
    "se sve nalazi unutar razreda. U tim situacijama možete dio jednog razreda\n",
    "napisati kao zaseban razred, odnosno veliki razred možemo razbiti u manje\n",
    "razrede koji rade zajedno. Primjerice, ako nastavimo dodavati elemente u razred\n",
    "*ElektricniAuto*, možemo grupirati atribute i metode specifične za bateriju\n",
    "automobila te ih sve premjestiti u zasebni razred pod nazivom *Baterija*. Tada\n",
    "možemo koristiti instancu *baterija* kao atribut u razredu *ElektricniAuto*:"
   ]
  },
  {
   "cell_type": "code",
   "execution_count": null,
   "metadata": {},
   "outputs": [],
   "source": [
    "class Auto():\n",
    "    \"\"\"Jednostavan razred automobila.\"\"\"\n",
    "    def __init__(self, marka, model, godina):\n",
    "        \"\"\"Inicijalizacija atributa koji opisuju automobil.\"\"\"\n",
    "        self.marka = marka\n",
    "        self.model = model\n",
    "        self.godina = godina\n",
    "        self.kilometara = 0\n",
    "    def podaci(self):\n",
    "        \"\"\"Vraća objedinjenje podatke.\"\"\"\n",
    "        ime = str(self.godina) + ' ' + self.marka + ' ' + self.model\n",
    "        return ime.title()\n",
    "    def procitaj_kilometre(self):\n",
    "        \"\"\"Ispisuje stanje kilometara.\"\"\"\n",
    "        print(\"Automobil ima \" + str(self.kilometara) + \" prijeđenih kilometara.\")\n",
    "    def osvjezi_kilometre(self, kilometri):\n",
    "        \"\"\"\n",
    "        Postavi kilometara na proslijeđenu vrijednost\n",
    "        Ne dozvoli vraćanje kilometara\n",
    "        \"\"\"\n",
    "        if kilometri >= self.kilometara:\n",
    "            self.kilometara = kilometri\n",
    "        else:\n",
    "            print('Ne možeš vraćati kilometre na automobilu')\n",
    "    def povecaj_kilometre(self, kilometri):\n",
    "        \"\"\"Dodaj kilometre.\"\"\"\n",
    "        self.kilometara += kilometri\n",
    "class Baterija():\n",
    "    \"\"\"Razred za opis baterije.\"\"\"\n",
    "    def __init__(self, velicina_baterije=70):\n",
    "        \"\"\"Inicijalizacija baterije.\"\"\"\n",
    "        self.velicina_baterije = velicina_baterije\n",
    "    def opisi_bateriju(self):\n",
    "        \"\"\"Ispisi informacije o bateriji.\"\"\"\n",
    "        print(\"Ovaj automobil ima \"+str(self.velicina_baterije) +\"-kWh bateriju.\")\n",
    "class ElektricniAuto(Auto):\n",
    "    \"\"\"Razred prilagođen za električne automobile.\"\"\"\n",
    "    def __init__(self, marka, model, godina):\n",
    "        \"\"\"\n",
    "        Inicijalizacija atributa baznog razreda.\n",
    "        Dodavanje atributa za bateriju.\n",
    "        \"\"\"\n",
    "        super().__init__(marka, model, godina)\n",
    "        self.baterija = Baterija()\n",
    "automobil = ElektricniAuto('tesla', 'model s', 2018)\n",
    "print(automobil.podaci())\n",
    "automobil.baterija.opisi_bateriju()"
   ]
  },
  {
   "cell_type": "markdown",
   "metadata": {},
   "source": [
    "Definirali smo novi razred pod nazivom *Baterija* koji ne nasljeđuje neki drugi\n",
    "razred. Metoda \\__init__() ima jedan parametar: *velicina_baterije*. To je\n",
    "opcionalni parametar koji postavlja veličinu baterije na 70 ako nije navedena\n",
    "druga vrijednost. Metoda *opisi_bateriju()* je premještena iz razreda\n",
    "*ElektricniAuto* u ovaj razred. U razredu *ElektricniAuto* dodajemo atribut koji\n",
    "se zove *self.baterija* koji kreira novu instancu razreda *Baterija* (sa zadanom\n",
    "veličinom 70, jer ne navodimo vrijednost) i pohranjujemo je kao atribut. To će\n",
    "se dogoditi svaki put kada se pozove metoda \\__init__(), odnosno svakoj instanci\n",
    "razreda *ElektricniAuto* automatski će se kreirati instanca razreda *Baterije*.\n",
    "Na kraju stvaramo instancu razreda *ElektricniAuto* i pohranjujemo u varijablu\n",
    "*automobil*. Kada želimo opisati bateriju, moramo to napraviti preko atributa\n",
    "*baterija*:\n",
    "  \n",
    "```python\n",
    "automobil.baterija.opisi_bateriju()  \n",
    "```\n",
    "Python pronalazi instancu *automobil*, pa atribut *baterija* (koji je instanca\n",
    "razreda *Baterija*) i pozove metodu *opisi_bateriju()*.\n",
    "<img src=\"Slike/12_11.png\" alt=\"Drawing\" style=\"width: 600px;\">"
   ]
  },
  {
   "cell_type": "markdown",
   "metadata": {},
   "source": [
    "<br><div class=\"alert alert-info\"><b>Vježba</b></div></br>"
   ]
  },
  {
   "cell_type": "raw",
   "metadata": {},
   "source": [
    "\n"
   ]
  },
  {
   "cell_type": "markdown",
   "metadata": {},
   "source": [
    "Napravite novu metodu u razredu *Baterija* koja ispisuje domet automobila u\n",
    "ovisnosti o kapacitetu baterije.  \n",
    "Možemo koristiti jednostavnu formulu gdje je\n",
    "domet u km jednak kapacitetu baterije (kWh) \\* 4."
   ]
  },
  {
   "cell_type": "code",
   "execution_count": null,
   "metadata": {},
   "outputs": [],
   "source": []
  },
  {
   "cell_type": "markdown",
   "metadata": {},
   "source": [
    "<br><div class=\"alert alert-info\"><b>Kraj</b></div></br>"
   ]
  },
  {
   "cell_type": "markdown",
   "metadata": {},
   "source": [
    "Kada radimo sa složenijim stvarima kao što su električni automobili, pojavljivat\n",
    "će se zanimljiva pitanja. Je li raspon električnog automobila *vlasništvo*\n",
    "baterije ili automobila? Ako opisujemo samo jedan automobil, vjerojatno je dobro\n",
    "održavati povezanost metode *domet()* s razredom *Baterija*. Ali ako opisujemo\n",
    "čitavu liniju automobila proizvođača, vjerojatno želimo premjestiti *domet()* u\n",
    "razred *ElektricniAuto*. Metoda *domet()* i dalje bi odredila veličinu baterije\n",
    "prije nego što odredi raspon, ali će ispisati domet specifičan za vrstu\n",
    "automobila. Alternativno, mogli bismo zadržati metodu u razredu *Baterija* i\n",
    "proslijediti mu parametar kao što je *model*. Metoda *domet()* tada bi računala\n",
    "domet na temelju kapaciteta baterije i modela automobila. To nas dovodi do\n",
    "zanimljive točke u razvoju kao programera. Kada počnemo razmišljati o takvim\n",
    "pitanjima, razmišljamo na višoj logičkoj razini, a ne na razini sintakse. Ne\n",
    "razmišljamo o Pythonu, već o tome kako predstaviti stvarni svijet u programskom\n",
    "kodu. Kada dosegnemo tu točku, shvaćamo da često ne postoje ispravni ili\n",
    "pogrešni pristupi modeliranju stvarnih situacija. Neki su pristupi učinkovitiji\n",
    "od drugih i potrebna je praksa da se pronađu najučinkovitiji načini. **Ako kôd\n",
    "radi kako želimo, dobro nam ide!** Nećemo se obeshrabriti ako otkrijemo da\n",
    "razred definiramo više puta koristeći različite pristupe, jer u potrazi za\n",
    "učinkovitim kodom svatko prolazi kroz ovaj proces."
   ]
  },
  {
   "cell_type": "markdown",
   "metadata": {},
   "source": [
    "<br><div class=\"alert alert-info\"><b>Vježba</b></div></br>"
   ]
  },
  {
   "cell_type": "markdown",
   "metadata": {},
   "source": [
    "Kopirajte razred *Korisnik* iz prethodnog dokumenta.  \n",
    "Napišite poseban razred *Privilegije*.  \n",
    "Razred *Privilegije* treba imati jedan atribut *privilegija* u koji se sprema\n",
    "lista ovlasti.  \n",
    "Metodu *prikazi.privilegije()* prebacite u ovu novu klasu.  \n",
    "Dodajte instancu razreda *Privilegija* kao atribut u razred *Admin*.  \n",
    "Kreirajte novu instancu razreda *Admin* i upotrijebite metodu za prikaz\n",
    "privilegija."
   ]
  },
  {
   "cell_type": "code",
   "execution_count": null,
   "metadata": {},
   "outputs": [],
   "source": []
  },
  {
   "cell_type": "markdown",
   "metadata": {},
   "source": [
    "Iskoristite program iz zadatka s razredima za automobile.  \n",
    "Dodajte metodu *nadogradi_bateriju* koja provjerava veličinu baterije te, ako je\n",
    "manja od 85, postavite je na novu vrijednost.  \n",
    "Napravite novi električni automobil s unaprijed definiranom veličinom baterije.  \n",
    "Pozovite metodu za provjeru dometa.  \n",
    "Pozovite metodu za nadogradnju baterije.  \n",
    "Ponovno pozovite metodu za provjeru dometa.  \n",
    "Trebali biste vidjeti povećanje u dometu nakon nadogradnje."
   ]
  },
  {
   "cell_type": "code",
   "execution_count": null,
   "metadata": {},
   "outputs": [],
   "source": []
  },
  {
   "cell_type": "markdown",
   "metadata": {},
   "source": [
    "<br><div class=\"alert alert-info\"><b>Kraj</b></div></br>"
   ]
  }
 ],
 "metadata": {
  "kernelspec": {
   "display_name": "Python 3",
   "language": "python",
   "name": "python3"
  },
  "language_info": {
   "codemirror_mode": {
    "name": "ipython",
    "version": 3
   },
   "file_extension": ".py",
   "mimetype": "text/x-python",
   "name": "python",
   "nbconvert_exporter": "python",
   "pygments_lexer": "ipython3",
   "version": "3.7.3"
  }
 },
 "nbformat": 4,
 "nbformat_minor": 2
}
