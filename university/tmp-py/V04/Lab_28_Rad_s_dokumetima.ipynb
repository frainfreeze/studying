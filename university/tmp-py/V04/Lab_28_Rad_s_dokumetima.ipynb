{
 "cells": [
  {
   "cell_type": "markdown",
   "metadata": {},
   "source": [
    "<img src=\"Slike/vua.png\">"
   ]
  },
  {
   "cell_type": "markdown",
   "metadata": {},
   "source": [
    "# Rad s dokumentima\n",
    "\n",
    "Sada kada smo savladali osnovne vještine koje su nam potrebne za pisanje\n",
    "programa, vrijeme je da ih učinimo upotrebljivijima. U ovom poglavlju naučit\n",
    "ćemo raditi s datotekama kako bi programi mogli brzo analizirati podatke iz\n",
    "dokumenata. Rad s datotekama i spremanje podataka učinit će vaše programe lakšim\n",
    "za korištenje. Korisnici će moći odabrati koje podatke treba učitati.\n",
    "\n",
    "Velike količine podataka dostupne su u tekstualnim datotekama. Tekstualne\n",
    "datoteke mogu sadržavati vremenske podatke, podatke o prometu, socioekonomske\n",
    "podatke, književna djela i drugo. Čitanje iz datoteke posebno je korisno u\n",
    "aplikacijama za analizu podataka, ali se također može primijeniti na svaku\n",
    "situaciju u kojoj želite analizirati ili izmijeniti podatke pohranjene u\n",
    "datoteci. Kada želimo raditi s podatcima u tekstualnoj datoteci, prvi korak je\n",
    "učitavanje datoteke u memoriju. Možemo čitati cijeli sadržaj datoteke ili jedan\n",
    "po jedan red."
   ]
  },
  {
   "cell_type": "markdown",
   "metadata": {},
   "source": [
    "Za početak, učitajmo dokument pi.txt koji sadrži broj pi zapisan s 30 decimalnih mjesta, ali tako da se u svakom retku nalazi po 10.  \n",
    "```python\n",
    "3.1415926535  \n",
    "  8979323846  \n",
    "  2643383279  \n",
    "```\n",
    "Pogledajmo program koji otvara datoteku, učitava je i ispisuje sadržaj."
   ]
  },
  {
   "cell_type": "code",
   "execution_count": null,
   "metadata": {},
   "outputs": [],
   "source": [
    "with open('pi.txt') as file_object:\n",
    "    sadrzaj = file_object.read()\n",
    "print(sadrzaj)"
   ]
  },
  {
   "cell_type": "markdown",
   "metadata": {},
   "source": [
    "U prvoj liniji koda ovog programa imamo funkciju *open()* koja otvara datoteku\n",
    "da bismo joj mogli pristupiti. Funkcija *open()* zahtijeva jedan argument (naziv\n",
    "datoteke koju želimo otvoriti). Python traži tu datoteku u direktoriju u kojemu\n",
    "je pohranjen program koji se trenutno izvodi. U ovom je primjeru trenutno\n",
    "pokrenut dokument *Lab_28_Rad_s_dokumetima*, pa Python traži *pi.txt* u tom\n",
    "direktoriju, gdje se i nalazi. Funkcija *open()* prikazuje objekt koji\n",
    "predstavlja datoteku. Python to interno pohranjuje u objekt tipa *file_object*\n",
    "koji kasnije koristimo u programu.\n",
    "\n",
    "Primijetite kako pozivamo funkciju *open()* u ovom programu, ali ne i funkciju\n",
    "*close(),* koja služi za zatvaranje datoteke. Datoteku možete otvoriti i\n",
    "zatvoriti pozivanjem *open()* i *close()*. Ako neka greška u programu spriječi\n",
    "izvršavanje funkcije *close(),* datoteka se možda nikada neće zatvoriti.\n",
    "Nepropisno zatvorene datoteke mogu uzrokovati gubitak ili oštećenje podataka.\n",
    "Ako pak napravimo *close()* prerano u svom programu, svi pokušaji pristupu\n",
    "datoteci generirat će greške. Nije uvijek jednostavno odlučiti kada trebamo\n",
    "zatvoriti datoteku, pa Python to može pokušati napraviti za nas, korištenjem\n",
    "izraza *with*. Trebamo samo otvoriti datoteku i raditi s njom po želji, pa će\n",
    "je, kad izađemo iz bloka *with*, Python automatski zatvoriti.\n",
    "\n",
    "Jednom kada imamo objekt koji predstavlja pi.txt, koristimo metodu *read()* da\n",
    "čitamo sadržaj datoteke i pohranimo ga u varijablu *sadrzaja*. Kada ispišemo\n",
    "vrijednost *sadrzaja* vidimo cijeli sadržaj datoteke."
   ]
  },
  {
   "cell_type": "markdown",
   "metadata": {},
   "source": [
    "Kada proslijedite samo naziv datoteke kao što je *pi.txt* u funkcije *open()\n",
    "Python je pokušava pronaći u direktoriju u kojem se nalazi program. Međutim,\n",
    "ponekad želimo otvoriti datoteku koja nije u istom direktoriju kao programska\n",
    "datoteka. Primjerice, sve Python datoteke pohranimo u mapi projekta u kojoj se\n",
    "nalazi druga mapa, Podaci, u koju spremamo sve datoteke s kojima radimo. Iako se\n",
    "mapa Podaci nalazi u mapi u kojoj je i program, ako proslijedimo funkciji\n",
    "open()* samo imena datoteke, program neće raditi. U svojem okruženju imamo\n",
    "datoteku *pi2.txt* koja je identična ovoj postojećoj, ali se nalazi u mapi\n",
    "*Podaci*. Kada je pokušamo otvoriti, dobit ćemo poruku o grešci."
   ]
  },
  {
   "cell_type": "code",
   "execution_count": null,
   "metadata": {},
   "outputs": [],
   "source": [
    "with open('pi2.txt') as file_object:\n",
    "    sadrzaj = file_object.read()\n",
    "print(sadrzaj)"
   ]
  },
  {
   "cell_type": "markdown",
   "metadata": {},
   "source": [
    "Da bi Python otvorio datoteku iz neke druge mape, uz naziv datoteke moramo\n",
    "proslijediti i putanju. Kako se mapa *Podaci* nalazi u istoj mapi u kojoj je i\n",
    "program, možemo koristiti relativnu putanju. Relativna putanja datoteke\n",
    "prosljeđuje Pythonu informaciju da traži lokaciju u odnosu na mapu u kojoj je\n",
    "pohranjen trenutni program."
   ]
  },
  {
   "cell_type": "code",
   "execution_count": null,
   "metadata": {},
   "outputs": [],
   "source": [
    "with open('Podaci/pi2.txt') as file_object:\n",
    "    sadrzaj = file_object.read()\n",
    "print(sadrzaj)"
   ]
  },
  {
   "cell_type": "markdown",
   "metadata": {},
   "source": [
    "Ponekad želimo koristiti i apsolutne putanje koje predstavljaju lokaciju u\n",
    "odnosu na operativni sustav, a ne trenutnu mapu. Ako iz programa želimo vidjeti\n",
    "apsolutnu putanju prema mapi u kojoj se program nalazi, možemo iskoristiti\n",
    "funkciju *getcwd()* iz modula *os* koja vraća test s apsolutnom putanjom.\n",
    "Iskoristimo ga da otvorimo datoteku pi2.txt korištenjem pune putanje. Kako su\n",
    "apsolutne putanje dosta duže, nerijetko se u programima spremaju u zasebne\n",
    "varijable koje se kasnije koriste u funkciji *open()*."
   ]
  },
  {
   "cell_type": "code",
   "execution_count": null,
   "metadata": {},
   "outputs": [],
   "source": [
    "import os\n",
    "\n",
    "putanja = os.getcwd()\n",
    "print ('Trenutna putanja je: ' + putanja)\n",
    "\n",
    "putanja += '/Podaci/pi2.txt'\n",
    "print ('Nova putanja je: ' + putanja)\n",
    "\n",
    "with open(putanja) as file_object:\n",
    "    sadrzaj = file_object.read()\n",
    "print(sadrzaj)"
   ]
  },
  {
   "cell_type": "markdown",
   "metadata": {},
   "source": [
    "Pomoću apsolutnih putanja možemo čitati datoteke s bilo kojeg mjesta na\n",
    "računalu. Zasada je najjednostavnije da datoteke s podatcima spremamo u istu\n",
    "mapu kao i programske datoteke ili, ako ih ima puno, da to bude podmapa tako da\n",
    "možemo koristiti relativne putanje."
   ]
  },
  {
   "cell_type": "markdown",
   "metadata": {},
   "source": [
    "Kada čitamo datoteku, često želimo pregledavati svaki redak zasebno, tražiti\n",
    "određene informacije ili možda izmijeniti određeni tekst. Primjerice, ako imamo\n",
    "datoteku s meteorološkim podatcima i želimo uzeti samo retke u kojima postoji\n",
    "riječ *sunčano* u opisu dana. Možemo koristiti petlju *for* za pregledavanje\n",
    "redaka jedan po jedan."
   ]
  },
  {
   "cell_type": "code",
   "execution_count": null,
   "metadata": {},
   "outputs": [],
   "source": [
    "datoteka = 'pi.txt'\n",
    "with open(datoteka) as file_object:\n",
    "    for line in file_object:\n",
    "        print(line)"
   ]
  },
  {
   "cell_type": "markdown",
   "metadata": {},
   "source": [
    "Ime datoteke koju čitamo spremamo u varijablu *datoteka*. To je uobičajena\n",
    "konvencija pri radu s datotekama. Budući da varijabla *datoteka* ne predstavlja\n",
    "stvarnu datoteku, već samo tekst naziva datoteke, lako možemo zamijeniti\n",
    "'pi.txt' drugom datotekom s kojom želimo raditi. Nakon što smo pozvali *open()*,\n",
    "objekt koji predstavlja datoteku pohranjuje se u varijablu *file_object*. Ponovo\n",
    "koristimo sintaksu *with* kako bismo Pythonu omogućili ispravno otvaranje i\n",
    "zatvaranje datoteke. Za ispis sadržaja datoteke prolazimo kroz svaki redak i\n",
    "ispisujemo ga. Primijetite da je Python dodao prazne retke između zapisa. Prazni\n",
    "redci se pojavljuju zbog nevidljivog znaka za novi redak u našoj datoteci. Kako\n",
    "naša naredba *print* dodaje novi redak kod svakog poziva, na izlazu imamo dva\n",
    "nova retka umjesto jednog. To možemo popraviti ako iskoristimo metodu *rstrip()*\n",
    "koja briše prazne i nevidljive znakove s kraja teksta, odnosno, u ovom slučaju,\n",
    "s kraja svakog retka."
   ]
  },
  {
   "cell_type": "code",
   "execution_count": null,
   "metadata": {},
   "outputs": [],
   "source": [
    "datoteka = 'pi.txt'\n",
    "with open(datoteka) as file_object:\n",
    "    for line in file_object:\n",
    "        print(line.rstrip())"
   ]
  },
  {
   "cell_type": "markdown",
   "metadata": {},
   "source": [
    "Kada koristimo *with*, objekt koji vraća funkcija *open()* dostupan je samo\n",
    "unutar njegova bloka. Ako želimo zadržati pristup sadržaju datoteke izvan bloka\n",
    "*with*, možemo retke datoteke spremiti u listu te tu listu kasnije koristiti\n",
    "bilo gdje."
   ]
  },
  {
   "cell_type": "code",
   "execution_count": null,
   "metadata": {},
   "outputs": [],
   "source": [
    "datoteka = 'pi.txt'\n",
    "with open(datoteka) as file_object:\n",
    "    lines = file_object.readlines()\n",
    "    \n",
    "for line in lines:\n",
    "    print(line.rstrip())"
   ]
  },
  {
   "cell_type": "markdown",
   "metadata": {},
   "source": [
    "Metoda *readlines()* uzima sve linije teksta u objektu i pretvara ih u listu."
   ]
  },
  {
   "cell_type": "markdown",
   "metadata": {},
   "source": [
    "<br><div class=\"alert alert-info\"><b>Vježba</b></div></br>"
   ]
  },
  {
   "cell_type": "markdown",
   "metadata": {},
   "source": [
    "Kreirajte novu tekstualnu datoteku u mapi *Dan 4* (**New**/**Text File**) i\n",
    "napišite nekoliko redaka koji opisuju što ste naučili o Pythonu do sada.  \n",
    "Započnite svaku liniju izrazom \"U Pythonu možete...\".  \n",
    "Klikom miša na **untitled.txt** u vrhu prozora promijenite naziv datoteke u\n",
    "python.txt.  \n",
    "Ne zaboravite nakon toga spremiti datoteku (**File**/**Save**).  \n",
    "Napišite program koji čita datoteku i ispisuje ono što ste napisali tri puta.\n",
    " \n",
    "1.  Ispišite sadržaj čitanjem cijele datoteke.\n",
    "2.\tIspišite sadržaj čitanjem red po red.\n",
    "3.\tIspišite sadržaj izvan bloka *with*."
   ]
  },
  {
   "cell_type": "code",
   "execution_count": null,
   "metadata": {},
   "outputs": [],
   "source": []
  },
  {
   "cell_type": "code",
   "execution_count": null,
   "metadata": {},
   "outputs": [],
   "source": []
  },
  {
   "cell_type": "code",
   "execution_count": null,
   "metadata": {},
   "outputs": [],
   "source": []
  },
  {
   "cell_type": "markdown",
   "metadata": {},
   "source": [
    "<br><div class=\"alert alert-info\"><b>Kraj</b></div></br>"
   ]
  }
 ],
 "metadata": {
  "kernelspec": {
   "display_name": "Python 3",
   "language": "python",
   "name": "python3"
  },
  "language_info": {
   "codemirror_mode": {
    "name": "ipython",
    "version": 3
   },
   "file_extension": ".py",
   "mimetype": "text/x-python",
   "name": "python",
   "nbconvert_exporter": "python",
   "pygments_lexer": "ipython3",
   "version": "3.7.3"
  }
 },
 "nbformat": 4,
 "nbformat_minor": 2
}
