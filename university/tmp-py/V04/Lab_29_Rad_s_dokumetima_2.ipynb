{
 "cells": [
  {
   "cell_type": "markdown",
   "metadata": {},
   "source": [
    "<img src=\"Slike/vua.png\">"
   ]
  },
  {
   "cell_type": "markdown",
   "metadata": {},
   "source": [
    "# Rad s dokumentima - nastavak\n",
    "Nakon što pročitamo datoteku u memoriji, možemo je dalje obrađivati. Radimo\n",
    "dalje s datotekom pi.txt. Prvo možemo pokušati od tri retka napraviti jedan niz,\n",
    "sa svim znamenkama."
   ]
  },
  {
   "cell_type": "code",
   "execution_count": null,
   "metadata": {},
   "outputs": [],
   "source": [
    "datoteka = 'pi.txt'\n",
    "with open(datoteka) as file_object:\n",
    "    lines = file_object.readlines()\n",
    "    \n",
    "pi = ''\n",
    "for line in lines:\n",
    "    pi += line.rstrip()\n",
    "    \n",
    "print (pi)\n",
    "print(len(pi))"
   ]
  },
  {
   "cell_type": "markdown",
   "metadata": {},
   "source": [
    "Počinjemo s otvaranjem datoteke i spremanjem svake linije teksta u listu\n",
    "*lines*. Nakon toga kreiramo varijablu *pi* kao prazan tekst. Zatim kreiramo\n",
    "petlju koja dodaje svaku liniju teksta u varijablu *pi* i uklanja znak novog\n",
    "reda. Na kraju ispisujemo sadržaj varijable *pi* te njenu dužinu (koliko znakova\n",
    "ima). Varijabla *pi* sadrži razmake koji su bili na početku nekih redaka, ali to\n",
    "možemo riješiti jednostavno, tako što ćemo umjesto metode *rstrip()* koristiti\n",
    "metodu *strip()*."
   ]
  },
  {
   "cell_type": "code",
   "execution_count": null,
   "metadata": {},
   "outputs": [],
   "source": [
    "datoteka = 'pi.txt'\n",
    "with open(datoteka) as file_object:\n",
    "    lines = file_object.readlines()\n",
    "    \n",
    "pi = ''\n",
    "for line in lines:\n",
    "    pi += line.strip()\n",
    "    \n",
    "print (pi)\n",
    "print(len(pi))"
   ]
  },
  {
   "cell_type": "markdown",
   "metadata": {},
   "source": [
    "Sada imamo niz koji sadrži vrijednost broja pi na 30 decimalnih mjesta. Niz je\n",
    "dužine 32 znaka jer uključuje vodeću znamenku 3 i decimalnu točku. Kada Python\n",
    "čita tekstualnu datoteku, interpretira tekst u datoteci kao niz znakova. Ako to\n",
    "predstavlja broj i želimo raditi s tom vrijednošću kao brojčanom, moramo je\n",
    "pretvoriti u broj koristeći funkciju *int()* ili *float()*. Do sada smo se\n",
    "usredotočili na analizu tekstualne datoteke koja sadrži samo tri retka, ali kôd\n",
    "u tim primjerima dobro bi funkcionirao na mnogo većim datotekama. Ako počnemo s\n",
    "tekstualnom datotekom koja sadrži broj pi na 1.000.000 decimalnih mjesta umjesto\n",
    "samo 30, možemo stvoriti jedan niz koji sadrži sve te znamenke. Ne moramo uopće\n",
    "mijenjati program, samo mu proslijedimo drugu datoteku (pi3.txt). Također ćemo\n",
    "ispisati samo prvih 50 decimalnih mjesta, tako da ne moramo gledati milijun\n",
    "znamenki."
   ]
  },
  {
   "cell_type": "code",
   "execution_count": null,
   "metadata": {
    "scrolled": false
   },
   "outputs": [],
   "source": [
    "datoteka = 'pi3.txt'\n",
    "with open(datoteka) as file_object:\n",
    "    lines = file_object.readlines()\n",
    "    \n",
    "pi = ''\n",
    "for line in lines:\n",
    "    pi += line.strip()\n",
    "    \n",
    "print (pi[:52] + '...')\n",
    "print(len(pi))"
   ]
  },
  {
   "cell_type": "markdown",
   "metadata": {},
   "source": [
    "Python nema nikakvo ograničenje na količinu podataka s kojom možemo raditi.\n",
    "Jedino je bitno koliko radne memorije imamo na raspolaganju. Uzmimo varijablu\n",
    "koja ima preko milijun znamenki (što je skoro nemoguće analizirati bez računala)\n",
    "i pogledajmo pojavljuje li se datum našeg rođenja u decimalnim mjestima broja\n",
    "pi. Iskoristit ćemo prethodni primjer u kojem imamo varijablu *pi* i dodati novu\n",
    "varijablu u koju ćemo zapisati datum rođenja kao niz znamenki."
   ]
  },
  {
   "cell_type": "code",
   "execution_count": null,
   "metadata": {},
   "outputs": [],
   "source": [
    "datoteka = 'pi3.txt'\n",
    "with open(datoteka) as file_object:\n",
    "    lines = file_object.readlines()\n",
    "    \n",
    "pi = ''\n",
    "for line in lines:\n",
    "    pi += line.strip()\n",
    "    \n",
    "rodjendan = input(\"Unesi rođendan u formatu ddmmyy: \")\n",
    "if rodjendan in pi:\n",
    "    print('Tvoj rođendan se nalazi u prvih 1.000.000 decimala broja pi!')\n",
    "else:\n",
    "    print('Tvoj rođendan se ne nalazi u prvih 1.000.000 decimala broja pi!')"
   ]
  },
  {
   "cell_type": "markdown",
   "metadata": {},
   "source": [
    "<br><div class=\"alert alert-info\"><b>Vježba</b></div></br>"
   ]
  },
  {
   "cell_type": "code",
   "execution_count": null,
   "metadata": {},
   "outputs": [],
   "source": []
  },
  {
   "cell_type": "markdown",
   "metadata": {},
   "source": [
    "Možete koristiti metodu replace() da biste zamijenili bilo koju riječ u nizu drugom riječju. Evo kratkog primjera kako zamijeniti riječ „pas\" riječju „mačka\" u rečenici:\n",
    "```python\n",
    "message = \"Ja volim pse.\"\n",
    "message.replace('pse', 'mačke')\n",
    "'Ja volim mačke.'\n",
    "```\n",
    "Napravite program koji čita datoteku python.txt koju ste napravili u prethodnoj vježbi i kod ispisa zamijenite sve riječi „Python“ u „Javascript“."
   ]
  },
  {
   "cell_type": "code",
   "execution_count": null,
   "metadata": {},
   "outputs": [],
   "source": []
  },
  {
   "cell_type": "markdown",
   "metadata": {},
   "source": [
    "<br><div class=\"alert alert-info\"><b>Kraj</b></div></br>"
   ]
  }
 ],
 "metadata": {
  "kernelspec": {
   "display_name": "Python 3",
   "language": "python",
   "name": "python3"
  },
  "language_info": {
   "codemirror_mode": {
    "name": "ipython",
    "version": 3
   },
   "file_extension": ".py",
   "mimetype": "text/x-python",
   "name": "python",
   "nbconvert_exporter": "python",
   "pygments_lexer": "ipython3",
   "version": "3.7.3"
  }
 },
 "nbformat": 4,
 "nbformat_minor": 2
}
