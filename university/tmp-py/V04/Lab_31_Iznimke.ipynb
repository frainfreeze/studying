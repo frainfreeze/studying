{
 "cells": [
  {
   "cell_type": "markdown",
   "metadata": {},
   "source": [
    "<img src=\"Slike/vua.png\">"
   ]
  },
  {
   "cell_type": "markdown",
   "metadata": {},
   "source": [
    "# Iznimke\n",
    "Python koristi posebne objekte koji se nazivaju iznimke (engl. *exceptions*) za\n",
    "upravljanje pogreškama koje se pojavljuju tijekom izvršavanja programa. Kad god\n",
    "dođe do pogreške, Python kreira objekt razreda *iznimka*. Ako u programu imamo\n",
    "dio kôda koji obrađuje iznimke, program se neće prekinuti uz prikaz greške, već\n",
    "se nastaviti izvoditi. S iznimkama radimo tako da kreiramo probne (engl. *try*)\n",
    "blokove kôda. Blok za iznimke ukazuje Pythonu da nešto učini, ali, istovremeno,\n",
    "i što učiniti ako se pojavi greška. Kada koristimo probne blokove, programi će\n",
    "se nastaviti prikazivati, čak i ako nešto nije dobro definirano. Umjesto\n",
    "sistemske poruke o grešci koja može biti zbunjujuća za korisnika, možemo mu\n",
    "pokazati opisnu poruku koja mu ukazuje na problem ili, u nekim slučajevima,\n",
    "možemo izvršiti drugi dio programa i nastaviti s izvođenjem. Pogledajmo\n",
    "jednostavnu pogrešku koja uzrokuje iznimku u Pythonu. Vjerojatno znate da je\n",
    "dijeljenje s nulom nemoguće izvesti. Pogledajmo kako Python reagira na to."
   ]
  },
  {
   "cell_type": "code",
   "execution_count": null,
   "metadata": {},
   "outputs": [],
   "source": [
    "print(5/0)"
   ]
  },
  {
   "cell_type": "markdown",
   "metadata": {},
   "source": [
    "Pogreška prijavljena u *tracebacku* je *ZeroDivisionError*. Python stvara ovu\n",
    "vrstu objekta kao odgovor na situaciju u kojoj ne može učiniti ono što tražimo.\n",
    "Kada se to dogodi, Python zaustavlja program i informira korisnika o vrsti\n",
    "iznimke koja se događa. Taj podatak možemo upotrijebiti za promjenu programa i\n",
    "definirat ćemo što Python treba učiniti kada dođe do takve iznimke. Kada mislimo\n",
    "da se može dogoditi greška, možete napisati blok *try-except* za obradu iznimki\n",
    "koje bi se mogle dogoditi kod izvođenja programa. Ako Python pokuša pokrenuti\n",
    "neki kôd i dogodi se iznimka, izvrši neki drugi dio programa. Prilagodimo\n",
    "prethodni kod za upravljanje iznimkom *ZeroDivisionError*."
   ]
  },
  {
   "cell_type": "code",
   "execution_count": null,
   "metadata": {},
   "outputs": [],
   "source": [
    "try:\n",
    "    print(5/0)\n",
    "except ZeroDivisionError:\n",
    "    print(\"Ne možeš djeliti s nulom!\")"
   ]
  },
  {
   "cell_type": "markdown",
   "metadata": {},
   "source": [
    "Sada smo *print(5/0)*, koji je uzrokovao pogrešku, stavili unutar probnog bloka.\n",
    "Kada kôd u probnom bloku radi, Python preskače preko bloka *except*. Kada kôd u\n",
    "probnom bloku uzrokuje grešku, Python traži blok *except*, čija se pogreška\n",
    "poklapa s onom koja je izazvala iznimku i pokreće kôd u tom bloku. U ovom\n",
    "primjeru, kôd u probnom bloku proizvodi *ZeroDivisionError*, tako da Python\n",
    "traži *except* blok s tom iznimkom i izvodi kôd u njemu. Ako iza ovog bloka\n",
    "postoji još linija kôda, program bi se nastavio izvoditi jer smo Pythonu rekli\n",
    "kako se nositi s tom greškom."
   ]
  },
  {
   "cell_type": "markdown",
   "metadata": {},
   "source": [
    "Ispravno rukovanje greškama posebno je važno kada program ima više posla nakon\n",
    "što se pojavi greška. To se često događa u programima koji od korisnika očekuju\n",
    "neki unos. Ako program na odgovarajući način odgovori na neispravan unos, može\n",
    "zatražiti od korisnika valjani unos umjesto da prestane raditi. Napravimo\n",
    "jednostavan kalkulator koji samo zna dijeliti brojeve."
   ]
  },
  {
   "cell_type": "code",
   "execution_count": null,
   "metadata": {},
   "outputs": [],
   "source": [
    "print(\"Upiši dva broja i ja ću ih podijeliti.\")\n",
    "print(\"Upiši 'q' za izlaz.\")\n",
    "while True:\n",
    "    prvi_broj = input(\"\\nPrvi broj: \")\n",
    "    if prvi_broj == 'q':\n",
    "        break\n",
    "    drugi_broj = input(\"Drugi broj: \")\n",
    "    if drugi_broj == 'q':\n",
    "        break\n",
    "    odgovor = int(prvi_broj) / int(drugi_broj)\n",
    "    print(str(prvi_broj) + ' / ' + str(drugi_broj) + ' = ' + str(odgovor))"
   ]
  },
  {
   "cell_type": "markdown",
   "metadata": {},
   "source": [
    "Program traži od korisnika da upiše prvi broj i, ako je unos različit od „q“,\n",
    "nastavlja. Nakon toga traži da unese drugi broj i, ako je unos različit od „q“,\n",
    "također nastavlja. Nakon toga u varijablu *odgovor* sprema rezultat dijeljenja.\n",
    "Trenutno ne postoji ništa, što bi upravljalo greškama. Pokušajte unijeti\n",
    "vrijednosti tako, da za drugi broj unesete 0. Jednako tako, možete upisati neki\n",
    "tekst umjesto broja i dogodit će se drugi tip iznimke."
   ]
  },
  {
   "cell_type": "markdown",
   "metadata": {},
   "source": [
    "Ovaj program možemo učiniti otpornijim na pogreške tako da liniju kôda koja bi\n",
    "mogla stvoriti greške ubacimo u blok *try-except*. Ako pogledamo *Traceback,*\n",
    "vidimo da je do greške došlo u liniji kôda koja radi dijeljenje. Ovaj primjer\n",
    "također uključuje blok *else*. Svaki kôd koji ovisi o uspješnom izvršavanju\n",
    "bloka *try* stavljamo u blok *else*."
   ]
  },
  {
   "cell_type": "code",
   "execution_count": null,
   "metadata": {},
   "outputs": [],
   "source": [
    "print(\"Upiši dva broja i ja ću ih podijeliti.\")\n",
    "print(\"Upiši 'q' za izlaz.\")\n",
    "while True:\n",
    "    prvi_broj = input(\"\\nPrvi broj: \")\n",
    "    if prvi_broj == 'q':\n",
    "        break\n",
    "    drugi_broj = input(\"Drugi broj: \")\n",
    "    if drugi_broj == 'q':\n",
    "        break\n",
    "    try:\n",
    "        odgovor = int(prvi_broj) / int(drugi_broj)\n",
    "    except ZeroDivisionError:\n",
    "        print (\"Ne možeš dijeliti s nulom!\")\n",
    "    else:\n",
    "        print(str(prvi_broj) + ' / ' + str(drugi_broj) + ' = ' + str(odgovor))"
   ]
  },
  {
   "cell_type": "markdown",
   "metadata": {},
   "source": [
    "Sada smo dijeljenje prebacili u *try* blok. Kôd, koji se treba izvršiti ako se\n",
    "ne dogodi iznimka, dodali smo u blok *else*. U blok *except* smo dodali poruku\n",
    "koja će se ispisati u slučaju da se pojavi greška vezana za dijeljenje s nulom i\n",
    "program se nastavlja izvršavati. I dalje imamo problem, ako korisnik upiše tekst\n",
    "umjesto broja. Pokušajmo i to riješiti."
   ]
  },
  {
   "cell_type": "code",
   "execution_count": null,
   "metadata": {},
   "outputs": [],
   "source": [
    "print(\"Upiši dva broja i ja ću ih podijeliti.\")\n",
    "print(\"Upiši 'q' za izlaz.\")\n",
    "while True:\n",
    "    prvi_broj = input(\"\\nPrvi broj: \")\n",
    "    if prvi_broj == 'q':\n",
    "        break\n",
    "    drugi_broj = input(\"Drugi broj: \")\n",
    "    if drugi_broj == 'q':\n",
    "        break\n",
    "    try:\n",
    "        odgovor = int(prvi_broj) / int(drugi_broj)\n",
    "    except ZeroDivisionError:\n",
    "        print (\"Ne možeš dijeliti s nulom!\")\n",
    "    except ValueError:\n",
    "        print (\"Moraš unijeti brojeve, a ne tekst!\")\n",
    "    else:\n",
    "        print(str(prvi_broj) + ' / ' + str(drugi_broj) + ' = ' + str(odgovor))"
   ]
  },
  {
   "cell_type": "markdown",
   "metadata": {},
   "source": [
    "Za isti dio bloka *try* dodali smo novi blok *except,* ali sad smo definirali\n",
    "odgovor koji će prikazati ako se dogodi iznimka *ValueError* koju smo uočili na\n",
    "*Tracebacku* u opisu greške kada smo unijeli tekst. Odgovor je drugačiji jer je\n",
    "i greška drugačija."
   ]
  },
  {
   "cell_type": "markdown",
   "metadata": {},
   "source": [
    "Blok *try-except-else* radi na sljedeći način: Python pokušava pokrenuti kôd u\n",
    "*try* bloku. Kôd koji bi trebao ići u blok *try* je onaj za koji smatramo da bi\n",
    "mogao prouzročiti grešku. Ako imamo kod koji se treba izvršiti ako je dio *try*\n",
    "izvršen bez greške, prelazi se na blok *else*. Blok/blokovi *except* definiraju\n",
    "što se treba izvršiti u slučaju da se pojavi određena iznimka kod pokušaja\n",
    "izvršavanja kôda u bloku *try*. Predviđajući izvore pogrešaka, možete pisati\n",
    "robusne programe koji će se nastavljati izvršavati, čak i kada naiđu na greške."
   ]
  },
  {
   "cell_type": "markdown",
   "metadata": {},
   "source": [
    "Jedan od uobičajenih problema pri radu s datotekama su datoteke koje nedostaju.\n",
    "Pri tome datoteka koju tražimo može biti na nekoj drugoj lokaciji ili je naziv\n",
    "datoteke pogrešno napisan ili datoteka uopće ne postoji. Sve ove situacije\n",
    "možemo obraditi na jednostavan način uz pomoć bloka *try*. Pokušajmo pročitati\n",
    "datoteku koja ne postoji."
   ]
  },
  {
   "cell_type": "code",
   "execution_count": null,
   "metadata": {},
   "outputs": [],
   "source": [
    "datoteka = 'alice.txt'\n",
    "with open(datoteka) as file_object:\n",
    "    sadrzaj = file_object.read()"
   ]
  },
  {
   "cell_type": "markdown",
   "metadata": {},
   "source": [
    "Python ne može pročitati dokument i vraća informaciju o grešci. Ako pogledamo\n",
    "poruku, vidimo da je riječ o iznimci *FileNotFoundError*. Pokušajmo upravljati\n",
    "greškom."
   ]
  },
  {
   "cell_type": "code",
   "execution_count": null,
   "metadata": {},
   "outputs": [],
   "source": [
    "datoteka = 'alice.txt'\n",
    "\n",
    "try:\n",
    "    with open(datoteka) as file_object:\n",
    "        sadrzaj = file_object.read()\n",
    "except FileNotFoundError:\n",
    "    print('Nažalost datoteka ' + datoteka + ' ne postoji.')"
   ]
  },
  {
   "cell_type": "markdown",
   "metadata": {},
   "source": [
    "Umjesto *Traceback* poruke dobili smo korisniku čitljiviju poruku. Greška se\n",
    "pojavila zato što datoteka ne postoji u ovoj mapi. Proširimo program da,\n",
    "primjerice, ispisuje broj riječi koji se nalazi u datoteci."
   ]
  },
  {
   "cell_type": "code",
   "execution_count": null,
   "metadata": {},
   "outputs": [],
   "source": [
    "datoteka = 'alice.txt'\n",
    "try:\n",
    "    with open(datoteka) as file_object:\n",
    "        sadrzaj = file_object.read()\n",
    "except FileNotFoundError:\n",
    "    print('Nažalost, datoteka ' + datoteka + ' ne postoji.\\n' + \n",
    "    'Možda se nalazi u nekoj od podmapa ili ste napravili grešku pri upisu.\\n' +\n",
    "    'Probajte nešto promjeniti.')\n",
    "else:\n",
    "    rijeci = sadrzaj.split()\n",
    "    broj_rijeci = len(rjeci)\n",
    "    print(\"Dokument \" + datoteka + \" ima \" + str(broj_rijeci) + \" riječi.\")"
   ]
  },
  {
   "cell_type": "markdown",
   "metadata": {},
   "source": [
    "Rezultat je i dalje jednak, jer i dalje nemamo datoteku. Pokušajmo promijeniti\n",
    "putanju."
   ]
  },
  {
   "cell_type": "code",
   "execution_count": null,
   "metadata": {},
   "outputs": [],
   "source": [
    "datoteka = 'Podaci/alice.txt'\n",
    "try:\n",
    "    with open(datoteka) as file_object:\n",
    "        sadrzaj = file_object.read()\n",
    "except FileNotFoundError:\n",
    "    print('Nažalost, datoteka ' + datoteka + ' ne postoji.\\n' + \n",
    "    'Možda se nalazi u nekoj od podmapa ili ste napravili grešku pri upisu.\\n' +\n",
    "    'Probajte nešto promjeniti.')\n",
    "else:\n",
    "    rijeci = sadrzaj.split()\n",
    "    broj_rijeci = len(rijeci)\n",
    "    print(\"Dokument \" + datoteka + \" ima \" + str(broj_rijeci) + \" riječi.\")"
   ]
  },
  {
   "cell_type": "markdown",
   "metadata": {},
   "source": [
    "Napravimo program i pogledajmo rezultate za više knjiga, ali prvo ćemo\n",
    "definirati funkciju koja broji riječi da kod bude uredniji i čitljiviji, i\n",
    "dodati mogućnost da program sam dodaje putanju do mape *Podaci*."
   ]
  },
  {
   "cell_type": "code",
   "execution_count": null,
   "metadata": {},
   "outputs": [],
   "source": [
    "def broji_rjeci(datoteka):\n",
    "    try:\n",
    "        with open('Podaci/'+datoteka) as file_object:\n",
    "            sadrzaj = file_object.read()\n",
    "    except FileNotFoundError:\n",
    "        print('Nažalost, datoteka ' + datoteka + ' ne postoji.\\n' + \n",
    "              'Probajte nešto promjeniti.')\n",
    "    else:\n",
    "        rijeci = sadrzaj.split()\n",
    "        broj_rijeci = len(rijeci)\n",
    "        print(\"Dokument \" + datoteka + \" ima \" + str(broj_rijeci) + \" riječi.\")\n",
    "datoteka = 'alice.txt'\n",
    "broji_rijeci(datoteka)"
   ]
  },
  {
   "cell_type": "markdown",
   "metadata": {},
   "source": [
    "Pogledajmo koliko riječi imaju i neke druge knjige koje se nalaze u mapi\n",
    "*Podaci*."
   ]
  },
  {
   "cell_type": "code",
   "execution_count": null,
   "metadata": {},
   "outputs": [],
   "source": [
    "def broji_rijeci(datoteka):\n",
    "    try:\n",
    "        with open('Podaci/'+datoteka) as file_object:\n",
    "            sadrzaj = file_object.read()\n",
    "    except FileNotFoundError:\n",
    "        print('Nažalost, datoteka ' + datoteka + ' ne postoji.\\n' + \n",
    "              'Probajte nešto promjeniti.')\n",
    "    else:\n",
    "        rijeci = sadrzaj.split()\n",
    "        broj_rijeci = len(rijeci)\n",
    "        print(\"Dokument \" + datoteka + \" ima \" + str(broj_rijeci) + \" riječi.\")\n",
    "\n",
    "datoteke = ['alice.txt', 'sidhartha.txt', 'moby_dick.txt', 'little_women.txt']\n",
    "for datoteka in datoteke:\n",
    "    broji_rijeci(datoteka)"
   ]
  },
  {
   "cell_type": "markdown",
   "metadata": {},
   "source": [
    "Kao što vidite, jednu od datoteka smo pogrešno nazvali i dobili informaciju o\n",
    "tome, ali program se nastavio izvoditi. U prethodnom primjeru smo korisnika\n",
    "obavijestili o grešci, ali jednako tako mogli smo odlučiti da ispišemo samo\n",
    "dijelove koji su prošli bez iznimaka. To možemo napraviti tako da iskoristimo\n",
    "naredbu *pass* u bloku *except*."
   ]
  },
  {
   "cell_type": "code",
   "execution_count": null,
   "metadata": {},
   "outputs": [],
   "source": [
    "def broji_rijeci(datoteka):\n",
    "    try:\n",
    "        with open('Podaci/'+datoteka) as file_object:\n",
    "            sadrzaj = file_object.read()\n",
    "    except FileNotFoundError:\n",
    "        pass\n",
    "    else:\n",
    "        rijeci = sadrzaj.split()\n",
    "        broj_rijeci = len(rijeci)\n",
    "        print(\"Dokument \" + datoteka + \" ima \" + str(broj_rijeci) + \" riječi.\")\n",
    "\n",
    "datoteke = ['alice.txt', 'sidhartha.txt', 'moby_dick.txt', 'little_women.txt']\n",
    "for datoteka in datoteke:\n",
    "    broji_rijeci(datoteka)"
   ]
  },
  {
   "cell_type": "markdown",
   "metadata": {},
   "source": [
    "Umjesto *pass*, mogli smo dodati kôd koji bi te greške zapisivao u dokument tipa\n",
    "logs.txt. Korisnik i dalje na izlazu ne bi vidio da se nešto dogodilo, a mi\n",
    "bismo poslije mogli analizirati zapise u *log* datoteci."
   ]
  },
  {
   "cell_type": "markdown",
   "metadata": {},
   "source": [
    "<br><div class=\"alert alert-info\"><b>Vježba</b></div>"
   ]
  },
  {
   "cell_type": "markdown",
   "metadata": {},
   "source": [
    "Napravite dvije datoteke, macke.txt i psi.txt.  \n",
    "U datoteci macke.txt navedite najmanje tri imena mačaka, a u datoteci psi.txt\n",
    "najmanje tri imena pasa.  \n",
    "Napišite program koji učitava datoteke i ispisuje njihov sadržaj.  \n",
    "Upotpunite svoj kôd u bloku *try* i definirajte obradu iznimke *FileNotFound*\n",
    "koja ispisuje poruku ako datoteka ne postoji.  \n",
    "Promjenite u programu naziv jedne od datoteka i provjerite ispisuje li se\n",
    "poruka o grešci zajedno s podatcima iz druge datoteke."
   ]
  },
  {
   "cell_type": "code",
   "execution_count": null,
   "metadata": {},
   "outputs": [],
   "source": []
  },
  {
   "cell_type": "markdown",
   "metadata": {},
   "source": [
    "Modificirajte prethodno rješenje tako da samo ispiše sadržaj datoteka koje je pronašao i da ne ispisuje nikakve poruke o greškama."
   ]
  },
  {
   "cell_type": "code",
   "execution_count": null,
   "metadata": {},
   "outputs": [],
   "source": []
  },
  {
   "cell_type": "markdown",
   "metadata": {},
   "source": [
    "Metodom *count()* možete saznati koliko se puta neka riječ ili fraza pojavljuje\n",
    "u nekom tekstu. Primjerice, sljedeći kôd prikazuje koliko puta se niz znakova\n",
    "„red“ pojavljuje u tekstu:\n",
    "```python\n",
    "line = 'Red, red, redak'\n",
    "line.count('red')\n",
    "2\n",
    "line.lower().count(\"red\")\n",
    "3\n",
    "```\n",
    "Primijetite da pretvaranje niza u mala slova pomoću metode *lower()* povećava\n",
    "broj pronalazaka. Jednako tako, primijetite da ne gleda samo zasebne riječi, već\n",
    "svako pojavljivanje tog niza znakova.  \n",
    "Napišite program koji će pročitati knjige\n",
    "iz mape *Podaci* i ispisati koliko puta se pojavljuje riječ „the“.\n",
    " "
   ]
  },
  {
   "cell_type": "code",
   "execution_count": null,
   "metadata": {},
   "outputs": [],
   "source": []
  },
  {
   "cell_type": "markdown",
   "metadata": {},
   "source": [
    "Razmislite i probajte prilagoditi prethodni zadatak tako da ispisuje samo broj\n",
    "riječi „the“, a ne i sva njegova pojavljivanja u drugim riječima."
   ]
  },
  {
   "cell_type": "code",
   "execution_count": null,
   "metadata": {},
   "outputs": [],
   "source": []
  },
  {
   "cell_type": "markdown",
   "metadata": {},
   "source": [
    "<br><div class=\"alert alert-info\"><b>Kraj</b></div></br>"
   ]
  }
 ],
 "metadata": {
  "kernelspec": {
   "display_name": "Python 3",
   "language": "python",
   "name": "python3"
  },
  "language_info": {
   "codemirror_mode": {
    "name": "ipython",
    "version": 3
   },
   "file_extension": ".py",
   "mimetype": "text/x-python",
   "name": "python",
   "nbconvert_exporter": "python",
   "pygments_lexer": "ipython3",
   "version": "3.7.3"
  }
 },
 "nbformat": 4,
 "nbformat_minor": 2
}
