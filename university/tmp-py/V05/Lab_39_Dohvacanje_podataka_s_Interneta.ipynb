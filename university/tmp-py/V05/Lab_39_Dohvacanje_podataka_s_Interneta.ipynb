{
 "cells": [
  {
   "cell_type": "markdown",
   "metadata": {},
   "source": [
    "<img src=\"Slike/vua.png\">"
   ]
  },
  {
   "cell_type": "markdown",
   "metadata": {},
   "source": [
    "# Dohvaćanje podataka s interneta\n",
    "U ovom ćemo poglavlju napraviti sličan program, ali ovaj put ćemo učitavati\n",
    "podatke s interneta, a ne iz CSV datoteke. Za pristup podatcima koristit ćemo\n",
    "module *json* i *requests*. Podatke o vremenu skidat ćemo s web-stranice\n",
    "www.openweathermap.org. Da bismo mogli koristiti pristup putem API poziva,\n",
    "moramo se registrirati na stranici da bismo dobili svoj API ključ.\n",
    "\n",
    "Openweathermap omogućuje (s nekim ograničenjima) da besplatno koristimo API\n",
    "pozive. Prvo otvorimo web-stranicu: <https://openweathermap.org/appid> gdje se\n",
    "nalaze upute za korištenje API poziva i kreiramo novi korisnički račun odabirom\n",
    "poveznice **Sign up** gdje popunimo podatke i ostavimo *e-mail* adresu na koju\n",
    "će nam poslužitelj poslati API ključ koji je potreban za ostatak vježbe. Kada\n",
    "dobijemo ključ, spremit ćemo ga u varijablu *api_kljuc*."
   ]
  },
  {
   "cell_type": "code",
   "execution_count": null,
   "metadata": {},
   "outputs": [],
   "source": [
    "import json, requests\n",
    "\n",
    "api_kljuc = 'xx'"
   ]
  },
  {
   "cell_type": "markdown",
   "metadata": {},
   "source": [
    "Sada trebamo dodati kod koji će omogućiti korisniku da upiše grad za koji želi\n",
    "dobiti podatke o vremenu, pa dodajemo funkciju *input()*."
   ]
  },
  {
   "cell_type": "code",
   "execution_count": null,
   "metadata": {},
   "outputs": [],
   "source": [
    "import json, requests\n",
    "\n",
    "api_kljuc = 'xx'\n",
    "grad = input('Naziv grada: ')"
   ]
  },
  {
   "cell_type": "markdown",
   "metadata": {},
   "source": [
    "Kada imamo naziv grada, potrebno je konstruirati *string* koji ćemo koristiti\n",
    "kao *URL* (adresu poslužitelja s parametrima) koji ćemo pozvati da dohvatimo\n",
    "podatke. Primjer upita za Zagreb:\n",
    "```python\n",
    "https://api.openweathermap.org/data/2.5/forecast?q=Zagreb&APPID=xx\n",
    "```\n",
    "Definiramo novu varijablu *url* i spajanjem tekstova napravimo traženi oblik\n",
    "upita. Nakon što složimo upit, možemo koristiti funkciju *print()* da provjerimo\n",
    "je li oblik dobar."
   ]
  },
  {
   "cell_type": "code",
   "execution_count": null,
   "metadata": {},
   "outputs": [],
   "source": [
    "import json, requests\n",
    "\n",
    "api_kljuc = 'xx'\n",
    "grad = input('Naziv grada: ')\n",
    "url = 'https://api.openweathermap.org/data/2.5/forecast?q='+grad+'&APPID='+api_kljuc\n",
    "print (url)"
   ]
  },
  {
   "cell_type": "markdown",
   "metadata": {},
   "source": [
    "Nakon što smo upisali naziv nekog grada, u varijabli *url* imamo zapisan tekst\n",
    "koji koristimo kao upit. Prije nego nastavimo s vježbom, možemo kopirati\n",
    "prikazanu poveznicu i pokušati ju otvoriti u novoj kartici web-preglednika. Ako\n",
    "smo dobili puno podataka, znači da smo dobro složili adresu i da nam je API\n",
    "ključ valjan. Sada možemo iskoristiti *URL* adresu da kroz kod prihvatimo\n",
    "podatke s poslužitelja i pospremimo u varijablu *odgovor*."
   ]
  },
  {
   "cell_type": "code",
   "execution_count": null,
   "metadata": {},
   "outputs": [],
   "source": [
    "import json, requests\n",
    "\n",
    "api_kljuc = '5facc0ec09710bce003ba79d16ea63a5'\n",
    "grad = input('Naziv grada: ')\n",
    "url = 'https://api.openweathermap.org/data/2.5/forecast?q='+grad+'&APPID='+api_kljuc\n",
    "\n",
    "odgovor = requests.get(url)"
   ]
  },
  {
   "cell_type": "markdown",
   "metadata": {},
   "source": [
    "Kada dohvaćamo podatke s interneta uvijek trebamo provjeriti je li sve prošlo\n",
    "prema očekivanju prije nastavka izvršavanja. Ako, primjerice, na strani\n",
    "poslužitelja dođe do neke promjene u načinu korištenja API poziva ili ako je\n",
    "poslužitelj nedostupan, umjesto podataka dobit ćemo grešku. Kada sve prođe u\n",
    "redu, odgovor bi trebao biti **200**. Taj odgovor definiran je aplikacijskim\n",
    "protokolom HTTP, a označava uspješan odgovor poslužitelja klijentu od kojeg je\n",
    "primio zahtjev.\n",
    "\n",
    "Sve odgovore možete pogledati na poveznici:\n",
    "<https://en.wikipedia.org/wiki/List_of_HTTP_status_codes>."
   ]
  },
  {
   "cell_type": "code",
   "execution_count": null,
   "metadata": {},
   "outputs": [],
   "source": [
    "import json, requests\n",
    "\n",
    "api_kljuc = '5facc0ec09710bce003ba79d16ea63a5'\n",
    "grad = input('Naziv grada: ')\n",
    "url = 'https://api.openweathermap.org/data/2.5/forecast?q='+grad+'&APPID='+api_kljuc\n",
    "\n",
    "odgovor = requests.get(url)\n",
    "print(odgovor)"
   ]
  },
  {
   "cell_type": "markdown",
   "metadata": {},
   "source": [
    "Sada u kod možemo dodati provjeru te, ako odgovor nije ispravan, ispisati poruku\n",
    "o grešci ili nastaviti s obradom. Možemo koristiti metodu *status_code*, koja iz\n",
    "odgovora izvlači samo brojčanu vrijednost poruke i usporediti je sa željenom\n",
    "vrijednošću 200."
   ]
  },
  {
   "cell_type": "code",
   "execution_count": null,
   "metadata": {},
   "outputs": [],
   "source": [
    "import json, requests\n",
    "\n",
    "api_kljuc = '5facc0ec09710bce003ba79d16ea63a5'\n",
    "grad = input('Naziv grada: ')\n",
    "url = 'https://api.openweathermap.org/data/2.5/forecast?q='+grad+'&APPID='+api_kljuc\n",
    "\n",
    "odgovor = requests.get(url)\n",
    "\n",
    "if odgovor.status_code != 200:\n",
    "    print('Dogodila se greška. Server nije dostupan ili je naziv grada netočan')\n",
    "else:\n",
    "    print('Dobro')"
   ]
  },
  {
   "cell_type": "markdown",
   "metadata": {},
   "source": [
    "Ako upišemo kao naziv grada „Zagreb“, sve će proći u redu, ali ako upišemo\n",
    "„Zgrb“, dobit ćemo poruku o grešci. Možemo pokušati upisati obje varijante da\n",
    "vidimo rezultat. Sada kada imamo provjeru odgovora, možemo zamijeniti\n",
    "*print('Dobro')* kodom s kojim ćemo dalje raditi obradu prihvaćenih podataka.\n",
    "Sada uvodimo varijablu *vrijeme* u koju ćemo spremiti primljene podatke. Kako su\n",
    "podatci u formatu JSON, koristimo funkciju *load* iz modula *json*. Kao argument\n",
    "funkcije koristimo odgovor s metodom *text* koja će izvući samo podatke koje smo\n",
    "primili. Na kraju privremeno ispisujemo sadržaj varijable *vrijeme* da vidimo\n",
    "rezultat."
   ]
  },
  {
   "cell_type": "code",
   "execution_count": null,
   "metadata": {},
   "outputs": [],
   "source": [
    "import json, requests\n",
    "\n",
    "api_kljuc = '5facc0ec09710bce003ba79d16ea63a5'\n",
    "grad = input('Naziv grada: ')\n",
    "url = 'https://api.openweathermap.org/data/2.5/forecast?q='+grad+'&APPID='+api_kljuc\n",
    "\n",
    "odgovor = requests.get(url)\n",
    "\n",
    "if odgovor.status_code != 200:\n",
    "    print('Dogodila se greška. Server nije dostupan ili je naziv grada netočan')\n",
    "else:\n",
    "    vrijeme=json.loads(odgovor.text)\n",
    "    print(vrijeme)\n",
    "    print(vrijeme.keys())"
   ]
  },
  {
   "cell_type": "markdown",
   "metadata": {},
   "source": [
    "Možemo iskoristiti i modul *pprint* za prikaz JSON podataka koji je formatiran."
   ]
  },
  {
   "cell_type": "code",
   "execution_count": null,
   "metadata": {},
   "outputs": [],
   "source": [
    "import json, requests, pprint\n",
    "\n",
    "api_kljuc = '5facc0ec09710bce003ba79d16ea63a5'\n",
    "grad = input('Naziv grada: ')\n",
    "url = 'https://api.openweathermap.org/data/2.5/forecast?q='+grad+'&APPID='+api_kljuc\n",
    "\n",
    "odgovor = requests.get(url)\n",
    "\n",
    "if odgovor.status_code != 200:\n",
    "    print('Dogodila se greška. Server nije dostupan ili je naziv grada netočan')\n",
    "else:\n",
    "    vrijeme=json.loads(odgovor.text)\n",
    "    pprint.pprint(vrijeme)"
   ]
  },
  {
   "cell_type": "markdown",
   "metadata": {},
   "source": [
    "Kao što vidimo, rezultat je *rječnik* koji u sebi ima druge liste i rječnike.\n",
    "\n",
    "Opis primljenih podataka, kao i opis kako možete konstruirati API upite, možete\n",
    "pronaći na poveznici: <https://openweathermap.org/forecast5>. Svi podatci koji\n",
    "su nam interesantni za ovu vježbu nalaze se u djelu *rječnika* koji se naziva\n",
    "„list“ pa izdvojimo samo taj dio i spremimo ga u varijablu *podaci*. Opet je\n",
    "privremeno ispisujemo da vidimo rezultat."
   ]
  },
  {
   "cell_type": "code",
   "execution_count": null,
   "metadata": {},
   "outputs": [],
   "source": [
    "import json, requests\n",
    "\n",
    "api_kljuc = '5facc0ec09710bce003ba79d16ea63a5'\n",
    "grad = input('Naziv grada: ')\n",
    "url = 'https://api.openweathermap.org/data/2.5/forecast?q='+grad+'&APPID='+api_kljuc\n",
    "\n",
    "odgovor = requests.get(url)\n",
    "\n",
    "if odgovor.status_code != 200:\n",
    "    print('Dogodila se greška. Server nije dostupan ili je naziv grada netočan')\n",
    "else:\n",
    "    vrijeme=json.loads(odgovor.text)\n",
    "    podaci = vrijeme['list']\n",
    "    print(podaci)\n",
    "    "
   ]
  },
  {
   "cell_type": "markdown",
   "metadata": {},
   "source": [
    "Ako analiziramo kod, vidimo da se u listi nalaze rječnici i to redom od indeksa\n",
    "[0] koji prikazuje podatke za trenutni dan pa dalje s indeksom[8] za sutrašnji\n",
    "dan itd. Recimo da želimo prikazati vrijeme na današnji dan, gdje ćemo koristiti\n",
    "index [0]. Do sada smo uvijek izvodili cijeli program od početka, a sad ćemo\n",
    "izvršavati samo pojedine naredbe. To možemo raditi u Jupyteru jer on prati ono\n",
    "što smo prije izveli. Ako sljedeću vježbu pokušate izvesti prije prethodne,\n",
    "dobit ćete poruku o grešci. Radimo na ovaj način kako bismo poštovali\n",
    "ograničenja pozivanja API funkcija i izbjegli probleme kod izvođenja."
   ]
  },
  {
   "cell_type": "code",
   "execution_count": null,
   "metadata": {},
   "outputs": [],
   "source": [
    "print(podaci[0])"
   ]
  },
  {
   "cell_type": "markdown",
   "metadata": {},
   "source": [
    "Kad pogledamo ispis, vidimo da smo opet u *rječniku* koji prikazuje podatke za\n",
    "trenutni dan. Rječnik ima više elemenata. Pogledajmo ih (detaljan opis se nalazi\n",
    "na <https://openweathermap.org/forecast5>). Kada budemo prikupljali podatke iz\n",
    "nekog drugog izvora, moramo pogledati dokumentaciju za API na pripadajućim\n",
    "web-stranicama."
   ]
  },
  {
   "cell_type": "code",
   "execution_count": null,
   "metadata": {},
   "outputs": [],
   "source": [
    "print(podaci[0].keys())"
   ]
  },
  {
   "cell_type": "markdown",
   "metadata": {},
   "source": [
    "Recimo da želimo prikazati trenutni tlak i opis vremena. Za pristupanje\n",
    "pojedinom elementu, nakon naziva varijable, koristimo niz uglatih zagrada [] s\n",
    "kojima ulazimo u niže razine sve dok ne dođemo do podatka koji želimo."
   ]
  },
  {
   "cell_type": "code",
   "execution_count": null,
   "metadata": {},
   "outputs": [],
   "source": [
    "print(podaci[0]['main']['pressure'])\n",
    "print(podaci[0]['weather'][0]['main'])"
   ]
  },
  {
   "cell_type": "markdown",
   "metadata": {},
   "source": [
    "Ili želimo dodati i još detaljniji opis."
   ]
  },
  {
   "cell_type": "code",
   "execution_count": null,
   "metadata": {},
   "outputs": [],
   "source": [
    "print(podaci[0]['weather'][0]['description'])"
   ]
  },
  {
   "cell_type": "markdown",
   "metadata": {},
   "source": [
    "Na sličan način možemo doći do bilo koje vrijednosti iz odgovora. Za ovaj\n",
    "primjer napravimo program koji će za upisani naziv grada ispisati kakvo je\n",
    "vrijeme danas, te prognozu za sutra i prekosutra. U ispisanim podatcima moramo\n",
    "pronaći potrebne elemente. Trenutno vrijeme je na indeksu [0], vrijeme sutra u\n",
    "isto vrijeme je [8], a prekosutra [16]."
   ]
  },
  {
   "cell_type": "code",
   "execution_count": null,
   "metadata": {},
   "outputs": [],
   "source": [
    "import json, requests\n",
    "\n",
    "api_kljuc = '5facc0ec09710bce003ba79d16ea63a5'\n",
    "grad = input('Naziv grada: ')\n",
    "url = 'https://api.openweathermap.org/data/2.5/forecast?q='+grad+'&APPID='+api_kljuc\n",
    "\n",
    "odgovor = requests.get(url)\n",
    "\n",
    "if odgovor.status_code != 200:\n",
    "    print('Dogodila se greška. Server nije dostupan ili je naziv grada netočan')\n",
    "else:\n",
    "    vrijeme=json.loads(odgovor.text)\n",
    "    podaci = vrijeme['list']\n",
    "    print('\\nTrenutno vrijeme')\n",
    "    print(podaci[0]['dt_txt'], '-', podaci[0]['weather'][0]['main'], '-', podaci[0]['weather'][0]['description'])\n",
    "    print('\\nVrijeme sutra:')\n",
    "    print(podaci[8]['dt_txt'], '-', podaci[8]['weather'][0]['main'], '-', podaci[8]['weather'][0]['description'])\n",
    "    print('\\nVrijeme prekosutra:')\n",
    "    print(podaci[16]['dt_txt'], '-', podaci[16]['weather'][0]['main'], '-', podaci[16]['weather'][0]['description'])\n",
    "    "
   ]
  },
  {
   "cell_type": "markdown",
   "metadata": {},
   "source": [
    "Ako želimo prevesti odgovore, možemo koristiti i „id“ vrijednosti koje ćemo\n",
    "upariti s prijevodom svih kodova s poveznice\n",
    "<https://openweathermap.org/weather-conditions> ili parametre koji omogućavaju\n",
    "da mijenjamo jezik odgovora. Primjerice, ako u *URL* dodamo parametar\n",
    "*units=metric,* u odgovoru će temperatura biti u Celzijusima, ili, ako dodamo\n",
    "*lang=hr*, dio odgovora će biti na hrvatskom jeziku jer je na poslužiteljskoj\n",
    "strani to implementirano. To neće biti slučaj sa svim API servisima."
   ]
  },
  {
   "cell_type": "code",
   "execution_count": null,
   "metadata": {},
   "outputs": [],
   "source": [
    "import json, requests\n",
    "\n",
    "api_kljuc = '5facc0ec09710bce003ba79d16ea63a5'\n",
    "grad = input('Naziv grada: ')\n",
    "url = 'https://api.openweathermap.org/data/2.5/forecast?q='+grad+'&units=metric&lang=hr&APPID='+api_kljuc\n",
    "\n",
    "odgovor = requests.get(url)\n",
    "\n",
    "if odgovor.status_code != 200:\n",
    "    print('Dogodila se greška. Server nije dostupan ili je naziv grada netočan')\n",
    "else:\n",
    "    vrijeme=json.loads(odgovor.text)\n",
    "    podaci = vrijeme['list']\n",
    "    print('\\nTrenutno vrijeme')\n",
    "    print(podaci[0]['main']['temp'], '-', podaci[0]['weather'][0]['main'], '-', podaci[0]['weather'][0]['description'])\n",
    "    print('\\nVrijeme sutra:')\n",
    "    print(podaci[8]['main']['temp'], '-', podaci[1]['weather'][0]['main'], '-', podaci[8]['weather'][0]['description'])\n",
    "    print('\\nVrijeme prekosutra:')\n",
    "    print(podaci[16]['main']['temp'], '-', podaci[2]['weather'][0]['main'], '-', podaci[16]['weather'][0]['description'])\n",
    "    "
   ]
  },
  {
   "cell_type": "markdown",
   "metadata": {},
   "source": [
    "<br><div class=\"alert alert-info\"><b>Vježba</b></div>"
   ]
  },
  {
   "cell_type": "markdown",
   "metadata": {},
   "source": [
    "Napišite program koji će za zadani grad prikupiti podatke o vremenu sa stranice openweathermap.org.  \n",
    "Napravite dijagram u kojem na osi x stoji datum i vrijeme, a na osi y temperatura.  \n",
    "Napravite dijagram u kojem na osi x stoji datum i vrijeme, a na osi y tlak.  \n",
    "Napravite dijagram u kojem ćete povezati i prikazati obje vrijednosti.  \n",
    "Pokušajte to napraviti tako da se na prikazu vide promjene."
   ]
  },
  {
   "cell_type": "code",
   "execution_count": null,
   "metadata": {},
   "outputs": [],
   "source": []
  },
  {
   "cell_type": "code",
   "execution_count": null,
   "metadata": {},
   "outputs": [],
   "source": []
  },
  {
   "cell_type": "code",
   "execution_count": null,
   "metadata": {},
   "outputs": [],
   "source": []
  },
  {
   "cell_type": "code",
   "execution_count": null,
   "metadata": {},
   "outputs": [],
   "source": []
  },
  {
   "cell_type": "markdown",
   "metadata": {},
   "source": [
    "<br><div class=\"alert alert-info\"><b>Kraj</b></div></br>"
   ]
  }
 ],
 "metadata": {
  "kernelspec": {
   "display_name": "Python 3",
   "language": "python",
   "name": "python3"
  },
  "language_info": {
   "codemirror_mode": {
    "name": "ipython",
    "version": 3
   },
   "file_extension": ".py",
   "mimetype": "text/x-python",
   "name": "python",
   "nbconvert_exporter": "python",
   "pygments_lexer": "ipython3",
   "version": "3.7.3"
  }
 },
 "nbformat": 4,
 "nbformat_minor": 2
}
