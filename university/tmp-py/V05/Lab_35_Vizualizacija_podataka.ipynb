{
 "cells": [
  {
   "cell_type": "markdown",
   "metadata": {},
   "source": [
    "<img src=\"Slike/vua.png\">"
   ]
  },
  {
   "cell_type": "markdown",
   "metadata": {},
   "source": [
    "# Vizualizacija podataka\n",
    "Vizualizacija podataka uključuje istraživanje putem grafičkog prikaza. Povezana\n",
    "je s dubinskom analizom podataka , koji koristi kod za pronalaženje uzoraka u\n",
    "skupu podataka. Skup podataka može biti mali niz brojeva koji se nalazi u jednom\n",
    "retku ili više gigabajta podataka. Kada podatke prikažemo vizualno, njihovo\n",
    "značenje je lakše vidljivo gledateljima. Srećom, za vizualizaciju podataka nije\n",
    "potrebno superračunalo. Python prilično učinkovito i brzo može obraditi velike\n",
    "količine podataka. Podatci ne moraju biti brojevi te uz osnove koje smo naučili\n",
    "možemo analizirati i tekstualne podatke. Za rad s grafičkim prikazom koristit\n",
    "ćemo modul *matplotlib*. Ako želite vidjeli podržane vrste vizualizacija koje\n",
    "možemo napraviti pomoću modula *matplotlib*, posjetite\n",
    "<https://matplotlib.org/tutorials/introductory/sample_plots.html>. Tamo su\n",
    "prikazani različiti grafovi s primjerima kako ih napraviti. Kako u Pythonu\n",
    "radimo preko Jupytera, moramo nakon učitavanja *matplotlib* modula upisati:\n",
    "„%matplotlib inline“ da prikaže rezultat na stranici. Kada budete radili\n",
    "programe lokalno, to možete izostaviti i svi prikazi će biti u novim skočnim\n",
    "prozorima."
   ]
  },
  {
   "cell_type": "code",
   "execution_count": null,
   "metadata": {},
   "outputs": [],
   "source": [
    "import matplotlib\n",
    "\n",
    "%matplotlib inline"
   ]
  },
  {
   "cell_type": "markdown",
   "metadata": {},
   "source": [
    "Nacrtajmo jednostavan linijski graf koristeći modul *pyplot* iz biblioteke\n",
    "*matplotlib*. Kao podatke za grafikon koristit ćemo slijed kvadratnih brojeva 1,\n",
    "4, 9, 16, 25."
   ]
  },
  {
   "cell_type": "code",
   "execution_count": null,
   "metadata": {},
   "outputs": [],
   "source": [
    "import matplotlib.pyplot as plt\n",
    "%matplotlib inline\n",
    "\n",
    "kvadrati = [1, 4, 9, 16, 25]\n",
    "plt.plot(kvadrati)\n",
    "plt.show()"
   ]
  },
  {
   "cell_type": "markdown",
   "metadata": {},
   "source": [
    "Prvo učitavamo modul *pyplot* i koristimo naredbu *as* da joj damo nadimak (lat.\n",
    "*alias*) tako da kod korištenja, umjesto *matplotlib.pyplot*, jednostavno\n",
    "napišemo *plt*. Modul *matplotlib* sadrži brojne funkcije koje pomažu u\n",
    "stvaranju grafikona. Zatim dodajemo naredbu koja omogućuje da se graf prikaže na\n",
    "stranici na kojoj radimo vježbu. Zatim kreiramo listu brojeva koju prosljeđujemo\n",
    "funkciji *plot()* koja je dio modula *matplotlib*. Naposljetku koristimo\n",
    "funkciju *show()* da bismo prikazali grafikon.\n",
    "\n",
    "Iako prikaz pokazuje da se brojevi povećavaju, oznake su premale. *Matplotlib*\n",
    "omogućuje da prilagodimo svaku značajku vizualizacije. Napravit ćemo nekoliko\n",
    "prilagodbi kako bismo poboljšali čitljivost."
   ]
  },
  {
   "cell_type": "code",
   "execution_count": null,
   "metadata": {},
   "outputs": [],
   "source": [
    "import matplotlib.pyplot as plt\n",
    "%matplotlib inline\n",
    "\n",
    "kvadrati = [1, 4, 9, 16, 25]\n",
    "plt.plot(kvadrati, linewidth=5)\n",
    "plt.title(\"Kvadrati brojeva\", fontsize=24)\n",
    "plt.xlabel(\"Broj\", fontsize=14)\n",
    "plt.ylabel(\"Kvadrat broja\", fontsize=14)\n",
    "plt.tick_params(axis='both', labelsize=12)\n",
    "plt.show()"
   ]
  },
  {
   "cell_type": "markdown",
   "metadata": {},
   "source": [
    "U funkciji *plot()* parametar *linewidth* kontrolira debljinu linije. Funkcija\n",
    "*title()* postavlja naslov grafikona uz parametre teksta i veličine slova.\n",
    "Funkcije *xlabel()* i *ylabel()* omogućuju opisivanje svake osi. Funkcija\n",
    "*tick_params()* definira veličinu oznaka na osima. Prikazani argumenti utječu na\n",
    "obje osi (axis = 'both') i postavljaju veličinu fonta na 12 (labelsize = 12).\n",
    "\n",
    "Budući da sada možemo bolje pročitati grafikon, vidimo da podatci nisu ispravno\n",
    "iscrtani. Uočite na kraju grafikona da je kvadrat od 4.0 prikazan kao 25! Kada\n",
    "funkciji *plot()* proslijedimo niz brojeva, ona pretpostavlja da se prva\n",
    "vrijednost odnosi na poziciju x = 0, a prva točka je za poziciju x = 1. To\n",
    "možemo popraviti tako što ćemo funkciji *plot()* proslijediti i niz za os x,\n",
    "odnosno ulazne vrijednosti za izračun kvadrata."
   ]
  },
  {
   "cell_type": "code",
   "execution_count": null,
   "metadata": {},
   "outputs": [],
   "source": [
    "import matplotlib.pyplot as plt\n",
    "%matplotlib inline\n",
    "\n",
    "ulaz = [1, 2, 3, 4, 5]\n",
    "kvadrati = [1, 4, 9, 16, 25]\n",
    "plt.plot(ulaz, kvadrati, linewidth=5)\n",
    "plt.title(\"Kvadrati brojeva\", fontsize=24)\n",
    "plt.xlabel(\"Broj\", fontsize=14)\n",
    "plt.ylabel(\"Kvadrat broja\", fontsize=14)\n",
    "plt.tick_params(axis='both', labelsize=12)\n",
    "plt.show()"
   ]
  },
  {
   "cell_type": "markdown",
   "metadata": {},
   "source": [
    "Sada funkcija *plot()* graf prikazuje ispravno, jer smo proslijedili podatke za\n",
    "obje osi. Kada koristimo funkciju *plot* imamo na raspolaganju brojne argumente\n",
    "za prilagodbu grafičkog prikaza. Sa svim njima se možete upoznati na\n",
    "web-stranici [https://matplotlib.org](https://matplotlib.org/), a neke od njih\n",
    "koristit ćemo u nastavku.\n",
    "\n",
    "Ponekad je korisno crtati i oblikovati pojedinačne točke na temelju određenih\n",
    "značajki. Na primjer, možete ucrtati male vrijednosti u jednoj boji i veće\n",
    "vrijednosti u drugoj boji. Također, možete ucrtati veliki skup podataka s jednim\n",
    "skupom mogućnosti oblikovanja, a zatim naglasiti pojedinačne točke tako da ih\n",
    "ponovno postavite s različitim opcijama. Za ucrtavanje jedne točke koristimo\n",
    "funkciju *scatter()* kojoj prosljeđujemo koordinate (x, y)."
   ]
  },
  {
   "cell_type": "code",
   "execution_count": null,
   "metadata": {},
   "outputs": [],
   "source": [
    "import matplotlib.pyplot as plt\n",
    "%matplotlib inline\n",
    "\n",
    "plt.scatter(2,4)\n",
    "plt.show()"
   ]
  },
  {
   "cell_type": "markdown",
   "metadata": {},
   "source": [
    "Uredimo prikaz da bude zanimljiviji. Dodat ćemo naslov, označiti osi i\n",
    "provjeriti je li tekst dovoljno velik za čitanje. U kod poziva funkcije\n",
    "*scatter* dodali smo i parametar *s* kojim definiramo veličinu točke."
   ]
  },
  {
   "cell_type": "code",
   "execution_count": null,
   "metadata": {},
   "outputs": [],
   "source": [
    "import matplotlib.pyplot as plt\n",
    "%matplotlib inline\n",
    "\n",
    "plt.scatter(2,4, s=200)\n",
    "\n",
    "plt.title(\"Kvadrati brojeva\", fontsize=24)\n",
    "plt.xlabel(\"Broj\", fontsize=14)\n",
    "plt.ylabel(\"Kvadrat broja\", fontsize=14)\n",
    "plt.tick_params(axis='both', which='major', labelsize=12)\n",
    "\n",
    "plt.show()"
   ]
  },
  {
   "cell_type": "markdown",
   "metadata": {},
   "source": [
    "Ako želimo ispisati više točaka, funkciji *scatter* prosljeđujemo listu brojeva na osi x i y."
   ]
  },
  {
   "cell_type": "code",
   "execution_count": null,
   "metadata": {},
   "outputs": [],
   "source": [
    "import matplotlib.pyplot as plt\n",
    "%matplotlib inline\n",
    "\n",
    "x = [1, 2, 3, 4, 5]\n",
    "y = [1, 4, 9, 16, 25]\n",
    "\n",
    "plt.scatter(x,y, s=100)\n",
    "\n",
    "plt.show()"
   ]
  },
  {
   "cell_type": "markdown",
   "metadata": {},
   "source": [
    "Uredimo prikaz da bude zanimljiviji. Dodat ćemo naslov, označiti osi i\n",
    "provjeriti je li tekst dovoljno velik za čitanje. U kod poziva funkcije\n",
    "*scatter* dodali smo i parametar *s* kojim definiramo veličinu točke."
   ]
  },
  {
   "cell_type": "code",
   "execution_count": null,
   "metadata": {},
   "outputs": [],
   "source": [
    "import matplotlib.pyplot as plt\n",
    "%matplotlib inline\n",
    "\n",
    "x = list(range(1,30))\n",
    "y = [a**2 for a in x]\n",
    "\n",
    "plt.scatter(x, y, s=100)\n",
    "plt.axis([0, 30, 0, 900])\n",
    "\n",
    "plt.show()"
   ]
  },
  {
   "cell_type": "markdown",
   "metadata": {},
   "source": [
    "Počinjemo s popisom ulaznih vrijednosti (x) koje sadrže brojeve od 1 do 30.\n",
    "Zatim, generiramo izlazne (y) vrijednosti tako što kvadriramo svaki broj iz\n",
    "ulazne liste. Zatim ulazne i izlazne liste prosljeđujemo funkciji *scatter()*.\n",
    "Kako se radi o većem skupu podataka, koristimo manju veličinu točke. Nakon toga\n",
    "koristimo funkciju *axis()* da definiramo raspone na svakoj od osi. Funkcija\n",
    "*axis()* prihvaća listu s 4 vrijednosti koje predstavljaju minimalnu i\n",
    "maksimalnu vrijednost za os x i os y. U ovom primjeru os x od 0 do 30, a os y od\n",
    "0 do 900. Funkcija *scatter()* oko svake točke crta i liniju, koju možemo\n",
    "maknuti postavljanjem parametra *edgecolor* na „*none*“."
   ]
  },
  {
   "cell_type": "code",
   "execution_count": null,
   "metadata": {},
   "outputs": [],
   "source": [
    "import matplotlib.pyplot as plt\n",
    "%matplotlib inline\n",
    "\n",
    "x = list(range(1,30))\n",
    "y = [a**2 for a in x]\n",
    "\n",
    "plt.scatter(x, y, edgecolor='none', s=100)\n",
    "plt.axis([0, 30, 0, 900])\n",
    "\n",
    "plt.show()"
   ]
  },
  {
   "cell_type": "markdown",
   "metadata": {},
   "source": [
    "Naravno, možemo i promijeniti boju ispisa dodavanjem parametra za boju, *color*, uz koji pišemo i naziv boje."
   ]
  },
  {
   "cell_type": "code",
   "execution_count": null,
   "metadata": {},
   "outputs": [],
   "source": [
    "import matplotlib.pyplot as plt\n",
    "%matplotlib inline\n",
    "\n",
    "x = list(range(1,30))\n",
    "y = [a**2 for a in x]\n",
    "\n",
    "plt.scatter(x, y, color='red', edgecolor='none', s=100)\n",
    "plt.axis([0, 30, 0, 900])\n",
    "\n",
    "plt.show()"
   ]
  },
  {
   "cell_type": "markdown",
   "metadata": {},
   "source": [
    "Boju možemo definirati i da prosljeđivanjem vrijednosti sustava iz RGB po\n",
    "komponentama u rasponu od 0 do 1. Neki od parametara koji se često koriste imaju\n",
    "i skraćenu verziju naziva, pa umjesto *color* možemo koristiti i *c*."
   ]
  },
  {
   "cell_type": "code",
   "execution_count": null,
   "metadata": {},
   "outputs": [],
   "source": [
    "import matplotlib.pyplot as plt\n",
    "%matplotlib inline\n",
    "\n",
    "x = list(range(1,30))\n",
    "y = [a**2 for a in x]\n",
    "\n",
    "plt.scatter(x, y, c=(0,0.8,0.8), edgecolor='none', s=100)\n",
    "plt.axis([0, 30, 0, 900])\n",
    "\n",
    "plt.show()"
   ]
  },
  {
   "cell_type": "markdown",
   "metadata": {},
   "source": [
    "Kada koristimo boje, možemo koristiti i *colormap* koji predstavlja niz boja u\n",
    "gradijentu koji se kreće od početne do završne boje. *Colormaps* se koriste u\n",
    "vizualizacijama kako bi se naglasili neki obrasci u podatcima. Primjerice, niske\n",
    "vrijednosti možete obojiti svjetlom bojom, a visoke tamnijom bojom. Modul\n",
    "*pyplot* iz biblioteke *matplotlib* uključuje skup ugrađenih boja. Kako bismo\n",
    "koristili jednu od tih boja, moramo dodijeliti boje svakoj točki u skupu\n",
    "podataka. Pogledajmo kako to učiniti na temelju vrijednosti *y*."
   ]
  },
  {
   "cell_type": "code",
   "execution_count": null,
   "metadata": {},
   "outputs": [],
   "source": [
    "import matplotlib.pyplot as plt\n",
    "%matplotlib inline\n",
    "\n",
    "x = list(range(1,30))\n",
    "y = [a**2 for a in x]\n",
    "\n",
    "plt.scatter(x, y, c=y, cmap=plt.cm.Blues, s=100)\n",
    "plt.axis([0, 30, 0, 900])\n",
    "\n",
    "plt.show()"
   ]
  },
  {
   "cell_type": "markdown",
   "metadata": {},
   "source": [
    "Proslijedili smo listu vrijednosti *y* u *c* i zatim definirali *colormap* da koristi *cmap* i dodjeljuje boju na osnovu vrijednosti *y* od svijetlo do tamno plave boje."
   ]
  },
  {
   "cell_type": "markdown",
   "metadata": {},
   "source": [
    "Ako želite da program automatski snimi graf u datoteku, možete zamijeniti *plt.show()* s *plt.savefig()*:\n",
    "```python\n",
    "plt.savefig ('slika.png', bbox_inches='tight')\n",
    "```\n",
    "Prvi argument je naziv datoteke, koja će biti spremljena u istom direktoriju kao program. Drugi argument miče dodatni prazni prostor oko slike."
   ]
  },
  {
   "cell_type": "code",
   "execution_count": null,
   "metadata": {},
   "outputs": [],
   "source": [
    "import matplotlib.pyplot as plt\n",
    "%matplotlib inline\n",
    "\n",
    "x = list(range(1,30))\n",
    "y = [a**2 for a in x]\n",
    "\n",
    "plt.scatter(x, y, c=y, cmap=plt.cm.Blues, s=100)\n",
    "plt.axis([0, 30, 0, 900])\n",
    "\n",
    "plt.savefig('slika.png', bbox_inches ='tight')"
   ]
  },
  {
   "cell_type": "markdown",
   "metadata": {},
   "source": [
    "Ako otvorimo mapu *Dan 5,* vidjet ćemo novi dokument *slika.png*. Sliku možemo spremiti u više različitih formata. Za detalje pogledajte <https://matplotlib.org/api/_as_gen/matplotlib.pyplot.savefig.html>."
   ]
  },
  {
   "cell_type": "markdown",
   "metadata": {},
   "source": [
    "<br><div class=\"alert alert-info\"><b>Vježba</b></div>"
   ]
  },
  {
   "cell_type": "markdown",
   "metadata": {},
   "source": [
    "Napišite program koji grafički prikazuje brojeve od 1 do 5 na treću potenciju."
   ]
  },
  {
   "cell_type": "code",
   "execution_count": null,
   "metadata": {},
   "outputs": [],
   "source": []
  },
  {
   "cell_type": "markdown",
   "metadata": {},
   "source": [
    "Prilagodite prethodni program da prikazuje brojeve na treću od 1 to 5000."
   ]
  },
  {
   "cell_type": "code",
   "execution_count": null,
   "metadata": {},
   "outputs": [],
   "source": []
  },
  {
   "cell_type": "markdown",
   "metadata": {},
   "source": [
    "Prilagodite prethodni program i primijenite *colormap* na prikaz. Rezultat spremite u obliku slike formata SVG u datoteku *slika2.svg*."
   ]
  },
  {
   "cell_type": "code",
   "execution_count": null,
   "metadata": {},
   "outputs": [],
   "source": []
  },
  {
   "cell_type": "markdown",
   "metadata": {},
   "source": [
    "<br><div class=\"alert alert-info\"><b>Kraj</b></div>"
   ]
  }
 ],
 "metadata": {
  "kernelspec": {
   "display_name": "Python 3",
   "language": "python",
   "name": "python3"
  },
  "language_info": {
   "codemirror_mode": {
    "name": "ipython",
    "version": 3
   },
   "file_extension": ".py",
   "mimetype": "text/x-python",
   "name": "python",
   "nbconvert_exporter": "python",
   "pygments_lexer": "ipython3",
   "version": "3.7.3"
  }
 },
 "nbformat": 4,
 "nbformat_minor": 2
}
