{
 "cells": [
  {
   "cell_type": "markdown",
   "metadata": {},
   "source": [
    "<img src=\"Slike/vua.png\">"
   ]
  },
  {
   "cell_type": "markdown",
   "metadata": {},
   "source": [
    "# Vizualizacija - nastavak\n",
    "Jednom kada napravimo kôd možemo mijenjati ulazne datoteke i analizirati podatke\n",
    "iz bilo kojeg mjesta, sve dok je struktura podataka u CSV datoteci ista. Ponekad\n",
    "neke meteorološke stanice ne dostave pojedini podatak. Nedostatak podataka može\n",
    "rezultirati iznimkama koje ruše program ako ih ne obradimo ispravno. Na primjer,\n",
    "da vidimo što će se dogoditi kada pokušamo generirati takav primjer na\n",
    "death_valley_2014.csv."
   ]
  },
  {
   "cell_type": "code",
   "execution_count": null,
   "metadata": {},
   "outputs": [],
   "source": [
    "import csv\n",
    "from datetime import datetime\n",
    "from matplotlib import pyplot as plt\n",
    "%matplotlib inline\n",
    "\n",
    "datoteka = 'Podaci/death_valley_2014.csv'\n",
    "with open(datoteka) as f:\n",
    "    citaj = csv.reader(f)\n",
    "    zaglavlje = next(citaj)\n",
    "    datum, visoka_t, niska_t = [], [], []\n",
    "    for redci in citaj:\n",
    "        datum.append(datetime.strptime(redci[0], \"%Y-%m-%d\"))\n",
    "        visoka_t.append(int(redci[1]))\n",
    "        niska_t.append(int(redci[3]))\n",
    "    \n",
    "fig = plt.figure(dpi=128, figsize=(10, 6))\n",
    "plt.plot(datum, visoka_t, c='red', alpha=0.5)\n",
    "plt.plot(datum, niska_t, c='blue', alpha=0.5)\n",
    "plt.fill_between(datum, visoka_t, niska_t, facecolor='blue', alpha=0.1)\n",
    "plt.title(\"Najviše i najniže dnevne temerature, 2014\", fontsize=24)\n",
    "plt.xlabel('', fontsize=16)\n",
    "fig.autofmt_xdate()\n",
    "plt.ylabel(\"Temperature (F)\", fontsize=16)\n",
    "plt.tick_params(axis='both', which='major', labelsize=8)\n",
    "plt.show()"
   ]
  },
  {
   "cell_type": "markdown",
   "metadata": {},
   "source": [
    "Kada pokrenemo program, nećemo dobiti graf, već poruku o grešci koja nas\n",
    "upozorava da ne može pretvoriti prazan tekst '' u broj. Tu grešku uzrokuje redak\n",
    "iz datoteke koji izgleda ovako:\n",
    "```python\n",
    "2014-2-16,,,,,,,,,,,,,,,,,,,0.00,,,-1\n",
    "```\n",
    "Čini se da 16. veljače 2014. nisu zabilježeni nikakvi podatci, pa je i stupac\n",
    "koji prikazuje temperaturu prazan. Da bismo riješili taj problem, pokrenut ćemo\n",
    "kôd za provjeru pogrešaka kada se vrijednosti čitaju iz CSV datoteke kako bismo\n",
    "obradili iznimke koje bi mogle nastati kada analiziramo skupove podataka."
   ]
  },
  {
   "cell_type": "code",
   "execution_count": null,
   "metadata": {},
   "outputs": [],
   "source": [
    "import csv\n",
    "from datetime import datetime\n",
    "from matplotlib import pyplot as plt\n",
    "%matplotlib inline\n",
    "\n",
    "datoteka = 'Podaci/death_valley_2014.csv'\n",
    "with open(datoteka) as f:\n",
    "    citaj = csv.reader(f)\n",
    "    zaglavlje = next(citaj)\n",
    "    datum, visoka_t, niska_t = [], [], []\n",
    "    for redci in citaj:\n",
    "        try:\n",
    "            dat = datetime.strptime(redci[0], \"%Y-%m-%d\")\n",
    "            vt = int(redci[1])\n",
    "            nt = int(redci[3])\n",
    "        except ValueError:\n",
    "            print(datetime.strptime(redci[0], \"%Y-%m-%d\"), ' - nedostaju podaci')\n",
    "        else:\n",
    "            datum.append(dat)\n",
    "            visoka_t.append(vt)\n",
    "            niska_t.append(nt)\n",
    "\n",
    "fig = plt.figure(dpi=128, figsize=(10, 6))\n",
    "plt.plot(datum, visoka_t, c='red', alpha=0.5)\n",
    "plt.plot(datum, niska_t, c='blue', alpha=0.5)\n",
    "plt.fill_between(datum, visoka_t, niska_t, facecolor='blue', alpha=0.1)\n",
    "plt.title(\"Najviše i najniže dnevne temerature, 2014\", fontsize=24)\n",
    "plt.xlabel('', fontsize=16)\n",
    "fig.autofmt_xdate()\n",
    "plt.ylabel(\"Temperature (F)\", fontsize=16)\n",
    "plt.tick_params(axis='both', which='major', labelsize=8)\n",
    "plt.show()"
   ]
  },
  {
   "cell_type": "markdown",
   "metadata": {},
   "source": [
    "Svaki put kada ispitamo red, pokušavamo izvući datum i obje temperature. Ako\n",
    "bilo koji podatak nedostaje, Python će podići iznimku *ValueError* koju\n",
    "obrađujemo ispisivanjem poruke. Nakon ispisa poruke petlja će nastaviti obradu\n",
    "sljedećeg retka. Ako se svi podatci učitaju bez greške, izvršit će se blok\n",
    "*else* koji će dodati podatke u liste.\n",
    "\n",
    "Uspoređujući graf s podatcima iz Sitke i Doline smrti, vidimo da je Kalifornija\n",
    "toplija od Aljaske, kao što se može očekivati, ali vidimo i da je raspon između\n",
    "najviše i najniže temperature pustinji značajno veći. Površina ispunjenog dijela\n",
    "to čini vidljivim. Mnogi skupovi podataka s kojima radimo imat će praznine,\n",
    "nepropisno formatirane podatke ili netočne podatke. Za rješavanje tih situacija\n",
    "moramo koristiti sve stvari koje smo do sad naučili. Ovdje smo koristili blok\n",
    "*try-except-else* za obradu podataka koji nedostaju. Ponekad ćemo koristiti\n",
    "*continue* da preskočimo neke podatke ili *remove()* ili *del* obrišemo podatke.\n",
    "Možemo koristiti bilo koji pristup, sve dok je rezultat smislen i točan."
   ]
  },
  {
   "cell_type": "markdown",
   "metadata": {},
   "source": [
    "<br><div class=\"alert alert-info\"><b>Vježba</b></div></br>"
   ]
  },
  {
   "cell_type": "markdown",
   "metadata": {},
   "source": [
    "U mapi podatci nalazi se i datoteka *sitka_rainfall_2015.csv* koja ima podatke o padalinama.  \n",
    "Učitajte datoteku, istražite stupce u podatcima i napravite vizualizaciju padalina."
   ]
  },
  {
   "cell_type": "code",
   "execution_count": null,
   "metadata": {},
   "outputs": [],
   "source": []
  },
  {
   "cell_type": "markdown",
   "metadata": {},
   "source": [
    "<br><div class=\"alert alert-info\"><b>Kraj</b></div></br>"
   ]
  }
 ],
 "metadata": {
  "kernelspec": {
   "display_name": "Python 3",
   "language": "python",
   "name": "python3"
  },
  "language_info": {
   "codemirror_mode": {
    "name": "ipython",
    "version": 3
   },
   "file_extension": ".py",
   "mimetype": "text/x-python",
   "name": "python",
   "nbconvert_exporter": "python",
   "pygments_lexer": "ipython3",
   "version": "3.7.3"
  }
 },
 "nbformat": 4,
 "nbformat_minor": 2
}
