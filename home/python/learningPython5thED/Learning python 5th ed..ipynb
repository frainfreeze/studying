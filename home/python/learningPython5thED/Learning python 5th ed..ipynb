{
 "cells": [
  {
   "cell_type": "markdown",
   "metadata": {},
   "source": [
    "# Test your knowledge: Part II exercises\n",
    "## 1. The basics\n",
    "Run each of the following expressions, and try to\n",
    "explain what’s happening in each case. Note that the semicolon in some of these\n",
    "is being used as a statement separator, to squeeze multiple statements onto a single\n",
    "line: for example, X=1;X assigns and then prints a variable. Also remember that a comma between expressions usually builds a tuple, even if there are no enclosing parentheses: X,Y,Z\n",
    "is a three-item tuple, which Python prints back to you in parentheses."
   ]
  },
  {
   "cell_type": "code",
   "execution_count": null,
   "metadata": {},
   "outputs": [],
   "source": [
    "2 ** 16\n",
    "2 / 5, 2 / 5.0"
   ]
  },
  {
   "cell_type": "code",
   "execution_count": null,
   "metadata": {},
   "outputs": [],
   "source": [
    "\"spam\" + \"eggs\"\n",
    "S = \"ham\"\n",
    "\"eggs \" + S\n",
    "S * 5\n",
    "S[:0]\n",
    "\"green %s and %s\" % (\"eggs\", S)\n",
    "'green {0} and {1}'.format('eggs', S)"
   ]
  },
  {
   "cell_type": "code",
   "execution_count": null,
   "metadata": {},
   "outputs": [],
   "source": [
    "('x',)[0]\n",
    "('x', 'y')[1]"
   ]
  },
  {
   "cell_type": "code",
   "execution_count": null,
   "metadata": {},
   "outputs": [],
   "source": [
    "L = [1,2,3] + [4,5,6]\n",
    "L, L[:], L[:0], L[−2], L[−2:]\n",
    "([1,2,3] + [4,5,6])[2:4]\n",
    "[L[2], L[3]]\n",
    "L.reverse(); L\n",
    "L.sort(); L\n",
    "L.index(4)"
   ]
  },
  {
   "cell_type": "code",
   "execution_count": null,
   "metadata": {},
   "outputs": [],
   "source": [
    "{'a':1, 'b':2}['b']\n",
    "D = {'x':1, 'y':2, 'z':3}\n",
    "D['w'] = 0\n",
    "D['x'] + D['w']\n",
    "D[(1,2,3)] = 4\n",
    "list(D.keys()), list(D.values()), (1,2,3) in D"
   ]
  },
  {
   "cell_type": "code",
   "execution_count": null,
   "metadata": {},
   "outputs": [],
   "source": [
    "[[]], [\"\",[],(),{},None]"
   ]
  },
  {
   "cell_type": "markdown",
   "metadata": {},
   "source": [
    "## 2. Indexing and slicing\n",
    "At the interactive prompt, define a list named L that contains\n",
    "four strings or numbers (e.g., L=[0,1,2,3] ). Then, experiment with the following\n",
    "boundary cases. You may never see these cases in real programs (especially not in\n",
    "the bizarre ways they appear here!), but they are intended to make you think about\n",
    "the underlying model, and some may be useful in less artificial forms—slicing out\n",
    "of bounds can help, for example, if a sequence is as long as you expect:\n",
    "- What happens when you try to index out of bounds (e.g., L[4] )?\n",
    "- What about slicing out of bounds (e.g., L[−1000:100] )?\n",
    "- Finally, how does Python handle it if you try to extract a sequence in reverse,\n",
    "with the lower bound greater than the higher bound (e.g., L[3:1] )? Hint: try\n",
    "assigning to this slice ( L[3:1]=['?'] ), and see where the value is put. Do you\n",
    "think this may be the same phenomenon you saw when slicing out of bounds?"
   ]
  },
  {
   "cell_type": "code",
   "execution_count": null,
   "metadata": {},
   "outputs": [],
   "source": []
  },
  {
   "cell_type": "markdown",
   "metadata": {},
   "source": [
    "## 3. Indexing, slicing and del\n",
    "Define another list L with four items, and assign an empty\n",
    "list to one of its offsets (e.g., L[2]=[] ). What happens? Then, assign an empty list\n",
    "to a slice ( L[2:3]=[] ). What happens now? Recall that slice assignment deletes the\n",
    "slice and inserts the new value where it used to be.\n",
    "The del statement deletes offsets, keys, attributes, and names. Use it on your list\n",
    "to delete an item (e.g., del L[0] ). What happens if you delete an entire slice ( del\n",
    "L[1:] )? What happens when you assign a nonsequence to a slice ( L[1:2]=1 )?"
   ]
  },
  {
   "cell_type": "code",
   "execution_count": null,
   "metadata": {},
   "outputs": [],
   "source": []
  },
  {
   "cell_type": "markdown",
   "metadata": {},
   "source": [
    "## 4. Tuple assignment\n",
    "What do you think is happening to X and Y when you run following sequence?"
   ]
  },
  {
   "cell_type": "code",
   "execution_count": 2,
   "metadata": {},
   "outputs": [],
   "source": [
    "X = 'spam'\n",
    "Y = 'eggs'\n",
    "X, Y = Y, X"
   ]
  },
  {
   "cell_type": "markdown",
   "metadata": {},
   "source": [
    "## 5. Dictionary keys.\n",
    "You’ve learned that dictionaries aren’t accessed by offsets, so what’s going on here?"
   ]
  },
  {
   "cell_type": "code",
   "execution_count": 3,
   "metadata": {},
   "outputs": [],
   "source": [
    "D = {}\n",
    "D[1] = 'a'\n",
    "D[2] = 'b'"
   ]
  },
  {
   "cell_type": "markdown",
   "metadata": {},
   "source": [
    "Does the following shed any light on the subject? (Hint: strings, integers, and tuples\n",
    "share which type category?)"
   ]
  },
  {
   "cell_type": "code",
   "execution_count": 4,
   "metadata": {},
   "outputs": [
    {
     "data": {
      "text/plain": [
       "{(1, 2, 3): 'c', 1: 'a', 2: 'b'}"
      ]
     },
     "execution_count": 4,
     "metadata": {},
     "output_type": "execute_result"
    }
   ],
   "source": [
    "D[(1, 2, 3)] = 'c'\n",
    "D"
   ]
  },
  {
   "cell_type": "markdown",
   "metadata": {},
   "source": [
    "## 6. Dictionary indexing. \n",
    "Create a dictionary named D with three entries, for keys 'a' ,\n",
    "'b' , and 'c' . What happens if you try to index a nonexistent key ( D['d'] )? What\n",
    "does Python do if you try to assign to a nonexistent key 'd' (e.g., D['d']='spam' )?\n",
    "How does this compare to out-of-bounds assignments and references for lists?\n",
    "Does this sound like the rule for variable names?"
   ]
  },
  {
   "cell_type": "code",
   "execution_count": null,
   "metadata": {},
   "outputs": [],
   "source": []
  },
  {
   "cell_type": "markdown",
   "metadata": {},
   "source": [
    "## 7. Generic operations. \n",
    "Run interactive tests to answer the following questions:\n",
    "- What happens when you try to use the + operator on different/mixed types\n",
    "(e.g., string + list, list + tuple)?\n",
    "- Does + work when one of the operands is a dictionary?\n",
    "- Does the append method work for both lists and strings? How about using the\n",
    "keys method on lists? (Hint: what does append assume about its subject object?)\n",
    "- Finally, what type of object do you get back when you slice or concatenate two\n",
    "lists or two strings?"
   ]
  },
  {
   "cell_type": "code",
   "execution_count": null,
   "metadata": {},
   "outputs": [],
   "source": []
  },
  {
   "cell_type": "markdown",
   "metadata": {},
   "source": [
    "## 8. String indexing. \n",
    "Define a string S of four characters: S = \"spam\" . Then type the\n",
    "following expression: S[0][0][0][0][0] . Any clue as to what’s happening this time?\n",
    "(Hint: recall that a string is a collection of characters, but Python characters are\n",
    "one-character strings.) Does this indexing expression still work if you apply it to a\n",
    "list such as ['s', 'p', 'a', 'm'] ? Why?"
   ]
  },
  {
   "cell_type": "code",
   "execution_count": null,
   "metadata": {},
   "outputs": [],
   "source": []
  },
  {
   "cell_type": "markdown",
   "metadata": {},
   "source": [
    "## 9. Immutable types. \n",
    "Define a string S of four characters again: S = \"spam\" . Write an\n",
    "assignment that changes the string to \"slam\" , using only slicing and concatenation.\n",
    "Could you perform the same operation using just indexing and concatenation?\n",
    "How about index assignment?"
   ]
  },
  {
   "cell_type": "code",
   "execution_count": null,
   "metadata": {},
   "outputs": [],
   "source": []
  },
  {
   "cell_type": "markdown",
   "metadata": {},
   "source": [
    "## 10. Nesting. \n",
    "Write a data structure that represents your personal information: name\n",
    "(first, middle, last), age, job, address, email address, and phone number. You may\n",
    "build the data structure with any combination of built-in object types you like (lists,\n",
    "tuples, dictionaries, strings, numbers). Then, access the individual components of\n",
    "your data structures by indexing. Do some structures make more sense than others\n",
    "for this object?"
   ]
  },
  {
   "cell_type": "code",
   "execution_count": null,
   "metadata": {},
   "outputs": [],
   "source": []
  },
  {
   "cell_type": "markdown",
   "metadata": {},
   "source": [
    "## 11. Files\n",
    "Write a script that creates a new output file called myfile.txt and writes the\n",
    "string \"Hello file world!\" into it. Then write another script that opens my-\n",
    "file.txt and reads and prints its contents. Run your two scripts from the system\n",
    "command line. Does the new file show up in the directory where you ran your\n",
    "scripts? What if you add a different directory path to the filename passed to open ?\n",
    "Note: file write methods do not add newline characters to your strings; add an\n",
    "explicit \\n at the end of the string if you want to fully terminate the line in the file."
   ]
  },
  {
   "cell_type": "code",
   "execution_count": null,
   "metadata": {},
   "outputs": [],
   "source": []
  },
  {
   "cell_type": "code",
   "execution_count": null,
   "metadata": {},
   "outputs": [],
   "source": []
  },
  {
   "cell_type": "code",
   "execution_count": null,
   "metadata": {},
   "outputs": [],
   "source": [
    "!ls"
   ]
  }
 ],
 "metadata": {
  "celltoolbar": "Raw Cell Format",
  "kernelspec": {
   "display_name": "Python 3",
   "language": "python",
   "name": "python3"
  },
  "language_info": {
   "codemirror_mode": {
    "name": "ipython",
    "version": 3
   },
   "file_extension": ".py",
   "mimetype": "text/x-python",
   "name": "python",
   "nbconvert_exporter": "python",
   "pygments_lexer": "ipython3",
   "version": "3.5.3"
  }
 },
 "nbformat": 4,
 "nbformat_minor": 2
}
